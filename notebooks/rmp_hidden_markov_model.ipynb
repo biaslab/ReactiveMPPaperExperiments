{
 "cells": [
  {
   "cell_type": "code",
   "execution_count": 9,
   "metadata": {},
   "outputs": [],
   "source": [
    "using Revise\n",
    "using DrWatson"
   ]
  },
  {
   "cell_type": "code",
   "execution_count": 10,
   "metadata": {},
   "outputs": [],
   "source": [
    "@quickactivate :ReactiveMPPaperExperiments"
   ]
  },
  {
   "cell_type": "code",
   "execution_count": 11,
   "metadata": {},
   "outputs": [],
   "source": [
    "using CairoMakie # Plots related stuff\n",
    "using ReactiveMP, Rocket, GraphPPL, Distributions, LinearAlgebra, Random # Bayesian Inference packages\n",
    "using BenchmarkTools, DataFrames, Query # Analysis tools\n",
    "\n",
    "import ReactiveMP: update! # naming conflicts "
   ]
  },
  {
   "cell_type": "markdown",
   "metadata": {},
   "source": [
    "### Hidden Markov Model\n",
    "\n",
    "In this demo the goal is to perform approximate variational Bayesian Inference for Hidden Markov Model (HMM). Hidden Markov Model can be viewed as a specific instance of the state space mode in which latent variables are discrete.\n",
    "\n",
    "The HMM is widely used in speech recognition (Jelinek, 1997; Rabiner and Juang, 1993), natural language modelling (Mannina and Schütze, 1999) and in may other related fields.\n",
    "\n",
    "We consider a first-order HMM with latent discrete states $z_k$ and observations $y_k$ governed by a state transition probability matrix $\\mathbf{A}$ and an observation matrix $\\mathbf{B}$:\n",
    "\n",
    "$$\n",
    "\\begin{equation}\n",
    "  \\begin{aligned}\n",
    "    p(\\mathbf{z}_k|\\mathbf{z}_{k-1}) & = \\, \\text{Cat}(\\mathbf{z}_k|\\mathbf{A}\\mathbf{z}_{k - 1})\\\\\n",
    "    p(\\mathbf{y}_k|\\mathbf{z}_k) & = \\, \\text{Cat}(\\mathbf{y}_k|\\mathbf{B}\\mathbf{z}_{k})\\\\\n",
    "  \\end{aligned}\n",
    "\\end{equation}\n",
    "$$\n",
    "\n",
    "where $\\text{Cat}$ denotes Categorical distribution. It is convenient to use one-hot encoding scheme for latent variables $z_k$ and model it with a categorical distribution $\\text{Cat}(z|p)$ where p is a vector of probabilities of each possible state. Because the latent variables are $K$-dimensional binary variables, this conditional distribution corresponds to a table of numbers that we denote by $\\bf{A}$, the elements of which are known as *transition probabilities*. They are given by \n",
    "\n",
    "$$\n",
    "A_{jk} \\equiv p(z_{nk} = 1|z_{n - 1, j} = 1),\\: 0 \\leq A_{jk} \\leq 1,\\:\\sum_kA_{jk}=1\n",
    "$$\n",
    "\n",
    "Also, we denote by $\\mathbf{z}_k$ the current state of the system (at time step $k$), by $\\mathbf{z}_{k - 1}$ the previous state at time $k-1$. For simplicity we assume $\\mathbf{A}$ and $\\mathbf{B}$ are constant (but still unknown) and $\\mathbf{x}_k$ are noise-free observations.\n",
    "\n",
    "To have a full Bayesian treatmeant of the problem, both $\\mathbf{A}$ and $\\mathbf{B}$ are endowed with `MatrixDirichlet` priors. `MatrixDirichlet` is a matrix-variate generalisation of `Dirichlet` distribution and consists of `Dirichlet` distributions on the columns.\n",
    "\n",
    "We will build a full graph for this model and perform VMP iterations during an inference procedure."
   ]
  },
  {
   "cell_type": "markdown",
   "metadata": {},
   "source": [
    "### Data\n",
    "\n",
    "We will simulate hidden markov model process by sampling $n$ values from corresponding distributions with fixed A and B matrices. We also use a `seed` parameter to make our experiments reproducible."
   ]
  },
  {
   "cell_type": "code",
   "execution_count": 12,
   "metadata": {},
   "outputs": [],
   "source": [
    "params = let\n",
    "    # Seed for reproducability\n",
    "    seed = 123\n",
    "    \n",
    "    # Number of samples in dataset\n",
    "    n = 50\n",
    "    \n",
    "    # Transition probabilities (some transitions are impossible)\n",
    "    A = [0.9 0.0 0.1; 0.1 0.9 0.0; 0.0 0.1 0.9]\n",
    "    \n",
    "    # Observation noise\n",
    "    B = [0.05 0.05 0.9; 0.05 0.9 0.05; 0.9 0.05 0.05] \n",
    "    \n",
    "    @strdict seed n A B\n",
    "end;"
   ]
  },
  {
   "cell_type": "code",
   "execution_count": 13,
   "metadata": {},
   "outputs": [],
   "source": [
    "z, y = generate_data(HMMModel(), params);"
   ]
  },
  {
   "cell_type": "code",
   "execution_count": null,
   "metadata": {},
   "outputs": [],
   "source": [
    "let \n",
    "    fig = Figure(resolution = (550, 350))\n",
    "    ax  = Axis(fig[1, 1])\n",
    "    \n",
    "    range = 1:length(z)\n",
    "    \n",
    "    scatter!(ax, range, argmax.(z), markersize = 8, label = \"Latent state\")\n",
    "    scatter!(ax, range, argmax.(y), markersize = 4, label = \"Observations\")\n",
    "    \n",
    "    axislegend(ax, position = :rb)\n",
    "    \n",
    "    fig\n",
    "end"
   ]
  },
  {
   "cell_type": "markdown",
   "metadata": {},
   "source": [
    "### Model specification"
   ]
  },
  {
   "cell_type": "code",
   "execution_count": null,
   "metadata": {},
   "outputs": [],
   "source": [
    "@model [ default_factorisation = MeanField() ] function hidden_markov_model(n)\n",
    "    \n",
    "    # A and B are unknown and are random variables with predefined priors\n",
    "    A ~ MatrixDirichlet(ones(3, 3))\n",
    "    B ~ MatrixDirichlet([ 1.0 1.0 10.0; 1.0 10.0 1.0; 10.0 1.0 1.0 ])\n",
    "\n",
    "    # We create a vector of random variables for our latent states `z`\n",
    "    z = randomvar(n)\n",
    "\n",
    "    # We create a vector of observation placeholders with `datavar()` function\n",
    "    y = datavar(Vector{Float64}, n)\n",
    "\n",
    "    z[1] ~ Categorical(fill(1.0 / 3.0, 3))\n",
    "    y[1] ~ Transition(z[1], B)\n",
    "\n",
    "    for t in 2:n\n",
    "        # `where` syntax allows us to pass extra arguments \n",
    "        # or a node creation procedure\n",
    "        # In this example we create a structured posterior factorisation\n",
    "        # around latent states transition node\n",
    "        z[t] ~ Transition(z[t - 1], A) where { q = q(out, in)q(a) }\n",
    "        y[t] ~ Transition(z[t], B)\n",
    "    end\n",
    "\n",
    "    return z, y, A, B\n",
    "end"
   ]
  },
  {
   "cell_type": "markdown",
   "metadata": {},
   "source": [
    "GraphPPL.jl offers a model specification syntax that resembles closely to the mathematical equations defined above. We use `Transition(a|b, A)` distribution as an alias for `Cat(a|A*b)` distribution, `datavar` placeholders are used to indicate variables that take specific values at a later date. For example, the way we feed observations into the model is by iteratively assigning each of the observations in our dataset to the data variables `y`.\n",
    "\n",
    "In our model specification we assume a relatively strong prior on the observarion probability matrix, expressing the prior knowledge that we are most likely to observer the true state. On the other hand, we assumme an unifnromative prior on the state transition matrix, expressing no prior knowledge about transition probabilities and structure."
   ]
  },
  {
   "cell_type": "markdown",
   "metadata": {},
   "source": [
    "### Inference\n",
    "\n",
    "Once we have defined our model and generated some synthetic data, the next step is to use ReactiveMP.jl API to run a reactive message-passing algorithm that solves our given inference problem. To do this, we need to specify which variables we are interested in. We obtain a posterior marginal updates stream by calling `getmarginal()` function and pass `A` as an argument as an example. We can also use `getmarginals()` function to obtain a stream of updates over a collection of random variables.\n",
    "\n",
    "We use `subscribe!` function from `Rocket.jl` to subscribe on posterior marginal updates and to store them in a local buffers. \n",
    "\n",
    "In this model we are also interested in Bethe Free Energy functional evaluation. To get and to subscribe on a stream of free energy values over iterations we use `score()` function.\n",
    "\n",
    "To pass observations to our model we use `update!` function. Inference engine will wait for all observations in the model and will react as soon as all of them have been passed."
   ]
  },
  {
   "cell_type": "code",
   "execution_count": null,
   "metadata": {},
   "outputs": [],
   "source": [
    "function inference(observations, n_its)\n",
    "\n",
    "    # We create a full graph for this model based on number of observations\n",
    "    n = length(observations)\n",
    "\n",
    "    model, (z, y, A, B) = hidden_markov_model(\n",
    "        n, options = (limit_stack_depth = 500, )\n",
    "    )\n",
    "\n",
    "    # Preallocated buffers for posterior marginals updates\n",
    "    zbuffer = keep(Vector{Marginal})\n",
    "    Abuffer = keep(Marginal)\n",
    "    Bbuffer = keep(Marginal)\n",
    "    fe      = ScoreActor(Float64)\n",
    "\n",
    "    zsub  = subscribe!(getmarginals(z), zbuffer)\n",
    "    Asub  = subscribe!(getmarginal(A), Abuffer)\n",
    "    Bsub  = subscribe!(getmarginal(B), Bbuffer)\n",
    "    fesub = subscribe!(score(Float64, BetheFreeEnergy(), model), fe)\n",
    "\n",
    "    # Sometimes it is essential to have an initial posterior marginals \n",
    "    # to start VMP iterations. Without this step inference engine \n",
    "    # will wait for them forever and will never react on new observations\n",
    "    setmarginal!(A, vague(MatrixDirichlet, 3, 3))\n",
    "    setmarginal!(B, vague(MatrixDirichlet, 3, 3))\n",
    "\n",
    "    # To make many vmp iterations we simply pass our observations\n",
    "    # in our model multiple time. It forces an inference engine to react on them \n",
    "    # multiple times and update posterior marginals several times\n",
    "    for i in 1:n_its\n",
    "        update!(y, observations)\n",
    "    end\n",
    "\n",
    "    # It is a good practice to always unsubscribe at the end of the \n",
    "    # inference stage\n",
    "    unsubscribe!(zsub)\n",
    "    unsubscribe!(Asub)\n",
    "    unsubscribe!(Bsub)\n",
    "    unsubscribe!(fesub)\n",
    "\n",
    "    return map(getvalues, (zbuffer, Abuffer, Bbuffer, fe))\n",
    "end"
   ]
  },
  {
   "cell_type": "markdown",
   "metadata": {},
   "source": [
    "Since this a approximate variational message passing results may differ depending on the number of VMP iterations performed."
   ]
  },
  {
   "cell_type": "code",
   "execution_count": null,
   "metadata": {},
   "outputs": [],
   "source": [
    "vmp_iterations = 15"
   ]
  },
  {
   "cell_type": "code",
   "execution_count": null,
   "metadata": {},
   "outputs": [],
   "source": [
    "z_estimated, A_estimated, B_estimated, fe = inference(y, vmp_iterations);"
   ]
  },
  {
   "cell_type": "code",
   "execution_count": null,
   "metadata": {},
   "outputs": [],
   "source": [
    "println(\"Average MSE: $(average_mse(z, z_estimated[end]))\")"
   ]
  },
  {
   "cell_type": "code",
   "execution_count": null,
   "metadata": {},
   "outputs": [],
   "source": [
    "let\n",
    "    fig = Figure(resolution = (500, 350))\n",
    "    ax  = Axis(fig[1, 1])\n",
    "\n",
    "    lines!(ax, 1:length(fe), fe, label = \"Bethe Free Energy\", linewidth = 2)\n",
    "\n",
    "    axislegend(ax, labelsize = 16, position = :rt)\n",
    "\n",
    "    @saveplot fig \"hmm_fe\"\n",
    "end"
   ]
  },
  {
   "cell_type": "markdown",
   "metadata": {},
   "source": [
    "We can see that in all of the cases our algorithm minimises Bethe Free Energy functional correctly and, hence, should lead to a proper approximate solution."
   ]
  },
  {
   "cell_type": "markdown",
   "metadata": {},
   "source": [
    "### Verification\n",
    "\n",
    "To inspect the quality of the inferred state sequence, we plot the simulated process, observations and inferred state sequence."
   ]
  },
  {
   "cell_type": "code",
   "execution_count": null,
   "metadata": {},
   "outputs": [],
   "source": [
    "let\n",
    "    fig = Figure(resolution = (500, 350))\n",
    "    ax  = Axis(fig[1, 1])\n",
    "\n",
    "    range       = 1:length(z)\n",
    "    z_states    = argmax.(z)\n",
    "    z_est       = mean.(last(z_estimated))\n",
    "    z_err       = std.(last(z_estimated))\n",
    "    c           = Makie.wong_colors()\n",
    "\n",
    "    lines!(ax, range, z_est, color = c[1], label = \"estimated\")\n",
    "    band!(ax, range, z_est .- z_err, z_est .+ z_err, color = (c[1], 0.45))\n",
    "    scatter!(ax, range, z_states, color = c[6], markersize = 5, label = \"real\")\n",
    "    \n",
    "    axislegend(ax, labelsize = 16, position = :rb)\n",
    "\n",
    "    @saveplot fig \"hmm_inference\"\n",
    "end"
   ]
  },
  {
   "cell_type": "markdown",
   "metadata": {},
   "source": [
    "### Benchmarking\n",
    "\n",
    "In this section we will benchmark inference performance with the help of BenchmarkTools package. ReactiveMP.jl has been designed to be efficient and scalable as much as possible. To show ReactiveMP.jl performance capabilities we run a series of benchmark tests for hidden markov model with different number of observations."
   ]
  },
  {
   "cell_type": "code",
   "execution_count": null,
   "metadata": {},
   "outputs": [],
   "source": [
    "function run_benchmark(params)\n",
    "    @unpack n, n_itr, seed = params\n",
    "\n",
    "    # Transition probabilities (some transitions are impossible)\n",
    "    A = [0.9 0.0 0.1; 0.1 0.9 0.0; 0.0 0.1 0.9] \n",
    "    # Observation noise\n",
    "    B = [0.05 0.05 0.9; 0.05 0.9 0.05; 0.9 0.05 0.05] \n",
    "    \n",
    "    data_params = @strdict n seed A B\n",
    "\n",
    "    z, y           = generate_data(HMMModel(), data_params)\n",
    "    z_, A_, B_, fe = inference(y, n_itr);\n",
    "    benchmark      = @benchmark inference($y, $n_itr);\n",
    "\n",
    "    z_estimated = last(z_)\n",
    "    A_estimated = last(A_)\n",
    "    B_estimated = last(B_)\n",
    "    \n",
    "    amse = average_mse(z, z_estimated)\n",
    "        \n",
    "    @strdict n n_itr amse seed z y z_estimated A_estimated B_estimated fe benchmark\n",
    "end"
   ]
  },
  {
   "cell_type": "code",
   "execution_count": null,
   "metadata": {},
   "outputs": [],
   "source": [
    "benchmark_allparams = dict_list(Dict(\n",
    "    \"n\"     => [ 50, 100, 250, 500, 1000, 2500, 5000, 10000, 25_000 ],\n",
    "    \"n_itr\" => [ 5, 10, 15, 20, 25, @onlyif(\"n\" >= 5000, 60) ],\n",
    "    \"seed\"  => 42,\n",
    "));"
   ]
  },
  {
   "cell_type": "code",
   "execution_count": null,
   "metadata": {},
   "outputs": [],
   "source": [
    "hmm_benchmarks = map(benchmark_allparams) do params\n",
    "    path = datadir(\"benchmark\", \"hmm\", \"smoothing\")\n",
    "    result, _ = produce_or_load(path, params, run_benchmark, tag = false)\n",
    "    return result\n",
    "end;"
   ]
  },
  {
   "cell_type": "code",
   "execution_count": null,
   "metadata": {},
   "outputs": [],
   "source": [
    "target_seed = 42\n",
    "target_n_itr = 20"
   ]
  },
  {
   "cell_type": "code",
   "execution_count": null,
   "metadata": {},
   "outputs": [],
   "source": [
    "let\n",
    "    path_smoothing = datadir(\"benchmark\", \"hmm\", \"smoothing\")\n",
    "\n",
    "    white_list   = [ \"n\", \"n_itr\", \"seed\", \"amse\" ]\n",
    "    special_list = [\n",
    "        :min => (data) -> string(\n",
    "            round(minimum(data[\"benchmark\"]).time / 1_000_000, digits = 2), \"ms\"\n",
    "        ),\n",
    "        :mean => (data) -> string(\n",
    "            round(mean(data[\"benchmark\"]).time / 1_000_000, digits = 2), \"ms\"\n",
    "        ),\n",
    "        :gctime => (data) -> string(\n",
    "            round(minimum(data[\"benchmark\"]).gctime / minimum(data[\"benchmark\"]).time * 100, digits = 2), \"%\"\n",
    "        )\n",
    "    ]\n",
    "\n",
    "    df_smoothing = collect_results(path_smoothing, \n",
    "        white_list = white_list,\n",
    "        special_list = special_list,\n",
    "        verbose = false\n",
    "    )\n",
    "\n",
    "    query_smoothing = @from row in df_smoothing begin\n",
    "        @where row.seed == target_seed && row.n_itr == target_n_itr\n",
    "        @orderby ascending(row.n)\n",
    "        @select { row.n, row.min, row.gctime, row.amse }\n",
    "    end\n",
    "\n",
    "    DataFrame(query_smoothing)\n",
    "end"
   ]
  },
  {
   "cell_type": "code",
   "execution_count": 54,
   "metadata": {},
   "outputs": [],
   "source": [
    "target_n_itrs = [ 5, 15, 25 ];"
   ]
  },
  {
   "cell_type": "code",
   "execution_count": 55,
   "metadata": {},
   "outputs": [
    {
     "data": {
      "image/png": "[encoded data removed]",
      "text/plain": [
       "Figure()"
      ]
     },
     "execution_count": 55,
     "metadata": {},
     "output_type": "execute_result"
    }
   ],
   "source": [
    "let\n",
    "    fig = Figure(resolution = (500, 350))\n",
    "\n",
    "    ax = Axis(fig[1, 1])\n",
    "\n",
    "    ax.xlabel = \"Number of observations in dataset log-scale()\"\n",
    "    ax.ylabel = \"Time (in ms, log-scale)\"\n",
    "    ax.xscale = Makie.pseudolog10\n",
    "    ax.yscale = Makie.pseudolog10\n",
    "\n",
    "    ax.xticks = (\n",
    "        [ 50, 100, 200, 500, 1000, 2000, 5000, 10_000 ], \n",
    "        [ \"50\", \"100\", \"200\", \"500\", \"1e3\", \"2e3\", \"5e3\", \"1e4\" ]\n",
    "    )\n",
    "\n",
    "    ax.yticks = (\n",
    "        [ 5, 10, 20, 50, 100, 200, 500, 1000, 2000, 5_000, 10_000 ], \n",
    "        [ \"5\", \"10\", \"20\", \"50\", \"100\", \"200\", \"500\", \"1e3\", \"2e3\", \"5e3\", \"1e4\" ]\n",
    "    )\n",
    "\n",
    "    mshapes = [ :utriangle, :diamond, :pentagon ]\n",
    "\n",
    "    for (mshape, target_n_itr) in zip(mshapes, target_n_itrs)\n",
    "        filtered = filter(hmm_benchmarks) do b\n",
    "            return b[\"n_itr\"] === target_n_itr\n",
    "        end\n",
    "\n",
    "        range      = map(f -> f[\"n\"], filtered)\n",
    "        benchmarks = map(f -> f[\"benchmark\"], filtered)\n",
    "        timings    = map(t -> t.time, minimum.(benchmarks)) ./ 1_000_000\n",
    "\n",
    "        lines!(ax, range, timings, label = \"VMP n_itr = $(target_n_itr)\")\n",
    "        scatter!(ax, range, timings, marker = mshape, markersize = 16)\n",
    "    end\n",
    "\n",
    "    axislegend(ax, labelsize = 16, position = :lt)\n",
    "\n",
    "    @saveplot fig \"hmm_benchmark_observations\"\n",
    "end"
   ]
  },
  {
   "cell_type": "code",
   "execution_count": 56,
   "metadata": {},
   "outputs": [],
   "source": [
    "target_ns = [ 50, 500, 5000 ];"
   ]
  },
  {
   "cell_type": "code",
   "execution_count": 60,
   "metadata": {},
   "outputs": [
    {
     "data": {
      "image/png": "[encoded data removed]",
      "text/plain": [
       "Figure()"
      ]
     },
     "execution_count": 60,
     "metadata": {},
     "output_type": "execute_result"
    }
   ],
   "source": [
    "begin\n",
    "\n",
    "    fig = Figure(resolution = (500, 350))\n",
    "\n",
    "    ax = Axis(fig[1, 1])\n",
    "\n",
    "    ax.xlabel = \"Number of performed VMP iterations (log-scale)\"\n",
    "    ax.ylabel = \"Time (in ms, log-scale)\"\n",
    "    ax.xscale = Makie.pseudolog10\n",
    "    ax.yscale = Makie.pseudolog10\n",
    "\n",
    "    ax.xticks = (\n",
    "        [ 5, 10, 15, 20, 25 ],\n",
    "        string.([ 5, 10, 15, 20, 25 ])\n",
    "    )\n",
    "\n",
    "    ax.yticks = (\n",
    "        [ 5, 20, 100, 300, 1000, 3_000, 10_000, 3e4, 1e5 ], \n",
    "        [ \"5\", \"20\", \"100\", \"300\", \"1e3\", \"3e3\", \"1e4\", \"3e4\", \"1e5\" ]\n",
    "    )\n",
    "\n",
    "    ylims!(ax, (2, 3e5 ))\n",
    "\n",
    "    mshapes = [ :utriangle, :diamond, :pentagon ]\n",
    "\n",
    "    for (mshape, target_n) in zip(mshapes, target_ns)\n",
    "        filtered = filter(hmm_benchmarks) do b\n",
    "            return b[\"n\"] === target_n && b[\"n_itr\"] <= 25\n",
    "        end\n",
    "\n",
    "        range      = map(f -> f[\"n_itr\"], filtered)\n",
    "        benchmarks = map(f -> f[\"benchmark\"], filtered)\n",
    "        timings    = map(t -> t.time, minimum.(benchmarks)) ./ 1_000_000\n",
    "        ylim       = (1e0, 10maximum(timings))\n",
    "\n",
    "        lines!(ax, range, timings, label = \"n_observations = $(target_n)\")\n",
    "        scatter!(ax, range, timings, marker = mshape, markersize = 16)\n",
    "    end\n",
    "\n",
    "    axislegend(ax, labelsize = 16, position = :lt)\n",
    "\n",
    "    @saveplot fig \"hmm_benchmark_iterations\"\n",
    "end"
   ]
  },
  {
   "cell_type": "code",
   "execution_count": null,
   "metadata": {},
   "outputs": [],
   "source": []
  }
 ],
 "metadata": {
  "kernelspec": {
   "display_name": "Julia 1.6.2",
   "language": "julia",
   "name": "julia-1.6"
  },
  "language_info": {
   "file_extension": ".jl",
   "mimetype": "application/julia",
   "name": "julia",
   "version": "1.6.2"
  }
 },
 "nbformat": 4,
 "nbformat_minor": 4
}
