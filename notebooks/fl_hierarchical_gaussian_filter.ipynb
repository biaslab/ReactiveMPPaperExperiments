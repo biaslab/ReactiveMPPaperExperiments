{
 "cells": [
  {
   "cell_type": "code",
   "execution_count": null,
   "metadata": {},
   "outputs": [],
   "source": [
    "using Revise\n",
    "using DrWatson"
   ]
  },
  {
   "cell_type": "code",
   "execution_count": null,
   "metadata": {},
   "outputs": [],
   "source": [
    "@quickactivate :ReactiveMPPaperExperiments"
   ]
  },
  {
   "cell_type": "code",
   "execution_count": null,
   "metadata": {},
   "outputs": [],
   "source": [
    "using ForneyLab\n",
    "using BenchmarkTools\n",
    "using Random\n",
    "using CairoMakie\n",
    "\n",
    "import ReactiveMP"
   ]
  },
  {
   "cell_type": "code",
   "execution_count": null,
   "metadata": {},
   "outputs": [],
   "source": [
    "include(\"fl_gcv/GCV.jl\")"
   ]
  },
  {
   "cell_type": "code",
   "execution_count": null,
   "metadata": {},
   "outputs": [],
   "source": [
    "import Distributions"
   ]
  },
  {
   "cell_type": "code",
   "execution_count": null,
   "metadata": {},
   "outputs": [],
   "source": [
    "params = let \n",
    "    \n",
    "    seed = 12\n",
    "    \n",
    "    n    = 250\n",
    "    τ_z  = 20.0\n",
    "    τ_y  = 5.0\n",
    "    \n",
    "    κ = 1.0\n",
    "    ω = 0.0\n",
    "\n",
    "    @strdict seed n τ_z τ_y κ ω\n",
    "end;"
   ]
  },
  {
   "cell_type": "code",
   "execution_count": null,
   "metadata": {},
   "outputs": [],
   "source": [
    "z, s, y = generate_data(HGFModel(), params);"
   ]
  },
  {
   "cell_type": "code",
   "execution_count": null,
   "metadata": {},
   "outputs": [],
   "source": [
    "let \n",
    "    f = Figure(resolution = (1000, 350))\n",
    "    \n",
    "    range = 1:length(z)\n",
    "    \n",
    "    ax1 = Axis(f[1, 1], title = \"Latent states z\")\n",
    "    ax2 = Axis(f[1, 2], title = \"Latent states s\")\n",
    "    \n",
    "    lines!(ax1, range, z, color = :green)\n",
    "    \n",
    "    lines!(ax2, range, s)\n",
    "    scatter!(ax2, range, y, label = \"Observations\", markersize = 4, color = :orange)\n",
    "    \n",
    "    axislegend(ax2, position = :rb)\n",
    "    \n",
    "    f\n",
    "end"
   ]
  },
  {
   "cell_type": "code",
   "execution_count": null,
   "metadata": {},
   "outputs": [],
   "source": [
    "import .GCV: ruleMGaussianControlledVarianceGGDDD, ruleMGaussianMeanPrecisionEGD\n",
    "import .GCV: ruleSVBGaussianControlledVarianceOutNGDDD, ruleSVBGaussianMeanPrecisionMEND\n",
    "import .GCV: ruleSVBGaussianControlledVarianceXGNDDD, ruleSVBGaussianControlledVarianceZDNDD\n",
    "import .GCV: ruleSVBGaussianControlledVarianceXGNDDD\n",
    "import .GCV: GaussianControlledVariance"
   ]
  },
  {
   "cell_type": "code",
   "execution_count": null,
   "metadata": {},
   "outputs": [],
   "source": [
    "g = FactorGraph()\n",
    "\n",
    "model_τ_z = params[\"τ_z\"]\n",
    "model_τ_y = params[\"τ_y\"]\n",
    "model_κ = params[\"κ\"]\n",
    "model_ω = params[\"ω\"]\n",
    "\n",
    "@RV zv_min_mean\n",
    "@RV zv_min_prec\n",
    "\n",
    "placeholder(zv_min_mean, :zv_min_mean)\n",
    "placeholder(zv_min_prec, :zv_min_prec)\n",
    "\n",
    "@RV sv_min_mean\n",
    "@RV sv_min_prec\n",
    "\n",
    "placeholder(sv_min_mean, :sv_min_mean)\n",
    "placeholder(sv_min_prec, :sv_min_prec)\n",
    "\n",
    "@RV zv_min ~ GaussianMeanPrecision(zv_min_mean, zv_min_prec)\n",
    "@RV sv_min ~ GaussianMeanPrecision(sv_min_mean, sv_min_prec)\n",
    "\n",
    "@RV zv ~ GaussianMeanPrecision(zv_min, model_τ_z)\n",
    "@RV sv ~ GaussianControlledVariance(sv_min, zv, model_κ, model_ω)\n",
    "\n",
    "@RV yv ~ GaussianMeanPrecision(sv, model_τ_y)\n",
    "\n",
    "placeholder(yv, :yv)"
   ]
  },
  {
   "cell_type": "code",
   "execution_count": null,
   "metadata": {},
   "outputs": [],
   "source": [
    "@time begin\n",
    "    # Generate VMP algorithm with free energy\n",
    "    pfz = PosteriorFactorization([ zv, zv_min ], [sv, sv_min], ids=[ :Z, :S ])\n",
    "    algo = messagePassingAlgorithm(free_energy=true) # Generate algorithm\n",
    "    source_code = algorithmSourceCode(algo, free_energy=true); # Generate source code for algorithm\n",
    "    eval(Meta.parse(source_code)); # Load algorithm\n",
    "end"
   ]
  },
  {
   "cell_type": "code",
   "execution_count": null,
   "metadata": {},
   "outputs": [],
   "source": [
    "@time begin\n",
    "    # Generate VMP algorithm with free energy\n",
    "    pfz = PosteriorFactorization([ zv, zv_min ], [sv, sv_min], ids=[ :Z, :S ])\n",
    "    algo = messagePassingAlgorithm(free_energy=true) # Generate algorithm\n",
    "    source_code = algorithmSourceCode(algo, free_energy=true); # Generate source code for algorithm\n",
    "    eval(Meta.parse(source_code)); # Load algorithm\n",
    "end"
   ]
  },
  {
   "cell_type": "code",
   "execution_count": null,
   "metadata": {},
   "outputs": [],
   "source": [
    "@time begin\n",
    "    # Generate VMP algorithm with free energy\n",
    "    pfz = PosteriorFactorization([ zv, zv_min ], [sv, sv_min], ids=[ :Z, :S ])\n",
    "    algo = messagePassingAlgorithm(free_energy=true) # Generate algorithm\n",
    "    source_code = algorithmSourceCode(algo, free_energy=true); # Generate source code for algorithm\n",
    "    eval(Meta.parse(source_code)); # Load algorithm\n",
    "end"
   ]
  },
  {
   "cell_type": "code",
   "execution_count": null,
   "metadata": {},
   "outputs": [],
   "source": [
    "# Because of the global evaluation we cannot robustly perform this benchmark in a loop like we did for Turing and ReactiveMP\n",
    "# So we change number of observations by hand and perform benchmarks separately \n",
    "# ForneyLab model creation time times\n",
    "# 50  - 0.366525 seconds (41.03 k allocations: 21.007 MiB)\n",
    "# 100 - 0.359312 seconds (41.05 k allocations: 21.009 MiB)\n",
    "# 250 - 0.345083 seconds (41.04 k allocations: 21.010 MiB)"
   ]
  },
  {
   "cell_type": "code",
   "execution_count": null,
   "metadata": {},
   "outputs": [],
   "source": [
    "function inference()     \n",
    "    nitr = 20\n",
    "    \n",
    "    zv_k_mean = 0.0\n",
    "    zv_k_prec = inv(5.0)\n",
    "    \n",
    "    sv_k_mean = 0.0\n",
    "    sv_k_prec = inv(5.0)\n",
    "    \n",
    "    marginals = Dict{Any, Any}(\n",
    "        :sv_sv_min => ProbabilityDistribution(Multivariate, GaussianMeanVariance, m = [ 0.0, 0.0 ], v = [ 5.0 0.0; 0.0 5.0 ]),\n",
    "        :zv => ProbabilityDistribution(Univariate, GaussianMeanPrecision, m = zv_k_mean, w = zv_k_prec),\n",
    "        :sv => ProbabilityDistribution(Univariate, GaussianMeanPrecision, m = sv_k_mean, w = sv_k_prec)\n",
    "    )\n",
    "    \n",
    "    fe = Array{Float64}(undef, length(y), nitr)\n",
    "    zm = []\n",
    "    sm = []\n",
    "    \n",
    "    for (i, observation) in enumerate(y)\n",
    "        \n",
    "        data = Dict(\n",
    "            :zv_min_mean => zv_k_mean,\n",
    "            :zv_min_prec => zv_k_prec,\n",
    "            :sv_min_mean => sv_k_mean,\n",
    "            :sv_min_prec => sv_k_prec,\n",
    "            :yv => observation\n",
    "        )\n",
    "        \n",
    "        for j in 1:nitr\n",
    "            stepS!(data, marginals)\n",
    "            stepZ!(data, marginals)\n",
    "            fe[i, j] = freeEnergy(data, marginals)\n",
    "        end\n",
    "        \n",
    "        push!(zm, marginals[:zv])\n",
    "        push!(sm, marginals[:sv])\n",
    "        \n",
    "        zv_k_mean = ForneyLab.unsafeMean(marginals[:zv])\n",
    "        zv_k_prec = inv(ForneyLab.unsafeVar(marginals[:zv]))\n",
    "        sv_k_mean = ForneyLab.unsafeMean(marginals[:sv])\n",
    "        sv_k_prec = inv(ForneyLab.unsafeVar(marginals[:sv]))\n",
    "    end\n",
    "    \n",
    "    return zm, sm, fe\n",
    "end"
   ]
  },
  {
   "cell_type": "code",
   "execution_count": null,
   "metadata": {},
   "outputs": [],
   "source": [
    "@time inference();"
   ]
  },
  {
   "cell_type": "code",
   "execution_count": null,
   "metadata": {},
   "outputs": [],
   "source": [
    "# ForneyLab compilation time\n",
    "# 50  - 0.774004 seconds (4.60 M allocations: 241.971 MiB, 7.16% gc time, 29.82% compilation time)\n",
    "# 100 - 1.160789 seconds (8.79 M allocations: 458.590 MiB, 6.73% gc time, 20.99% compilation time)\n",
    "# 250 - 2.472063 seconds (21.34 M allocations: 1.082 GiB, 5.77% gc time, 10.02% compilation time)"
   ]
  },
  {
   "cell_type": "code",
   "execution_count": null,
   "metadata": {},
   "outputs": [],
   "source": [
    "# ForneyLab total compilation time\n",
    "# 50 - 0.366525 + 0.774004 * (29.82% compilation time) = 0.5973329928\n",
    "# 100 - 0.359312 + 1.160789 * (20.99% compilation time) = 0.6029616111\n",
    "# 250 - 0.345083 + 2.472063 * (10.02% compilation time) = 0.5927837126"
   ]
  },
  {
   "cell_type": "code",
   "execution_count": null,
   "metadata": {},
   "outputs": [],
   "source": [
    "@btime inference();"
   ]
  },
  {
   "cell_type": "code",
   "execution_count": null,
   "metadata": {},
   "outputs": [],
   "source": [
    "# ForneyLab execution times\n",
    "# 50 - 457.610 ms (4186256 allocations: 216.62 MiB)\n",
    "# 100 - 876.342 ms (8372458 allocations: 433.24 MiB)\n",
    "# 250 - 2.368 s (20931061 allocations: 1.06 GiB)"
   ]
  },
  {
   "cell_type": "code",
   "execution_count": null,
   "metadata": {},
   "outputs": [],
   "source": [
    "zm, sm, fe = inference();"
   ]
  },
  {
   "cell_type": "code",
   "execution_count": null,
   "metadata": {},
   "outputs": [],
   "source": [
    "println(\"Average MSE Z: $(average_mse(z, zm) ./ params[\"n\"])\")\n",
    "println(\"Average MSE S: $(average_mse(s, sm) ./ params[\"n\"])\")"
   ]
  },
  {
   "cell_type": "code",
   "execution_count": null,
   "metadata": {},
   "outputs": [],
   "source": [
    "# NOTE: Small discrepancies with the RMP can be explained with a slightly different implementation of the \n",
    "# Gauss Hermite cubature, Z layer is inferred a little bit better\n",
    "# ForneyLab average MSE Z\n",
    "# 50  - 0.9016941531493693\n",
    "# 100 - 0.7165191980322123\n",
    "# 250 - 0.7140304223759321"
   ]
  },
  {
   "cell_type": "code",
   "execution_count": null,
   "metadata": {},
   "outputs": [],
   "source": [
    "# NOTE: Small discrepancies with the RMP can be explained with a slightly different implementation of the \n",
    "# Gauss Hermite cubature, S layer is inferred a little bit worse \n",
    "# ForneyLab average MSE S\n",
    "# 50  - 0.3754287335967828\n",
    "# 100 - 0.37025891761348945\n",
    "# 250 - 0.38205786877013004"
   ]
  },
  {
   "cell_type": "code",
   "execution_count": null,
   "metadata": {},
   "outputs": [],
   "source": [
    "let \n",
    "    c = Makie.wong_colors()\n",
    "    \n",
    "    @unpack n = params\n",
    "\n",
    "    f1    = Figure(resolution = (350, 350))\n",
    "    f2    = Figure(resolution = (350, 350))\n",
    "    f3    = Figure(resolution = (350, 350))\n",
    "    grid  = 1:n\n",
    "\n",
    "    ax1 = Makie.Axis(f1[1, 1])\n",
    "    ax2 = Makie.Axis(f2[1, 1])\n",
    "    ax3 = Makie.Axis(f3[1, 1])\n",
    "\n",
    "    function plot_z(fig)\n",
    "\n",
    "        lines!(fig, grid, z, color = :red3, label = \"real\")\n",
    "        lines!(fig, grid, ForneyLab.unsafeMean.(zm), color = c[3], label = \"estimated\")\n",
    "        band!(fig, grid, \n",
    "            ForneyLab.unsafeMean.(zm) .- sqrt.(ForneyLab.unsafeVar.(zm)),\n",
    "            ForneyLab.unsafeMean.(zm) .+ sqrt.(ForneyLab.unsafeVar.(zm)),\n",
    "            color = (c[3], 0.65)\n",
    "        )\n",
    "\n",
    "        axislegend(fig, labelsize = 16, position = :rt)\n",
    "    end\n",
    "\n",
    "    function plot_s(fig)\n",
    "\n",
    "        lines!(fig, grid, s, color = :purple, label = \"real\")\n",
    "        lines!(fig, grid, ForneyLab.unsafeMean.(sm), color = c[1], label = \"estimated\")\n",
    "        band!(fig, grid, \n",
    "            ForneyLab.unsafeMean.(sm) .- sqrt.(ForneyLab.unsafeVar.(sm)),\n",
    "            ForneyLab.unsafeMean.(sm) .+ sqrt.(ForneyLab.unsafeVar.(sm)),\n",
    "            color = (c[1], 0.65)\n",
    "        )\n",
    "\n",
    "        axislegend(fig, labelsize = 16, position = :rb)\n",
    "    end\n",
    "\n",
    "    local rfe = vec(sum(fe, dims = 1))\n",
    "\n",
    "    function plot_fe(fig)\n",
    "        lines!(fig, 1:length(rfe), rfe, linewidth = 2, label = \"Bethe Free Energy\")\n",
    "        axislegend(fig, labelsize = 16, position = :rb)\n",
    "    end\n",
    "\n",
    "    plot_z(ax1)\n",
    "    plot_s(ax2)\n",
    "    plot_fe(ax3)\n",
    "\n",
    "    @saveplot f1 \"hgf_inference_z_fl\"\n",
    "    @saveplot f2 \"hgf_inference_s_fl\"\n",
    "    @saveplot f3 \"hgf_inference_fe_fl\"\n",
    "\n",
    "    local af = Figure(resolution = (350 * 3, 350))\n",
    "\n",
    "    plot_z(Makie.Axis(af[1, 1]))\n",
    "    plot_s(Makie.Axis(af[1, 2]))\n",
    "    plot_fe(Makie.Axis(af[1, 3]))\n",
    "    \n",
    "    # @show average_mse(z, zm[range])\n",
    "    # @show average_mse(s, sm[range])\n",
    "\n",
    "    af\n",
    "end"
   ]
  },
  {
   "cell_type": "code",
   "execution_count": null,
   "metadata": {},
   "outputs": [],
   "source": []
  },
  {
   "cell_type": "code",
   "execution_count": null,
   "metadata": {},
   "outputs": [],
   "source": []
  }
 ],
 "metadata": {
  "kernelspec": {
   "display_name": "Julia 1.6.4",
   "language": "julia",
   "name": "julia-1.6"
  },
  "language_info": {
   "file_extension": ".jl",
   "mimetype": "application/julia",
   "name": "julia",
   "version": "1.6.4"
  }
 },
 "nbformat": 4,
 "nbformat_minor": 4
}
