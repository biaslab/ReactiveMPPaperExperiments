{
 "cells": [
  {
   "cell_type": "code",
   "execution_count": 1,
   "metadata": {},
   "outputs": [],
   "source": [
    "using Revise\n",
    "using DrWatson"
   ]
  },
  {
   "cell_type": "code",
   "execution_count": 2,
   "metadata": {},
   "outputs": [
    {
     "name": "stderr",
     "output_type": "stream",
     "text": [
      "┌ Info: Precompiling ReactiveMPPaperExperiments [adcd1038-27e6-4580-819b-caa5dba07e45]\n",
      "└ @ Base loading.jl:1342\n"
     ]
    }
   ],
   "source": [
    "@quickactivate :ReactiveMPPaperExperiments"
   ]
  },
  {
   "cell_type": "code",
   "execution_count": 3,
   "metadata": {},
   "outputs": [],
   "source": [
    "using ReactiveMP, Rocket, GraphPPL, Distributions, Random\n",
    "using CairoMakie\n",
    "using BenchmarkTools, DataFrames, Query, LinearAlgebra\n",
    "\n",
    "import ReactiveMP: update!"
   ]
  },
  {
   "cell_type": "markdown",
   "metadata": {},
   "source": [
    "### Multivariate Gaussian Mixture Estimation\n",
    "\n",
    "In this example we are going to run inference on multivariate gaussian mixture model with ReactiveMP.jl.\n",
    "\n",
    "The observations in this model are i.i.d., but the model itself shares the same parameters across all mixture components. It can be described in the following way:\n",
    "\n",
    "$$\n",
    "\\begin{equation}\n",
    "  \\begin{aligned}\n",
    "\tz_i & \\sim \\, \\text{Bernoulli}(\\pi)\\\\\t\n",
    "\ty_i & \\sim \\, \\prod_{k = 1}^{N}\\mathcal{N}(\\bf{m}_k, \\bf{W^{-1}}_k)^{z_{i}^{(k)}}\n",
    "  \\end{aligned}\n",
    "\\end{equation}\n",
    "$$\n",
    "\n",
    "All model parameters are also endowed with priors:\n",
    "\n",
    "$$\n",
    "\\begin{equation}\n",
    "  \\begin{aligned}\n",
    "\t\\pi & \\sim \\, \\text{Beta}(1, 1)\\\\\t\n",
    "\t\\bf{m}_k & \\sim \\, \\mathcal{N}(\\bf{m}_k^{(0)}, \\bf{W^{-1}}_k^{(0)}) \\\\\n",
    "\t\\bf{W}_k & \\sim \\, \\text{Wishart}(\\text{d\\,}_k^{(0)}, \\bf{S}_k^{(0)})\n",
    "  \\end{aligned}\n",
    "\\end{equation}\n",
    "$$"
   ]
  },
  {
   "cell_type": "markdown",
   "metadata": {},
   "source": [
    "### Syntethic data\n",
    "\n",
    "First lets generate some synthetic data. We will generate some samples from real Gaussian Mixture distribution with the help of the `Distributions.jl` package."
   ]
  },
  {
   "cell_type": "code",
   "execution_count": 4,
   "metadata": {},
   "outputs": [],
   "source": [
    "params = let\n",
    "    # Seed for reproducability\n",
    "    seed = 42\n",
    "    \n",
    "    # Number of IID samples\n",
    "    n = 500\n",
    "    \n",
    "    # Number of mixture components\n",
    "    nmixtures = 6\n",
    "    \n",
    "    # Mixture component mean distance from zero\n",
    "    cdistance = 10\n",
    "    \n",
    "    # Angle change rate\n",
    "    angle = 1.5π / nmixtures\n",
    "    \n",
    "    # Number of VMP iterations (for inference)\n",
    "    niters = 10\n",
    "    \n",
    "    @strdict seed n nmixtures cdistance angle niters\n",
    "end;"
   ]
  },
  {
   "cell_type": "code",
   "execution_count": 5,
   "metadata": {},
   "outputs": [],
   "source": [
    "y = generate_data(GMMModel(), params);"
   ]
  },
  {
   "cell_type": "code",
   "execution_count": 6,
   "metadata": {},
   "outputs": [
    {
     "ename": "LoadError",
     "evalue": "`Makie.convert_arguments` for the plot type Scatter{Tuple{Tuple{Vector{Float64}, FullNormal}, Tuple{Vector{Float64}, FullNormal}}} and its conversion trait PointBased() was unsuccessful.\n\nThe signature that could not be converted was:\n::Tuple{Vector{Float64}, FullNormal}, ::Tuple{Vector{Float64}, FullNormal}\n\nMakie needs to convert all plot input arguments to types that can be consumed by the backends (typically Arrays with Float32 elements).\nYou can define a method for `Makie.convert_arguments` (a type recipe) for these types or their supertypes to make this set of arguments convertible (See http://makie.juliaplots.org/stable/documentation/recipes/index.html).\n\nAlternatively, you can define `Makie.convert_single_argument` for single arguments which have types that are unknown to Makie but which can be converted to known types and fed back to the conversion pipeline.\n",
     "output_type": "error",
     "traceback": [
      "`Makie.convert_arguments` for the plot type Scatter{Tuple{Tuple{Vector{Float64}, FullNormal}, Tuple{Vector{Float64}, FullNormal}}} and its conversion trait PointBased() was unsuccessful.\n\nThe signature that could not be converted was:\n::Tuple{Vector{Float64}, FullNormal}, ::Tuple{Vector{Float64}, FullNormal}\n\nMakie needs to convert all plot input arguments to types that can be consumed by the backends (typically Arrays with Float32 elements).\nYou can define a method for `Makie.convert_arguments` (a type recipe) for these types or their supertypes to make this set of arguments convertible (See http://makie.juliaplots.org/stable/documentation/recipes/index.html).\n\nAlternatively, you can define `Makie.convert_single_argument` for single arguments which have types that are unknown to Makie but which can be converted to known types and fed back to the conversion pipeline.\n",
      "",
      "Stacktrace:",
      "  [1] error(s::String)",
      "    @ Base ./error.jl:33",
      "  [2] convert_arguments(::Type{Scatter{Tuple{Tuple{Vector{Float64}, FullNormal}, Tuple{Vector{Float64}, FullNormal}}}}, ::Tuple{Vector{Float64}, FullNormal}, ::Vararg{Tuple{Vector{Float64}, FullNormal}, N} where N; kw::Base.Iterators.Pairs{Union{}, Union{}, Tuple{}, NamedTuple{(), Tuple{}}})",
      "    @ Makie ~/.julia/packages/Makie/PFSZS/src/conversions.jl:17",
      "  [3] convert_arguments(::Type{Scatter{Tuple{Tuple{Vector{Float64}, FullNormal}, Tuple{Vector{Float64}, FullNormal}}}}, ::Tuple{Vector{Float64}, FullNormal}, ::Tuple{Vector{Float64}, FullNormal})",
      "    @ Makie ~/.julia/packages/Makie/PFSZS/src/conversions.jl:8",
      "  [4] plot!(::Scene, ::Type{Scatter{ArgType} where ArgType}, ::Attributes, ::Tuple{Vector{Float64}, FullNormal}, ::Vararg{Tuple{Vector{Float64}, FullNormal}, N} where N; kw_attributes::Base.Iterators.Pairs{Union{}, Union{}, Tuple{}, NamedTuple{(), Tuple{}}})",
      "    @ Makie ~/.julia/packages/Makie/PFSZS/src/interfaces.jl:321",
      "  [5] plot!(::Scene, ::Type{Scatter{ArgType} where ArgType}, ::Attributes, ::Tuple{Vector{Float64}, FullNormal}, ::Tuple{Vector{Float64}, FullNormal})",
      "    @ Makie ~/.julia/packages/Makie/PFSZS/src/interfaces.jl:308",
      "  [6] plot!(::Axis, ::Type{Scatter{ArgType} where ArgType}, ::Attributes, ::Tuple{Vector{Float64}, FullNormal}, ::Vararg{Tuple{Vector{Float64}, FullNormal}, N} where N; kw_attributes::Base.Iterators.Pairs{Union{}, Union{}, Tuple{}, NamedTuple{(), Tuple{}}})",
      "    @ Makie.MakieLayout ~/.julia/packages/Makie/PFSZS/src/makielayout/layoutables/axis.jl:658",
      "  [7] plot!(::Axis, ::Type{Scatter{ArgType} where ArgType}, ::Attributes, ::Tuple{Vector{Float64}, FullNormal}, ::Tuple{Vector{Float64}, FullNormal})",
      "    @ Makie.MakieLayout ~/.julia/packages/Makie/PFSZS/src/makielayout/layoutables/axis.jl:653",
      "  [8] plot!(::Type{Scatter{ArgType} where ArgType}, ::Axis, ::Tuple{Vector{Float64}, FullNormal}, ::Vararg{Tuple{Vector{Float64}, FullNormal}, N} where N; kw_attributes::Base.Iterators.Pairs{Symbol, Any, Tuple{Symbol, Symbol, Symbol}, NamedTuple{(:markersize, :color, :label), Tuple{Int64, Tuple{ColorTypes.RGBA{Float32}, Float64}, String}}})",
      "    @ Makie.MakieLayout ~/.julia/packages/Makie/PFSZS/src/makielayout/layoutables/axis.jl:670",
      "  [9] scatter!(::Axis, ::Vararg{Any, N} where N; attributes::Base.Iterators.Pairs{Symbol, Any, Tuple{Symbol, Symbol, Symbol}, NamedTuple{(:markersize, :color, :label), Tuple{Int64, Tuple{ColorTypes.RGBA{Float32}, Float64}, String}}})",
      "    @ MakieCore ~/.julia/packages/MakieCore/S8PkO/src/recipes.jl:35",
      " [10] top-level scope",
      "    @ In[6]:18",
      " [11] eval",
      "    @ ./boot.jl:360 [inlined]",
      " [12] include_string(mapexpr::typeof(REPL.softscope), mod::Module, code::String, filename::String)",
      "    @ Base ./loading.jl:1116"
     ]
    }
   ],
   "source": [
    "let\n",
    "    @unpack seed, nmixtures, cdistance, angle, n = params\n",
    "    \n",
    "    sdim    = (n) -> (a) -> map(d -> d[n], a)\n",
    "    limits  = (-1.5cdistance, 1.5cdistance)\n",
    "\n",
    "    fig = Figure(resolution = (350, 350))\n",
    "    ax = Makie.Axis(fig[1, 1])\n",
    "\n",
    "    ax.xticks = [ -10, -5, 0, 5, 10 ]\n",
    "    ax.yticks = [ -10, -5, 0, 5, 10 ]\n",
    "\n",
    "    xlims!(ax, limits)\n",
    "    ylims!(ax, limits)\n",
    "\n",
    "    palette = fig.scene.palette.color[]\n",
    "\n",
    "    scatter!(ax, \n",
    "        y |> sdim(1), y |> sdim(2), \n",
    "        markersize = 6, color = (palette[1], 0.9), \n",
    "        label = \"Observations\"\n",
    "    )\n",
    "\n",
    "    @saveplot fig \"gmm_data\"\n",
    "end"
   ]
  },
  {
   "cell_type": "markdown",
   "metadata": {},
   "source": [
    "### Model specification\n",
    "\n",
    "GraphPPL.jl offers a model specification syntax that resembles closely to the mathematical equations defined above. `datavar` placeholders are used to indicate variables that take specific values at a later date. For example, the way we feed observations into the model is by iteratively assigning each of the observations in our dataset to the data variables `y`.\n",
    "\n",
    "We also use a mean-field factorisation by default for all parameters in our model."
   ]
  },
  {
   "cell_type": "code",
   "execution_count": 7,
   "metadata": {},
   "outputs": [
    {
     "data": {
      "text/plain": [
       "gaussian_mixture_model (generic function with 1 method)"
      ]
     },
     "execution_count": 7,
     "metadata": {},
     "output_type": "execute_result"
    }
   ],
   "source": [
    "# We use mean field factorisation by default for Gaussian Mixture estimation\n",
    "@model [ default_factorisation = MeanField() ] function gaussian_mixture_model(nmixtures, nsamples)\n",
    "    \n",
    "    z = randomvar(nsamples)\n",
    "    m = randomvar(nmixtures) # A sequence of random variables for means\n",
    "    w = randomvar(nmixtures) # A sequence of random variables for precision\n",
    "    y = datavar(Vector{Float64}, nsamples) # A sequence of observed samples\n",
    "    \n",
    "    # We set uninformative priors for means and precisions\n",
    "    for i in 1:nmixtures\n",
    "        m[i] ~ MvGaussianMeanCovariance(zeros(2), [ 1e6 0.0; 0.0 1e6 ])\n",
    "        w[i] ~ Wishart(2, [ 1e5 0.0; 0.0 1e5 ])\n",
    "    end\n",
    "    \n",
    "    # Use uninformative prior for switching distribution\n",
    "    s ~ Dirichlet(ones(nmixtures))\n",
    "    \n",
    "    # GaussianMixture node accepts means and precisions arguments in a form of tuple\n",
    "    means = tuple(m...)\n",
    "    precs = tuple(w...)\n",
    "    \n",
    "    # For each sample assign a switch ditribution to be Categorical and\n",
    "    #  connect observed sample to a GaussianMixture node\n",
    "    for i in 1:nsamples\n",
    "        z[i] ~ Categorical(s)\n",
    "        y[i] ~ GaussianMixture(z[i], means, precs)\n",
    "    end\n",
    "    \n",
    "    return s, z, m, w, y\n",
    "end"
   ]
  },
  {
   "cell_type": "markdown",
   "metadata": {},
   "source": [
    "# Inference\n",
    "\n",
    "Next we need to define our inference procedure. Since we used mean field factorisation we need to perform some VMP iterations. To do so we pass same data to `update!` function multiple times forcing inference backend to react multiple times and hence update posterior marginals of the model parameters.\n",
    "\n",
    "To actually start VMP procedure we need initial marginals. We use `setmarginal!` function to define an initial marginal for the model parameters. We decouple initial marginals to avoid collapsing of clusters and to improve procedure convergence rate."
   ]
  },
  {
   "cell_type": "code",
   "execution_count": 8,
   "metadata": {},
   "outputs": [
    {
     "data": {
      "text/plain": [
       "inference (generic function with 1 method)"
      ]
     },
     "execution_count": 8,
     "metadata": {},
     "output_type": "execute_result"
    }
   ],
   "source": [
    "function inference(data, params)\n",
    "    @unpack seed, nmixtures, cdistance, angle, niters = params\n",
    "    \n",
    "    n = length(data)\n",
    "    \n",
    "    # First we create a model based on the number of observations \n",
    "    # we have in our dataset\n",
    "    model, (s, z, m, w, y) = gaussian_mixture_model(nmixtures, n)\n",
    "\n",
    "    # Some preallocated buffers for our results\n",
    "    means_estimates  = buffer(Marginal, nmixtures)\n",
    "    precs_estimates  = buffer(Marginal, nmixtures)\n",
    "    mixing_estimate  = nothing\n",
    "    fe_values        = ScoreActor(Float64)\n",
    "\n",
    "    # General receipt is to subscribe on marginals of interests\n",
    "    # and to store them in some buffer for later analysis\n",
    "    switchsub = subscribe!(getmarginal(s), (m) -> mixing_estimate = m)\n",
    "    meanssub  = subscribe!(getmarginals(m), means_estimates)\n",
    "    precssub  = subscribe!(getmarginals(w), precs_estimates)\n",
    "    fesub     = subscribe!(score(Float64, BetheFreeEnergy(), model), fe_values)\n",
    "\n",
    "    # We use `setmarginal!` function to set initial marginals for VMP procedure\n",
    "    setmarginal!(s, vague(Dirichlet, nmixtures))\n",
    "\n",
    "    # We decouple initial marginals to avoid collapsing of clusters\n",
    "    basis_v = [ 1.0, 0.0 ]\n",
    "    for i in 1:nmixtures\n",
    "        angle_prior = angle * (i - 1)\n",
    "        mean_mean_prior = [ \n",
    "            cos(angle_prior) -sin(angle_prior); \n",
    "            sin(angle_prior) cos(angle_prior) \n",
    "        ] * basis_v\n",
    "        mean_mean_cov   = [ 1e6 0.0; 0.0 1e6 ]\n",
    "\n",
    "        setmarginal!(m[i], MvNormalMeanCovariance(mean_mean_prior, mean_mean_cov))\n",
    "        setmarginal!(w[i], Wishart(2, [ 1e3 0.0; 0.0 1e3 ]))\n",
    "    end\n",
    "\n",
    "    # We pass data multiple times to force inference engine to react multiple times\n",
    "    # and hence update posterior marginals multiple times\n",
    "    for i in 1:niters\n",
    "        update!(y, data)\n",
    "    end\n",
    "\n",
    "    # In general, it is always better to unsubscribe \n",
    "    # at the end of the inference procedure\n",
    "    unsubscribe!(switchsub)\n",
    "    unsubscribe!(meanssub)\n",
    "    unsubscribe!(precssub)\n",
    "    unsubscribe!(fesub)\n",
    "\n",
    "    return (\n",
    "        getvalues(means_estimates),\n",
    "        getvalues(precs_estimates),\n",
    "        mixing_estimate,\n",
    "        getvalues(fe_values)\n",
    "    )\n",
    "end"
   ]
  },
  {
   "cell_type": "code",
   "execution_count": 9,
   "metadata": {},
   "outputs": [
    {
     "ename": "LoadError",
     "evalue": "MethodError: no method matching update!(::Vector{DataVariable{PointMass{Vector{Float64}}, Rocket.RecentSubjectInstance{Union{Message{Missing}, Message{PointMass{Vector{Float64}}}}, Subject{Union{Message{Missing}, Message{PointMass{Vector{Float64}}}}, AsapScheduler, AsapScheduler}}}}, ::Tuple{Vector{Vector{Float64}}, Vector{FullNormal}})\n\u001b[0mClosest candidates are:\n\u001b[0m  update!(::AbstractVector{var\"#s347\"} where var\"#s347\"<:DataVariable, \u001b[91m::AbstractVector{T} where T\u001b[39m) at /Users/bvdmitri/.julia/packages/ReactiveMP/EEmeH/src/variables/data.jl:44",
     "output_type": "error",
     "traceback": [
      "MethodError: no method matching update!(::Vector{DataVariable{PointMass{Vector{Float64}}, Rocket.RecentSubjectInstance{Union{Message{Missing}, Message{PointMass{Vector{Float64}}}}, Subject{Union{Message{Missing}, Message{PointMass{Vector{Float64}}}}, AsapScheduler, AsapScheduler}}}}, ::Tuple{Vector{Vector{Float64}}, Vector{FullNormal}})\n\u001b[0mClosest candidates are:\n\u001b[0m  update!(::AbstractVector{var\"#s347\"} where var\"#s347\"<:DataVariable, \u001b[91m::AbstractVector{T} where T\u001b[39m) at /Users/bvdmitri/.julia/packages/ReactiveMP/EEmeH/src/variables/data.jl:44",
      "",
      "Stacktrace:",
      " [1] inference(data::Tuple{Vector{Vector{Float64}}, Vector{FullNormal}}, params::Dict{String, Real})",
      "   @ Main ./In[8]:43",
      " [2] top-level scope",
      "   @ In[9]:1",
      " [3] eval",
      "   @ ./boot.jl:360 [inlined]",
      " [4] include_string(mapexpr::typeof(REPL.softscope), mod::Module, code::String, filename::String)",
      "   @ Base ./loading.jl:1116"
     ]
    }
   ],
   "source": [
    "means_estimated, precs_estimated, mixing_estimated, fe = inference(y, params);"
   ]
  },
  {
   "cell_type": "code",
   "execution_count": 10,
   "metadata": {},
   "outputs": [
    {
     "ename": "LoadError",
     "evalue": "`Makie.convert_arguments` for the plot type Scatter{Tuple{Tuple{Vector{Float64}, FullNormal}, Tuple{Vector{Float64}, FullNormal}}} and its conversion trait PointBased() was unsuccessful.\n\nThe signature that could not be converted was:\n::Tuple{Vector{Float64}, FullNormal}, ::Tuple{Vector{Float64}, FullNormal}\n\nMakie needs to convert all plot input arguments to types that can be consumed by the backends (typically Arrays with Float32 elements).\nYou can define a method for `Makie.convert_arguments` (a type recipe) for these types or their supertypes to make this set of arguments convertible (See http://makie.juliaplots.org/stable/documentation/recipes/index.html).\n\nAlternatively, you can define `Makie.convert_single_argument` for single arguments which have types that are unknown to Makie but which can be converted to known types and fed back to the conversion pipeline.\n",
     "output_type": "error",
     "traceback": [
      "`Makie.convert_arguments` for the plot type Scatter{Tuple{Tuple{Vector{Float64}, FullNormal}, Tuple{Vector{Float64}, FullNormal}}} and its conversion trait PointBased() was unsuccessful.\n\nThe signature that could not be converted was:\n::Tuple{Vector{Float64}, FullNormal}, ::Tuple{Vector{Float64}, FullNormal}\n\nMakie needs to convert all plot input arguments to types that can be consumed by the backends (typically Arrays with Float32 elements).\nYou can define a method for `Makie.convert_arguments` (a type recipe) for these types or their supertypes to make this set of arguments convertible (See http://makie.juliaplots.org/stable/documentation/recipes/index.html).\n\nAlternatively, you can define `Makie.convert_single_argument` for single arguments which have types that are unknown to Makie but which can be converted to known types and fed back to the conversion pipeline.\n",
      "",
      "Stacktrace:",
      "  [1] error(s::String)",
      "    @ Base ./error.jl:33",
      "  [2] convert_arguments(::Type{Scatter{Tuple{Tuple{Vector{Float64}, FullNormal}, Tuple{Vector{Float64}, FullNormal}}}}, ::Tuple{Vector{Float64}, FullNormal}, ::Vararg{Tuple{Vector{Float64}, FullNormal}, N} where N; kw::Base.Iterators.Pairs{Union{}, Union{}, Tuple{}, NamedTuple{(), Tuple{}}})",
      "    @ Makie ~/.julia/packages/Makie/PFSZS/src/conversions.jl:17",
      "  [3] convert_arguments(::Type{Scatter{Tuple{Tuple{Vector{Float64}, FullNormal}, Tuple{Vector{Float64}, FullNormal}}}}, ::Tuple{Vector{Float64}, FullNormal}, ::Tuple{Vector{Float64}, FullNormal})",
      "    @ Makie ~/.julia/packages/Makie/PFSZS/src/conversions.jl:8",
      "  [4] plot!(::Scene, ::Type{Scatter{ArgType} where ArgType}, ::Attributes, ::Tuple{Vector{Float64}, FullNormal}, ::Vararg{Tuple{Vector{Float64}, FullNormal}, N} where N; kw_attributes::Base.Iterators.Pairs{Union{}, Union{}, Tuple{}, NamedTuple{(), Tuple{}}})",
      "    @ Makie ~/.julia/packages/Makie/PFSZS/src/interfaces.jl:321",
      "  [5] plot!(::Scene, ::Type{Scatter{ArgType} where ArgType}, ::Attributes, ::Tuple{Vector{Float64}, FullNormal}, ::Tuple{Vector{Float64}, FullNormal})",
      "    @ Makie ~/.julia/packages/Makie/PFSZS/src/interfaces.jl:308",
      "  [6] plot!(::Axis, ::Type{Scatter{ArgType} where ArgType}, ::Attributes, ::Tuple{Vector{Float64}, FullNormal}, ::Vararg{Tuple{Vector{Float64}, FullNormal}, N} where N; kw_attributes::Base.Iterators.Pairs{Union{}, Union{}, Tuple{}, NamedTuple{(), Tuple{}}})",
      "    @ Makie.MakieLayout ~/.julia/packages/Makie/PFSZS/src/makielayout/layoutables/axis.jl:658",
      "  [7] plot!(::Axis, ::Type{Scatter{ArgType} where ArgType}, ::Attributes, ::Tuple{Vector{Float64}, FullNormal}, ::Tuple{Vector{Float64}, FullNormal})",
      "    @ Makie.MakieLayout ~/.julia/packages/Makie/PFSZS/src/makielayout/layoutables/axis.jl:653",
      "  [8] plot!(::Type{Scatter{ArgType} where ArgType}, ::Axis, ::Tuple{Vector{Float64}, FullNormal}, ::Vararg{Tuple{Vector{Float64}, FullNormal}, N} where N; kw_attributes::Base.Iterators.Pairs{Symbol, Any, Tuple{Symbol, Symbol, Symbol}, NamedTuple{(:markersize, :color, :label), Tuple{Int64, Tuple{ColorTypes.RGBA{Float32}, Float64}, String}}})",
      "    @ Makie.MakieLayout ~/.julia/packages/Makie/PFSZS/src/makielayout/layoutables/axis.jl:670",
      "  [9] scatter!(::Axis, ::Vararg{Any, N} where N; attributes::Base.Iterators.Pairs{Symbol, Any, Tuple{Symbol, Symbol, Symbol}, NamedTuple{(:markersize, :color, :label), Tuple{Int64, Tuple{ColorTypes.RGBA{Float32}, Float64}, String}}})",
      "    @ MakieCore ~/.julia/packages/MakieCore/S8PkO/src/recipes.jl:35",
      " [10] top-level scope",
      "    @ In[10]:19",
      " [11] eval",
      "    @ ./boot.jl:360 [inlined]",
      " [12] include_string(mapexpr::typeof(REPL.softscope), mod::Module, code::String, filename::String)",
      "    @ Base ./loading.jl:1116"
     ]
    }
   ],
   "source": [
    "let\n",
    "    @unpack seed, nmixtures, cdistance, angle, niters = params\n",
    "    \n",
    "    sdim    = (n) -> (a) -> map(d -> d[n], a)\n",
    "    limits  = (-1.5cdistance, 1.5cdistance)\n",
    "    sigmoid = (x) -> 1 / (1 + exp(-x))\n",
    "\n",
    "    fig = Figure(resolution = (350, 350))\n",
    "    ax = Makie.Axis(fig[1, 1])\n",
    "\n",
    "    ax.xticks = [ -10, -5, 0, 5, 10 ]\n",
    "    ax.yticks = [ -10, -5, 0, 5, 10 ]\n",
    "\n",
    "    xlims!(ax, limits)\n",
    "    ylims!(ax, limits)\n",
    "\n",
    "    palette = fig.scene.palette.color[]\n",
    "\n",
    "    scatter!(ax, \n",
    "        y |> sdim(1), y |> sdim(2), \n",
    "        markersize = 6, color = (palette[1], 0.15), \n",
    "        label = \"Observations\"\n",
    "    )\n",
    "\n",
    "    e_means = mean.(means_estimated)\n",
    "    e_precs = mean.(precs_estimated)\n",
    "    crange  = range(-2cdistance, 2cdistance, step = 0.25)\n",
    "    mixing  = mean(mixing_estimated)\n",
    "\n",
    "    mixture = Distributions.MixtureModel(\n",
    "        map(e -> MvNormal(e[1], Matrix(Hermitian(inv(e[2])))), zip(e_means, e_precs)),\n",
    "        mixing\n",
    "    )\n",
    "\n",
    "    c = Makie.wong_colors()\n",
    "\n",
    "    cobj = contour!(ax, \n",
    "        crange, crange, (x, y) -> pdf(mixture, [ x, y ]), \n",
    "        levels = 7, colorbar = true, linewidth = 0.8, overdraw = true,\n",
    "        colormap = cgrad([ c[1], c[6], :red3 ])\n",
    "    )\n",
    "\n",
    "    # Colorbar(fig[1, 2], cobj)\n",
    "\n",
    "    @saveplot fig \"gmm_inference\"\n",
    "end"
   ]
  },
  {
   "cell_type": "markdown",
   "metadata": {},
   "source": [
    "As we can see our model correctly predicted the underlying means and precisions for the actual mixture components in our gaussian mixture distribution."
   ]
  },
  {
   "cell_type": "code",
   "execution_count": 11,
   "metadata": {},
   "outputs": [
    {
     "ename": "LoadError",
     "evalue": "UndefVarError: fe not defined",
     "output_type": "error",
     "traceback": [
      "UndefVarError: fe not defined",
      "",
      "Stacktrace:",
      " [1] top-level scope",
      "   @ In[11]:5",
      " [2] eval",
      "   @ ./boot.jl:360 [inlined]",
      " [3] include_string(mapexpr::typeof(REPL.softscope), mod::Module, code::String, filename::String)",
      "   @ Base ./loading.jl:1116"
     ]
    }
   ],
   "source": [
    "let\n",
    "    fig = Figure(resolution = (350, 350))\n",
    "    ax  = Makie.Axis(fig[1, 1])\n",
    "\n",
    "    lines!(ax, 1:length(fe), fe, linewidth = 2)\n",
    "\n",
    "    @saveplot fig \"gmm_fe\"\n",
    "end"
   ]
  },
  {
   "cell_type": "code",
   "execution_count": 12,
   "metadata": {},
   "outputs": [
    {
     "data": {
      "text/plain": [
       "run_benchmark (generic function with 1 method)"
      ]
     },
     "execution_count": 12,
     "metadata": {},
     "output_type": "execute_result"
    }
   ],
   "source": [
    "function run_benchmark(params)\n",
    "    @unpack n, niters, seed, nmixtures, cdistance, angle = params\n",
    "\n",
    "    y = generate_data(GMMModel(), params);\n",
    "\n",
    "    ms, ps, mixing, fe = inference(y, params);\n",
    "    benchmark = @benchmark inference($y, $params);\n",
    "\n",
    "    output = @strdict n niters seed nmixtures cdistance angle ms ps mixing fe benchmark\n",
    "\n",
    "    return output\n",
    "end\n"
   ]
  },
  {
   "cell_type": "code",
   "execution_count": 13,
   "metadata": {},
   "outputs": [],
   "source": [
    "# Here we create a list of parameters we want to run our benchmarks with\n",
    "benchmark_params = dict_list(Dict(\n",
    "    \"n\"      => [ 50, 100, 250, 500, 750, 1000, 1500, 2000 ],\n",
    "    \"niters\" => [ 5, 10, 15 ],\n",
    "    \"seed\"   => 42,\n",
    "    \"nmixtures\" => [ 4, 5, 6 ],\n",
    "    \"cdistance\" => 10,\n",
    "    \"angle\"     => 1.5π / 6\n",
    "));\n"
   ]
  },
  {
   "cell_type": "code",
   "execution_count": 14,
   "metadata": {},
   "outputs": [],
   "source": [
    "gmm_benchmarks = map(benchmark_params) do params\n",
    "    path = datadir(\"benchmark\", \"gmm\", \"rmp\")\n",
    "    result, _ = produce_or_load(path, params; tag = false) do p\n",
    "        run_benchmark(p)\n",
    "    end\n",
    "    return result\n",
    "end;"
   ]
  },
  {
   "cell_type": "code",
   "execution_count": 15,
   "metadata": {},
   "outputs": [
    {
     "data": {
      "text/plain": [
       "6"
      ]
     },
     "execution_count": 15,
     "metadata": {},
     "output_type": "execute_result"
    }
   ],
   "source": [
    "target_seed = 42\n",
    "target_niters = 15\n",
    "target_nmixtures = 6"
   ]
  },
  {
   "cell_type": "code",
   "execution_count": 16,
   "metadata": {},
   "outputs": [
    {
     "name": "stderr",
     "output_type": "stream",
     "text": [
      "┌ Info: Scanning folder /Users/bvdmitri/.julia/dev/ReactiveMPPaperExperiments/data/benchmark/gmm/rmp for result files.\n",
      "└ @ DrWatson /Users/bvdmitri/.julia/packages/DrWatson/OgRKj/src/result_collection.jl:107\n"
     ]
    },
    {
     "data": {
      "text/html": [
       "<div class=\"data-frame\"><p>8 rows × 3 columns</p><table class=\"data-frame\"><thead><tr><th></th><th>n</th><th>min</th><th>gctime</th></tr><tr><th></th><th title=\"Union{Missing, Int64}\">Int64?</th><th title=\"Union{Missing, String}\">String?</th><th title=\"Union{Missing, String}\">String?</th></tr></thead><tbody><tr><th>1</th><td>50</td><td>84.76ms</td><td>0.0%</td></tr><tr><th>2</th><td>100</td><td>172.53ms</td><td>0.0%</td></tr><tr><th>3</th><td>250</td><td>560.77ms</td><td>16.48%</td></tr><tr><th>4</th><td>500</td><td>1184.81ms</td><td>20.2%</td></tr><tr><th>5</th><td>750</td><td>1748.23ms</td><td>20.09%</td></tr><tr><th>6</th><td>1000</td><td>2325.84ms</td><td>20.53%</td></tr><tr><th>7</th><td>1500</td><td>3867.18ms</td><td>21.19%</td></tr><tr><th>8</th><td>2000</td><td>5048.88ms</td><td>22.55%</td></tr></tbody></table></div>"
      ],
      "text/latex": [
       "\\begin{tabular}{r|ccc}\n",
       "\t& n & min & gctime\\\\\n",
       "\t\\hline\n",
       "\t& Int64? & String? & String?\\\\\n",
       "\t\\hline\n",
       "\t1 & 50 & 84.76ms & 0.0\\% \\\\\n",
       "\t2 & 100 & 172.53ms & 0.0\\% \\\\\n",
       "\t3 & 250 & 560.77ms & 16.48\\% \\\\\n",
       "\t4 & 500 & 1184.81ms & 20.2\\% \\\\\n",
       "\t5 & 750 & 1748.23ms & 20.09\\% \\\\\n",
       "\t6 & 1000 & 2325.84ms & 20.53\\% \\\\\n",
       "\t7 & 1500 & 3867.18ms & 21.19\\% \\\\\n",
       "\t8 & 2000 & 5048.88ms & 22.55\\% \\\\\n",
       "\\end{tabular}\n"
      ],
      "text/plain": [
       "\u001b[1m8×3 DataFrame\u001b[0m\n",
       "\u001b[1m Row \u001b[0m│\u001b[1m n      \u001b[0m\u001b[1m min       \u001b[0m\u001b[1m gctime  \u001b[0m\n",
       "\u001b[1m     \u001b[0m│\u001b[90m Int64? \u001b[0m\u001b[90m String?   \u001b[0m\u001b[90m String? \u001b[0m\n",
       "─────┼────────────────────────────\n",
       "   1 │     50  84.76ms    0.0%\n",
       "   2 │    100  172.53ms   0.0%\n",
       "   3 │    250  560.77ms   16.48%\n",
       "   4 │    500  1184.81ms  20.2%\n",
       "   5 │    750  1748.23ms  20.09%\n",
       "   6 │   1000  2325.84ms  20.53%\n",
       "   7 │   1500  3867.18ms  21.19%\n",
       "   8 │   2000  5048.88ms  22.55%"
      ]
     },
     "execution_count": 16,
     "metadata": {},
     "output_type": "execute_result"
    }
   ],
   "source": [
    "let\n",
    "    path_smoothing = datadir(\"benchmark\", \"gmm\", \"rmp\")\n",
    "\n",
    "    white_list   = [ \"n\", \"niters\", \"seed\", \"nmixtures\" ]\n",
    "    special_list = [\n",
    "        :min => (data) -> string(\n",
    "            round(minimum(data[\"benchmark\"]).time / 1_000_000, digits = 2), \"ms\"\n",
    "        ),\n",
    "        :mean => (data) -> string(\n",
    "            round(mean(data[\"benchmark\"]).time / 1_000_000, digits = 2), \"ms\"\n",
    "        ),\n",
    "        :gctime => (data) -> string(\n",
    "            round(minimum(data[\"benchmark\"]).gctime / minimum(data[\"benchmark\"]).time * 100, digits = 2), \"%\"\n",
    "        )\n",
    "    ]\n",
    "\n",
    "    df_smoothing = collect_results(path_smoothing, \n",
    "        white_list = white_list,\n",
    "        special_list = special_list,\n",
    "        verbose = false\n",
    "    )\n",
    "\n",
    "    query_smoothing = @from row in df_smoothing begin\n",
    "        @where row.seed == target_seed && row.niters == target_niters && row.nmixtures == target_nmixtures\n",
    "        @orderby ascending(row.n)\n",
    "        @select { row.n, row.min, row.gctime }\n",
    "    end\n",
    "\n",
    "    DataFrame(query_smoothing)\n",
    "end"
   ]
  },
  {
   "cell_type": "code",
   "execution_count": null,
   "metadata": {},
   "outputs": [],
   "source": []
  }
 ],
 "metadata": {
  "kernelspec": {
   "display_name": "Julia 1.6.2",
   "language": "julia",
   "name": "julia-1.6"
  },
  "language_info": {
   "file_extension": ".jl",
   "mimetype": "application/julia",
   "name": "julia",
   "version": "1.6.2"
  }
 },
 "nbformat": 4,
 "nbformat_minor": 4
}
