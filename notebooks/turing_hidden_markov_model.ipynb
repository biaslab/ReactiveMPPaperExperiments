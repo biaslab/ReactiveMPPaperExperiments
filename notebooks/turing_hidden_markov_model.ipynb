{
 "cells": [
  {
   "cell_type": "code",
   "execution_count": 1,
   "metadata": {},
   "outputs": [],
   "source": [
    "using Revise\n",
    "using DrWatson"
   ]
  },
  {
   "cell_type": "code",
   "execution_count": 2,
   "metadata": {},
   "outputs": [],
   "source": [
    "@quickactivate :ReactiveMPPaperExperiments"
   ]
  },
  {
   "cell_type": "code",
   "execution_count": 3,
   "metadata": {},
   "outputs": [],
   "source": [
    "using CairoMakie # Plots related stuff\n",
    "using Turing, MCMCChains, Distributions, LinearAlgebra, Random # Bayesian Inference packages\n",
    "using BenchmarkTools, DataFrames, Query # Analysis tools\n",
    "\n",
    "import ReactiveMP # For collect_results"
   ]
  },
  {
   "cell_type": "markdown",
   "metadata": {},
   "source": [
    "In this section we want to compare results and performance of ReactiveMP.jl with another probabilistic programming library which is called Turing.jl. Turing is a general probabilistic programming toolbox and does not use message passing for inference procedure, but sampling. Message passing has an advantage over sampling approach for conjugate models (which our hidden markov model is) because it may fallback to analytically tractable update rules, where sampling cannot. "
   ]
  },
  {
   "cell_type": "markdown",
   "metadata": {},
   "source": [
    "### Data"
   ]
  },
  {
   "cell_type": "code",
   "execution_count": 4,
   "metadata": {},
   "outputs": [],
   "source": [
    "params = let\n",
    "    # Seed for reproducability\n",
    "    seed = 123\n",
    "    \n",
    "    # Number of samples in dataset\n",
    "    n = 50\n",
    "    \n",
    "    # Transition probabilities (some transitions are impossible)\n",
    "    A = [0.9 0.0 0.1; 0.1 0.9 0.0; 0.0 0.1 0.9]\n",
    "    \n",
    "    # Observation noise\n",
    "    B = [0.0 0.05 0.9; 0.05 0.9 0.05; 0.9 0.05 0.05] \n",
    "    \n",
    "    @strdict seed n A B\n",
    "end;"
   ]
  },
  {
   "cell_type": "code",
   "execution_count": 5,
   "metadata": {},
   "outputs": [],
   "source": [
    "z, y = generate_data(HMMModel(), params);"
   ]
  },
  {
   "cell_type": "code",
   "execution_count": 6,
   "metadata": {},
   "outputs": [
    {
     "data": {
      "image/png": "[encoded data removed]",
      "text/plain": [
       "Figure()"
      ]
     },
     "execution_count": 6,
     "metadata": {},
     "output_type": "execute_result"
    }
   ],
   "source": [
    "let \n",
    "    fig = Figure(resolution = (550, 350))\n",
    "    ax  = Axis(fig[1, 1])\n",
    "    \n",
    "    range = 1:length(z)\n",
    "    \n",
    "    scatter!(ax, range, argmax.(z), markersize = 8, label = \"Latent state\")\n",
    "    scatter!(ax, range, argmax.(y), markersize = 4, label = \"Observations\")\n",
    "    \n",
    "    axislegend(ax, position = :rb)\n",
    "    \n",
    "    fig\n",
    "end"
   ]
  },
  {
   "cell_type": "markdown",
   "metadata": {},
   "source": [
    "### Model specification"
   ]
  },
  {
   "cell_type": "code",
   "execution_count": 7,
   "metadata": {},
   "outputs": [
    {
     "data": {
      "text/plain": [
       "normalise (generic function with 1 method)"
      ]
     },
     "execution_count": 7,
     "metadata": {},
     "output_type": "execute_result"
    }
   ],
   "source": [
    "normalise(x) = x ./ sum(x)"
   ]
  },
  {
   "cell_type": "code",
   "execution_count": 8,
   "metadata": {},
   "outputs": [],
   "source": [
    "@model BayesHmm(y, K) = begin\n",
    "    # Get observation length.\n",
    "    N = length(y)\n",
    "\n",
    "    # State sequence.\n",
    "    z = Turing.tzeros(Int, N)\n",
    "\n",
    "    # Transition matrix.\n",
    "    A = Vector{Vector}(undef, K)\n",
    "\n",
    "    # Observations model matrix.\n",
    "    B = Vector{Vector}(undef, K)\n",
    "\n",
    "    # Assign distributions to each element of the transition matrix and the\n",
    "    # emission matrix.\n",
    "    for i = 1:K\n",
    "        A_c_prior = normalise(ones(K))\n",
    "        B_c_prior = ones(K)\n",
    "        B_c_prior[K - i + 1] = 10.0\n",
    "        B_c_prior = normalise(B_c_prior)\n",
    "        \n",
    "        A[i] ~ Dirichlet(A_c_prior)\n",
    "        B[i] ~ Dirichlet(B_c_prior)\n",
    "    end\n",
    "\n",
    "    # Observe each point of the input.\n",
    "    z[1] ~ Categorical(K)\n",
    "    y[1] ~ Categorical(vec(B[z[1]]))\n",
    "\n",
    "    for i = 2:N\n",
    "        z[i] ~ Categorical(vec(A[z[i - 1]]))\n",
    "        y[i] ~ Categorical(vec(B[z[i]]))\n",
    "    end\n",
    "end;"
   ]
  },
  {
   "cell_type": "markdown",
   "metadata": {},
   "source": [
    "### Inference"
   ]
  },
  {
   "cell_type": "code",
   "execution_count": 9,
   "metadata": {},
   "outputs": [
    {
     "data": {
      "text/plain": [
       "inference_turing (generic function with 1 method)"
      ]
     },
     "execution_count": 9,
     "metadata": {},
     "output_type": "execute_result"
    }
   ],
   "source": [
    "function inference_turing(observations; nsamples = 500, seed = 42)\n",
    "    rng     = MersenneTwister(seed)\n",
    "    sampler = Turing.Gibbs(Turing.HMC(0.1, 20, :A, :B), Turing.PG(40, :z))\n",
    "    return Turing.sample(rng, BayesHmm(observations, 3), sampler, nsamples)\n",
    "end"
   ]
  },
  {
   "cell_type": "code",
   "execution_count": 10,
   "metadata": {},
   "outputs": [
    {
     "name": "stderr",
     "output_type": "stream",
     "text": [
      "\u001b[32mSampling: 100%|█████████████████████████████████████████| Time: 0:03:10\u001b[39m\n"
     ]
    }
   ],
   "source": [
    "z_turing_estimated = inference_turing(argmax.(y));"
   ]
  },
  {
   "cell_type": "code",
   "execution_count": 11,
   "metadata": {},
   "outputs": [
    {
     "name": "stdout",
     "output_type": "stream",
     "text": [
      "Average MSE: 3.983999999999998\n"
     ]
    }
   ],
   "source": [
    "println(\"Average MSE: $(average_mse(z, z_turing_estimated, :z, Categorical))\")"
   ]
  },
  {
   "cell_type": "code",
   "execution_count": 12,
   "metadata": {},
   "outputs": [],
   "source": [
    "summary = Turing.summarize(z_turing_estimated, Turing.mean, Turing.std);"
   ]
  },
  {
   "cell_type": "code",
   "execution_count": 13,
   "metadata": {},
   "outputs": [],
   "source": [
    "turing_z_means = map(i -> summary[Symbol(\"z[$i]\")].nt.mean |> first, 1:length(z))\n",
    "turing_z_stds = map(i -> summary[Symbol(\"z[$i]\")].nt.std |> first, 1:length(z));"
   ]
  },
  {
   "cell_type": "code",
   "execution_count": 14,
   "metadata": {},
   "outputs": [
    {
     "data": {
      "image/png": "[encoded data removed]",
      "text/plain": [
       "Figure()"
      ]
     },
     "execution_count": 14,
     "metadata": {},
     "output_type": "execute_result"
    }
   ],
   "source": [
    "let\n",
    "    fig = Figure()\n",
    "\n",
    "    ax = Axis(fig[1, 1])\n",
    "    \n",
    "    range = 1:length(z)\n",
    "\n",
    "    lines!(ax, range, turing_z_means)\n",
    "    band!(ax, range, turing_z_means .- turing_z_stds, turing_z_means .+ turing_z_stds )\n",
    "    \n",
    "    scatter!(ax, range, argmax.(z), markersize = 8, label = \"Latent state\")\n",
    "    scatter!(ax, range, argmax.(y), markersize = 4, label = \"Observations\")\n",
    "\n",
    "    fig\n",
    "end"
   ]
  },
  {
   "cell_type": "markdown",
   "metadata": {},
   "source": [
    "### Benchmarking\n",
    "\n",
    "In this section we will benchmark inference performance with the help of BenchmarkTools package."
   ]
  },
  {
   "cell_type": "code",
   "execution_count": 19,
   "metadata": {},
   "outputs": [
    {
     "data": {
      "text/plain": [
       "run_benchmark (generic function with 1 method)"
      ]
     },
     "execution_count": 19,
     "metadata": {},
     "output_type": "execute_result"
    }
   ],
   "source": [
    "function run_benchmark(params)\n",
    "    @unpack n, nsamples, seed = params\n",
    "\n",
    "    # Transition probabilities (some transitions are impossible)\n",
    "    A = [0.9 0.0 0.1; 0.1 0.9 0.0; 0.0 0.1 0.9] \n",
    "    # Observation noise\n",
    "    B = [0.05 0.05 0.9; 0.05 0.9 0.05; 0.9 0.05 0.05] \n",
    "    \n",
    "    data_params = @strdict n seed A B\n",
    "\n",
    "    z, y           = generate_data(HMMModel(), data_params)\n",
    "    chain          = inference_turing(argmax.(y), nsamples = nsamples, seed = seed);\n",
    "    benchmark      = @benchmark inference_turing(argmax.($y), nsamples = $nsamples, seed = $seed);\n",
    "\n",
    "    amse = average_mse(z, chain, :z, Distributions.Categorical)\n",
    "        \n",
    "    @strdict n nsamples amse seed z y chain benchmark\n",
    "end"
   ]
  },
  {
   "cell_type": "code",
   "execution_count": 20,
   "metadata": {},
   "outputs": [],
   "source": [
    "benchmark_allparams = dict_list(Dict(\n",
    "    \"n\"        => [ 50, 100, 250 ],\n",
    "    \"nsamples\" => [ 250, 500 ],\n",
    "    \"seed\"     => 42,\n",
    "));"
   ]
  },
  {
   "cell_type": "code",
   "execution_count": 21,
   "metadata": {},
   "outputs": [
    {
     "name": "stderr",
     "output_type": "stream",
     "text": [
      "┌ Info: File /Users/bvdmitri/.julia/dev/ReactiveMPPaperExperiments/data/benchmark/hmm/turing/n=50_nsamples=250_seed=42.jld2 does not exist. Producing it now...\n",
      "└ @ DrWatson /Users/bvdmitri/.julia/packages/DrWatson/OgRKj/src/saving_files.jl:61\n",
      "\u001b[32mSampling: 100%|█████████████████████████████████████████| Time: 0:01:05\u001b[39m\n",
      "\u001b[32mSampling: 100%|█████████████████████████████████████████| Time: 0:01:08\u001b[39m\n",
      "\u001b[32mSampling: 100%|█████████████████████████████████████████| Time: 0:01:06\u001b[39m\n",
      "\u001b[32mSampling: 100%|█████████████████████████████████████████| Time: 0:01:06\u001b[39m\n",
      "\u001b[32mSampling: 100%|█████████████████████████████████████████| Time: 0:01:03\u001b[39m\n",
      "┌ Info: File /Users/bvdmitri/.julia/dev/ReactiveMPPaperExperiments/data/benchmark/hmm/turing/n=50_nsamples=250_seed=42.jld2 saved.\n",
      "└ @ DrWatson /Users/bvdmitri/.julia/packages/DrWatson/OgRKj/src/saving_files.jl:70\n",
      "┌ Info: File /Users/bvdmitri/.julia/dev/ReactiveMPPaperExperiments/data/benchmark/hmm/turing/n=50_nsamples=500_seed=42.jld2 does not exist. Producing it now...\n",
      "└ @ DrWatson /Users/bvdmitri/.julia/packages/DrWatson/OgRKj/src/saving_files.jl:61\n",
      "\u001b[32mSampling: 100%|█████████████████████████████████████████| Time: 0:02:10\u001b[39m\n",
      "\u001b[32mSampling: 100%|█████████████████████████████████████████| Time: 0:02:20\u001b[39m\n",
      "\u001b[32mSampling: 100%|█████████████████████████████████████████| Time: 0:02:13\u001b[39m\n",
      "\u001b[32mSampling: 100%|█████████████████████████████████████████| Time: 0:02:11\u001b[39m\n",
      "\u001b[32mSampling: 100%|█████████████████████████████████████████| Time: 0:02:12\u001b[39m\n",
      "┌ Info: File /Users/bvdmitri/.julia/dev/ReactiveMPPaperExperiments/data/benchmark/hmm/turing/n=50_nsamples=500_seed=42.jld2 saved.\n",
      "└ @ DrWatson /Users/bvdmitri/.julia/packages/DrWatson/OgRKj/src/saving_files.jl:70\n",
      "┌ Info: File /Users/bvdmitri/.julia/dev/ReactiveMPPaperExperiments/data/benchmark/hmm/turing/n=100_nsamples=250_seed=42.jld2 does not exist. Producing it now...\n",
      "└ @ DrWatson /Users/bvdmitri/.julia/packages/DrWatson/OgRKj/src/saving_files.jl:61\n",
      "\u001b[32mSampling: 100%|█████████████████████████████████████████| Time: 0:03:32\u001b[39m\n",
      "\u001b[32mSampling: 100%|█████████████████████████████████████████| Time: 0:03:38\u001b[39m\n",
      "\u001b[32mSampling: 100%|█████████████████████████████████████████| Time: 0:03:45\u001b[39m\n",
      "\u001b[32mSampling: 100%|█████████████████████████████████████████| Time: 0:03:02\u001b[39m\n",
      "\u001b[32mSampling: 100%|█████████████████████████████████████████| Time: 0:03:04\u001b[39m\n",
      "┌ Info: File /Users/bvdmitri/.julia/dev/ReactiveMPPaperExperiments/data/benchmark/hmm/turing/n=100_nsamples=250_seed=42.jld2 saved.\n",
      "└ @ DrWatson /Users/bvdmitri/.julia/packages/DrWatson/OgRKj/src/saving_files.jl:70\n",
      "┌ Info: File /Users/bvdmitri/.julia/dev/ReactiveMPPaperExperiments/data/benchmark/hmm/turing/n=100_nsamples=500_seed=42.jld2 does not exist. Producing it now...\n",
      "└ @ DrWatson /Users/bvdmitri/.julia/packages/DrWatson/OgRKj/src/saving_files.jl:61\n",
      "\u001b[32mSampling: 100%|█████████████████████████████████████████| Time: 0:06:33\u001b[39m\n",
      "\u001b[32mSampling: 100%|█████████████████████████████████████████| Time: 0:06:07\u001b[39m\n",
      "\u001b[32mSampling: 100%|█████████████████████████████████████████| Time: 0:06:07\u001b[39m\n",
      "\u001b[32mSampling: 100%|█████████████████████████████████████████| Time: 0:06:38\u001b[39m\n",
      "\u001b[32mSampling: 100%|█████████████████████████████████████████| Time: 0:06:17\u001b[39m\n",
      "┌ Info: File /Users/bvdmitri/.julia/dev/ReactiveMPPaperExperiments/data/benchmark/hmm/turing/n=100_nsamples=500_seed=42.jld2 saved.\n",
      "└ @ DrWatson /Users/bvdmitri/.julia/packages/DrWatson/OgRKj/src/saving_files.jl:70\n",
      "┌ Info: File /Users/bvdmitri/.julia/dev/ReactiveMPPaperExperiments/data/benchmark/hmm/turing/n=250_nsamples=250_seed=42.jld2 does not exist. Producing it now...\n",
      "└ @ DrWatson /Users/bvdmitri/.julia/packages/DrWatson/OgRKj/src/saving_files.jl:61\n",
      "\u001b[32mSampling: 100%|█████████████████████████████████████████| Time: 0:13:34\u001b[39m\n",
      "\u001b[32mSampling: 100%|█████████████████████████████████████████| Time: 0:13:23\u001b[39m\n",
      "\u001b[32mSampling: 100%|█████████████████████████████████████████| Time: 0:13:08\u001b[39m\n",
      "\u001b[32mSampling: 100%|█████████████████████████████████████████| Time: 0:13:41\u001b[39m\n",
      "\u001b[32mSampling: 100%|█████████████████████████████████████████| Time: 0:16:11\u001b[39m\n",
      "┌ Info: File /Users/bvdmitri/.julia/dev/ReactiveMPPaperExperiments/data/benchmark/hmm/turing/n=250_nsamples=250_seed=42.jld2 saved.\n",
      "└ @ DrWatson /Users/bvdmitri/.julia/packages/DrWatson/OgRKj/src/saving_files.jl:70\n",
      "┌ Info: File /Users/bvdmitri/.julia/dev/ReactiveMPPaperExperiments/data/benchmark/hmm/turing/n=250_nsamples=500_seed=42.jld2 does not exist. Producing it now...\n",
      "└ @ DrWatson /Users/bvdmitri/.julia/packages/DrWatson/OgRKj/src/saving_files.jl:61\n",
      "\u001b[32mSampling: 100%|█████████████████████████████████████████| Time: 0:30:34\u001b[39m\n",
      "\u001b[32mSampling: 100%|█████████████████████████████████████████| Time: 0:28:01\u001b[39m\n",
      "\u001b[32mSampling: 100%|█████████████████████████████████████████| Time: 0:22:03\u001b[39m\n",
      "\u001b[32mSampling: 100%|█████████████████████████████████████████| Time: 0:29:57\u001b[39m\n",
      "\u001b[32mSampling: 100%|█████████████████████████████████████████| Time: 0:30:26\u001b[39m\n",
      "┌ Info: File /Users/bvdmitri/.julia/dev/ReactiveMPPaperExperiments/data/benchmark/hmm/turing/n=250_nsamples=500_seed=42.jld2 saved.\n",
      "└ @ DrWatson /Users/bvdmitri/.julia/packages/DrWatson/OgRKj/src/saving_files.jl:70\n"
     ]
    }
   ],
   "source": [
    "turing_benchmarks = map(benchmark_allparams) do params\n",
    "    path = datadir(\"benchmark\", \"hmm\", \"turing\")\n",
    "    result, _ = produce_or_load(path, params, run_benchmark, tag = false)\n",
    "    return result\n",
    "end;"
   ]
  },
  {
   "cell_type": "code",
   "execution_count": 22,
   "metadata": {},
   "outputs": [
    {
     "data": {
      "text/plain": [
       "500"
      ]
     },
     "execution_count": 22,
     "metadata": {},
     "output_type": "execute_result"
    }
   ],
   "source": [
    "target_seed = 42\n",
    "target_nsamples = 500"
   ]
  },
  {
   "cell_type": "code",
   "execution_count": 23,
   "metadata": {},
   "outputs": [
    {
     "name": "stderr",
     "output_type": "stream",
     "text": [
      "┌ Info: Scanning folder /Users/bvdmitri/.julia/dev/ReactiveMPPaperExperiments/data/benchmark/hmm/turing for result files.\n",
      "└ @ DrWatson /Users/bvdmitri/.julia/packages/DrWatson/OgRKj/src/result_collection.jl:107\n"
     ]
    },
    {
     "data": {
      "text/html": [
       "<div class=\"data-frame\"><p>3 rows × 4 columns</p><table class=\"data-frame\"><thead><tr><th></th><th>n</th><th>min</th><th>gctime</th><th>amse</th></tr><tr><th></th><th title=\"Union{Missing, Int64}\">Int64?</th><th title=\"Union{Missing, String}\">String?</th><th title=\"Union{Missing, String}\">String?</th><th title=\"Union{Missing, Float64}\">Float64?</th></tr></thead><tbody><tr><th>1</th><td>50</td><td>132994.51ms</td><td>3.06%</td><td>14.36</td></tr><tr><th>2</th><td>100</td><td>379222.44ms</td><td>5.19%</td><td>13.872</td></tr><tr><th>3</th><td>250</td><td>1.83237911e6ms</td><td>15.23%</td><td>40.67</td></tr></tbody></table></div>"
      ],
      "text/latex": [
       "\\begin{tabular}{r|cccc}\n",
       "\t& n & min & gctime & amse\\\\\n",
       "\t\\hline\n",
       "\t& Int64? & String? & String? & Float64?\\\\\n",
       "\t\\hline\n",
       "\t1 & 50 & 132994.51ms & 3.06\\% & 14.36 \\\\\n",
       "\t2 & 100 & 379222.44ms & 5.19\\% & 13.872 \\\\\n",
       "\t3 & 250 & 1.83237911e6ms & 15.23\\% & 40.67 \\\\\n",
       "\\end{tabular}\n"
      ],
      "text/plain": [
       "\u001b[1m3×4 DataFrame\u001b[0m\n",
       "\u001b[1m Row \u001b[0m│\u001b[1m n      \u001b[0m\u001b[1m min            \u001b[0m\u001b[1m gctime  \u001b[0m\u001b[1m amse     \u001b[0m\n",
       "\u001b[1m     \u001b[0m│\u001b[90m Int64? \u001b[0m\u001b[90m String?        \u001b[0m\u001b[90m String? \u001b[0m\u001b[90m Float64? \u001b[0m\n",
       "─────┼───────────────────────────────────────────\n",
       "   1 │     50  132994.51ms     3.06%      14.36\n",
       "   2 │    100  379222.44ms     5.19%      13.872\n",
       "   3 │    250  1.83237911e6ms  15.23%     40.67"
      ]
     },
     "execution_count": 23,
     "metadata": {},
     "output_type": "execute_result"
    }
   ],
   "source": [
    "let\n",
    "    path_smoothing = datadir(\"benchmark\", \"hmm\", \"turing\")\n",
    "\n",
    "    white_list   = [ \"n\", \"nsamples\", \"seed\", \"amse\" ]\n",
    "    special_list = [\n",
    "        :min => (data) -> string(\n",
    "            round(minimum(data[\"benchmark\"]).time / 1_000_000, digits = 2), \"ms\"\n",
    "        ),\n",
    "        :mean => (data) -> string(\n",
    "            round(mean(data[\"benchmark\"]).time / 1_000_000, digits = 2), \"ms\"\n",
    "        ),\n",
    "        :gctime => (data) -> string(\n",
    "            round(minimum(data[\"benchmark\"]).gctime / minimum(data[\"benchmark\"]).time * 100, digits = 2), \"%\"\n",
    "        )\n",
    "    ]\n",
    "\n",
    "    df_smoothing = collect_results(path_smoothing, \n",
    "        white_list = white_list,\n",
    "        special_list = special_list,\n",
    "        verbose = false\n",
    "    )\n",
    "\n",
    "    query_smoothing = @from row in df_smoothing begin\n",
    "        @where row.seed == target_seed && row.nsamples == target_nsamples\n",
    "        @orderby ascending(row.n)\n",
    "        @select { row.n, row.min, row.gctime, row.amse }\n",
    "    end\n",
    "\n",
    "    DataFrame(query_smoothing)\n",
    "end"
   ]
  },
  {
   "cell_type": "code",
   "execution_count": null,
   "metadata": {},
   "outputs": [],
   "source": []
  }
 ],
 "metadata": {
  "kernelspec": {
   "display_name": "Julia 1.6.2",
   "language": "julia",
   "name": "julia-1.6"
  },
  "language_info": {
   "file_extension": ".jl",
   "mimetype": "application/julia",
   "name": "julia",
   "version": "1.6.2"
  }
 },
 "nbformat": 4,
 "nbformat_minor": 4
}
