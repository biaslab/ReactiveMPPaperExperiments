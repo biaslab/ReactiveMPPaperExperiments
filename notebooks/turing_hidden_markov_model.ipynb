{
 "cells": [
  {
   "cell_type": "code",
   "execution_count": 1,
   "metadata": {},
   "outputs": [],
   "source": [
    "using Revise\n",
    "using DrWatson"
   ]
  },
  {
   "cell_type": "code",
   "execution_count": 2,
   "metadata": {},
   "outputs": [],
   "source": [
    "@quickactivate :ReactiveMPPaperExperiments"
   ]
  },
  {
   "cell_type": "code",
   "execution_count": 3,
   "metadata": {},
   "outputs": [
    {
     "data": {
      "text/plain": [
       "true"
      ]
     },
     "execution_count": 3,
     "metadata": {},
     "output_type": "execute_result"
    }
   ],
   "source": [
    "using CairoMakie # Plots related stuff\n",
    "using Turing, MCMCChains, Distributions, LinearAlgebra, Random # Bayesian Inference packages\n",
    "using BenchmarkTools, DataFrames, Query # Analysis tools\n",
    "\n",
    "using ReverseDiff, Memoization\n",
    "\n",
    "Turing.setadbackend(:reversediff)\n",
    "Turing.setrdcache(true)"
   ]
  },
  {
   "cell_type": "markdown",
   "metadata": {},
   "source": [
    "In this section we want to compare results and performance of ReactiveMP.jl with another probabilistic programming library which is called Turing.jl. Turing is a general probabilistic programming toolbox and does not use message passing for inference procedure, but sampling. Message passing has an advantage over sampling approach for conjugate models (which our hidden markov model is) because it may fallback to analytically tractable update rules, where sampling cannot. "
   ]
  },
  {
   "cell_type": "markdown",
   "metadata": {},
   "source": [
    "### Data"
   ]
  },
  {
   "cell_type": "code",
   "execution_count": 4,
   "metadata": {},
   "outputs": [],
   "source": [
    "params = let\n",
    "    # Seed for reproducability\n",
    "    seed = 123\n",
    "    \n",
    "    # Number of samples in dataset\n",
    "    n = 50\n",
    "    \n",
    "    # Transition probabilities (some transitions are impossible)\n",
    "    A = [0.9 0.0 0.1; 0.1 0.9 0.0; 0.0 0.1 0.9]\n",
    "    \n",
    "    # Observation noise\n",
    "    B = [0.0 0.05 0.9; 0.05 0.9 0.05; 0.9 0.05 0.05] \n",
    "    \n",
    "    @strdict seed n A B\n",
    "end;"
   ]
  },
  {
   "cell_type": "code",
   "execution_count": 5,
   "metadata": {},
   "outputs": [],
   "source": [
    "z, y = generate_data(HMMModel(), params);"
   ]
  },
  {
   "cell_type": "code",
   "execution_count": 6,
   "metadata": {},
   "outputs": [
    {
     "data": {
      "image/png": "[encoded data removed]",
      "text/plain": [
       "Figure()"
      ]
     },
     "execution_count": 6,
     "metadata": {},
     "output_type": "execute_result"
    }
   ],
   "source": [
    "let \n",
    "    fig = Figure(resolution = (550, 350))\n",
    "    ax  = Axis(fig[1, 1])\n",
    "    \n",
    "    range = 1:length(z)\n",
    "    \n",
    "    scatter!(ax, range, argmax.(z), markersize = 8, label = \"Latent state\")\n",
    "    scatter!(ax, range, argmax.(y), markersize = 4, label = \"Observations\")\n",
    "    \n",
    "    axislegend(ax, position = :rb)\n",
    "    \n",
    "    fig\n",
    "end"
   ]
  },
  {
   "cell_type": "markdown",
   "metadata": {},
   "source": [
    "### Model specification"
   ]
  },
  {
   "cell_type": "code",
   "execution_count": 7,
   "metadata": {},
   "outputs": [
    {
     "data": {
      "text/plain": [
       "normalise (generic function with 1 method)"
      ]
     },
     "execution_count": 7,
     "metadata": {},
     "output_type": "execute_result"
    }
   ],
   "source": [
    "normalise(x) = x ./ sum(x)"
   ]
  },
  {
   "cell_type": "code",
   "execution_count": 8,
   "metadata": {},
   "outputs": [],
   "source": [
    "@model BayesHmm(y, K, A_prior, B_prior, ::Type{T} = Float64) where { T } = begin\n",
    "    # Get observation length.\n",
    "    N = length(y)\n",
    "\n",
    "    # State sequence.\n",
    "    z = Turing.tzeros(Int, N)\n",
    "\n",
    "    # Transition matrix.\n",
    "    A = Vector{Vector{T}}(undef, K)\n",
    "\n",
    "    # Observations model matrix.\n",
    "    B = Vector{Vector{T}}(undef, K)\n",
    "\n",
    "    # Assign distributions to each element of the transition matrix and the\n",
    "    # emission matrix.\n",
    "    for i = 1:K\n",
    "        A[i] ~ Dirichlet(A_prior[i])\n",
    "        B[i] ~ Dirichlet(B_prior[i])\n",
    "    end\n",
    "\n",
    "    # Observe each point of the input.\n",
    "    z[1] ~ Categorical(K)\n",
    "    y[1] ~ Categorical(vec(B[z[1]]))\n",
    "\n",
    "    for i = 2:N\n",
    "        z[i] ~ Categorical(vec(A[z[i - 1]]))\n",
    "        y[i] ~ Categorical(vec(B[z[i]]))\n",
    "    end\n",
    "end;"
   ]
  },
  {
   "cell_type": "markdown",
   "metadata": {},
   "source": [
    "### Inference"
   ]
  },
  {
   "cell_type": "code",
   "execution_count": 9,
   "metadata": {},
   "outputs": [
    {
     "data": {
      "text/plain": [
       "inference_turing (generic function with 1 method)"
      ]
     },
     "execution_count": 9,
     "metadata": {},
     "output_type": "execute_result"
    }
   ],
   "source": [
    "function inference_turing(observations; nsamples = 500, seed = 42)\n",
    "    Random.seed!(seed)\n",
    "    \n",
    "    K = 3\n",
    "    \n",
    "    A_prior = Vector{Vector{Float64}}(undef, K)\n",
    "    B_prior = Vector{Vector{Float64}}(undef, K)\n",
    "    \n",
    "    for i in 1:K\n",
    "        A_c_prior = normalise(ones(K))\n",
    "        B_c_prior = ones(K)\n",
    "        B_c_prior[K - i + 1] = 10.0\n",
    "        B_c_prior = normalise(B_c_prior)\n",
    "        \n",
    "        A_prior[i] = A_c_prior\n",
    "        B_prior[i] = B_c_prior\n",
    "    end\n",
    "    \n",
    "    rng     = MersenneTwister(seed)\n",
    "    sampler = Turing.Gibbs(\n",
    "        Turing.HMC{Turing.ForwardDiffAD{1}}(0.01, 10, :A, :B), \n",
    "        Turing.PG(20, :z)\n",
    "    )\n",
    "    return Turing.sample(rng, BayesHmm(observations, K, A_prior, B_prior), sampler, nsamples)\n",
    "end"
   ]
  },
  {
   "cell_type": "code",
   "execution_count": 10,
   "metadata": {},
   "outputs": [
    {
     "name": "stderr",
     "output_type": "stream",
     "text": [
      "\u001b[32mSampling: 100%|█████████████████████████████████████████| Time: 0:01:32\u001b[39m\n"
     ]
    }
   ],
   "source": [
    "z_turing_estimated = inference_turing(argmax.(y));"
   ]
  },
  {
   "cell_type": "code",
   "execution_count": 11,
   "metadata": {},
   "outputs": [
    {
     "name": "stdout",
     "output_type": "stream",
     "text": [
      "Average MSE: 4.742\n"
     ]
    }
   ],
   "source": [
    "println(\"Average MSE: $(average_mse(z, z_turing_estimated, :z, Categorical))\")"
   ]
  },
  {
   "cell_type": "code",
   "execution_count": 12,
   "metadata": {},
   "outputs": [],
   "source": [
    "summary = Turing.summarize(z_turing_estimated, Turing.mean, Turing.std);"
   ]
  },
  {
   "cell_type": "code",
   "execution_count": 13,
   "metadata": {},
   "outputs": [],
   "source": [
    "turing_z_means = map(i -> summary[Symbol(\"z[$i]\")].nt.mean |> first, 1:length(z))\n",
    "turing_z_stds = map(i -> summary[Symbol(\"z[$i]\")].nt.std |> first, 1:length(z));"
   ]
  },
  {
   "cell_type": "code",
   "execution_count": 14,
   "metadata": {},
   "outputs": [
    {
     "data": {
      "image/png": "[encoded data removed]",
      "text/plain": [
       "Figure()"
      ]
     },
     "execution_count": 14,
     "metadata": {},
     "output_type": "execute_result"
    }
   ],
   "source": [
    "let\n",
    "    fig = Figure()\n",
    "\n",
    "    ax = Axis(fig[1, 1])\n",
    "    \n",
    "    range = 1:length(z)\n",
    "\n",
    "    lines!(ax, range, turing_z_means)\n",
    "    band!(ax, range, turing_z_means .- turing_z_stds, turing_z_means .+ turing_z_stds )\n",
    "    \n",
    "    scatter!(ax, range, argmax.(z), markersize = 8, label = \"Latent state\")\n",
    "    scatter!(ax, range, argmax.(y), markersize = 4, label = \"Observations\")\n",
    "\n",
    "    fig\n",
    "end"
   ]
  },
  {
   "cell_type": "markdown",
   "metadata": {},
   "source": [
    "### Benchmarking\n",
    "\n",
    "In this section we will benchmark inference performance with the help of BenchmarkTools package."
   ]
  },
  {
   "cell_type": "code",
   "execution_count": 15,
   "metadata": {},
   "outputs": [
    {
     "data": {
      "text/plain": [
       "make_benchmark_data (generic function with 1 method)"
      ]
     },
     "execution_count": 15,
     "metadata": {},
     "output_type": "execute_result"
    }
   ],
   "source": [
    "function make_benchmark_data(n, seed)\n",
    "    # Transition probabilities (some transitions are impossible)\n",
    "    A = [0.9 0.0 0.1; 0.1 0.9 0.0; 0.0 0.1 0.9] \n",
    "    # Observation noise\n",
    "    B = [0.05 0.05 0.9; 0.05 0.9 0.05; 0.9 0.05 0.05] \n",
    "    \n",
    "    params = @strdict n seed A B\n",
    "    \n",
    "    z, y = generate_data(HMMModel(), params)\n",
    "    \n",
    "    return z, y, params\n",
    "end"
   ]
  },
  {
   "cell_type": "code",
   "execution_count": 16,
   "metadata": {},
   "outputs": [
    {
     "data": {
      "text/plain": [
       "run_benchmark (generic function with 1 method)"
      ]
     },
     "execution_count": 16,
     "metadata": {},
     "output_type": "execute_result"
    }
   ],
   "source": [
    "function run_benchmark(params)\n",
    "    @unpack n, nsamples, seed = params\n",
    "\n",
    "    z, y, params   = make_benchmark_data(n, seed)\n",
    "    chain          = inference_turing(argmax.(y), nsamples = nsamples, seed = seed);\n",
    "    benchmark      = @benchmark inference_turing(argmax.($y), nsamples = $nsamples, seed = $seed);\n",
    "\n",
    "    amse = average_mse(z, chain, :z, Distributions.Categorical)\n",
    "    \n",
    "    emse_range = seed:(seed + 10)\n",
    "    \n",
    "    emse = 1.0 / length(emse_range) * mapreduce(+, emse_range) do _seed\n",
    "        z, y, params = make_benchmark_data(n, _seed)\n",
    "        chain        = inference_turing(argmax.(y), nsamples = nsamples, seed = _seed);\n",
    "        return average_mse(z, chain, :z, Distributions.Categorical)\n",
    "    end\n",
    "        \n",
    "    @strdict n nsamples amse emse seed z y chain benchmark\n",
    "end"
   ]
  },
  {
   "cell_type": "code",
   "execution_count": 17,
   "metadata": {},
   "outputs": [],
   "source": [
    "benchmark_allparams = dict_list(Dict(\n",
    "    \"n\"        => [ 50, 100, 250 ],\n",
    "    \"nsamples\" => [ 250, 500 ],\n",
    "    \"seed\"     => 42,\n",
    "));"
   ]
  },
  {
   "cell_type": "code",
   "execution_count": 18,
   "metadata": {},
   "outputs": [],
   "source": [
    "turing_benchmarks = map(benchmark_allparams) do params\n",
    "    path = datadir(\"benchmark\", \"hmm\", \"turing\")\n",
    "    result, _ = produce_or_load(path, params, run_benchmark, tag = false)\n",
    "    return result\n",
    "end;"
   ]
  },
  {
   "cell_type": "code",
   "execution_count": 19,
   "metadata": {},
   "outputs": [
    {
     "data": {
      "text/plain": [
       "500"
      ]
     },
     "execution_count": 19,
     "metadata": {},
     "output_type": "execute_result"
    }
   ],
   "source": [
    "target_seed = 42\n",
    "target_nsamples = 500"
   ]
  },
  {
   "cell_type": "code",
   "execution_count": 20,
   "metadata": {},
   "outputs": [
    {
     "data": {
      "text/html": [
       "<div class=\"data-frame\"><p>3 rows × 5 columns</p><table class=\"data-frame\"><thead><tr><th></th><th>n</th><th>min</th><th>gctime</th><th>amse_n</th><th>emse_n</th></tr><tr><th></th><th title=\"Int64\">Int64</th><th title=\"String\">String</th><th title=\"String\">String</th><th title=\"String\">String</th><th title=\"String\">String</th></tr></thead><tbody><tr><th>1</th><td>50</td><td>70180.51ms</td><td>2.35%</td><td>0.03</td><td>0.51</td></tr><tr><th>2</th><td>100</td><td>186293.54ms</td><td>3.73%</td><td>0.11</td><td>0.49</td></tr><tr><th>3</th><td>250</td><td>783850.62ms</td><td>9.05%</td><td>0.3</td><td>0.51</td></tr></tbody></table></div>"
      ],
      "text/latex": [
       "\\begin{tabular}{r|ccccc}\n",
       "\t& n & min & gctime & amse\\_n & emse\\_n\\\\\n",
       "\t\\hline\n",
       "\t& Int64 & String & String & String & String\\\\\n",
       "\t\\hline\n",
       "\t1 & 50 & 70180.51ms & 2.35\\% & 0.03 & 0.51 \\\\\n",
       "\t2 & 100 & 186293.54ms & 3.73\\% & 0.11 & 0.49 \\\\\n",
       "\t3 & 250 & 783850.62ms & 9.05\\% & 0.3 & 0.51 \\\\\n",
       "\\end{tabular}\n"
      ],
      "text/plain": [
       "\u001b[1m3×5 DataFrame\u001b[0m\n",
       "\u001b[1m Row \u001b[0m│\u001b[1m n     \u001b[0m\u001b[1m min         \u001b[0m\u001b[1m gctime \u001b[0m\u001b[1m amse_n \u001b[0m\u001b[1m emse_n \u001b[0m\n",
       "\u001b[1m     \u001b[0m│\u001b[90m Int64 \u001b[0m\u001b[90m String      \u001b[0m\u001b[90m String \u001b[0m\u001b[90m String \u001b[0m\u001b[90m String \u001b[0m\n",
       "─────┼────────────────────────────────────────────\n",
       "   1 │    50  70180.51ms   2.35%   0.03    0.51\n",
       "   2 │   100  186293.54ms  3.73%   0.11    0.49\n",
       "   3 │   250  783850.62ms  9.05%   0.3     0.51"
      ]
     },
     "execution_count": 20,
     "metadata": {},
     "output_type": "execute_result"
    }
   ],
   "source": [
    "let\n",
    "\n",
    "    white_list   = [ \"n\", \"nsamples\", \"seed\", \"amse\" ]\n",
    "    special_list = [\n",
    "        :min => (data) -> string(round(minimum(data[\"benchmark\"]).time / 1_000_000, digits = 2), \"ms\"),\n",
    "        :mean => (data) -> string(round(mean(data[\"benchmark\"]).time / 1_000_000, digits = 2), \"ms\"),\n",
    "        :gctime => (data) -> string(round(minimum(data[\"benchmark\"]).gctime / minimum(data[\"benchmark\"]).time * 100, digits = 2), \"%\"),\n",
    "        :amse_n => (data) -> string(round(data[\"amse\"] / data[\"n\"], digits = 2)),\n",
    "        :emse_n => (data) -> string(round(data[\"emse\"] / data[\"n\"], digits = 2))\n",
    "    ]\n",
    "\n",
    "    df_smoothing = collect_benchmarks(turing_benchmarks, white_list = white_list, special_list = special_list)\n",
    "\n",
    "    query_smoothing = @from row in df_smoothing begin\n",
    "        @where row.seed == target_seed && row.nsamples == target_nsamples\n",
    "        @orderby ascending(row.n)\n",
    "        @select { row.n, row.min, row.gctime, row.amse_n, row.emse_n }\n",
    "    end\n",
    "\n",
    "    DataFrame(query_smoothing)\n",
    "end"
   ]
  },
  {
   "cell_type": "code",
   "execution_count": null,
   "metadata": {},
   "outputs": [],
   "source": []
  }
 ],
 "metadata": {
  "kernelspec": {
   "display_name": "Julia 1.6.3",
   "language": "julia",
   "name": "julia-1.6"
  },
  "language_info": {
   "file_extension": ".jl",
   "mimetype": "application/julia",
   "name": "julia",
   "version": "1.6.4"
  }
 },
 "nbformat": 4,
 "nbformat_minor": 4
}
