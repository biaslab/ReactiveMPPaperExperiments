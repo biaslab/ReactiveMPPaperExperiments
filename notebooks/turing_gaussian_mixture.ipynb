{
 "cells": [
  {
   "cell_type": "code",
   "execution_count": 1,
   "metadata": {},
   "outputs": [],
   "source": [
    "using Revise\n",
    "using DrWatson"
   ]
  },
  {
   "cell_type": "code",
   "execution_count": 2,
   "metadata": {},
   "outputs": [
    {
     "name": "stderr",
     "output_type": "stream",
     "text": [
      "┌ Info: Precompiling ReactiveMPPaperExperiments [adcd1038-27e6-4580-819b-caa5dba07e45]\n",
      "└ @ Base loading.jl:1342\n",
      "┌ Info: Precompiling NamedArrays [86f7a689-2022-50b4-a561-43c23ac3c673]\n",
      "└ @ Base loading.jl:1342\n"
     ]
    }
   ],
   "source": [
    "@quickactivate :ReactiveMPPaperExperiments"
   ]
  },
  {
   "cell_type": "code",
   "execution_count": null,
   "metadata": {},
   "outputs": [
    {
     "name": "stderr",
     "output_type": "stream",
     "text": [
      "┌ Info: Precompiling CairoMakie [13f3f980-e62b-5c42-98c6-ff1f3baf88f0]\n",
      "└ @ Base loading.jl:1342\n",
      "\u001b[33m\u001b[1m┌ \u001b[22m\u001b[39m\u001b[33m\u001b[1mWarning: \u001b[22m\u001b[39mThe call to compilecache failed to create a usable precompiled cache file for MathTeXEngine [0a4f8689-d25c-4efe-a92b-7142dfc1aa53]\n",
      "\u001b[33m\u001b[1m│ \u001b[22m\u001b[39m  exception = Required dependency GeometryBasics [5c1252a2-5f33-56bf-86c9-59e7332b4326] failed to load from a cache file.\n",
      "\u001b[33m\u001b[1m└ \u001b[22m\u001b[39m\u001b[90m@ Base loading.jl:1055\u001b[39m\n",
      "\u001b[33m\u001b[1m┌ \u001b[22m\u001b[39m\u001b[33m\u001b[1mWarning: \u001b[22m\u001b[39mModule GeometryBasics with build ID 174177778231432 is missing from the cache.\n",
      "\u001b[33m\u001b[1m│ \u001b[22m\u001b[39mThis may mean GeometryBasics [5c1252a2-5f33-56bf-86c9-59e7332b4326] does not support precompilation but is imported by a module that does.\n",
      "\u001b[33m\u001b[1m└ \u001b[22m\u001b[39m\u001b[90m@ Base loading.jl:1030\u001b[39m\n",
      "\u001b[33m\u001b[1m┌ \u001b[22m\u001b[39m\u001b[33m\u001b[1mWarning: \u001b[22m\u001b[39mModule GeometryBasics with build ID 174177778231432 is missing from the cache.\n",
      "\u001b[33m\u001b[1m│ \u001b[22m\u001b[39mThis may mean GeometryBasics [5c1252a2-5f33-56bf-86c9-59e7332b4326] does not support precompilation but is imported by a module that does.\n",
      "\u001b[33m\u001b[1m└ \u001b[22m\u001b[39m\u001b[90m@ Base loading.jl:1030\u001b[39m\n"
     ]
    }
   ],
   "source": [
    "using CairoMakie # Plots related stuff\n",
    "using Turing, MCMCChains, Distributions, LinearAlgebra, Random # Bayesian Inference packages\n",
    "using BenchmarkTools, DataFrames, Query # Analysis tools\n",
    "\n",
    "import ReactiveMP # For collect_results"
   ]
  },
  {
   "cell_type": "markdown",
   "metadata": {},
   "source": [
    "This demo aligns with similar demo ReactiveMP.jl and skips most of the explanations. For a rigorous description and model explanation check corresponding ReactiveMP.jl demo"
   ]
  },
  {
   "cell_type": "markdown",
   "metadata": {},
   "source": [
    "### Data"
   ]
  },
  {
   "cell_type": "code",
   "execution_count": 72,
   "metadata": {},
   "outputs": [],
   "source": [
    "params = let\n",
    "    # Seed for reproducability\n",
    "    seed = 42\n",
    "    \n",
    "    # Number of IID samples\n",
    "    n = 50\n",
    "    \n",
    "    # Number of mixture components\n",
    "    nmixtures = 6\n",
    "    \n",
    "    # Mixture component mean distance from zero\n",
    "    cdistance = 10\n",
    "    \n",
    "    # Angle change rate\n",
    "    angle = 1.5π / nmixtures\n",
    "    \n",
    "    @strdict seed n nmixtures cdistance angle\n",
    "end;"
   ]
  },
  {
   "cell_type": "code",
   "execution_count": 82,
   "metadata": {},
   "outputs": [],
   "source": [
    "y, mixtures = generate_data(GMMModel(), params);"
   ]
  },
  {
   "cell_type": "code",
   "execution_count": 74,
   "metadata": {},
   "outputs": [
    {
     "data": {
      "image/png": "[encoded data removed]",
      "text/plain": [
       "Figure()"
      ]
     },
     "execution_count": 74,
     "metadata": {},
     "output_type": "execute_result"
    }
   ],
   "source": [
    "let\n",
    "    @unpack seed, nmixtures, cdistance, angle, n = params\n",
    "    \n",
    "    sdim    = (n) -> (a) -> map(d -> d[n], a)\n",
    "    limits  = (-1.5cdistance, 1.5cdistance)\n",
    "\n",
    "    fig = Figure(resolution = (350, 350))\n",
    "    ax = Makie.Axis(fig[1, 1])\n",
    "\n",
    "    ax.xticks = [ -10, -5, 0, 5, 10 ]\n",
    "    ax.yticks = [ -10, -5, 0, 5, 10 ]\n",
    "\n",
    "    xlims!(ax, limits)\n",
    "    ylims!(ax, limits)\n",
    "\n",
    "    palette = fig.scene.palette.color[]\n",
    "\n",
    "    scatter!(ax, \n",
    "        y |> sdim(1), y |> sdim(2), \n",
    "        markersize = 6, color = (palette[1], 0.9), \n",
    "        label = \"Observations\"\n",
    "    )\n",
    "\n",
    "    @saveplot fig \"gmm_data\"\n",
    "end"
   ]
  },
  {
   "cell_type": "markdown",
   "metadata": {},
   "source": [
    "### Model specification"
   ]
  },
  {
   "cell_type": "code",
   "execution_count": 96,
   "metadata": {},
   "outputs": [],
   "source": [
    "@model function GaussianMixtureModel(y, nmixtures)\n",
    "    n = length(y)\n",
    "    k = length(first(y))\n",
    "    \n",
    "    @assert k === 2\n",
    "\n",
    "    z = Vector{Float64}(undef, n)\n",
    "    m = Vector{Vector}(undef, nmixtures)\n",
    "    w = Vector{Matrix}(undef, nmixtures)\n",
    "    \n",
    "    for i in 1:nmixtures\n",
    "        m[i] ~ MvNormal(zeros(2), [ 1e3 0.0; 0.0 1e3 ])\n",
    "        w[i] ~ InverseWishart(2, [ 1e3 0.0; 0.0 1e3 ])\n",
    "    end\n",
    "    \n",
    "    s ~ Dirichlet(nmixtures, 1.0)\n",
    "\n",
    "    # Draw assignments for each datum and generate it from a multivariate normal.\n",
    "    z = Vector{Int}(undef, n)\n",
    "    \n",
    "    for i in 1:n\n",
    "        z[i] ~ Categorical(s)\n",
    "        y[i] ~ MvNormal(m[z[i]], w[z[i]])\n",
    "    end\n",
    "end;"
   ]
  },
  {
   "cell_type": "code",
   "execution_count": 97,
   "metadata": {},
   "outputs": [],
   "source": [
    "gmm_model = GaussianMixtureModel(y, 6);"
   ]
  },
  {
   "cell_type": "code",
   "execution_count": 98,
   "metadata": {},
   "outputs": [
    {
     "data": {
      "text/plain": [
       "Gibbs{(:z, :m, :w), Tuple{PG{(:z,), AdvancedPS.ResampleWithESSThreshold{typeof(AdvancedPS.resample_systematic), Float64}}, HMC{Turing.Core.ForwardDiffAD{40}, (:m, :w), AdvancedHMC.UnitEuclideanMetric}}}((PG{(:z,), AdvancedPS.ResampleWithESSThreshold{typeof(AdvancedPS.resample_systematic), Float64}}(60, AdvancedPS.ResampleWithESSThreshold{typeof(AdvancedPS.resample_systematic), Float64}(AdvancedPS.resample_systematic, 0.5)), HMC{Turing.Core.ForwardDiffAD{40}, (:m, :w), AdvancedHMC.UnitEuclideanMetric}(0.05, 50)))"
      ]
     },
     "execution_count": 98,
     "metadata": {},
     "output_type": "execute_result"
    }
   ],
   "source": [
    "gmm_sampler = Gibbs(PG(60, :z), HMC(0.05, 50, :m, :w))"
   ]
  },
  {
   "cell_type": "code",
   "execution_count": 99,
   "metadata": {},
   "outputs": [
    {
     "name": "stderr",
     "output_type": "stream",
     "text": [
      "\u001b[32mSampling: 100%|█████████████████████████████████████████| Time: 0:03:53\u001b[39m\n"
     ]
    }
   ],
   "source": [
    "tchain = sample(gmm_model, gmm_sampler, 250);"
   ]
  },
  {
   "cell_type": "code",
   "execution_count": 100,
   "metadata": {},
   "outputs": [
    {
     "data": {
      "text/plain": [
       "\n",
       " \u001b[1m parameters \u001b[0m \u001b[1m        mean \u001b[0m \u001b[1m         std \u001b[0m\n",
       " \u001b[90m     Symbol \u001b[0m \u001b[90m     Float64 \u001b[0m \u001b[90m     Float64 \u001b[0m\n",
       "\n",
       "     m[1][1]        4.8011       22.4683\n",
       "     m[1][2]        4.3667       25.9704\n",
       "     m[2][1]       -3.9988        9.5449\n",
       "     m[2][2]       -0.7577        9.9739\n",
       "     m[3][1]       -0.3567        2.6981\n",
       "     m[3][2]        5.5267        6.2340\n",
       "     m[4][1]       -0.7074        9.0525\n",
       "     m[4][2]       -7.6459        6.6161\n",
       "     m[5][1]      -13.9936       14.5176\n",
       "     m[5][2]      -22.4332        6.9243\n",
       "     m[6][1]        5.5028       10.1421\n",
       "     m[6][2]       -2.9262        7.9661\n",
       "   w[1][1,1]   221290.0041   697315.1449\n",
       "   w[1][2,1]   -90753.5368   103941.5721\n",
       "   w[1][1,2]   -90753.5368   103941.5721\n",
       "   w[1][2,2]    96381.6124    26485.6546\n",
       "   w[2][1,1]      448.6847     1859.6037\n",
       "   w[2][2,1]      273.3681      960.9513\n",
       "   w[2][1,2]      273.3681      960.9513\n",
       "   w[2][2,2]      413.7643      835.9016\n",
       "   w[3][1,1]      102.0072       40.8429\n",
       "   w[3][2,1]      -16.9763       73.9795\n",
       "   w[3][1,2]      -16.9763       73.9795\n",
       "      ⋮             ⋮             ⋮\n",
       "\u001b[36m                           69 rows omitted\u001b[0m\n"
      ]
     },
     "execution_count": 100,
     "metadata": {},
     "output_type": "execute_result"
    }
   ],
   "source": [
    "Turing.summarize(tchain, Turing.mean, Turing.std)"
   ]
  },
  {
   "cell_type": "code",
   "execution_count": 101,
   "metadata": {},
   "outputs": [
    {
     "data": {
      "text/plain": [
       "2-element Vector{Float64}:\n",
       " 10.0\n",
       "  0.0"
      ]
     },
     "execution_count": 101,
     "metadata": {},
     "output_type": "execute_result"
    }
   ],
   "source": [
    "mixtures[1] |> mean"
   ]
  },
  {
   "cell_type": "code",
   "execution_count": null,
   "metadata": {},
   "outputs": [],
   "source": []
  }
 ],
 "metadata": {
  "kernelspec": {
   "display_name": "Julia 1.6.2",
   "language": "julia",
   "name": "julia-1.6"
  },
  "language_info": {
   "file_extension": ".jl",
   "mimetype": "application/julia",
   "name": "julia",
   "version": "1.6.2"
  }
 },
 "nbformat": 4,
 "nbformat_minor": 4
}
