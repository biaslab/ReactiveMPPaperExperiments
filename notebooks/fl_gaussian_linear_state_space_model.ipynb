{
 "cells": [
  {
   "cell_type": "code",
   "execution_count": 2,
   "metadata": {},
   "outputs": [],
   "source": [
    "using Revise\n",
    "using DrWatson"
   ]
  },
  {
   "cell_type": "code",
   "execution_count": 3,
   "metadata": {},
   "outputs": [
    {
     "name": "stderr",
     "output_type": "stream",
     "text": [
      "┌ Info: Precompiling ReactiveMPPaperExperiments [adcd1038-27e6-4580-819b-caa5dba07e45]\n",
      "└ @ Base loading.jl:1342\n"
     ]
    }
   ],
   "source": [
    "@quickactivate :ReactiveMPPaperExperiments"
   ]
  },
  {
   "cell_type": "code",
   "execution_count": 4,
   "metadata": {},
   "outputs": [],
   "source": [
    "using ForneyLab\n",
    "using BenchmarkTools\n",
    "using Random\n",
    "using LinearAlgebra"
   ]
  },
  {
   "cell_type": "code",
   "execution_count": 5,
   "metadata": {},
   "outputs": [],
   "source": [
    "import Distributions"
   ]
  },
  {
   "cell_type": "code",
   "execution_count": 220,
   "metadata": {},
   "outputs": [],
   "source": [
    "params = let \n",
    "    seed = 42\n",
    "    n    = 100\n",
    "    d    = 4\n",
    "    θ    = π / 20\n",
    "\n",
    "    rng = MersenneTwister(seed)\n",
    "\n",
    "    A = random_posdef_matrix(rng, d)\n",
    "    B = random_posdef_matrix(rng, d)\n",
    "    P = Matrix(Diagonal(ones(d)))\n",
    "    Q = Matrix(Diagonal(ones(d)))\n",
    "\n",
    "    @strdict seed n d θ A B P Q\n",
    "end;"
   ]
  },
  {
   "cell_type": "code",
   "execution_count": 221,
   "metadata": {},
   "outputs": [],
   "source": [
    "x_data, y_data = generate_data(LGSSMModel(), params);"
   ]
  },
  {
   "cell_type": "code",
   "execution_count": 222,
   "metadata": {},
   "outputs": [],
   "source": [
    "g = FactorGraph()\n",
    "\n",
    "model_d = params[\"d\"]\n",
    "model_n = params[\"n\"]\n",
    "model_A = params[\"A\"]\n",
    "model_B = params[\"B\"]\n",
    "model_P = params[\"P\"]\n",
    "model_Q = params[\"Q\"]\n",
    "\n",
    "@RV x0 ~ GaussianMeanVariance(zeros(model_d), Matrix(Diagonal(100.0 * ones(model_d)))) # Prior\n",
    "\n",
    "x = Vector{Variable}(undef, model_n) # Pre-define vectors for storing latent and observed variables\n",
    "y = Vector{Variable}(undef, model_n)\n",
    "\n",
    "x_t_prev = x0\n",
    "\n",
    "for t = 1:model_n\n",
    "    @RV x[t] ~ GaussianMeanVariance(model_A*x_t_prev, model_P) # Process model\n",
    "    @RV y[t] ~ GaussianMeanVariance(model_B*x[t], model_Q) # Observation model\n",
    "\n",
    "    placeholder(y[t], :y, dims=(model_d,), index=t) # Indicate observed variable\n",
    "    \n",
    "    x_t_prev = x[t] # Prepare state for next section\n",
    "end\n",
    ";"
   ]
  },
  {
   "cell_type": "code",
   "execution_count": 223,
   "metadata": {},
   "outputs": [
    {
     "name": "stdout",
     "output_type": "stream",
     "text": [
      " 49.917084 seconds (5.96 M allocations: 3.365 GiB, 1.80% gc time)\n"
     ]
    },
    {
     "data": {
      "text/plain": [
       "step! (generic function with 3 methods)"
      ]
     },
     "execution_count": 223,
     "metadata": {},
     "output_type": "execute_result"
    }
   ],
   "source": [
    "@time begin\n",
    "    algo = messagePassingAlgorithm(x) # Generate algorithm\n",
    "    source_code = algorithmSourceCode(algo) # Generate source code for algorithm\n",
    "    eval(Meta.parse(source_code)); # Load algorithm\n",
    "end"
   ]
  },
  {
   "cell_type": "code",
   "execution_count": 224,
   "metadata": {},
   "outputs": [
    {
     "name": "stdout",
     "output_type": "stream",
     "text": [
      " 51.375236 seconds (5.79 M allocations: 3.356 GiB, 1.22% gc time)\n"
     ]
    },
    {
     "data": {
      "text/plain": [
       "step! (generic function with 3 methods)"
      ]
     },
     "execution_count": 224,
     "metadata": {},
     "output_type": "execute_result"
    }
   ],
   "source": [
    "@time begin\n",
    "    algo = messagePassingAlgorithm(x) # Generate algorithm\n",
    "    source_code = algorithmSourceCode(algo) # Generate source code for algorithm\n",
    "    eval(Meta.parse(source_code)); # Load algorithm\n",
    "end"
   ]
  },
  {
   "cell_type": "code",
   "execution_count": 225,
   "metadata": {},
   "outputs": [
    {
     "name": "stdout",
     "output_type": "stream",
     "text": [
      " 51.308101 seconds (5.79 M allocations: 3.356 GiB, 1.25% gc time)\n"
     ]
    },
    {
     "data": {
      "text/plain": [
       "step! (generic function with 3 methods)"
      ]
     },
     "execution_count": 225,
     "metadata": {},
     "output_type": "execute_result"
    }
   ],
   "source": [
    "@time begin\n",
    "    algo = messagePassingAlgorithm(x) # Generate algorithm\n",
    "    source_code = algorithmSourceCode(algo) # Generate source code for algorithm\n",
    "    eval(Meta.parse(source_code)); # Load algorithm\n",
    "end"
   ]
  },
  {
   "cell_type": "code",
   "execution_count": 226,
   "metadata": {},
   "outputs": [],
   "source": [
    "# For DIMENSION = 2\n",
    "\n",
    "# Because of the global evaluation we cannot robustly perform this benchmark in a loop like we did for Turing and ReactiveMP\n",
    "# So we change number of observations by hand and perform benchmarks separately \n",
    "# ForneyLab model creation time times\n",
    "# 50 - 25.843605 seconds (2.86 M allocations: 1.644 GiB, 1.32% gc time)\n",
    "# 100 - 49.688046 seconds (5.76 M allocations: 3.313 GiB, 1.33% gc time)\n",
    "# 250 - 127.433735 seconds (15.00 M allocations: 8.477 GiB, 1.32% gc time)"
   ]
  },
  {
   "cell_type": "code",
   "execution_count": 227,
   "metadata": {},
   "outputs": [],
   "source": [
    "# For DIMENSION = 10\n",
    "\n",
    "# Because of the global evaluation we cannot robustly perform this benchmark in a loop like we did for Turing and ReactiveMP\n",
    "# So we change number of observations by hand and perform benchmarks separately \n",
    "# ForneyLab model creation time times\n",
    "# 50 - \n",
    "# 100 - \n",
    "# 250 - "
   ]
  },
  {
   "cell_type": "code",
   "execution_count": 228,
   "metadata": {},
   "outputs": [],
   "source": [
    "data = Dict(:y => y_data) # Prepare data dictionary\n",
    ";"
   ]
  },
  {
   "cell_type": "code",
   "execution_count": 229,
   "metadata": {},
   "outputs": [
    {
     "name": "stdout",
     "output_type": "stream",
     "text": [
      " 61.656482 seconds (3.34 M allocations: 147.673 MiB, 0.17% gc time, 99.99% compilation time)\n"
     ]
    }
   ],
   "source": [
    "@time step!(data);"
   ]
  },
  {
   "cell_type": "code",
   "execution_count": 230,
   "metadata": {},
   "outputs": [],
   "source": [
    "# For DIMENSION = 2\n",
    "\n",
    "# ForneyLab compilation time\n",
    "# 50 - 13.489154 seconds (1.65 M allocations: 74.831 MiB, 0.23% gc time, 99.98% compilation time)\n",
    "# 100 - 62.301726 seconds (3.17 M allocations: 139.764 MiB, 0.06% gc time, 99.99% compilation time)\n",
    "# 250 - 537.946353 seconds (7.74 M allocations: 332.610 MiB, 0.02% gc time, 99.99% compilation time)"
   ]
  },
  {
   "cell_type": "code",
   "execution_count": 231,
   "metadata": {},
   "outputs": [],
   "source": [
    "# For DIMENSION = 10\n",
    "\n",
    "# ForneyLab compilation time\n",
    "# 50 - 16.809911 seconds (2.05 M allocations: 90.020 MiB, 0.16% gc time, 99.97% compilation time)\n",
    "# 100 - \n",
    "# 250 - "
   ]
  },
  {
   "cell_type": "code",
   "execution_count": 232,
   "metadata": {},
   "outputs": [
    {
     "name": "stdout",
     "output_type": "stream",
     "text": [
      "  0.008794 seconds (39.64 k allocations: 4.605 MiB)\n"
     ]
    }
   ],
   "source": [
    "@time step!(data);"
   ]
  },
  {
   "cell_type": "code",
   "execution_count": 233,
   "metadata": {},
   "outputs": [
    {
     "name": "stdout",
     "output_type": "stream",
     "text": [
      "  0.008277 seconds (39.64 k allocations: 4.605 MiB)\n"
     ]
    }
   ],
   "source": [
    "@time step!(data);"
   ]
  },
  {
   "cell_type": "code",
   "execution_count": 234,
   "metadata": {},
   "outputs": [
    {
     "name": "stdout",
     "output_type": "stream",
     "text": [
      "  3.763 ms (39642 allocations: 4.60 MiB)\n"
     ]
    }
   ],
   "source": [
    "@btime step!(data);"
   ]
  },
  {
   "cell_type": "code",
   "execution_count": 235,
   "metadata": {},
   "outputs": [],
   "source": [
    "inferred = step!(data) # Execute inference\n",
    "marginals = map(i -> inferred[Symbol(:x_, i)], 1:model_n) \n",
    ";"
   ]
  },
  {
   "cell_type": "code",
   "execution_count": 236,
   "metadata": {},
   "outputs": [
    {
     "data": {
      "text/plain": [
       "6.525540105927179e58"
      ]
     },
     "execution_count": 236,
     "metadata": {},
     "output_type": "execute_result"
    }
   ],
   "source": [
    "average_mse(x_data, marginals)"
   ]
  },
  {
   "cell_type": "code",
   "execution_count": 164,
   "metadata": {},
   "outputs": [],
   "source": [
    "# For DIMENSION = 2\n",
    "\n",
    "# ForneyLab execution times and E[MSE]\n",
    "# 50 - 1.482 ms (19742 allocations: 2.07 MiB) | E[MSE] = 15.275572234904864\n",
    "# 100 - 3.329 ms (39642 allocations: 4.14 MiB) | E[MSE] = 21.969948269432027\n",
    "# 250 - 8.189 ms (99600 allocations: 10.39 MiB) | E[MSE] = 33.6021951719447"
   ]
  },
  {
   "cell_type": "code",
   "execution_count": 28,
   "metadata": {},
   "outputs": [],
   "source": [
    "# For DIMENSION = 10\n",
    "\n",
    "# ForneyLab execution times\n",
    "# 50 - 3.256 ms (19742 allocations: 3.83 MiB) | E[MSE] = 1.720501485263128e65\n",
    "# 100 - \n",
    "# 250 - "
   ]
  },
  {
   "cell_type": "code",
   "execution_count": 29,
   "metadata": {},
   "outputs": [],
   "source": [
    "using CairoMakie"
   ]
  },
  {
   "cell_type": "code",
   "execution_count": 36,
   "metadata": {},
   "outputs": [
    {
     "data": {
      "image/png": "[encoded data removed]",
      "text/plain": [
       "Figure()"
      ]
     },
     "execution_count": 36,
     "metadata": {},
     "output_type": "execute_result"
    }
   ],
   "source": [
    "let\n",
    "    ylimit = (-15, 20)\n",
    "    c = Makie.wong_colors() \n",
    "\n",
    "    x_inferred_means = ForneyLab.unsafeMean.(marginals)\n",
    "    x_inferred_stds  = map(e -> sqrt.(e), ForneyLab.unsafeVar.(marginals))\n",
    "    \n",
    "    range = 1:length(x_inferred_means)\n",
    "\n",
    "    fig = Figure(resolution = (550, 350))\n",
    "    ax  = Axis(fig[1, 1], xlabel = \"Time step k\", ylabel = \"Latent states\")\n",
    "\n",
    "    ylims!(ax, ylimit)\n",
    "\n",
    "    # Real dim1\n",
    "    lines!(ax, range, x_data |> edim(1), color = :red3, linewidth = 1.75, label = \"x[:, 1]\",)\n",
    "    scatter!(ax, range, y_data |> edim(1), color = (:red3, 0.35), markersize = 10, marker = :cross)\n",
    "\n",
    "    # Estimated dim1\n",
    "\n",
    "    lines!(ax, range, x_inferred_means |> edim(1), color = c[3], label = \"estimated[:, 1]\")\n",
    "    band!(ax, range, (x_inferred_means |> edim(1)) .+ (x_inferred_stds |> edim(1)), (x_inferred_means |> edim(1)) .- (x_inferred_stds |> edim(1)), color = (c[3], 0.65))\n",
    "\n",
    "    # Real dim2\n",
    "\n",
    "    lines!(ax, range, x_data |> edim(2), color = :purple, linewidth = 1.75, linestyle = :dash, label = \"x[:, 2]\")\n",
    "    scatter!(ax, range, y_data |> edim(2), color = (:purple, 0.35),markersize = 6, marker = :circle)\n",
    "\n",
    "    # Estimated dim2\n",
    "\n",
    "    lines!(ax, range, x_inferred_means |> edim(2), color = c[1], label = \"estimated[:, 2]\")\n",
    "    band!(ax, range, (x_inferred_means |> edim(2)) .+ (x_inferred_stds |> edim(2)), (x_inferred_means |> edim(2)) .- (x_inferred_stds |> edim(2)), color = (c[1], 0.65))\n",
    "\n",
    "    axislegend(ax, position = :lt)\n",
    "\n",
    "    fig\n",
    "end"
   ]
  },
  {
   "cell_type": "code",
   "execution_count": null,
   "metadata": {},
   "outputs": [],
   "source": []
  }
 ],
 "metadata": {
  "kernelspec": {
   "display_name": "Julia 1.6.2",
   "language": "julia",
   "name": "julia-1.6"
  },
  "language_info": {
   "file_extension": ".jl",
   "mimetype": "application/julia",
   "name": "julia",
   "version": "1.6.2"
  }
 },
 "nbformat": 4,
 "nbformat_minor": 4
}
