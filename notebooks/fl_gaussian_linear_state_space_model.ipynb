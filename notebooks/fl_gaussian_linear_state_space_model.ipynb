{
 "cells": [
  {
   "cell_type": "code",
   "execution_count": 1,
   "metadata": {},
   "outputs": [],
   "source": [
    "using Revise\n",
    "using DrWatson"
   ]
  },
  {
   "cell_type": "code",
   "execution_count": 2,
   "metadata": {},
   "outputs": [
    {
     "name": "stderr",
     "output_type": "stream",
     "text": [
      "┌ Info: Precompiling ReactiveMPPaperExperiments [adcd1038-27e6-4580-819b-caa5dba07e45]\n",
      "└ @ Base loading.jl:1342\n",
      "\u001b[33m\u001b[1m┌ \u001b[22m\u001b[39m\u001b[33m\u001b[1mWarning: \u001b[22m\u001b[39mPackage ReactiveMPPaperExperiments does not have DataFrames in its dependencies:\n",
      "\u001b[33m\u001b[1m│ \u001b[22m\u001b[39m- If you have ReactiveMPPaperExperiments checked out for development and have\n",
      "\u001b[33m\u001b[1m│ \u001b[22m\u001b[39m  added DataFrames as a dependency but haven't updated your primary\n",
      "\u001b[33m\u001b[1m│ \u001b[22m\u001b[39m  environment's manifest file, try `Pkg.resolve()`.\n",
      "\u001b[33m\u001b[1m│ \u001b[22m\u001b[39m- Otherwise you may need to report an issue with ReactiveMPPaperExperiments\n",
      "\u001b[33m\u001b[1m└ \u001b[22m\u001b[39mLoading DataFrames into ReactiveMPPaperExperiments from project dependency, future warnings for ReactiveMPPaperExperiments are suppressed.\n"
     ]
    }
   ],
   "source": [
    "@quickactivate :ReactiveMPPaperExperiments"
   ]
  },
  {
   "cell_type": "code",
   "execution_count": 3,
   "metadata": {},
   "outputs": [],
   "source": [
    "using ForneyLab\n",
    "using BenchmarkTools\n",
    "using Random\n",
    "using LinearAlgebra"
   ]
  },
  {
   "cell_type": "code",
   "execution_count": 4,
   "metadata": {},
   "outputs": [],
   "source": [
    "import Distributions"
   ]
  },
  {
   "cell_type": "markdown",
   "metadata": {},
   "source": [
    "In this section we want to compare results and performance of ReactiveMP.jl with another probabilistic programming library which is called ForneyLab.jl."
   ]
  },
  {
   "cell_type": "code",
   "execution_count": 5,
   "metadata": {},
   "outputs": [],
   "source": [
    "params = let \n",
    "    seed = 42\n",
    "    n    = 250\n",
    "    d    = 3\n",
    "\n",
    "    rng = MersenneTwister(seed)\n",
    "\n",
    "    A = random_rotation_matrix(rng, d)\n",
    "    B = Matrix(Diagonal(ones(d) .+ rand(-0.5:0.1:1.0, d)))\n",
    "    P = Matrix(Diagonal(ones(d)))\n",
    "    Q = Matrix(Diagonal(ones(d)))\n",
    "\n",
    "    @strdict seed n d A B P Q\n",
    "end;"
   ]
  },
  {
   "cell_type": "code",
   "execution_count": 6,
   "metadata": {},
   "outputs": [],
   "source": [
    "x_data, y_data = generate_data(LGSSMModel(), params);"
   ]
  },
  {
   "cell_type": "code",
   "execution_count": 7,
   "metadata": {},
   "outputs": [],
   "source": [
    "g = FactorGraph()\n",
    "\n",
    "model_d = params[\"d\"]\n",
    "model_n = params[\"n\"]\n",
    "model_A = params[\"A\"]\n",
    "model_B = params[\"B\"]\n",
    "model_P = params[\"P\"]\n",
    "model_Q = params[\"Q\"]\n",
    "\n",
    "@RV x0 ~ GaussianMeanVariance(zeros(model_d), Matrix(Diagonal(100.0 * ones(model_d)))) # Prior\n",
    "\n",
    "x = Vector{Variable}(undef, model_n) # Pre-define vectors for storing latent and observed variables\n",
    "y = Vector{Variable}(undef, model_n)\n",
    "\n",
    "x_t_prev = x0\n",
    "\n",
    "for t = 1:model_n\n",
    "    @RV x[t] ~ GaussianMeanVariance(model_A*x_t_prev, model_P) # Process model\n",
    "    @RV y[t] ~ GaussianMeanVariance(model_B*x[t], model_Q) # Observation model\n",
    "\n",
    "    placeholder(y[t], :y, dims=(model_d,), index=t) # Indicate observed variable\n",
    "    \n",
    "    x_t_prev = x[t] # Prepare state for next section\n",
    "end\n",
    ";"
   ]
  },
  {
   "cell_type": "code",
   "execution_count": 8,
   "metadata": {},
   "outputs": [
    {
     "name": "stdout",
     "output_type": "stream",
     "text": [
      " 99.221951 seconds (15.54 M allocations: 6.174 GiB, 1.18% gc time, 3.25% compilation time)\n"
     ]
    },
    {
     "data": {
      "text/plain": [
       "step! (generic function with 3 methods)"
      ]
     },
     "execution_count": 8,
     "metadata": {},
     "output_type": "execute_result"
    }
   ],
   "source": [
    "@time begin\n",
    "    algo = messagePassingAlgorithm(x) # Generate algorithm\n",
    "    source_code = algorithmSourceCode(algo) # Generate source code for algorithm\n",
    "    eval(Meta.parse(source_code)); # Load algorithm\n",
    "end"
   ]
  },
  {
   "cell_type": "code",
   "execution_count": 9,
   "metadata": {},
   "outputs": [
    {
     "name": "stdout",
     "output_type": "stream",
     "text": [
      " 92.673063 seconds (10.62 M allocations: 5.887 GiB, 1.08% gc time)\n"
     ]
    },
    {
     "data": {
      "text/plain": [
       "step! (generic function with 3 methods)"
      ]
     },
     "execution_count": 9,
     "metadata": {},
     "output_type": "execute_result"
    }
   ],
   "source": [
    "@time begin\n",
    "    algo = messagePassingAlgorithm(x) # Generate algorithm\n",
    "    source_code = algorithmSourceCode(algo) # Generate source code for algorithm\n",
    "    eval(Meta.parse(source_code)); # Load algorithm\n",
    "end"
   ]
  },
  {
   "cell_type": "code",
   "execution_count": 10,
   "metadata": {},
   "outputs": [],
   "source": [
    "# For DIMENSION = 2\n",
    "\n",
    "# Because of the global evaluation we cannot robustly perform this benchmark in a loop like we did for Turing and ReactiveMP\n",
    "# So we change number of observations by hand and perform benchmarks separately \n",
    "# ForneyLab model creation time times\n",
    "# 50 - 25.956291 seconds (2.87 M allocations: 1.646 GiB, 1.31% gc time)\n",
    "# 100 - 50.820114 seconds (5.79 M allocations: 3.319 GiB, 1.33% gc time)\n",
    "# 250 - 134.148255 seconds (15.09 M allocations: 8.506 GiB, 1.31% gc time)"
   ]
  },
  {
   "cell_type": "code",
   "execution_count": 11,
   "metadata": {},
   "outputs": [],
   "source": [
    "# For DIMENSION = 3\n",
    "\n",
    "# Because of the global evaluation we cannot robustly perform this benchmark in a loop like we did for Turing and ReactiveMP\n",
    "# So we change number of observations by hand and perform benchmarks separately \n",
    "# ForneyLab model creation time times\n",
    "# 50 - 26.739488 seconds (2.97 M allocations: 1.655 GiB, 1.31% gc time)\n",
    "# 100 - 52.731018 seconds (5.98 M allocations: 3.345 GiB, 1.27% gc time)\n",
    "# 250 - 131.314365 seconds (15.12 M allocations: 8.608 GiB, 1.30% gc time)"
   ]
  },
  {
   "cell_type": "code",
   "execution_count": 12,
   "metadata": {},
   "outputs": [],
   "source": [
    "# For DIMENSION = 4\n",
    "\n",
    "# Because of the global evaluation we cannot robustly perform this benchmark in a loop like we did for Turing and ReactiveMP\n",
    "# So we change number of observations by hand and perform benchmarks separately \n",
    "# ForneyLab model creation time times\n",
    "# 50 - 26.431713 seconds (2.98 M allocations: 1.664 GiB, 1.40% gc time)\n",
    "# 100 - 53.235425 seconds (5.82 M allocations: 3.361 GiB, 1.22% gc time)\n",
    "# 250 - 134.367599 seconds (15.16 M allocations: 8.743 GiB, 1.30% gc time)"
   ]
  },
  {
   "cell_type": "code",
   "execution_count": 13,
   "metadata": {},
   "outputs": [],
   "source": [
    "data = Dict(:y => y_data) # Prepare data dictionary\n",
    ";"
   ]
  },
  {
   "cell_type": "code",
   "execution_count": 14,
   "metadata": {},
   "outputs": [
    {
     "name": "stdout",
     "output_type": "stream",
     "text": [
      "530.264025 seconds (23.53 M allocations: 1.279 GiB, 0.10% gc time, 99.99% compilation time)\n"
     ]
    }
   ],
   "source": [
    "@time step!(data);"
   ]
  },
  {
   "cell_type": "code",
   "execution_count": 15,
   "metadata": {},
   "outputs": [],
   "source": [
    "# For DIMENSION = 2\n",
    "\n",
    "# ForneyLab compilation time\n",
    "# 50 - 14.220841 seconds (1.65 M allocations: 74.833 MiB, 99.98% compilation time)\n",
    "# 100 - 58.928251 seconds (3.17 M allocations: 139.763 MiB, 0.07% gc time, 99.99% compilation time)\n",
    "# 250 - 517.620802 seconds (7.74 M allocations: 332.614 MiB, 0.02% gc time, 100.00% compilation time)"
   ]
  },
  {
   "cell_type": "code",
   "execution_count": 16,
   "metadata": {},
   "outputs": [],
   "source": [
    "# For DIMENSION = 3\n",
    "\n",
    "# ForneyLab compilation time\n",
    "# 50 - 14.103068 seconds (1.74 M allocations: 79.730 MiB, 99.98% compilation time)\n",
    "# 100 - 64.041207 seconds (3.22 M allocations: 141.569 MiB, 0.04% gc time, 99.99% compilation time)\n",
    "# 250 - 543.978409 seconds (7.85 M allocations: 337.028 MiB, 0.03% gc time, 99.99% compilation time)"
   ]
  },
  {
   "cell_type": "code",
   "execution_count": 17,
   "metadata": {},
   "outputs": [],
   "source": [
    "# For DIMENSION = 4\n",
    "\n",
    "# ForneyLab compilation time\n",
    "# 50 - 15.279364 seconds (1.70 M allocations: 76.835 MiB, 0.18% gc time, 99.98% compilation time)\n",
    "# 100 - 60.076357 seconds (3.28 M allocations: 143.701 MiB, 0.04% gc time, 99.99% compilation time)\n",
    "# 250 - 533.756807 seconds (8.00 M allocations: 342.367 MiB, 0.03% gc time, 99.99% compilation time)"
   ]
  },
  {
   "cell_type": "code",
   "execution_count": 18,
   "metadata": {},
   "outputs": [
    {
     "name": "stdout",
     "output_type": "stream",
     "text": [
      "  0.012767 seconds (99.60 k allocations: 11.003 MiB)\n"
     ]
    }
   ],
   "source": [
    "@time step!(data);"
   ]
  },
  {
   "cell_type": "code",
   "execution_count": 19,
   "metadata": {},
   "outputs": [
    {
     "name": "stdout",
     "output_type": "stream",
     "text": [
      "  0.011578 seconds (99.60 k allocations: 11.003 MiB)\n"
     ]
    }
   ],
   "source": [
    "@time step!(data);"
   ]
  },
  {
   "cell_type": "code",
   "execution_count": 20,
   "metadata": {},
   "outputs": [
    {
     "name": "stdout",
     "output_type": "stream",
     "text": [
      "  9.157 ms (99600 allocations: 11.00 MiB)\n"
     ]
    }
   ],
   "source": [
    "@btime step!(data);"
   ]
  },
  {
   "cell_type": "code",
   "execution_count": 21,
   "metadata": {},
   "outputs": [],
   "source": [
    "inferred = step!(data) # Execute inference\n",
    "marginals = map(i -> inferred[Symbol(:x_, i)], 1:model_n) \n",
    ";"
   ]
  },
  {
   "cell_type": "code",
   "execution_count": 23,
   "metadata": {},
   "outputs": [
    {
     "data": {
      "text/plain": [
       "1.844529640272791"
      ]
     },
     "execution_count": 23,
     "metadata": {},
     "output_type": "execute_result"
    }
   ],
   "source": [
    "average_mse(x_data, marginals) ./ length(x_data)"
   ]
  },
  {
   "cell_type": "code",
   "execution_count": 323,
   "metadata": {},
   "outputs": [],
   "source": [
    "# For DIMENSION = 2\n",
    "\n",
    "# ForneyLab execution times and E[MSE]\n",
    "# 50 - 1.503 ms (19742 allocations: 2.07 MiB) | E[MSE] = 88.22147515569644\n",
    "# 100 - 3.235 ms (39642 allocations: 4.15 MiB) | E[MSE] = 186.83166789346208\n",
    "# 250 - 8.166 ms (99600 allocations: 10.42 MiB) | E[MSE] = 466.9194488439762"
   ]
  },
  {
   "cell_type": "code",
   "execution_count": 324,
   "metadata": {},
   "outputs": [],
   "source": [
    "# For DIMENSION = 3\n",
    "\n",
    "# ForneyLab execution times and E[MSE]\n",
    "# 50 - 1.642 ms (19742 allocations: 2.19 MiB) | E[MSE] = 152.19541017518787\n",
    "# 100 - 3.954 ms (39642 allocations: 4.39 MiB) | E[MSE] = 294.0329174204192\n",
    "# 250 - 8.952 ms (99600 allocations: 11.00 MiB) | E[MSE] = 685.7877512757051"
   ]
  },
  {
   "cell_type": "code",
   "execution_count": 325,
   "metadata": {},
   "outputs": [],
   "source": [
    "# For DIMENSION = 4\n",
    "\n",
    "# ForneyLab execution times and E[MSE]\n",
    "# 50 - 1.783 ms (19742 allocations: 2.30 MiB) | E[MSE] = 193.49009551500487\n",
    "# 100 - 3.628 ms (39642 allocations: 4.60 MiB) | E[MSE] = 362.03089108526143\n",
    "# 250 - 9.624 ms (99600 allocations: 11.55 MiB) | E[MSE] = 910.8783299156165"
   ]
  },
  {
   "cell_type": "code",
   "execution_count": 326,
   "metadata": {},
   "outputs": [],
   "source": [
    "using CairoMakie"
   ]
  },
  {
   "cell_type": "code",
   "execution_count": 327,
   "metadata": {},
   "outputs": [
    {
     "data": {
      "image/png": "[encoded data removed]",
      "text/plain": [
       "Figure()"
      ]
     },
     "execution_count": 327,
     "metadata": {},
     "output_type": "execute_result"
    }
   ],
   "source": [
    "let\n",
    "    c = Makie.wong_colors() \n",
    "\n",
    "    x_inferred_means = ForneyLab.unsafeMean.(marginals)\n",
    "    x_inferred_stds  = map(e -> sqrt.(e), ForneyLab.unsafeVar.(marginals))\n",
    "    \n",
    "    range = 1:length(x_inferred_means)\n",
    "\n",
    "    fig = Figure(resolution = (550, 350))\n",
    "    ax  = Axis(fig[1, 1], xlabel = \"Time step k\", ylabel = \"Latent states\")\n",
    "\n",
    "    # Real dim1\n",
    "    lines!(ax, range, x_data |> edim(1), color = :red3, linewidth = 1.75, label = \"x[:, 1]\",)\n",
    "    scatter!(ax, range, y_data |> edim(1), color = (:red3, 0.35), markersize = 10, marker = :cross)\n",
    "\n",
    "    # Estimated dim1\n",
    "\n",
    "    lines!(ax, range, x_inferred_means |> edim(1), color = c[3], label = \"estimated[:, 1]\")\n",
    "    band!(ax, range, (x_inferred_means |> edim(1)) .+ (x_inferred_stds |> edim(1)), (x_inferred_means |> edim(1)) .- (x_inferred_stds |> edim(1)), color = (c[3], 0.65))\n",
    "\n",
    "    # Real dim2\n",
    "\n",
    "    lines!(ax, range, x_data |> edim(2), color = :purple, linewidth = 1.75, linestyle = :dash, label = \"x[:, 2]\")\n",
    "    scatter!(ax, range, y_data |> edim(2), color = (:purple, 0.35),markersize = 6, marker = :circle)\n",
    "\n",
    "    # Estimated dim2\n",
    "\n",
    "    lines!(ax, range, x_inferred_means |> edim(2), color = c[1], label = \"estimated[:, 2]\")\n",
    "    band!(ax, range, (x_inferred_means |> edim(2)) .+ (x_inferred_stds |> edim(2)), (x_inferred_means |> edim(2)) .- (x_inferred_stds |> edim(2)), color = (c[1], 0.65))\n",
    "\n",
    "    axislegend(ax, position = :lt)\n",
    "\n",
    "    fig\n",
    "end"
   ]
  },
  {
   "cell_type": "code",
   "execution_count": null,
   "metadata": {},
   "outputs": [],
   "source": []
  },
  {
   "cell_type": "code",
   "execution_count": null,
   "metadata": {},
   "outputs": [],
   "source": []
  },
  {
   "cell_type": "code",
   "execution_count": null,
   "metadata": {},
   "outputs": [],
   "source": []
  },
  {
   "cell_type": "code",
   "execution_count": null,
   "metadata": {},
   "outputs": [],
   "source": []
  },
  {
   "cell_type": "code",
   "execution_count": null,
   "metadata": {},
   "outputs": [],
   "source": []
  }
 ],
 "metadata": {
  "kernelspec": {
   "display_name": "Julia 1.6.2",
   "language": "julia",
   "name": "julia-1.6"
  },
  "language_info": {
   "file_extension": ".jl",
   "mimetype": "application/julia",
   "name": "julia",
   "version": "1.6.3"
  }
 },
 "nbformat": 4,
 "nbformat_minor": 4
}
