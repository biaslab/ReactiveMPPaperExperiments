{
 "cells": [
  {
   "cell_type": "markdown",
   "metadata": {},
   "source": [
    "### Playground\n",
    "\n",
    "This notebook is only for testing ideas or some dummy code"
   ]
  },
  {
   "cell_type": "code",
   "execution_count": 2,
   "metadata": {},
   "outputs": [],
   "source": [
    "using Revise\n",
    "using DrWatson"
   ]
  },
  {
   "cell_type": "code",
   "execution_count": 3,
   "metadata": {},
   "outputs": [
    {
     "name": "stderr",
     "output_type": "stream",
     "text": [
      "┌ Info: Precompiling ReactiveMPPaperExperiments [adcd1038-27e6-4580-819b-caa5dba07e45]\n",
      "└ @ Base loading.jl:1342\n"
     ]
    }
   ],
   "source": [
    "@quickactivate :ReactiveMPPaperExperiments"
   ]
  },
  {
   "cell_type": "code",
   "execution_count": 4,
   "metadata": {},
   "outputs": [
    {
     "name": "stdout",
     "output_type": "stream",
     "text": [
      "search: \u001b[0m\u001b[1mw\u001b[22m\u001b[0m\u001b[1ms\u001b[22m\u001b[0m\u001b[1ma\u001b[22m\u001b[0m\u001b[1mv\u001b[22m\u001b[0m\u001b[1me\u001b[22m\n",
      "\n"
     ]
    },
    {
     "data": {
      "text/latex": [
       "\\begin{verbatim}\n",
       "wsave(filename, data...; kwargs...)\n",
       "\\end{verbatim}\n",
       "Save \\texttt{data} at \\texttt{filename} by first creating the appropriate paths. Default fallback is \\texttt{FileIO.save}. Extend this for your types by extending \\texttt{DrWatson.\\_wsave(filename, data::YourType...; kwargs...)}.\n",
       "\n"
      ],
      "text/markdown": [
       "```\n",
       "wsave(filename, data...; kwargs...)\n",
       "```\n",
       "\n",
       "Save `data` at `filename` by first creating the appropriate paths. Default fallback is `FileIO.save`. Extend this for your types by extending `DrWatson._wsave(filename, data::YourType...; kwargs...)`.\n"
      ],
      "text/plain": [
       "\u001b[36m  wsave(filename, data...; kwargs...)\u001b[39m\n",
       "\n",
       "  Save \u001b[36mdata\u001b[39m at \u001b[36mfilename\u001b[39m by first creating the appropriate paths. Default\n",
       "  fallback is \u001b[36mFileIO.save\u001b[39m. Extend this for your types by extending\n",
       "  \u001b[36mDrWatson._wsave(filename, data::YourType...; kwargs...)\u001b[39m."
      ]
     },
     "execution_count": 4,
     "metadata": {},
     "output_type": "execute_result"
    }
   ],
   "source": [
    "?wsave"
   ]
  },
  {
   "cell_type": "code",
   "execution_count": 7,
   "metadata": {},
   "outputs": [],
   "source": [
    "using FileIO"
   ]
  },
  {
   "cell_type": "code",
   "execution_count": 8,
   "metadata": {},
   "outputs": [
    {
     "data": {
      "text/latex": [
       "\\begin{itemize}\n",
       "\\item \\texttt{save(filename, data...)} saves the contents of a formatted file, trying to infer the format from \\texttt{filename}.\n",
       "\n",
       "\n",
       "\\item \\texttt{save(Stream\\{format\"PNG\"\\}(io), data...)} specifies the format directly, and bypasses the format \\href{@ref}{\\texttt{query}}.\n",
       "\n",
       "\n",
       "\\item \\texttt{save(File\\{format\"PNG\"\\}(filename), data...)} specifies the format directly, and bypasses the format \\href{@ref}{\\texttt{query}}.\n",
       "\n",
       "\n",
       "\\item \\texttt{save(f, data...; options...)} passes keyword arguments on to the saver.\n",
       "\n",
       "\\end{itemize}\n"
      ],
      "text/markdown": [
       "  * `save(filename, data...)` saves the contents of a formatted file, trying to infer the format from `filename`.\n",
       "  * `save(Stream{format\"PNG\"}(io), data...)` specifies the format directly, and bypasses the format [`query`](@ref).\n",
       "  * `save(File{format\"PNG\"}(filename), data...)` specifies the format directly, and bypasses the format [`query`](@ref).\n",
       "  * `save(f, data...; options...)` passes keyword arguments on to the saver.\n"
      ],
      "text/plain": [
       "    •  \u001b[36msave(filename, data...)\u001b[39m saves the contents of a formatted file,\n",
       "       trying to infer the format from \u001b[36mfilename\u001b[39m.\n",
       "\n",
       "    •  \u001b[36msave(Stream{format\"PNG\"}(io), data...)\u001b[39m specifies the format\n",
       "       directly, and bypasses the format \u001b[36mquery\u001b[39m.\n",
       "\n",
       "    •  \u001b[36msave(File{format\"PNG\"}(filename), data...)\u001b[39m specifies the format\n",
       "       directly, and bypasses the format \u001b[36mquery\u001b[39m.\n",
       "\n",
       "    •  \u001b[36msave(f, data...; options...)\u001b[39m passes keyword arguments on to the\n",
       "       saver."
      ]
     },
     "execution_count": 8,
     "metadata": {},
     "output_type": "execute_result"
    }
   ],
   "source": [
    "?FileIO.save"
   ]
  },
  {
   "cell_type": "code",
   "execution_count": 4,
   "metadata": {},
   "outputs": [],
   "source": [
    "using BenchmarkTools"
   ]
  },
  {
   "cell_type": "code",
   "execution_count": 8,
   "metadata": {},
   "outputs": [
    {
     "data": {
      "text/plain": [
       "Int64"
      ]
     },
     "execution_count": 8,
     "metadata": {},
     "output_type": "execute_result"
    }
   ],
   "source": [
    "eltype(Iterators.flatten(((1, 2, 3), (4, 5, 6))))"
   ]
  },
  {
   "cell_type": "code",
   "execution_count": null,
   "metadata": {},
   "outputs": [],
   "source": []
  }
 ],
 "metadata": {
  "kernelspec": {
   "display_name": "Julia 1.6.2",
   "language": "julia",
   "name": "julia-1.6"
  },
  "language_info": {
   "file_extension": ".jl",
   "mimetype": "application/julia",
   "name": "julia",
   "version": "1.6.2"
  }
 },
 "nbformat": 4,
 "nbformat_minor": 4
}
