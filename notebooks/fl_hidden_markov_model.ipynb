{
 "cells": [
  {
   "cell_type": "markdown",
   "metadata": {},
   "source": [
    "This notebook is an adaptation of ForneyLab.jl demo at https://github.com/biaslab/ForneyLab.jl/blob/master/demo/hidden_markov_model_estimation.ipynb"
   ]
  },
  {
   "cell_type": "code",
   "execution_count": 273,
   "metadata": {},
   "outputs": [],
   "source": [
    "using Revise\n",
    "using DrWatson"
   ]
  },
  {
   "cell_type": "code",
   "execution_count": 274,
   "metadata": {},
   "outputs": [],
   "source": [
    "@quickactivate :ReactiveMPPaperExperiments"
   ]
  },
  {
   "cell_type": "code",
   "execution_count": 6,
   "metadata": {},
   "outputs": [],
   "source": [
    "using ForneyLab\n",
    "using BenchmarkTools\n",
    "using Random\n",
    "using CairoMakie"
   ]
  },
  {
   "cell_type": "code",
   "execution_count": 7,
   "metadata": {},
   "outputs": [],
   "source": [
    "import Distributions"
   ]
  },
  {
   "cell_type": "code",
   "execution_count": 253,
   "metadata": {},
   "outputs": [],
   "source": [
    "params = let\n",
    "    # Seed for reproducability\n",
    "    seed = 42\n",
    "    \n",
    "    # Number of samples in dataset\n",
    "    n = 50\n",
    "    \n",
    "    # Transition probabilities (some transitions are impossible)\n",
    "    A = [0.9 0.0 0.1; 0.1 0.9 0.0; 0.0 0.1 0.9]\n",
    "    \n",
    "    # Observation noise\n",
    "    B = [0.05 0.05 0.9; 0.05 0.9 0.05; 0.9 0.05 0.05] \n",
    "    \n",
    "    @strdict seed n A B\n",
    "end;"
   ]
  },
  {
   "cell_type": "code",
   "execution_count": 254,
   "metadata": {},
   "outputs": [],
   "source": [
    "z_data, y_data = generate_data(HMMModel(), params);"
   ]
  },
  {
   "cell_type": "code",
   "execution_count": 255,
   "metadata": {},
   "outputs": [
    {
     "data": {
      "image/png": "[encoded data removed]",
      "text/plain": [
       "Figure()"
      ]
     },
     "execution_count": 255,
     "metadata": {},
     "output_type": "execute_result"
    }
   ],
   "source": [
    "let \n",
    "    fig = Figure(resolution = (550, 350))\n",
    "    ax  = Axis(fig[1, 1])\n",
    "    \n",
    "    range = 1:length(z_data)\n",
    "    \n",
    "    scatter!(ax, range, argmax.(z_data), markersize = 8, label = \"Latent state\")\n",
    "    scatter!(ax, range, argmax.(y_data), markersize = 4, label = \"Observations\")\n",
    "    \n",
    "    axislegend(ax, position = :rb)\n",
    "    \n",
    "    fig\n",
    "end"
   ]
  },
  {
   "cell_type": "code",
   "execution_count": 256,
   "metadata": {},
   "outputs": [],
   "source": [
    "g = FactorGraph()\n",
    "\n",
    "model_n = params[\"n\"]\n",
    "\n",
    "@RV A ~ Dirichlet(ones(3,3)) # Vague prior on transition model\n",
    "@RV B ~ Dirichlet([ 1.0 1.0 10.0; 1.0 10.0 1.0; 10.0 1.0 1.0 ]) # Stronger prior on observation model\n",
    "\n",
    "z = Vector{Variable}(undef, model_n) # one-hot coding\n",
    "y = Vector{Variable}(undef, model_n) # one-hot coding\n",
    "\n",
    "@RV z[1] ~ Categorical(fill(1.0 / 3.0, 3))\n",
    "@RV y[1] ~ Transition(z[1], B)\n",
    "placeholder(y[1], :y, index=1, dims=(3,))\n",
    "\n",
    "for t = 2:model_n\n",
    "    @RV z[t] ~ Transition(z[t - 1], A)\n",
    "    @RV y[t] ~ Transition(z[t], B)\n",
    "    placeholder(y[t], :y, index=t, dims=(3,))\n",
    "end;"
   ]
  },
  {
   "cell_type": "code",
   "execution_count": 257,
   "metadata": {},
   "outputs": [
    {
     "name": "stdout",
     "output_type": "stream",
     "text": [
      " 19.692837 seconds (2.16 M allocations: 1.250 GiB, 1.34% gc time)\n"
     ]
    },
    {
     "data": {
      "text/plain": [
       "freeEnergy (generic function with 1 method)"
      ]
     },
     "execution_count": 257,
     "metadata": {},
     "output_type": "execute_result"
    }
   ],
   "source": [
    "@time begin\n",
    "    # Generate VMP algorithm with free energy\n",
    "    pfz = PosteriorFactorization(A, B, z, ids=[:A, :B, :Z])\n",
    "    algo = messagePassingAlgorithm(free_energy=true) # Generate algorithm\n",
    "    source_code = algorithmSourceCode(algo, free_energy=true); # Generate source code for algorithm\n",
    "    eval(Meta.parse(source_code)); # Load algorithm\n",
    "end"
   ]
  },
  {
   "cell_type": "code",
   "execution_count": 258,
   "metadata": {},
   "outputs": [
    {
     "name": "stdout",
     "output_type": "stream",
     "text": [
      " 19.779412 seconds (2.16 M allocations: 1.250 GiB, 1.20% gc time)\n"
     ]
    },
    {
     "data": {
      "text/plain": [
       "freeEnergy (generic function with 1 method)"
      ]
     },
     "execution_count": 258,
     "metadata": {},
     "output_type": "execute_result"
    }
   ],
   "source": [
    "@time begin\n",
    "    # Generate VMP algorithm with free energy\n",
    "    pfz = PosteriorFactorization(A, B, z, ids=[:A, :B, :Z])\n",
    "    algo = messagePassingAlgorithm(free_energy=true) # Generate algorithm\n",
    "    source_code = algorithmSourceCode(algo, free_energy=true); # Generate source code for algorithm\n",
    "    eval(Meta.parse(source_code)); # Load algorithm\n",
    "end"
   ]
  },
  {
   "cell_type": "code",
   "execution_count": 259,
   "metadata": {},
   "outputs": [
    {
     "name": "stdout",
     "output_type": "stream",
     "text": [
      " 19.461104 seconds (2.16 M allocations: 1.250 GiB, 1.22% gc time)\n"
     ]
    },
    {
     "data": {
      "text/plain": [
       "freeEnergy (generic function with 1 method)"
      ]
     },
     "execution_count": 259,
     "metadata": {},
     "output_type": "execute_result"
    }
   ],
   "source": [
    "@time begin\n",
    "    # Generate VMP algorithm with free energy\n",
    "    pfz = PosteriorFactorization(A, B, z, ids=[:A, :B, :Z])\n",
    "    algo = messagePassingAlgorithm(free_energy=true) # Generate algorithm\n",
    "    source_code = algorithmSourceCode(algo, free_energy=true); # Generate source code for algorithm\n",
    "    eval(Meta.parse(source_code)); # Load algorithm\n",
    "end"
   ]
  },
  {
   "cell_type": "code",
   "execution_count": 260,
   "metadata": {},
   "outputs": [],
   "source": [
    "# Because of the global evaluation we cannot robustly perform this benchmark in a loop like we did for Turing and ReactiveMP\n",
    "# So we change number of observations by hand and perform benchmarks separately \n",
    "# ForneyLab model creation time times\n",
    "# 50 - 19.780033 seconds (2.27 M allocations: 1.255 GiB, 1.45% gc time, 0.41% compilation time)\n",
    "# 100 - 40.818038 seconds (4.37 M allocations: 2.526 GiB, 1.36% gc time)\n",
    "# 250 - 99.596178 seconds (11.05 M allocations: 6.423 GiB, 1.37% gc time)"
   ]
  },
  {
   "cell_type": "code",
   "execution_count": 261,
   "metadata": {},
   "outputs": [],
   "source": [
    "data = Dict(:y => y_data) # Prepare data dictionary\n",
    ";"
   ]
  },
  {
   "cell_type": "code",
   "execution_count": 262,
   "metadata": {},
   "outputs": [
    {
     "data": {
      "text/plain": [
       "inference (generic function with 1 method)"
      ]
     },
     "execution_count": 262,
     "metadata": {},
     "output_type": "execute_result"
    }
   ],
   "source": [
    "function inference(data)\n",
    "   # Initial posterior factors\n",
    "    marginals = Dict{Symbol, ProbabilityDistribution}(\n",
    "        :A => vague(Dirichlet, (3,3)),\n",
    "        :B => vague(Dirichlet, (3,3)))\n",
    "\n",
    "    # Initialize data\n",
    "    n_its = 10\n",
    "\n",
    "    # Run algorithm\n",
    "    F = Vector{Float64}(undef, n_its)\n",
    "    for i = 1:n_its\n",
    "        stepZ!(data, marginals)\n",
    "        stepA!(data, marginals)\n",
    "        stepB!(data, marginals)\n",
    "        \n",
    "        F[i] = freeEnergy(data, marginals)\n",
    "    end\n",
    "    \n",
    "    marginals, F\n",
    "end"
   ]
  },
  {
   "cell_type": "code",
   "execution_count": 263,
   "metadata": {},
   "outputs": [
    {
     "name": "stdout",
     "output_type": "stream",
     "text": [
      "  8.441831 seconds (2.02 M allocations: 98.852 MiB, 99.69% compilation time)\n"
     ]
    }
   ],
   "source": [
    "@time inference(data);"
   ]
  },
  {
   "cell_type": "code",
   "execution_count": 264,
   "metadata": {},
   "outputs": [],
   "source": [
    "# ForneyLab compilation time\n",
    "# 50 - 8.648294 seconds (2.02 M allocations: 98.853 MiB, 99.69% compilation time)\n",
    "# 100 - 41.065441 seconds (3.86 M allocations: 181.209 MiB, 0.08% gc time, 99.87% compilation time)\n",
    "# 250 - 324.498051 seconds (9.41 M allocations: 429.731 MiB, 0.03% gc time, 99.95% compilation time)"
   ]
  },
  {
   "cell_type": "code",
   "execution_count": 265,
   "metadata": {},
   "outputs": [
    {
     "name": "stdout",
     "output_type": "stream",
     "text": [
      "  0.029621 seconds (155.76 k allocations: 10.834 MiB)\n"
     ]
    }
   ],
   "source": [
    "@time inference(data);"
   ]
  },
  {
   "cell_type": "code",
   "execution_count": 266,
   "metadata": {},
   "outputs": [
    {
     "name": "stdout",
     "output_type": "stream",
     "text": [
      "  0.062375 seconds (155.76 k allocations: 10.834 MiB, 49.97% gc time)\n"
     ]
    }
   ],
   "source": [
    "@time inference(data);"
   ]
  },
  {
   "cell_type": "code",
   "execution_count": 267,
   "metadata": {},
   "outputs": [
    {
     "name": "stdout",
     "output_type": "stream",
     "text": [
      "  22.272 ms (155755 allocations: 10.83 MiB)\n"
     ]
    }
   ],
   "source": [
    "@btime inference($data);"
   ]
  },
  {
   "cell_type": "code",
   "execution_count": 268,
   "metadata": {},
   "outputs": [],
   "source": [
    "# ForneyLab execution times\n",
    "# 50 - 22.798 ms (155755 allocations: 10.83 MiB)\n",
    "# 100 - 44.798 ms (308758 allocations: 21.56 MiB)\n",
    "# 250 - 111.525 ms (767758 allocations: 53.68 MiB)"
   ]
  },
  {
   "cell_type": "code",
   "execution_count": 269,
   "metadata": {},
   "outputs": [
    {
     "data": {
      "image/png": "[encoded data removed]",
      "text/plain": [
       "Figure()"
      ]
     },
     "execution_count": 269,
     "metadata": {},
     "output_type": "execute_result"
    }
   ],
   "source": [
    "inferred, fe = inference(data);\n",
    "z_estimated = map(i -> inferred[Symbol(:z_, i)], 1:model_n) \n",
    ";\n",
    "\n",
    "let\n",
    "    fig = Figure(resolution = (500, 350))\n",
    "    ax  = Axis(fig[1, 1])\n",
    "\n",
    "    lines!(ax, 1:length(fe), fe, label = \"Bethe Free Energy\", linewidth = 2)\n",
    "\n",
    "    axislegend(ax, labelsize = 16, position = :rt)\n",
    "\n",
    "    @saveplot fig \"hmm_fe_fl\"\n",
    "end"
   ]
  },
  {
   "cell_type": "code",
   "execution_count": 270,
   "metadata": {},
   "outputs": [
    {
     "name": "stdout",
     "output_type": "stream",
     "text": [
      "Average MSE: 1.1831229864414978\n"
     ]
    }
   ],
   "source": [
    "println(\"Average MSE: $(average_mse(argmax.(z_data), z_estimated))\")"
   ]
  },
  {
   "cell_type": "code",
   "execution_count": 271,
   "metadata": {},
   "outputs": [],
   "source": [
    "# ForneyLab average MSE\n",
    "# 50 - 1.1831229864414978\n",
    "# 100 - 3.3027947116245815\n",
    "# 250 - 5.502791963061574"
   ]
  },
  {
   "cell_type": "code",
   "execution_count": 272,
   "metadata": {},
   "outputs": [
    {
     "data": {
      "image/png": "[encoded data removed]",
      "text/plain": [
       "Figure()"
      ]
     },
     "execution_count": 272,
     "metadata": {},
     "output_type": "execute_result"
    }
   ],
   "source": [
    "let\n",
    "    fig = Figure(resolution = (500, 350))\n",
    "    ax  = Axis(fig[1, 1])\n",
    "\n",
    "    range       = 1:length(z_data)\n",
    "    z_states    = argmax.(z_data)\n",
    "    z_est       = Distributions.mean.(Distributions.Categorical.(ForneyLab.unsafeMeanVector.(z_estimated)))\n",
    "    z_err       = Distributions.std.(Distributions.Categorical.(ForneyLab.unsafeMeanVector.(z_estimated)))\n",
    "    c           = Makie.wong_colors()\n",
    "\n",
    "    lines!(ax, range, z_est, color = c[1], label = \"estimated\")\n",
    "    band!(ax, range, z_est .- z_err, z_est .+ z_err, color = (c[1], 0.45))\n",
    "    scatter!(ax, range, z_states, color = c[6], markersize = 5, label = \"real\")\n",
    "    \n",
    "    axislegend(ax, labelsize = 16, position = :rb)\n",
    "\n",
    "    @saveplot fig \"hmm_inference_fl\"\n",
    "end"
   ]
  },
  {
   "cell_type": "code",
   "execution_count": null,
   "metadata": {},
   "outputs": [],
   "source": []
  },
  {
   "cell_type": "code",
   "execution_count": null,
   "metadata": {},
   "outputs": [],
   "source": []
  }
 ],
 "metadata": {
  "kernelspec": {
   "display_name": "Julia 1.6.2",
   "language": "julia",
   "name": "julia-1.6"
  },
  "language_info": {
   "file_extension": ".jl",
   "mimetype": "application/julia",
   "name": "julia",
   "version": "1.6.2"
  }
 },
 "nbformat": 4,
 "nbformat_minor": 4
}
