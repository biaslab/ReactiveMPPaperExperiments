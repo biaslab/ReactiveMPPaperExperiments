{
 "cells": [
  {
   "cell_type": "markdown",
   "metadata": {},
   "source": [
    "This notebook is an adaptation of ForneyLab.jl demo at https://github.com/biaslab/ForneyLab.jl/blob/master/demo/hidden_markov_model_estimation.ipynb"
   ]
  },
  {
   "cell_type": "code",
   "execution_count": null,
   "metadata": {},
   "outputs": [],
   "source": [
    "using Revise\n",
    "using DrWatson"
   ]
  },
  {
   "cell_type": "code",
   "execution_count": null,
   "metadata": {},
   "outputs": [],
   "source": [
    "@quickactivate :ReactiveMPPaperExperiments"
   ]
  },
  {
   "cell_type": "code",
   "execution_count": null,
   "metadata": {},
   "outputs": [],
   "source": [
    "using ForneyLab\n",
    "using BenchmarkTools\n",
    "using Random\n",
    "using CairoMakie"
   ]
  },
  {
   "cell_type": "code",
   "execution_count": null,
   "metadata": {},
   "outputs": [],
   "source": [
    "import Distributions"
   ]
  },
  {
   "cell_type": "code",
   "execution_count": null,
   "metadata": {},
   "outputs": [],
   "source": [
    "params = let\n",
    "    # Seed for reproducability\n",
    "    seed = 42\n",
    "    \n",
    "    # Number of samples in dataset\n",
    "    n = 50\n",
    "    \n",
    "    # Transition probabilities (some transitions are impossible)\n",
    "    A = [0.9 0.0 0.1; 0.1 0.9 0.0; 0.0 0.1 0.9]\n",
    "    \n",
    "    # Observation noise\n",
    "    B = [0.05 0.05 0.9; 0.05 0.9 0.05; 0.9 0.05 0.05] \n",
    "    \n",
    "    @strdict seed n A B\n",
    "end;"
   ]
  },
  {
   "cell_type": "code",
   "execution_count": null,
   "metadata": {},
   "outputs": [],
   "source": [
    "z_data, y_data = generate_data(HMMModel(), params);"
   ]
  },
  {
   "cell_type": "code",
   "execution_count": null,
   "metadata": {},
   "outputs": [],
   "source": [
    "let \n",
    "    fig = Figure(resolution = (550, 350))\n",
    "    ax  = Axis(fig[1, 1])\n",
    "    \n",
    "    range = 1:length(z_data)\n",
    "    \n",
    "    scatter!(ax, range, argmax.(z_data), markersize = 8, label = \"Latent state\")\n",
    "    scatter!(ax, range, argmax.(y_data), markersize = 4, label = \"Observations\")\n",
    "    \n",
    "    axislegend(ax, position = :rb)\n",
    "    \n",
    "    fig\n",
    "end"
   ]
  },
  {
   "cell_type": "code",
   "execution_count": null,
   "metadata": {},
   "outputs": [],
   "source": [
    "g = FactorGraph()\n",
    "\n",
    "model_n = params[\"n\"]\n",
    "\n",
    "@RV A ~ Dirichlet(ones(3,3)) # Vague prior on transition model\n",
    "@RV B ~ Dirichlet([ 1.0 1.0 10.0; 1.0 10.0 1.0; 10.0 1.0 1.0 ]) # Stronger prior on observation model\n",
    "\n",
    "z = Vector{Variable}(undef, model_n) # one-hot coding\n",
    "y = Vector{Variable}(undef, model_n) # one-hot coding\n",
    "\n",
    "@RV z[1] ~ Categorical(fill(1.0 / 3.0, 3))\n",
    "@RV y[1] ~ Transition(z[1], B)\n",
    "placeholder(y[1], :y, index=1, dims=(3,))\n",
    "\n",
    "for t = 2:model_n\n",
    "    @RV z[t] ~ Transition(z[t - 1], A)\n",
    "    @RV y[t] ~ Transition(z[t], B)\n",
    "    placeholder(y[t], :y, index=t, dims=(3,))\n",
    "end;"
   ]
  },
  {
   "cell_type": "code",
   "execution_count": null,
   "metadata": {},
   "outputs": [],
   "source": [
    "@time begin\n",
    "    # Generate VMP algorithm with free energy\n",
    "    pfz = PosteriorFactorization(A, B, z, ids=[:A, :B, :Z])\n",
    "    algo = messagePassingAlgorithm(free_energy=true) # Generate algorithm\n",
    "    source_code = algorithmSourceCode(algo, free_energy=true); # Generate source code for algorithm\n",
    "    eval(Meta.parse(source_code)); # Load algorithm\n",
    "end"
   ]
  },
  {
   "cell_type": "code",
   "execution_count": null,
   "metadata": {},
   "outputs": [],
   "source": [
    "@time begin\n",
    "    # Generate VMP algorithm with free energy\n",
    "    pfz = PosteriorFactorization(A, B, z, ids=[:A, :B, :Z])\n",
    "    algo = messagePassingAlgorithm(free_energy=true) # Generate algorithm\n",
    "    source_code = algorithmSourceCode(algo, free_energy=true); # Generate source code for algorithm\n",
    "    eval(Meta.parse(source_code)); # Load algorithm\n",
    "end"
   ]
  },
  {
   "cell_type": "code",
   "execution_count": null,
   "metadata": {},
   "outputs": [],
   "source": [
    "@time begin\n",
    "    # Generate VMP algorithm with free energy\n",
    "    pfz = PosteriorFactorization(A, B, z, ids=[:A, :B, :Z])\n",
    "    algo = messagePassingAlgorithm(free_energy=true) # Generate algorithm\n",
    "    source_code = algorithmSourceCode(algo, free_energy=true); # Generate source code for algorithm\n",
    "    eval(Meta.parse(source_code)); # Load algorithm\n",
    "end"
   ]
  },
  {
   "cell_type": "code",
   "execution_count": null,
   "metadata": {},
   "outputs": [],
   "source": [
    "# Because of the global evaluation we cannot robustly perform this benchmark in a loop like we did for Turing and ReactiveMP\n",
    "# So we change number of observations by hand and perform benchmarks separately \n",
    "# ForneyLab model creation time times\n",
    "# 50  - 20.418973 seconds (2.19 M allocations: 1.250 GiB, 1.26% gc time)\n",
    "# 100 - 39.180089 seconds (4.44 M allocations: 2.527 GiB, 1.23% gc time)\n",
    "# 250 - 99.259535 seconds (11.23 M allocations: 6.425 GiB, 1.33% gc time)"
   ]
  },
  {
   "cell_type": "code",
   "execution_count": null,
   "metadata": {},
   "outputs": [],
   "source": [
    "data = Dict(:y => y_data) # Prepare data dictionary\n",
    ";"
   ]
  },
  {
   "cell_type": "code",
   "execution_count": null,
   "metadata": {},
   "outputs": [],
   "source": [
    "function inference(data)\n",
    "   # Initial posterior factors\n",
    "    marginals = Dict{Symbol, ProbabilityDistribution}(\n",
    "        :A => vague(Dirichlet, (3,3)),\n",
    "        :B => vague(Dirichlet, (3,3)))\n",
    "\n",
    "    # Initialize data\n",
    "    n_its = 20\n",
    "\n",
    "    # Run algorithm\n",
    "    F = Vector{Float64}(undef, n_its)\n",
    "    for i = 1:n_its\n",
    "        stepZ!(data, marginals)\n",
    "        stepA!(data, marginals)\n",
    "        stepB!(data, marginals)\n",
    "        \n",
    "        F[i] = freeEnergy(data, marginals)\n",
    "    end\n",
    "    \n",
    "    marginals, F\n",
    "end"
   ]
  },
  {
   "cell_type": "code",
   "execution_count": null,
   "metadata": {},
   "outputs": [],
   "source": [
    "@time inference(data);"
   ]
  },
  {
   "cell_type": "code",
   "execution_count": null,
   "metadata": {},
   "outputs": [],
   "source": [
    "# ForneyLab compilation time\n",
    "# 50  - 10.808682 seconds (2.18 M allocations: 109.735 MiB, 0.25% gc time, 99.46% compilation time)\n",
    "# 100 - 43.100315 seconds (4.17 M allocations: 202.856 MiB, 0.08% gc time, 99.76% compilation time)\n",
    "# 250 - 306.690375 seconds (10.18 M allocations: 483.654 MiB, 0.03% gc time, 99.89% compilation time)"
   ]
  },
  {
   "cell_type": "code",
   "execution_count": null,
   "metadata": {},
   "outputs": [],
   "source": [
    "@time inference(data);"
   ]
  },
  {
   "cell_type": "code",
   "execution_count": null,
   "metadata": {},
   "outputs": [],
   "source": [
    "@time inference(data);"
   ]
  },
  {
   "cell_type": "code",
   "execution_count": null,
   "metadata": {},
   "outputs": [],
   "source": [
    "@btime inference($data);"
   ]
  },
  {
   "cell_type": "code",
   "execution_count": null,
   "metadata": {},
   "outputs": [],
   "source": [
    "# ForneyLab execution times\n",
    "# 50 - 46.888 ms (311485 allocations: 21.66 MiB)\n",
    "# 100 - 93.172 ms (617488 allocations: 43.10 MiB)\n",
    "# 250 - 228.291 ms (1535488 allocations: 107.34 MiB)"
   ]
  },
  {
   "cell_type": "code",
   "execution_count": null,
   "metadata": {},
   "outputs": [],
   "source": [
    "inferred, fe = inference(data);\n",
    "z_estimated = map(i -> inferred[Symbol(:z_, i)], 1:model_n) \n",
    ";\n",
    "\n",
    "let\n",
    "    fig = Figure(resolution = (500, 350))\n",
    "    ax  = Axis(fig[1, 1])\n",
    "\n",
    "    lines!(ax, 1:length(fe), fe, label = \"Bethe Free Energy\", linewidth = 2)\n",
    "\n",
    "    axislegend(ax, labelsize = 16, position = :rt)\n",
    "\n",
    "    @saveplot fig \"hmm_fe_fl\"\n",
    "end"
   ]
  },
  {
   "cell_type": "code",
   "execution_count": null,
   "metadata": {},
   "outputs": [],
   "source": [
    "println(\"Average MSE: $(average_mse(z_data, z_estimated) ./ params[\"n\"])\")"
   ]
  },
  {
   "cell_type": "code",
   "execution_count": null,
   "metadata": {},
   "outputs": [],
   "source": [
    "# ForneyLab average MSE\n",
    "# 50 - 0.03036478575321543\n",
    "# 100 - 0.0886958359640729\n",
    "# 250 - 0.09960443944437947"
   ]
  },
  {
   "cell_type": "code",
   "execution_count": null,
   "metadata": {},
   "outputs": [],
   "source": [
    "let\n",
    "    fig = Figure(resolution = (500, 350))\n",
    "    ax  = Axis(fig[1, 1])\n",
    "\n",
    "    range       = 1:length(z_data)\n",
    "    z_states    = argmax.(z_data)\n",
    "    z_est       = Distributions.mean.(Distributions.Categorical.(ForneyLab.unsafeMeanVector.(z_estimated)))\n",
    "    z_err       = Distributions.std.(Distributions.Categorical.(ForneyLab.unsafeMeanVector.(z_estimated)))\n",
    "    c           = Makie.wong_colors()\n",
    "\n",
    "    lines!(ax, range, z_est, color = c[1], label = \"estimated\")\n",
    "    band!(ax, range, z_est .- z_err, z_est .+ z_err, color = (c[1], 0.45))\n",
    "    scatter!(ax, range, z_states, color = c[6], markersize = 5, label = \"real\")\n",
    "    \n",
    "    axislegend(ax, labelsize = 16, position = :rb)\n",
    "\n",
    "    @saveplot fig \"hmm_inference_fl\"\n",
    "end"
   ]
  },
  {
   "cell_type": "code",
   "execution_count": null,
   "metadata": {},
   "outputs": [],
   "source": []
  }
 ],
 "metadata": {
  "kernelspec": {
   "display_name": "Julia 1.6.7",
   "language": "julia",
   "name": "julia-1.6"
  },
  "language_info": {
   "file_extension": ".jl",
   "mimetype": "application/julia",
   "name": "julia",
   "version": "1.6.7"
  }
 },
 "nbformat": 4,
 "nbformat_minor": 4
}
