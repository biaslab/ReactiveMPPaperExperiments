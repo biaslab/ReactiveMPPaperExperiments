{
 "cells": [
  {
   "cell_type": "markdown",
   "metadata": {},
   "source": [
    "This notebook is an adaption of ForneyLab.jl demo at https://github.com/biaslab/ForneyLab.jl/blob/master/demo/hidden_markov_model_estimation.ipynb"
   ]
  },
  {
   "cell_type": "code",
   "execution_count": 34,
   "metadata": {},
   "outputs": [],
   "source": [
    "using DrWatson\n",
    "\n",
    "@quickactivate :ReactiveMPPaperExperiments"
   ]
  },
  {
   "cell_type": "code",
   "execution_count": 35,
   "metadata": {},
   "outputs": [],
   "source": [
    "using ForneyLab\n",
    "using BenchmarkTools\n",
    "using Random"
   ]
  },
  {
   "cell_type": "code",
   "execution_count": 36,
   "metadata": {},
   "outputs": [],
   "source": [
    "import Distributions"
   ]
  },
  {
   "cell_type": "code",
   "execution_count": 37,
   "metadata": {},
   "outputs": [
    {
     "data": {
      "text/plain": [
       "normalise (generic function with 1 method)"
      ]
     },
     "execution_count": 37,
     "metadata": {},
     "output_type": "execute_result"
    }
   ],
   "source": [
    "function rand_vec(distribution::Distributions.Categorical) \n",
    "    k = Distributions.ncategories(distribution)\n",
    "    s = zeros(k)\n",
    "    s[ rand(distribution) ] = 1.0\n",
    "    s\n",
    "end\n",
    "\n",
    "function normalise(a)\n",
    "    return a ./ sum(a)\n",
    "end"
   ]
  },
  {
   "cell_type": "code",
   "execution_count": 53,
   "metadata": {},
   "outputs": [
    {
     "data": {
      "text/plain": [
       "generate_data (generic function with 1 method)"
      ]
     },
     "execution_count": 53,
     "metadata": {},
     "output_type": "execute_result"
    }
   ],
   "source": [
    "function generate_data(n_samples, A, B; seed = 124)\n",
    "    Random.seed!(seed)\n",
    "\n",
    "    # Initial state\n",
    "    s_0 = [1.0, 0.0, 0.0] \n",
    "\n",
    "    # one-hot encoding of the states and of the observations\n",
    "    s = Vector{Vector{Float64}}(undef, n_samples) \n",
    "    x = Vector{Vector{Float64}}(undef, n_samples)\n",
    "\n",
    "    s_prev = s_0\n",
    "\n",
    "    for t in 1:n_samples\n",
    "        s[t] = rand_vec(Distributions.Categorical(normalise(A * s_prev)))\n",
    "        x[t] = rand_vec(Distributions.Categorical(normalise(B * s[t])))\n",
    "        s_prev = s[t]\n",
    "    end\n",
    "\n",
    "    return x, s\n",
    "end"
   ]
  },
  {
   "cell_type": "code",
   "execution_count": 121,
   "metadata": {},
   "outputs": [
    {
     "data": {
      "text/plain": [
       "250"
      ]
     },
     "execution_count": 121,
     "metadata": {},
     "output_type": "execute_result"
    }
   ],
   "source": [
    "seed = 42\n",
    "\n",
    "# Number of observations on our model for full graph\n",
    "n = 250"
   ]
  },
  {
   "cell_type": "code",
   "execution_count": 122,
   "metadata": {},
   "outputs": [
    {
     "data": {
      "text/plain": [
       "3×3 Matrix{Float64}:\n",
       " 0.9   0.05  0.05\n",
       " 0.05  0.9   0.05\n",
       " 0.05  0.05  0.9"
      ]
     },
     "execution_count": 122,
     "metadata": {},
     "output_type": "execute_result"
    }
   ],
   "source": [
    "# Transition probabilities (some transitions are impossible)\n",
    "A = [0.9 0.0 0.1; 0.1 0.9 0.0; 0.0 0.1 0.9] \n",
    "# Observation noise\n",
    "B = [0.9 0.05 0.05; 0.05 0.9 0.05; 0.05 0.05 0.9] "
   ]
  },
  {
   "cell_type": "code",
   "execution_count": 123,
   "metadata": {},
   "outputs": [],
   "source": [
    "x_data, s_data = generate_data(n, A, B, seed = seed);"
   ]
  },
  {
   "cell_type": "code",
   "execution_count": 124,
   "metadata": {},
   "outputs": [],
   "source": [
    "g = FactorGraph()\n",
    "\n",
    "@RV A ~ Dirichlet(ones(3,3)) # Vague prior on transition model\n",
    "@RV B ~ Dirichlet([ 10.0 1.0 1.0; 1.0 10.0 1.0; 1.0 1.0 10.0 ]) # Stronger prior on observation model\n",
    "@RV s_0 ~ Categorical(1.0 / 3.0 * ones(3))\n",
    "\n",
    "s = Vector{Variable}(undef, n) # one-hot coding\n",
    "x = Vector{Variable}(undef, n) # one-hot coding\n",
    "\n",
    "s_t_min = s_0\n",
    "\n",
    "for t = 1:n\n",
    "    @RV s[t] ~ Transition(s_t_min, A)\n",
    "    @RV x[t] ~ Transition(s[t], B)\n",
    "    \n",
    "    s_t_min = s[t]\n",
    "    \n",
    "    placeholder(x[t], :x, index=t, dims=(3,))\n",
    "end;"
   ]
  },
  {
   "cell_type": "code",
   "execution_count": 125,
   "metadata": {},
   "outputs": [
    {
     "name": "stdout",
     "output_type": "stream",
     "text": [
      " 86.198745 seconds (9.60 M allocations: 5.550 GiB, 0.58% gc time)\n"
     ]
    },
    {
     "data": {
      "text/plain": [
       "freeEnergy (generic function with 1 method)"
      ]
     },
     "execution_count": 125,
     "metadata": {},
     "output_type": "execute_result"
    }
   ],
   "source": [
    "@time begin\n",
    "    # Generate VMP algorithm with free energy\n",
    "    pfz = PosteriorFactorization(A, B, [s_0; s], ids=[:A, :B, :S])\n",
    "    algo = messagePassingAlgorithm(free_energy=true) # Generate algorithm\n",
    "    source_code = algorithmSourceCode(algo, free_energy=true); # Generate source code for algorithm\n",
    "    eval(Meta.parse(source_code)); # Load algorithm\n",
    "end"
   ]
  },
  {
   "cell_type": "code",
   "execution_count": 126,
   "metadata": {},
   "outputs": [
    {
     "name": "stdout",
     "output_type": "stream",
     "text": [
      " 95.507109 seconds (9.60 M allocations: 5.550 GiB, 0.55% gc time)\n"
     ]
    },
    {
     "data": {
      "text/plain": [
       "freeEnergy (generic function with 1 method)"
      ]
     },
     "execution_count": 126,
     "metadata": {},
     "output_type": "execute_result"
    }
   ],
   "source": [
    "@time begin\n",
    "    # Generate VMP algorithm with free energy\n",
    "    pfz = PosteriorFactorization(A, B, [s_0; s], ids=[:A, :B, :S])\n",
    "    algo = messagePassingAlgorithm(free_energy=true) # Generate algorithm\n",
    "    source_code = algorithmSourceCode(algo, free_energy=true); # Generate source code for algorithm\n",
    "    eval(Meta.parse(source_code)); # Load algorithm\n",
    "end"
   ]
  },
  {
   "cell_type": "code",
   "execution_count": 127,
   "metadata": {},
   "outputs": [
    {
     "name": "stdout",
     "output_type": "stream",
     "text": [
      " 89.291174 seconds (9.60 M allocations: 5.550 GiB, 0.55% gc time)\n"
     ]
    },
    {
     "data": {
      "text/plain": [
       "freeEnergy (generic function with 1 method)"
      ]
     },
     "execution_count": 127,
     "metadata": {},
     "output_type": "execute_result"
    }
   ],
   "source": [
    "@time begin\n",
    "    # Generate VMP algorithm with free energy\n",
    "    pfz = PosteriorFactorization(A, B, [s_0; s], ids=[:A, :B, :S])\n",
    "    algo = messagePassingAlgorithm(free_energy=true) # Generate algorithm\n",
    "    source_code = algorithmSourceCode(algo, free_energy=true); # Generate source code for algorithm\n",
    "    eval(Meta.parse(source_code)); # Load algorithm\n",
    "end"
   ]
  },
  {
   "cell_type": "code",
   "execution_count": 128,
   "metadata": {},
   "outputs": [],
   "source": [
    "# Because of the global evaluation we cannot robustly perform this benchmark in a loop like we did for Turing and ReactiveMP\n",
    "# So we change number of observations by hand and perform benchmarks separately \n",
    "# ForneyLab model creation time times\n",
    "# 50 - 18.112930 seconds (1.89 M allocations: 1.086 GiB, 1.48% gc time, 0.04% compilation time)\n",
    "# 100 - 35.324736 seconds (3.81 M allocations: 2.185 GiB, 0.55% gc time)\n",
    "# 250 - 89.291174 seconds (9.60 M allocations: 5.550 GiB, 0.55% gc time)\n",
    "# 500 - "
   ]
  },
  {
   "cell_type": "code",
   "execution_count": 129,
   "metadata": {},
   "outputs": [],
   "source": [
    "data = Dict(:x => x_data) # Prepare data dictionary\n",
    ";"
   ]
  },
  {
   "cell_type": "code",
   "execution_count": 130,
   "metadata": {},
   "outputs": [
    {
     "data": {
      "text/plain": [
       "inference (generic function with 1 method)"
      ]
     },
     "execution_count": 130,
     "metadata": {},
     "output_type": "execute_result"
    }
   ],
   "source": [
    "function inference(data)\n",
    "   # Initial posterior factors\n",
    "    marginals = Dict{Symbol, ProbabilityDistribution}(\n",
    "        :A => vague(Dirichlet, (3,3)),\n",
    "        :B => vague(Dirichlet, (3,3)))\n",
    "\n",
    "    # Initialize data\n",
    "    n_its = 15\n",
    "\n",
    "    # Run algorithm\n",
    "    F = Vector{Float64}(undef, n_its)\n",
    "    for i = 1:n_its\n",
    "        stepS!(data, marginals)\n",
    "        stepB!(data, marginals)\n",
    "        stepA!(data, marginals)\n",
    "\n",
    "        F[i] = freeEnergy(data, marginals)\n",
    "    end\n",
    "    marginals, F\n",
    "end"
   ]
  },
  {
   "cell_type": "code",
   "execution_count": 131,
   "metadata": {},
   "outputs": [
    {
     "name": "stdout",
     "output_type": "stream",
     "text": [
      "369.438220 seconds (9.80 M allocations: 456.601 MiB, 0.12% gc time, 99.79% compilation time)\n"
     ]
    }
   ],
   "source": [
    "@time inference(data);"
   ]
  },
  {
   "cell_type": "code",
   "execution_count": 132,
   "metadata": {},
   "outputs": [],
   "source": [
    "# ForneyLab compilation time\n",
    "# 50 - 10.539947 seconds (2.10 M allocations: 104.189 MiB, 0.24% gc time, 99.61% compilation time)\n",
    "# 100 - 49.138086 seconds (4.02 M allocations: 191.916 MiB, 0.14% gc time, 99.78% compilation time)\n",
    "# 250 - 369.438220 seconds (9.80 M allocations: 456.601 MiB, 0.12% gc time, 99.79% compilation time)"
   ]
  },
  {
   "cell_type": "code",
   "execution_count": 133,
   "metadata": {},
   "outputs": [
    {
     "name": "stdout",
     "output_type": "stream",
     "text": [
      "  0.942113 seconds (1.15 M allocations: 80.665 MiB, 73.97% gc time)\n"
     ]
    }
   ],
   "source": [
    "@time inference(data);"
   ]
  },
  {
   "cell_type": "code",
   "execution_count": 134,
   "metadata": {},
   "outputs": [
    {
     "name": "stdout",
     "output_type": "stream",
     "text": [
      "  0.753549 seconds (1.15 M allocations: 80.665 MiB, 68.04% gc time)\n"
     ]
    }
   ],
   "source": [
    "@time inference(data);"
   ]
  },
  {
   "cell_type": "code",
   "execution_count": 135,
   "metadata": {},
   "outputs": [
    {
     "name": "stdout",
     "output_type": "stream",
     "text": [
      "  217.223 ms (1154113 allocations: 80.67 MiB)\n"
     ]
    }
   ],
   "source": [
    "@btime inference($data);"
   ]
  },
  {
   "cell_type": "code",
   "execution_count": 120,
   "metadata": {},
   "outputs": [],
   "source": [
    "# ForneyLab execution times\n",
    "# 50 - 33.908 ms (236110 allocations: 16.40 MiB)\n",
    "# 100 - 84.347 ms (465613 allocations: 32.48 MiB)\n",
    "# 250 - 217.223 ms (1154113 allocations: 80.67 MiB)"
   ]
  },
  {
   "cell_type": "code",
   "execution_count": null,
   "metadata": {},
   "outputs": [],
   "source": []
  },
  {
   "cell_type": "code",
   "execution_count": null,
   "metadata": {},
   "outputs": [],
   "source": []
  },
  {
   "cell_type": "code",
   "execution_count": null,
   "metadata": {},
   "outputs": [],
   "source": []
  },
  {
   "cell_type": "code",
   "execution_count": null,
   "metadata": {},
   "outputs": [],
   "source": []
  },
  {
   "cell_type": "code",
   "execution_count": null,
   "metadata": {},
   "outputs": [],
   "source": []
  },
  {
   "cell_type": "code",
   "execution_count": null,
   "metadata": {},
   "outputs": [],
   "source": []
  },
  {
   "cell_type": "code",
   "execution_count": null,
   "metadata": {},
   "outputs": [],
   "source": []
  },
  {
   "cell_type": "code",
   "execution_count": 55,
   "metadata": {},
   "outputs": [],
   "source": [
    "inferred = step!(data) # Execute inference\n",
    "marginals = map(i -> inferred[Symbol(:x_, i)], 1:n_smoothing) \n",
    ";"
   ]
  },
  {
   "cell_type": "code",
   "execution_count": 56,
   "metadata": {},
   "outputs": [],
   "source": [
    "# ForneyLab execution times\n",
    "# 50 - 1.482 ms (19742 allocations: 2.07 MiB)\n",
    "# 100 - 3.329 ms (39642 allocations: 4.14 MiB)\n",
    "# 250 - 8.189 ms (99600 allocations: 10.39 MiB)"
   ]
  },
  {
   "cell_type": "code",
   "execution_count": 13,
   "metadata": {},
   "outputs": [],
   "source": [
    "using Plots"
   ]
  },
  {
   "cell_type": "code",
   "execution_count": 58,
   "metadata": {},
   "outputs": [],
   "source": [
    "using Plots"
   ]
  },
  {
   "cell_type": "code",
   "execution_count": 59,
   "metadata": {},
   "outputs": [
    {
     "data": {
      "image/svg+xml": [
       "<?xml version=\"1.0\" encoding=\"utf-8\"?>\n",
       "<svg xmlns=\"http://www.w3.org/2000/svg\" xmlns:xlink=\"http://www.w3.org/1999/xlink\" width=\"600\" height=\"400\" viewBox=\"0 0 2400 1600\">\n",
       "<defs>\n",
       "  <clipPath id=\"clip130\">\n",
       "    <rect x=\"0\" y=\"0\" width=\"2400\" height=\"1600\"/>\n",
       "  </clipPath>\n",
       "</defs>\n",
       "<path clip-path=\"url(#clip130)\" d=\"\n",
       "M0 1600 L2400 1600 L2400 0 L0 0  Z\n",
       "  \" fill=\"#ffffff\" fill-rule=\"evenodd\" fill-opacity=\"1\"/>\n",
       "<defs>\n",
       "  <clipPath id=\"clip131\">\n",
       "    <rect x=\"480\" y=\"0\" width=\"1681\" height=\"1600\"/>\n",
       "  </clipPath>\n",
       "</defs>\n",
       "<path clip-path=\"url(#clip130)\" d=\"\n",
       "M242.135 1436.14 L2352.76 1436.14 L2352.76 106.192 L242.135 106.192  Z\n",
       "  \" fill=\"#ffffff\" fill-rule=\"evenodd\" fill-opacity=\"1\"/>\n",
       "<defs>\n",
       "  <clipPath id=\"clip132\">\n",
       "    <rect x=\"242\" y=\"106\" width=\"2112\" height=\"1331\"/>\n",
       "  </clipPath>\n",
       "</defs>\n",
       "<polyline clip-path=\"url(#clip132)\" style=\"stroke:#000000; stroke-linecap:butt; stroke-linejoin:round; stroke-width:2; stroke-opacity:0.1; fill:none\" points=\"\n",
       "  281.757,1436.14 281.757,106.192 \n",
       "  \"/>\n",
       "<polyline clip-path=\"url(#clip132)\" style=\"stroke:#000000; stroke-linecap:butt; stroke-linejoin:round; stroke-width:2; stroke-opacity:0.1; fill:none\" points=\"\n",
       "  784.573,1436.14 784.573,106.192 \n",
       "  \"/>\n",
       "<polyline clip-path=\"url(#clip132)\" style=\"stroke:#000000; stroke-linecap:butt; stroke-linejoin:round; stroke-width:2; stroke-opacity:0.1; fill:none\" points=\"\n",
       "  1287.39,1436.14 1287.39,106.192 \n",
       "  \"/>\n",
       "<polyline clip-path=\"url(#clip132)\" style=\"stroke:#000000; stroke-linecap:butt; stroke-linejoin:round; stroke-width:2; stroke-opacity:0.1; fill:none\" points=\"\n",
       "  1790.21,1436.14 1790.21,106.192 \n",
       "  \"/>\n",
       "<polyline clip-path=\"url(#clip132)\" style=\"stroke:#000000; stroke-linecap:butt; stroke-linejoin:round; stroke-width:2; stroke-opacity:0.1; fill:none\" points=\"\n",
       "  2293.02,1436.14 2293.02,106.192 \n",
       "  \"/>\n",
       "<polyline clip-path=\"url(#clip130)\" style=\"stroke:#000000; stroke-linecap:butt; stroke-linejoin:round; stroke-width:4; stroke-opacity:1; fill:none\" points=\"\n",
       "  242.135,1436.14 2352.76,1436.14 \n",
       "  \"/>\n",
       "<polyline clip-path=\"url(#clip130)\" style=\"stroke:#000000; stroke-linecap:butt; stroke-linejoin:round; stroke-width:4; stroke-opacity:1; fill:none\" points=\"\n",
       "  281.757,1436.14 281.757,1420.18 \n",
       "  \"/>\n",
       "<polyline clip-path=\"url(#clip130)\" style=\"stroke:#000000; stroke-linecap:butt; stroke-linejoin:round; stroke-width:4; stroke-opacity:1; fill:none\" points=\"\n",
       "  784.573,1436.14 784.573,1420.18 \n",
       "  \"/>\n",
       "<polyline clip-path=\"url(#clip130)\" style=\"stroke:#000000; stroke-linecap:butt; stroke-linejoin:round; stroke-width:4; stroke-opacity:1; fill:none\" points=\"\n",
       "  1287.39,1436.14 1287.39,1420.18 \n",
       "  \"/>\n",
       "<polyline clip-path=\"url(#clip130)\" style=\"stroke:#000000; stroke-linecap:butt; stroke-linejoin:round; stroke-width:4; stroke-opacity:1; fill:none\" points=\"\n",
       "  1790.21,1436.14 1790.21,1420.18 \n",
       "  \"/>\n",
       "<polyline clip-path=\"url(#clip130)\" style=\"stroke:#000000; stroke-linecap:butt; stroke-linejoin:round; stroke-width:4; stroke-opacity:1; fill:none\" points=\"\n",
       "  2293.02,1436.14 2293.02,1420.18 \n",
       "  \"/>\n",
       "<path clip-path=\"url(#clip130)\" d=\"M281.757 1465.33 Q278.145 1465.33 276.317 1468.9 Q274.511 1472.44 274.511 1479.57 Q274.511 1486.67 276.317 1490.24 Q278.145 1493.78 281.757 1493.78 Q285.391 1493.78 287.196 1490.24 Q289.025 1486.67 289.025 1479.57 Q289.025 1472.44 287.196 1468.9 Q285.391 1465.33 281.757 1465.33 M281.757 1461.63 Q287.567 1461.63 290.622 1466.23 Q293.701 1470.82 293.701 1479.57 Q293.701 1488.29 290.622 1492.9 Q287.567 1497.48 281.757 1497.48 Q275.946 1497.48 272.868 1492.9 Q269.812 1488.29 269.812 1479.57 Q269.812 1470.82 272.868 1466.23 Q275.946 1461.63 281.757 1461.63 Z\" fill=\"#000000\" fill-rule=\"evenodd\" fill-opacity=\"1\" /><path clip-path=\"url(#clip130)\" d=\"M763.844 1492.88 L780.163 1492.88 L780.163 1496.81 L758.219 1496.81 L758.219 1492.88 Q760.881 1490.12 765.464 1485.49 Q770.071 1480.84 771.251 1479.5 Q773.496 1476.97 774.376 1475.24 Q775.279 1473.48 775.279 1471.79 Q775.279 1469.03 773.334 1467.3 Q771.413 1465.56 768.311 1465.56 Q766.112 1465.56 763.659 1466.33 Q761.228 1467.09 758.45 1468.64 L758.45 1463.92 Q761.274 1462.78 763.728 1462.21 Q766.182 1461.63 768.219 1461.63 Q773.589 1461.63 776.783 1464.31 Q779.978 1467 779.978 1471.49 Q779.978 1473.62 779.168 1475.54 Q778.381 1477.44 776.274 1480.03 Q775.696 1480.7 772.594 1483.92 Q769.492 1487.11 763.844 1492.88 Z\" fill=\"#000000\" fill-rule=\"evenodd\" fill-opacity=\"1\" /><path clip-path=\"url(#clip130)\" d=\"M790.024 1462.25 L808.381 1462.25 L808.381 1466.19 L794.307 1466.19 L794.307 1474.66 Q795.325 1474.31 796.344 1474.15 Q797.362 1473.96 798.381 1473.96 Q804.168 1473.96 807.547 1477.14 Q810.927 1480.31 810.927 1485.72 Q810.927 1491.3 807.455 1494.4 Q803.982 1497.48 797.663 1497.48 Q795.487 1497.48 793.219 1497.11 Q790.973 1496.74 788.566 1496 L788.566 1491.3 Q790.649 1492.44 792.871 1492.99 Q795.094 1493.55 797.57 1493.55 Q801.575 1493.55 803.913 1491.44 Q806.251 1489.34 806.251 1485.72 Q806.251 1482.11 803.913 1480.01 Q801.575 1477.9 797.57 1477.9 Q795.695 1477.9 793.82 1478.32 Q791.969 1478.73 790.024 1479.61 L790.024 1462.25 Z\" fill=\"#000000\" fill-rule=\"evenodd\" fill-opacity=\"1\" /><path clip-path=\"url(#clip130)\" d=\"M1262.09 1462.25 L1280.44 1462.25 L1280.44 1466.19 L1266.37 1466.19 L1266.37 1474.66 Q1267.39 1474.31 1268.41 1474.15 Q1269.43 1473.96 1270.44 1473.96 Q1276.23 1473.96 1279.61 1477.14 Q1282.99 1480.31 1282.99 1485.72 Q1282.99 1491.3 1279.52 1494.4 Q1276.05 1497.48 1269.73 1497.48 Q1267.55 1497.48 1265.28 1497.11 Q1263.04 1496.74 1260.63 1496 L1260.63 1491.3 Q1262.71 1492.44 1264.94 1492.99 Q1267.16 1493.55 1269.63 1493.55 Q1273.64 1493.55 1275.98 1491.44 Q1278.31 1489.34 1278.31 1485.72 Q1278.31 1482.11 1275.98 1480.01 Q1273.64 1477.9 1269.63 1477.9 Q1267.76 1477.9 1265.88 1478.32 Q1264.03 1478.73 1262.09 1479.61 L1262.09 1462.25 Z\" fill=\"#000000\" fill-rule=\"evenodd\" fill-opacity=\"1\" /><path clip-path=\"url(#clip130)\" d=\"M1302.2 1465.33 Q1298.59 1465.33 1296.76 1468.9 Q1294.96 1472.44 1294.96 1479.57 Q1294.96 1486.67 1296.76 1490.24 Q1298.59 1493.78 1302.2 1493.78 Q1305.84 1493.78 1307.64 1490.24 Q1309.47 1486.67 1309.47 1479.57 Q1309.47 1472.44 1307.64 1468.9 Q1305.84 1465.33 1302.2 1465.33 M1302.2 1461.63 Q1308.01 1461.63 1311.07 1466.23 Q1314.15 1470.82 1314.15 1479.57 Q1314.15 1488.29 1311.07 1492.9 Q1308.01 1497.48 1302.2 1497.48 Q1296.39 1497.48 1293.31 1492.9 Q1290.26 1488.29 1290.26 1479.57 Q1290.26 1470.82 1293.31 1466.23 Q1296.39 1461.63 1302.2 1461.63 Z\" fill=\"#000000\" fill-rule=\"evenodd\" fill-opacity=\"1\" /><path clip-path=\"url(#clip130)\" d=\"M1764.06 1462.25 L1786.28 1462.25 L1786.28 1464.24 L1773.74 1496.81 L1768.85 1496.81 L1780.66 1466.19 L1764.06 1466.19 L1764.06 1462.25 Z\" fill=\"#000000\" fill-rule=\"evenodd\" fill-opacity=\"1\" /><path clip-path=\"url(#clip130)\" d=\"M1795.45 1462.25 L1813.8 1462.25 L1813.8 1466.19 L1799.73 1466.19 L1799.73 1474.66 Q1800.75 1474.31 1801.77 1474.15 Q1802.79 1473.96 1803.8 1473.96 Q1809.59 1473.96 1812.97 1477.14 Q1816.35 1480.31 1816.35 1485.72 Q1816.35 1491.3 1812.88 1494.4 Q1809.41 1497.48 1803.09 1497.48 Q1800.91 1497.48 1798.64 1497.11 Q1796.4 1496.74 1793.99 1496 L1793.99 1491.3 Q1796.07 1492.44 1798.3 1492.99 Q1800.52 1493.55 1802.99 1493.55 Q1807 1493.55 1809.34 1491.44 Q1811.67 1489.34 1811.67 1485.72 Q1811.67 1482.11 1809.34 1480.01 Q1807 1477.9 1802.99 1477.9 Q1801.12 1477.9 1799.24 1478.32 Q1797.39 1478.73 1795.45 1479.61 L1795.45 1462.25 Z\" fill=\"#000000\" fill-rule=\"evenodd\" fill-opacity=\"1\" /><path clip-path=\"url(#clip130)\" d=\"M2252.63 1492.88 L2260.27 1492.88 L2260.27 1466.51 L2251.96 1468.18 L2251.96 1463.92 L2260.22 1462.25 L2264.9 1462.25 L2264.9 1492.88 L2272.54 1492.88 L2272.54 1496.81 L2252.63 1496.81 L2252.63 1492.88 Z\" fill=\"#000000\" fill-rule=\"evenodd\" fill-opacity=\"1\" /><path clip-path=\"url(#clip130)\" d=\"M2291.98 1465.33 Q2288.37 1465.33 2286.54 1468.9 Q2284.73 1472.44 2284.73 1479.57 Q2284.73 1486.67 2286.54 1490.24 Q2288.37 1493.78 2291.98 1493.78 Q2295.61 1493.78 2297.42 1490.24 Q2299.25 1486.67 2299.25 1479.57 Q2299.25 1472.44 2297.42 1468.9 Q2295.61 1465.33 2291.98 1465.33 M2291.98 1461.63 Q2297.79 1461.63 2300.85 1466.23 Q2303.92 1470.82 2303.92 1479.57 Q2303.92 1488.29 2300.85 1492.9 Q2297.79 1497.48 2291.98 1497.48 Q2286.17 1497.48 2283.09 1492.9 Q2280.04 1488.29 2280.04 1479.57 Q2280.04 1470.82 2283.09 1466.23 Q2286.17 1461.63 2291.98 1461.63 Z\" fill=\"#000000\" fill-rule=\"evenodd\" fill-opacity=\"1\" /><path clip-path=\"url(#clip130)\" d=\"M2322.14 1465.33 Q2318.53 1465.33 2316.7 1468.9 Q2314.9 1472.44 2314.9 1479.57 Q2314.9 1486.67 2316.7 1490.24 Q2318.53 1493.78 2322.14 1493.78 Q2325.78 1493.78 2327.58 1490.24 Q2329.41 1486.67 2329.41 1479.57 Q2329.41 1472.44 2327.58 1468.9 Q2325.78 1465.33 2322.14 1465.33 M2322.14 1461.63 Q2327.95 1461.63 2331.01 1466.23 Q2334.09 1470.82 2334.09 1479.57 Q2334.09 1488.29 2331.01 1492.9 Q2327.95 1497.48 2322.14 1497.48 Q2316.33 1497.48 2313.25 1492.9 Q2310.2 1488.29 2310.2 1479.57 Q2310.2 1470.82 2313.25 1466.23 Q2316.33 1461.63 2322.14 1461.63 Z\" fill=\"#000000\" fill-rule=\"evenodd\" fill-opacity=\"1\" /><path clip-path=\"url(#clip130)\" d=\"M1159.37 1530.89 L1188.6 1530.89 L1188.6 1534.83 L1176.33 1534.83 L1176.33 1565.45 L1171.64 1565.45 L1171.64 1534.83 L1159.37 1534.83 L1159.37 1530.89 Z\" fill=\"#000000\" fill-rule=\"evenodd\" fill-opacity=\"1\" /><path clip-path=\"url(#clip130)\" d=\"M1191.47 1539.53 L1195.73 1539.53 L1195.73 1565.45 L1191.47 1565.45 L1191.47 1539.53 M1191.47 1529.43 L1195.73 1529.43 L1195.73 1534.83 L1191.47 1534.83 L1191.47 1529.43 Z\" fill=\"#000000\" fill-rule=\"evenodd\" fill-opacity=\"1\" /><path clip-path=\"url(#clip130)\" d=\"M1224.83 1544.5 Q1226.43 1541.63 1228.65 1540.27 Q1230.87 1538.9 1233.88 1538.9 Q1237.93 1538.9 1240.13 1541.75 Q1242.33 1544.57 1242.33 1549.8 L1242.33 1565.45 L1238.05 1565.45 L1238.05 1549.94 Q1238.05 1546.22 1236.73 1544.41 Q1235.41 1542.6 1232.7 1542.6 Q1229.39 1542.6 1227.47 1544.8 Q1225.55 1547 1225.55 1550.8 L1225.55 1565.45 L1221.27 1565.45 L1221.27 1549.94 Q1221.27 1546.19 1219.95 1544.41 Q1218.63 1542.6 1215.87 1542.6 Q1212.61 1542.6 1210.69 1544.83 Q1208.77 1547.03 1208.77 1550.8 L1208.77 1565.45 L1204.48 1565.45 L1204.48 1539.53 L1208.77 1539.53 L1208.77 1543.55 Q1210.22 1541.17 1212.26 1540.04 Q1214.3 1538.9 1217.1 1538.9 Q1219.92 1538.9 1221.89 1540.34 Q1223.88 1541.77 1224.83 1544.5 Z\" fill=\"#000000\" fill-rule=\"evenodd\" fill-opacity=\"1\" /><path clip-path=\"url(#clip130)\" d=\"M1273 1551.42 L1273 1553.51 L1253.42 1553.51 Q1253.7 1557.91 1256.06 1560.22 Q1258.44 1562.51 1262.68 1562.51 Q1265.13 1562.51 1267.42 1561.91 Q1269.74 1561.31 1272.01 1560.1 L1272.01 1564.13 Q1269.71 1565.1 1267.31 1565.61 Q1264.9 1566.12 1262.42 1566.12 Q1256.22 1566.12 1252.58 1562.51 Q1248.97 1558.9 1248.97 1552.74 Q1248.97 1546.38 1252.4 1542.65 Q1255.85 1538.9 1261.68 1538.9 Q1266.91 1538.9 1269.95 1542.28 Q1273 1545.64 1273 1551.42 M1268.74 1550.17 Q1268.7 1546.68 1266.77 1544.6 Q1264.88 1542.51 1261.73 1542.51 Q1258.16 1542.51 1256.01 1544.53 Q1253.88 1546.54 1253.56 1550.2 L1268.74 1550.17 Z\" fill=\"#000000\" fill-rule=\"evenodd\" fill-opacity=\"1\" /><path clip-path=\"url(#clip130)\" d=\"M1311.59 1540.29 L1311.59 1544.32 Q1309.78 1543.39 1307.84 1542.93 Q1305.89 1542.47 1303.81 1542.47 Q1300.64 1542.47 1299.04 1543.44 Q1297.47 1544.41 1297.47 1546.35 Q1297.47 1547.84 1298.6 1548.69 Q1299.74 1549.53 1303.16 1550.29 L1304.62 1550.61 Q1309.16 1551.59 1311.06 1553.37 Q1312.98 1555.13 1312.98 1558.3 Q1312.98 1561.91 1310.11 1564.02 Q1307.26 1566.12 1302.26 1566.12 Q1300.18 1566.12 1297.91 1565.71 Q1295.66 1565.31 1293.16 1564.5 L1293.16 1560.1 Q1295.52 1561.33 1297.82 1561.96 Q1300.11 1562.56 1302.35 1562.56 Q1305.36 1562.56 1306.98 1561.54 Q1308.6 1560.5 1308.6 1558.62 Q1308.6 1556.89 1307.42 1555.96 Q1306.26 1555.04 1302.31 1554.18 L1300.82 1553.83 Q1296.87 1553 1295.11 1551.29 Q1293.35 1549.55 1293.35 1546.54 Q1293.35 1542.88 1295.94 1540.89 Q1298.53 1538.9 1303.3 1538.9 Q1305.66 1538.9 1307.75 1539.25 Q1309.83 1539.6 1311.59 1540.29 Z\" fill=\"#000000\" fill-rule=\"evenodd\" fill-opacity=\"1\" /><path clip-path=\"url(#clip130)\" d=\"M1323.97 1532.16 L1323.97 1539.53 L1332.75 1539.53 L1332.75 1542.84 L1323.97 1542.84 L1323.97 1556.91 Q1323.97 1560.08 1324.83 1560.98 Q1325.71 1561.89 1328.37 1561.89 L1332.75 1561.89 L1332.75 1565.45 L1328.37 1565.45 Q1323.44 1565.45 1321.57 1563.62 Q1319.69 1561.77 1319.69 1556.91 L1319.69 1542.84 L1316.57 1542.84 L1316.57 1539.53 L1319.69 1539.53 L1319.69 1532.16 L1323.97 1532.16 Z\" fill=\"#000000\" fill-rule=\"evenodd\" fill-opacity=\"1\" /><path clip-path=\"url(#clip130)\" d=\"M1360.52 1551.42 L1360.52 1553.51 L1340.94 1553.51 Q1341.22 1557.91 1343.58 1560.22 Q1345.96 1562.51 1350.2 1562.51 Q1352.65 1562.51 1354.94 1561.91 Q1357.26 1561.31 1359.53 1560.1 L1359.53 1564.13 Q1357.24 1565.1 1354.83 1565.61 Q1352.42 1566.12 1349.95 1566.12 Q1343.74 1566.12 1340.11 1562.51 Q1336.5 1558.9 1336.5 1552.74 Q1336.5 1546.38 1339.92 1542.65 Q1343.37 1538.9 1349.2 1538.9 Q1354.44 1538.9 1357.47 1542.28 Q1360.52 1545.64 1360.52 1551.42 M1356.26 1550.17 Q1356.22 1546.68 1354.3 1544.6 Q1352.4 1542.51 1349.25 1542.51 Q1345.69 1542.51 1343.53 1544.53 Q1341.4 1546.54 1341.08 1550.2 L1356.26 1550.17 Z\" fill=\"#000000\" fill-rule=\"evenodd\" fill-opacity=\"1\" /><path clip-path=\"url(#clip130)\" d=\"M1371.63 1561.56 L1371.63 1575.31 L1367.35 1575.31 L1367.35 1539.53 L1371.63 1539.53 L1371.63 1543.46 Q1372.98 1541.15 1375.01 1540.04 Q1377.07 1538.9 1379.92 1538.9 Q1384.64 1538.9 1387.58 1542.65 Q1390.55 1546.4 1390.55 1552.51 Q1390.55 1558.62 1387.58 1562.37 Q1384.64 1566.12 1379.92 1566.12 Q1377.07 1566.12 1375.01 1565.01 Q1372.98 1563.88 1371.63 1561.56 M1386.13 1552.51 Q1386.13 1547.81 1384.18 1545.15 Q1382.26 1542.47 1378.88 1542.47 Q1375.5 1542.47 1373.56 1545.15 Q1371.63 1547.81 1371.63 1552.51 Q1371.63 1557.21 1373.56 1559.9 Q1375.5 1562.56 1378.88 1562.56 Q1382.26 1562.56 1384.18 1559.9 Q1386.13 1557.21 1386.13 1552.51 Z\" fill=\"#000000\" fill-rule=\"evenodd\" fill-opacity=\"1\" /><path clip-path=\"url(#clip130)\" d=\"M1412.51 1529.43 L1416.8 1529.43 L1416.8 1550.71 L1429.5 1539.53 L1434.94 1539.53 L1421.19 1551.66 L1435.52 1565.45 L1429.97 1565.45 L1416.8 1552.79 L1416.8 1565.45 L1412.51 1565.45 L1412.51 1529.43 Z\" fill=\"#000000\" fill-rule=\"evenodd\" fill-opacity=\"1\" /><polyline clip-path=\"url(#clip132)\" style=\"stroke:#000000; stroke-linecap:butt; stroke-linejoin:round; stroke-width:2; stroke-opacity:0.1; fill:none\" points=\"\n",
       "  242.135,1436.14 2352.76,1436.14 \n",
       "  \"/>\n",
       "<polyline clip-path=\"url(#clip132)\" style=\"stroke:#000000; stroke-linecap:butt; stroke-linejoin:round; stroke-width:2; stroke-opacity:0.1; fill:none\" points=\"\n",
       "  242.135,1103.65 2352.76,1103.65 \n",
       "  \"/>\n",
       "<polyline clip-path=\"url(#clip132)\" style=\"stroke:#000000; stroke-linecap:butt; stroke-linejoin:round; stroke-width:2; stroke-opacity:0.1; fill:none\" points=\"\n",
       "  242.135,771.166 2352.76,771.166 \n",
       "  \"/>\n",
       "<polyline clip-path=\"url(#clip132)\" style=\"stroke:#000000; stroke-linecap:butt; stroke-linejoin:round; stroke-width:2; stroke-opacity:0.1; fill:none\" points=\"\n",
       "  242.135,438.679 2352.76,438.679 \n",
       "  \"/>\n",
       "<polyline clip-path=\"url(#clip132)\" style=\"stroke:#000000; stroke-linecap:butt; stroke-linejoin:round; stroke-width:2; stroke-opacity:0.1; fill:none\" points=\"\n",
       "  242.135,106.192 2352.76,106.192 \n",
       "  \"/>\n",
       "<polyline clip-path=\"url(#clip130)\" style=\"stroke:#000000; stroke-linecap:butt; stroke-linejoin:round; stroke-width:4; stroke-opacity:1; fill:none\" points=\"\n",
       "  242.135,1436.14 242.135,106.192 \n",
       "  \"/>\n",
       "<polyline clip-path=\"url(#clip130)\" style=\"stroke:#000000; stroke-linecap:butt; stroke-linejoin:round; stroke-width:4; stroke-opacity:1; fill:none\" points=\"\n",
       "  242.135,1436.14 267.462,1436.14 \n",
       "  \"/>\n",
       "<polyline clip-path=\"url(#clip130)\" style=\"stroke:#000000; stroke-linecap:butt; stroke-linejoin:round; stroke-width:4; stroke-opacity:1; fill:none\" points=\"\n",
       "  242.135,1103.65 267.462,1103.65 \n",
       "  \"/>\n",
       "<polyline clip-path=\"url(#clip130)\" style=\"stroke:#000000; stroke-linecap:butt; stroke-linejoin:round; stroke-width:4; stroke-opacity:1; fill:none\" points=\"\n",
       "  242.135,771.166 267.462,771.166 \n",
       "  \"/>\n",
       "<polyline clip-path=\"url(#clip130)\" style=\"stroke:#000000; stroke-linecap:butt; stroke-linejoin:round; stroke-width:4; stroke-opacity:1; fill:none\" points=\"\n",
       "  242.135,438.679 267.462,438.679 \n",
       "  \"/>\n",
       "<polyline clip-path=\"url(#clip130)\" style=\"stroke:#000000; stroke-linecap:butt; stroke-linejoin:round; stroke-width:4; stroke-opacity:1; fill:none\" points=\"\n",
       "  242.135,106.192 267.462,106.192 \n",
       "  \"/>\n",
       "<path clip-path=\"url(#clip130)\" d=\"M114.26 1436.59 L143.936 1436.59 L143.936 1440.53 L114.26 1440.53 L114.26 1436.59 Z\" fill=\"#000000\" fill-rule=\"evenodd\" fill-opacity=\"1\" /><path clip-path=\"url(#clip130)\" d=\"M158.056 1449.48 L174.376 1449.48 L174.376 1453.42 L152.431 1453.42 L152.431 1449.48 Q155.093 1446.73 159.677 1442.1 Q164.283 1437.45 165.464 1436.11 Q167.709 1433.58 168.589 1431.85 Q169.491 1430.09 169.491 1428.4 Q169.491 1425.64 167.547 1423.91 Q165.626 1422.17 162.524 1422.17 Q160.325 1422.17 157.871 1422.93 Q155.44 1423.7 152.663 1425.25 L152.663 1420.53 Q155.487 1419.39 157.94 1418.81 Q160.394 1418.23 162.431 1418.23 Q167.802 1418.23 170.996 1420.92 Q174.19 1423.61 174.19 1428.1 Q174.19 1430.23 173.38 1432.15 Q172.593 1434.04 170.487 1436.64 Q169.908 1437.31 166.806 1440.53 Q163.704 1443.72 158.056 1449.48 Z\" fill=\"#000000\" fill-rule=\"evenodd\" fill-opacity=\"1\" /><path clip-path=\"url(#clip130)\" d=\"M194.19 1421.94 Q190.579 1421.94 188.75 1425.5 Q186.945 1429.04 186.945 1436.17 Q186.945 1443.28 188.75 1446.85 Q190.579 1450.39 194.19 1450.39 Q197.825 1450.39 199.63 1446.85 Q201.459 1443.28 201.459 1436.17 Q201.459 1429.04 199.63 1425.5 Q197.825 1421.94 194.19 1421.94 M194.19 1418.23 Q200 1418.23 203.056 1422.84 Q206.135 1427.42 206.135 1436.17 Q206.135 1444.9 203.056 1449.51 Q200 1454.09 194.19 1454.09 Q188.38 1454.09 185.301 1449.51 Q182.246 1444.9 182.246 1436.17 Q182.246 1427.42 185.301 1422.84 Q188.38 1418.23 194.19 1418.23 Z\" fill=\"#000000\" fill-rule=\"evenodd\" fill-opacity=\"1\" /><path clip-path=\"url(#clip130)\" d=\"M114.26 1104.1 L143.936 1104.1 L143.936 1108.04 L114.26 1108.04 L114.26 1104.1 Z\" fill=\"#000000\" fill-rule=\"evenodd\" fill-opacity=\"1\" /><path clip-path=\"url(#clip130)\" d=\"M154.839 1117 L162.477 1117 L162.477 1090.63 L154.167 1092.3 L154.167 1088.04 L162.431 1086.37 L167.107 1086.37 L167.107 1117 L174.746 1117 L174.746 1120.93 L154.839 1120.93 L154.839 1117 Z\" fill=\"#000000\" fill-rule=\"evenodd\" fill-opacity=\"1\" /><path clip-path=\"url(#clip130)\" d=\"M194.19 1089.45 Q190.579 1089.45 188.75 1093.02 Q186.945 1096.56 186.945 1103.69 Q186.945 1110.79 188.75 1114.36 Q190.579 1117.9 194.19 1117.9 Q197.825 1117.9 199.63 1114.36 Q201.459 1110.79 201.459 1103.69 Q201.459 1096.56 199.63 1093.02 Q197.825 1089.45 194.19 1089.45 M194.19 1085.75 Q200 1085.75 203.056 1090.35 Q206.135 1094.94 206.135 1103.69 Q206.135 1112.41 203.056 1117.02 Q200 1121.6 194.19 1121.6 Q188.38 1121.6 185.301 1117.02 Q182.246 1112.41 182.246 1103.69 Q182.246 1094.94 185.301 1090.35 Q188.38 1085.75 194.19 1085.75 Z\" fill=\"#000000\" fill-rule=\"evenodd\" fill-opacity=\"1\" /><path clip-path=\"url(#clip130)\" d=\"M194.19 756.965 Q190.579 756.965 188.75 760.529 Q186.945 764.071 186.945 771.201 Q186.945 778.307 188.75 781.872 Q190.579 785.414 194.19 785.414 Q197.825 785.414 199.63 781.872 Q201.459 778.307 201.459 771.201 Q201.459 764.071 199.63 760.529 Q197.825 756.965 194.19 756.965 M194.19 753.261 Q200 753.261 203.056 757.867 Q206.135 762.451 206.135 771.201 Q206.135 779.928 203.056 784.534 Q200 789.117 194.19 789.117 Q188.38 789.117 185.301 784.534 Q182.246 779.928 182.246 771.201 Q182.246 762.451 185.301 757.867 Q188.38 753.261 194.19 753.261 Z\" fill=\"#000000\" fill-rule=\"evenodd\" fill-opacity=\"1\" /><path clip-path=\"url(#clip130)\" d=\"M154.839 452.024 L162.477 452.024 L162.477 425.658 L154.167 427.325 L154.167 423.066 L162.431 421.399 L167.107 421.399 L167.107 452.024 L174.746 452.024 L174.746 455.959 L154.839 455.959 L154.839 452.024 Z\" fill=\"#000000\" fill-rule=\"evenodd\" fill-opacity=\"1\" /><path clip-path=\"url(#clip130)\" d=\"M194.19 424.478 Q190.579 424.478 188.75 428.043 Q186.945 431.584 186.945 438.714 Q186.945 445.82 188.75 449.385 Q190.579 452.927 194.19 452.927 Q197.825 452.927 199.63 449.385 Q201.459 445.82 201.459 438.714 Q201.459 431.584 199.63 428.043 Q197.825 424.478 194.19 424.478 M194.19 420.774 Q200 420.774 203.056 425.381 Q206.135 429.964 206.135 438.714 Q206.135 447.441 203.056 452.047 Q200 456.63 194.19 456.63 Q188.38 456.63 185.301 452.047 Q182.246 447.441 182.246 438.714 Q182.246 429.964 185.301 425.381 Q188.38 420.774 194.19 420.774 Z\" fill=\"#000000\" fill-rule=\"evenodd\" fill-opacity=\"1\" /><path clip-path=\"url(#clip130)\" d=\"M158.056 119.537 L174.376 119.537 L174.376 123.472 L152.431 123.472 L152.431 119.537 Q155.093 116.782 159.677 112.153 Q164.283 107.5 165.464 106.157 Q167.709 103.634 168.589 101.898 Q169.491 100.139 169.491 98.4491 Q169.491 95.6945 167.547 93.9584 Q165.626 92.2223 162.524 92.2223 Q160.325 92.2223 157.871 92.9862 Q155.44 93.7501 152.663 95.301 L152.663 90.5788 Q155.487 89.4445 157.94 88.8658 Q160.394 88.2871 162.431 88.2871 Q167.802 88.2871 170.996 90.9723 Q174.19 93.6575 174.19 98.1482 Q174.19 100.278 173.38 102.199 Q172.593 104.097 170.487 106.69 Q169.908 107.361 166.806 110.579 Q163.704 113.773 158.056 119.537 Z\" fill=\"#000000\" fill-rule=\"evenodd\" fill-opacity=\"1\" /><path clip-path=\"url(#clip130)\" d=\"M194.19 91.9908 Q190.579 91.9908 188.75 95.5556 Q186.945 99.0973 186.945 106.227 Q186.945 113.333 188.75 116.898 Q190.579 120.44 194.19 120.44 Q197.825 120.44 199.63 116.898 Q201.459 113.333 201.459 106.227 Q201.459 99.0973 199.63 95.5556 Q197.825 91.9908 194.19 91.9908 M194.19 88.2871 Q200 88.2871 203.056 92.8936 Q206.135 97.4769 206.135 106.227 Q206.135 114.954 203.056 119.56 Q200 124.143 194.19 124.143 Q188.38 124.143 185.301 119.56 Q182.246 114.954 182.246 106.227 Q182.246 97.4769 185.301 92.8936 Q188.38 88.2871 194.19 88.2871 Z\" fill=\"#000000\" fill-rule=\"evenodd\" fill-opacity=\"1\" /><path clip-path=\"url(#clip130)\" d=\"M16.4842 1097.04 L16.4842 1090.61 L58.5933 1090.61 L58.5933 1067.47 L64.0042 1067.47 L64.0042 1097.04 L16.4842 1097.04 Z\" fill=\"#000000\" fill-rule=\"evenodd\" fill-opacity=\"1\" /><path clip-path=\"url(#clip130)\" d=\"M46.0847 1044.78 Q46.0847 1051.88 47.7079 1054.61 Q49.3312 1057.35 53.2461 1057.35 Q56.3653 1057.35 58.2114 1055.32 Q60.0256 1053.25 60.0256 1049.71 Q60.0256 1044.84 56.5881 1041.92 Q53.1188 1038.96 47.3897 1038.96 L46.0847 1038.96 L46.0847 1044.78 M43.6657 1033.1 L64.0042 1033.1 L64.0042 1038.96 L58.5933 1038.96 Q61.8398 1040.96 63.3994 1043.95 Q64.9272 1046.94 64.9272 1051.27 Q64.9272 1056.75 61.8716 1059.99 Q58.7843 1063.21 53.6281 1063.21 Q47.6125 1063.21 44.5569 1059.2 Q41.5014 1055.16 41.5014 1047.17 L41.5014 1038.96 L40.9285 1038.96 Q36.8862 1038.96 34.6901 1041.63 Q32.4621 1044.27 32.4621 1049.08 Q32.4621 1052.13 33.1941 1055.03 Q33.9262 1057.93 35.3903 1060.6 L29.9795 1060.6 Q28.7381 1057.38 28.1334 1054.36 Q27.4968 1051.34 27.4968 1048.47 Q27.4968 1040.74 31.5072 1036.92 Q35.5176 1033.1 43.6657 1033.1 Z\" fill=\"#000000\" fill-rule=\"evenodd\" fill-opacity=\"1\" /><path clip-path=\"url(#clip130)\" d=\"M18.2347 1015.24 L28.3562 1015.24 L28.3562 1003.18 L32.9077 1003.18 L32.9077 1015.24 L52.2594 1015.24 Q56.6199 1015.24 57.8613 1014.07 Q59.1026 1012.86 59.1026 1009.2 L59.1026 1003.18 L64.0042 1003.18 L64.0042 1009.2 Q64.0042 1015.98 61.4897 1018.55 Q58.9434 1021.13 52.2594 1021.13 L32.9077 1021.13 L32.9077 1025.43 L28.3562 1025.43 L28.3562 1021.13 L18.2347 1021.13 L18.2347 1015.24 Z\" fill=\"#000000\" fill-rule=\"evenodd\" fill-opacity=\"1\" /><path clip-path=\"url(#clip130)\" d=\"M44.7161 964.986 L47.5806 964.986 L47.5806 991.913 Q53.6281 991.531 56.8109 988.284 Q59.9619 985.006 59.9619 979.181 Q59.9619 975.808 59.1344 972.657 Q58.3069 969.474 56.6518 966.354 L62.1899 966.354 Q63.5267 969.505 64.227 972.816 Q64.9272 976.126 64.9272 979.531 Q64.9272 988.062 59.9619 993.059 Q54.9967 998.024 46.5303 998.024 Q37.7774 998.024 32.6531 993.313 Q27.4968 988.571 27.4968 980.55 Q27.4968 973.357 32.1438 969.187 Q36.7589 964.986 44.7161 964.986 M42.9973 970.842 Q38.1912 970.906 35.3266 973.548 Q32.4621 976.158 32.4621 980.486 Q32.4621 985.388 35.2312 988.348 Q38.0002 991.276 43.0292 991.722 L42.9973 970.842 Z\" fill=\"#000000\" fill-rule=\"evenodd\" fill-opacity=\"1\" /><path clip-path=\"url(#clip130)\" d=\"M42.4881 925.741 L64.0042 925.741 L64.0042 931.598 L42.679 931.598 Q37.6183 931.598 35.1038 933.571 Q32.5894 935.544 32.5894 939.491 Q32.5894 944.234 35.6131 946.971 Q38.6368 949.708 43.8567 949.708 L64.0042 949.708 L64.0042 955.596 L28.3562 955.596 L28.3562 949.708 L33.8944 949.708 Q30.6797 947.607 29.0883 944.775 Q27.4968 941.91 27.4968 938.186 Q27.4968 932.043 31.3163 928.892 Q35.1038 925.741 42.4881 925.741 Z\" fill=\"#000000\" fill-rule=\"evenodd\" fill-opacity=\"1\" /><path clip-path=\"url(#clip130)\" d=\"M18.2347 908.267 L28.3562 908.267 L28.3562 896.204 L32.9077 896.204 L32.9077 908.267 L52.2594 908.267 Q56.6199 908.267 57.8613 907.09 Q59.1026 905.88 59.1026 902.22 L59.1026 896.204 L64.0042 896.204 L64.0042 902.22 Q64.0042 908.999 61.4897 911.578 Q58.9434 914.156 52.2594 914.156 L32.9077 914.156 L32.9077 918.453 L28.3562 918.453 L28.3562 914.156 L18.2347 914.156 L18.2347 908.267 Z\" fill=\"#000000\" fill-rule=\"evenodd\" fill-opacity=\"1\" /><path clip-path=\"url(#clip130)\" d=\"M29.4065 845.056 L34.9447 845.056 Q33.6716 847.539 33.035 850.212 Q32.3984 852.886 32.3984 855.75 Q32.3984 860.111 33.7352 862.307 Q35.072 864.471 37.7456 864.471 Q39.7826 864.471 40.9603 862.912 Q42.1061 861.352 43.1565 856.642 L43.6021 854.636 Q44.9389 848.398 47.3897 845.788 Q49.8086 843.146 54.1691 843.146 Q59.1344 843.146 62.0308 847.093 Q64.9272 851.008 64.9272 857.883 Q64.9272 860.747 64.3543 863.867 Q63.8132 866.954 62.6992 870.391 L56.6518 870.391 Q58.3387 867.145 59.198 863.994 Q60.0256 860.843 60.0256 857.756 Q60.0256 853.618 58.6251 851.39 Q57.1929 849.162 54.6147 849.162 Q52.2276 849.162 50.9545 850.785 Q49.6813 852.376 48.5037 857.819 L48.0262 859.856 Q46.8804 865.299 44.5251 867.718 Q42.138 870.137 38.0002 870.137 Q32.9713 870.137 30.2341 866.572 Q27.4968 863.007 27.4968 856.451 Q27.4968 853.204 27.9743 850.339 Q28.4517 847.475 29.4065 845.056 Z\" fill=\"#000000\" fill-rule=\"evenodd\" fill-opacity=\"1\" /><path clip-path=\"url(#clip130)\" d=\"M18.2347 828.028 L28.3562 828.028 L28.3562 815.965 L32.9077 815.965 L32.9077 828.028 L52.2594 828.028 Q56.6199 828.028 57.8613 826.85 Q59.1026 825.641 59.1026 821.98 L59.1026 815.965 L64.0042 815.965 L64.0042 821.98 Q64.0042 828.76 61.4897 831.338 Q58.9434 833.916 52.2594 833.916 L32.9077 833.916 L32.9077 838.213 L28.3562 838.213 L28.3562 833.916 L18.2347 833.916 L18.2347 828.028 Z\" fill=\"#000000\" fill-rule=\"evenodd\" fill-opacity=\"1\" /><path clip-path=\"url(#clip130)\" d=\"M46.0847 792.061 Q46.0847 799.159 47.7079 801.896 Q49.3312 804.634 53.2461 804.634 Q56.3653 804.634 58.2114 802.597 Q60.0256 800.528 60.0256 796.995 Q60.0256 792.125 56.5881 789.197 Q53.1188 786.237 47.3897 786.237 L46.0847 786.237 L46.0847 792.061 M43.6657 780.38 L64.0042 780.38 L64.0042 786.237 L58.5933 786.237 Q61.8398 788.242 63.3994 791.234 Q64.9272 794.226 64.9272 798.554 Q64.9272 804.029 61.8716 807.275 Q58.7843 810.49 53.6281 810.49 Q47.6125 810.49 44.5569 806.48 Q41.5014 802.438 41.5014 794.449 L41.5014 786.237 L40.9285 786.237 Q36.8862 786.237 34.6901 788.91 Q32.4621 791.552 32.4621 796.358 Q32.4621 799.414 33.1941 802.31 Q33.9262 805.207 35.3903 807.88 L29.9795 807.88 Q28.7381 804.666 28.1334 801.642 Q27.4968 798.618 27.4968 795.754 Q27.4968 788.019 31.5072 784.2 Q35.5176 780.38 43.6657 780.38 Z\" fill=\"#000000\" fill-rule=\"evenodd\" fill-opacity=\"1\" /><path clip-path=\"url(#clip130)\" d=\"M18.2347 762.525 L28.3562 762.525 L28.3562 750.462 L32.9077 750.462 L32.9077 762.525 L52.2594 762.525 Q56.6199 762.525 57.8613 761.347 Q59.1026 760.137 59.1026 756.477 L59.1026 750.462 L64.0042 750.462 L64.0042 756.477 Q64.0042 763.257 61.4897 765.835 Q58.9434 768.413 52.2594 768.413 L32.9077 768.413 L32.9077 772.71 L28.3562 772.71 L28.3562 768.413 L18.2347 768.413 L18.2347 762.525 Z\" fill=\"#000000\" fill-rule=\"evenodd\" fill-opacity=\"1\" /><path clip-path=\"url(#clip130)\" d=\"M44.7161 712.267 L47.5806 712.267 L47.5806 739.194 Q53.6281 738.812 56.8109 735.566 Q59.9619 732.287 59.9619 726.463 Q59.9619 723.089 59.1344 719.938 Q58.3069 716.755 56.6518 713.636 L62.1899 713.636 Q63.5267 716.787 64.227 720.097 Q64.9272 723.407 64.9272 726.813 Q64.9272 735.343 59.9619 740.34 Q54.9967 745.305 46.5303 745.305 Q37.7774 745.305 32.6531 740.595 Q27.4968 735.852 27.4968 727.831 Q27.4968 720.638 32.1438 716.469 Q36.7589 712.267 44.7161 712.267 M42.9973 718.124 Q38.1912 718.187 35.3266 720.829 Q32.4621 723.439 32.4621 727.768 Q32.4621 732.669 35.2312 735.629 Q38.0002 738.558 43.0292 739.003 L42.9973 718.124 Z\" fill=\"#000000\" fill-rule=\"evenodd\" fill-opacity=\"1\" /><path clip-path=\"url(#clip130)\" d=\"M29.4065 679.929 L34.9447 679.929 Q33.6716 682.412 33.035 685.086 Q32.3984 687.759 32.3984 690.624 Q32.3984 694.984 33.7352 697.181 Q35.072 699.345 37.7456 699.345 Q39.7826 699.345 40.9603 697.785 Q42.1061 696.226 43.1565 691.515 L43.6021 689.51 Q44.9389 683.271 47.3897 680.662 Q49.8086 678.02 54.1691 678.02 Q59.1344 678.02 62.0308 681.967 Q64.9272 685.881 64.9272 692.756 Q64.9272 695.621 64.3543 698.74 Q63.8132 701.828 62.6992 705.265 L56.6518 705.265 Q58.3387 702.018 59.198 698.867 Q60.0256 695.716 60.0256 692.629 Q60.0256 688.491 58.6251 686.263 Q57.1929 684.035 54.6147 684.035 Q52.2276 684.035 50.9545 685.659 Q49.6813 687.25 48.5037 692.693 L48.0262 694.73 Q46.8804 700.172 44.5251 702.591 Q42.138 705.01 38.0002 705.01 Q32.9713 705.01 30.2341 701.446 Q27.4968 697.881 27.4968 691.324 Q27.4968 688.078 27.9743 685.213 Q28.4517 682.348 29.4065 679.929 Z\" fill=\"#000000\" fill-rule=\"evenodd\" fill-opacity=\"1\" /><path clip-path=\"url(#clip130)\" d=\"M28.3562 652.175 L28.3562 645.968 L58.275 634.828 L28.3562 623.688 L28.3562 617.482 L64.0042 630.85 L64.0042 638.807 L28.3562 652.175 Z\" fill=\"#000000\" fill-rule=\"evenodd\" fill-opacity=\"1\" /><path clip-path=\"url(#clip130)\" d=\"M46.0847 593.197 Q46.0847 600.295 47.7079 603.032 Q49.3312 605.769 53.2461 605.769 Q56.3653 605.769 58.2114 603.732 Q60.0256 601.663 60.0256 598.13 Q60.0256 593.26 56.5881 590.332 Q53.1188 587.372 47.3897 587.372 L46.0847 587.372 L46.0847 593.197 M43.6657 581.516 L64.0042 581.516 L64.0042 587.372 L58.5933 587.372 Q61.8398 589.377 63.3994 592.369 Q64.9272 595.361 64.9272 599.69 Q64.9272 605.164 61.8716 608.411 Q58.7843 611.625 53.6281 611.625 Q47.6125 611.625 44.5569 607.615 Q41.5014 603.573 41.5014 595.584 L41.5014 587.372 L40.9285 587.372 Q36.8862 587.372 34.6901 590.046 Q32.4621 592.687 32.4621 597.494 Q32.4621 600.549 33.1941 603.446 Q33.9262 606.342 35.3903 609.016 L29.9795 609.016 Q28.7381 605.801 28.1334 602.777 Q27.4968 599.753 27.4968 596.889 Q27.4968 589.155 31.5072 585.335 Q35.5176 581.516 43.6657 581.516 Z\" fill=\"#000000\" fill-rule=\"evenodd\" fill-opacity=\"1\" /><path clip-path=\"url(#clip130)\" d=\"M14.479 569.453 L14.479 563.596 L64.0042 563.596 L64.0042 569.453 L14.479 569.453 Z\" fill=\"#000000\" fill-rule=\"evenodd\" fill-opacity=\"1\" /><path clip-path=\"url(#clip130)\" d=\"M49.9359 551.947 L28.3562 551.947 L28.3562 546.091 L49.7131 546.091 Q54.7739 546.091 57.3202 544.117 Q59.8346 542.144 59.8346 538.197 Q59.8346 533.455 56.8109 530.717 Q53.7872 527.948 48.5673 527.948 L28.3562 527.948 L28.3562 522.092 L64.0042 522.092 L64.0042 527.948 L58.5296 527.948 Q61.7762 530.081 63.3676 532.913 Q64.9272 535.714 64.9272 539.438 Q64.9272 545.581 61.1078 548.764 Q57.2883 551.947 49.9359 551.947 M27.4968 537.21 L27.4968 537.21 Z\" fill=\"#000000\" fill-rule=\"evenodd\" fill-opacity=\"1\" /><path clip-path=\"url(#clip130)\" d=\"M44.7161 479.537 L47.5806 479.537 L47.5806 506.464 Q53.6281 506.082 56.8109 502.836 Q59.9619 499.557 59.9619 493.733 Q59.9619 490.359 59.1344 487.208 Q58.3069 484.025 56.6518 480.906 L62.1899 480.906 Q63.5267 484.057 64.227 487.367 Q64.9272 490.677 64.9272 494.083 Q64.9272 502.613 59.9619 507.61 Q54.9967 512.575 46.5303 512.575 Q37.7774 512.575 32.6531 507.864 Q27.4968 503.122 27.4968 495.101 Q27.4968 487.908 32.1438 483.738 Q36.7589 479.537 44.7161 479.537 M42.9973 485.393 Q38.1912 485.457 35.3266 488.099 Q32.4621 490.709 32.4621 495.038 Q32.4621 499.939 35.2312 502.899 Q38.0002 505.827 43.0292 506.273 L42.9973 485.393 Z\" fill=\"#000000\" fill-rule=\"evenodd\" fill-opacity=\"1\" /><path clip-path=\"url(#clip130)\" d=\"M29.4065 447.199 L34.9447 447.199 Q33.6716 449.682 33.035 452.355 Q32.3984 455.029 32.3984 457.894 Q32.3984 462.254 33.7352 464.45 Q35.072 466.615 37.7456 466.615 Q39.7826 466.615 40.9603 465.055 Q42.1061 463.495 43.1565 458.785 L43.6021 456.78 Q44.9389 450.541 47.3897 447.931 Q49.8086 445.29 54.1691 445.29 Q59.1344 445.29 62.0308 449.236 Q64.9272 453.151 64.9272 460.026 Q64.9272 462.891 64.3543 466.01 Q63.8132 469.097 62.6992 472.535 L56.6518 472.535 Q58.3387 469.288 59.198 466.137 Q60.0256 462.986 60.0256 459.899 Q60.0256 455.761 58.6251 453.533 Q57.1929 451.305 54.6147 451.305 Q52.2276 451.305 50.9545 452.928 Q49.6813 454.52 48.5037 459.963 L48.0262 462 Q46.8804 467.442 44.5251 469.861 Q42.138 472.28 38.0002 472.28 Q32.9713 472.28 30.2341 468.715 Q27.4968 465.151 27.4968 458.594 Q27.4968 455.347 27.9743 452.483 Q28.4517 449.618 29.4065 447.199 Z\" fill=\"#000000\" fill-rule=\"evenodd\" fill-opacity=\"1\" /><path clip-path=\"url(#clip130)\" d=\"M911.683 10.0578 L911.683 15.758 Q908.356 14.1666 905.405 13.3853 Q902.453 12.6041 899.704 12.6041 Q894.93 12.6041 892.326 14.4559 Q889.751 16.3078 889.751 19.7221 Q889.751 22.5867 891.458 24.0624 Q893.194 25.5091 897.997 26.4061 L901.527 27.1295 Q908.067 28.3737 911.163 31.5276 Q914.288 34.6526 914.288 39.9188 Q914.288 46.1977 910.063 49.4384 Q905.868 52.6791 897.737 52.6791 Q894.67 52.6791 891.197 51.9847 Q887.754 51.2902 884.051 49.9303 L884.051 43.9118 Q887.61 45.9083 891.024 46.921 Q894.438 47.9338 897.737 47.9338 Q902.743 47.9338 905.462 45.9662 Q908.182 43.9986 908.182 40.3528 Q908.182 37.1699 906.215 35.376 Q904.276 33.582 899.82 32.685 L896.261 31.9906 Q889.722 30.6885 886.799 27.9107 Q883.877 25.133 883.877 20.1851 Q883.877 14.4559 887.899 11.1573 Q891.95 7.85875 899.039 7.85875 Q902.077 7.85875 905.231 8.40852 Q908.385 8.95829 911.683 10.0578 Z\" fill=\"#000000\" fill-rule=\"evenodd\" fill-opacity=\"1\" /><path clip-path=\"url(#clip130)\" d=\"M948.402 25.6538 Q950.399 22.0659 953.176 20.3587 Q955.954 18.6515 959.716 18.6515 Q964.779 18.6515 967.528 22.2105 Q970.277 25.7406 970.277 32.2799 L970.277 51.84 L964.924 51.84 L964.924 32.4535 Q964.924 27.795 963.275 25.5381 Q961.625 23.2811 958.24 23.2811 Q954.102 23.2811 951.701 26.03 Q949.299 28.7788 949.299 33.5241 L949.299 51.84 L943.946 51.84 L943.946 32.4535 Q943.946 27.7661 942.297 25.5381 Q940.647 23.2811 937.204 23.2811 Q933.124 23.2811 930.723 26.0589 Q928.321 28.8077 928.321 33.5241 L928.321 51.84 L922.968 51.84 L922.968 19.4328 L928.321 19.4328 L928.321 24.4675 Q930.144 21.4872 932.69 20.0693 Q935.237 18.6515 938.738 18.6515 Q942.268 18.6515 944.727 20.4455 Q947.216 22.2395 948.402 25.6538 Z\" fill=\"#000000\" fill-rule=\"evenodd\" fill-opacity=\"1\" /><path clip-path=\"url(#clip130)\" d=\"M993.454 23.1654 Q989.171 23.1654 986.683 26.5218 Q984.195 29.8494 984.195 35.6653 Q984.195 41.4813 986.654 44.8377 Q989.143 48.1653 993.454 48.1653 Q997.707 48.1653 1000.2 44.8088 Q1002.68 41.4523 1002.68 35.6653 Q1002.68 29.9072 1000.2 26.5508 Q997.707 23.1654 993.454 23.1654 M993.454 18.6515 Q1000.4 18.6515 1004.36 23.1654 Q1008.33 27.6792 1008.33 35.6653 Q1008.33 43.6225 1004.36 48.1653 Q1000.4 52.6791 993.454 52.6791 Q986.481 52.6791 982.516 48.1653 Q978.581 43.6225 978.581 35.6653 Q978.581 27.6792 982.516 23.1654 Q986.481 18.6515 993.454 18.6515 Z\" fill=\"#000000\" fill-rule=\"evenodd\" fill-opacity=\"1\" /><path clip-path=\"url(#clip130)\" d=\"M1029.71 23.1654 Q1025.43 23.1654 1022.94 26.5218 Q1020.45 29.8494 1020.45 35.6653 Q1020.45 41.4813 1022.91 44.8377 Q1025.4 48.1653 1029.71 48.1653 Q1033.96 48.1653 1036.45 44.8088 Q1038.94 41.4523 1038.94 35.6653 Q1038.94 29.9072 1036.45 26.5508 Q1033.96 23.1654 1029.71 23.1654 M1029.71 18.6515 Q1036.65 18.6515 1040.62 23.1654 Q1044.58 27.6792 1044.58 35.6653 Q1044.58 43.6225 1040.62 48.1653 Q1036.65 52.6791 1029.71 52.6791 Q1022.74 52.6791 1018.77 48.1653 Q1014.84 43.6225 1014.84 35.6653 Q1014.84 27.6792 1018.77 23.1654 Q1022.74 18.6515 1029.71 18.6515 Z\" fill=\"#000000\" fill-rule=\"evenodd\" fill-opacity=\"1\" /><path clip-path=\"url(#clip130)\" d=\"M1058.67 10.2314 L1058.67 19.4328 L1069.64 19.4328 L1069.64 23.5705 L1058.67 23.5705 L1058.67 41.163 Q1058.67 45.1271 1059.74 46.2555 Q1060.84 47.384 1064.17 47.384 L1069.64 47.384 L1069.64 51.84 L1064.17 51.84 Q1058.01 51.84 1055.66 49.5541 Q1053.32 47.2393 1053.32 41.163 L1053.32 23.5705 L1049.41 23.5705 L1049.41 19.4328 L1053.32 19.4328 L1053.32 10.2314 L1058.67 10.2314 Z\" fill=\"#000000\" fill-rule=\"evenodd\" fill-opacity=\"1\" /><path clip-path=\"url(#clip130)\" d=\"M1103.58 32.2799 L1103.58 51.84 L1098.26 51.84 L1098.26 32.4535 Q1098.26 27.8529 1096.46 25.567 Q1094.67 23.2811 1091.08 23.2811 Q1086.77 23.2811 1084.28 26.03 Q1081.79 28.7788 1081.79 33.5241 L1081.79 51.84 L1076.44 51.84 L1076.44 6.81709 L1081.79 6.81709 L1081.79 24.4675 Q1083.7 21.545 1086.28 20.0983 Q1088.88 18.6515 1092.27 18.6515 Q1097.85 18.6515 1100.72 22.1237 Q1103.58 25.567 1103.58 32.2799 Z\" fill=\"#000000\" fill-rule=\"evenodd\" fill-opacity=\"1\" /><path clip-path=\"url(#clip130)\" d=\"M1114.2 19.4328 L1119.52 19.4328 L1119.52 51.84 L1114.2 51.84 L1114.2 19.4328 M1114.2 6.81709 L1119.52 6.81709 L1119.52 13.559 L1114.2 13.559 L1114.2 6.81709 Z\" fill=\"#000000\" fill-rule=\"evenodd\" fill-opacity=\"1\" /><path clip-path=\"url(#clip130)\" d=\"M1157.6 32.2799 L1157.6 51.84 L1152.28 51.84 L1152.28 32.4535 Q1152.28 27.8529 1150.48 25.567 Q1148.69 23.2811 1145.1 23.2811 Q1140.79 23.2811 1138.3 26.03 Q1135.81 28.7788 1135.81 33.5241 L1135.81 51.84 L1130.46 51.84 L1130.46 19.4328 L1135.81 19.4328 L1135.81 24.4675 Q1137.72 21.545 1140.3 20.0983 Q1142.9 18.6515 1146.29 18.6515 Q1151.87 18.6515 1154.74 22.1237 Q1157.6 25.567 1157.6 32.2799 Z\" fill=\"#000000\" fill-rule=\"evenodd\" fill-opacity=\"1\" /><path clip-path=\"url(#clip130)\" d=\"M1189.55 35.2602 Q1189.55 29.4732 1187.14 26.2904 Q1184.77 23.1075 1180.46 23.1075 Q1176.18 23.1075 1173.78 26.2904 Q1171.4 29.4732 1171.4 35.2602 Q1171.4 41.0183 1173.78 44.2012 Q1176.18 47.384 1180.46 47.384 Q1184.77 47.384 1187.14 44.2012 Q1189.55 41.0183 1189.55 35.2602 M1194.87 47.818 Q1194.87 56.0934 1191.2 60.1154 Q1187.52 64.1663 1179.94 64.1663 Q1177.13 64.1663 1174.65 63.7323 Q1172.16 63.3272 1169.81 62.4592 L1169.81 57.2798 Q1172.16 58.5529 1174.44 59.1606 Q1176.73 59.7682 1179.1 59.7682 Q1184.34 59.7682 1186.94 57.0194 Q1189.55 54.2995 1189.55 48.7729 L1189.55 46.1398 Q1187.9 49.0044 1185.32 50.4222 Q1182.75 51.84 1179.16 51.84 Q1173.2 51.84 1169.55 47.2972 Q1165.91 42.7544 1165.91 35.2602 Q1165.91 27.7371 1169.55 23.1943 Q1173.2 18.6515 1179.16 18.6515 Q1182.75 18.6515 1185.32 20.0693 Q1187.9 21.4872 1189.55 24.3517 L1189.55 19.4328 L1194.87 19.4328 L1194.87 47.818 Z\" fill=\"#000000\" fill-rule=\"evenodd\" fill-opacity=\"1\" /><path clip-path=\"url(#clip130)\" d=\"M1224.67 19.4328 L1230 19.4328 L1230 51.84 L1224.67 51.84 L1224.67 19.4328 M1224.67 6.81709 L1230 6.81709 L1230 13.559 L1224.67 13.559 L1224.67 6.81709 Z\" fill=\"#000000\" fill-rule=\"evenodd\" fill-opacity=\"1\" /><path clip-path=\"url(#clip130)\" d=\"M1268.08 32.2799 L1268.08 51.84 L1262.75 51.84 L1262.75 32.4535 Q1262.75 27.8529 1260.96 25.567 Q1259.16 23.2811 1255.58 23.2811 Q1251.26 23.2811 1248.78 26.03 Q1246.29 28.7788 1246.29 33.5241 L1246.29 51.84 L1240.94 51.84 L1240.94 19.4328 L1246.29 19.4328 L1246.29 24.4675 Q1248.2 21.545 1250.77 20.0983 Q1253.38 18.6515 1256.76 18.6515 Q1262.35 18.6515 1265.21 22.1237 Q1268.08 25.567 1268.08 32.2799 Z\" fill=\"#000000\" fill-rule=\"evenodd\" fill-opacity=\"1\" /><path clip-path=\"url(#clip130)\" d=\"M1295.1 6.81709 L1295.1 11.2442 L1290.01 11.2442 Q1287.14 11.2442 1286.02 12.4016 Q1284.92 13.559 1284.92 16.5682 L1284.92 19.4328 L1293.68 19.4328 L1293.68 23.5705 L1284.92 23.5705 L1284.92 51.84 L1279.56 51.84 L1279.56 23.5705 L1274.47 23.5705 L1274.47 19.4328 L1279.56 19.4328 L1279.56 17.1758 Q1279.56 11.765 1282.08 9.30551 Q1284.6 6.81709 1290.07 6.81709 L1295.1 6.81709 Z\" fill=\"#000000\" fill-rule=\"evenodd\" fill-opacity=\"1\" /><path clip-path=\"url(#clip130)\" d=\"M1327.28 34.3054 L1327.28 36.9095 L1302.8 36.9095 Q1303.15 42.4072 1306.1 45.3007 Q1309.08 48.1653 1314.37 48.1653 Q1317.44 48.1653 1320.3 47.4129 Q1323.2 46.6606 1326.03 45.156 L1326.03 50.1907 Q1323.17 51.406 1320.16 52.0425 Q1317.15 52.6791 1314.05 52.6791 Q1306.3 52.6791 1301.76 48.1653 Q1297.24 43.6514 1297.24 35.9547 Q1297.24 27.9975 1301.53 23.339 Q1305.84 18.6515 1313.13 18.6515 Q1319.67 18.6515 1323.46 22.876 Q1327.28 27.0716 1327.28 34.3054 M1321.95 32.7429 Q1321.9 28.3737 1319.49 25.7695 Q1317.12 23.1654 1313.19 23.1654 Q1308.73 23.1654 1306.04 25.6827 Q1303.38 28.2001 1302.97 32.7718 L1321.95 32.7429 Z\" fill=\"#000000\" fill-rule=\"evenodd\" fill-opacity=\"1\" /><path clip-path=\"url(#clip130)\" d=\"M1354.79 24.4096 Q1353.9 23.8888 1352.83 23.6573 Q1351.79 23.3969 1350.51 23.3969 Q1346 23.3969 1343.57 26.3482 Q1341.17 29.2707 1341.17 34.7683 L1341.17 51.84 L1335.81 51.84 L1335.81 19.4328 L1341.17 19.4328 L1341.17 24.4675 Q1342.84 21.5161 1345.54 20.0983 Q1348.23 18.6515 1352.07 18.6515 Q1352.62 18.6515 1353.29 18.7383 Q1353.96 18.7962 1354.77 18.9409 L1354.79 24.4096 Z\" fill=\"#000000\" fill-rule=\"evenodd\" fill-opacity=\"1\" /><path clip-path=\"url(#clip130)\" d=\"M1386.8 34.3054 L1386.8 36.9095 L1362.32 36.9095 Q1362.66 42.4072 1365.62 45.3007 Q1368.6 48.1653 1373.89 48.1653 Q1376.96 48.1653 1379.82 47.4129 Q1382.72 46.6606 1385.55 45.156 L1385.55 50.1907 Q1382.69 51.406 1379.68 52.0425 Q1376.67 52.6791 1373.57 52.6791 Q1365.82 52.6791 1361.28 48.1653 Q1356.76 43.6514 1356.76 35.9547 Q1356.76 27.9975 1361.04 23.339 Q1365.36 18.6515 1372.65 18.6515 Q1379.19 18.6515 1382.98 22.876 Q1386.8 27.0716 1386.8 34.3054 M1381.47 32.7429 Q1381.41 28.3737 1379.01 25.7695 Q1376.64 23.1654 1372.71 23.1654 Q1368.25 23.1654 1365.56 25.6827 Q1362.9 28.2001 1362.49 32.7718 L1381.47 32.7429 Z\" fill=\"#000000\" fill-rule=\"evenodd\" fill-opacity=\"1\" /><path clip-path=\"url(#clip130)\" d=\"M1422.47 32.2799 L1422.47 51.84 L1417.15 51.84 L1417.15 32.4535 Q1417.15 27.8529 1415.36 25.567 Q1413.56 23.2811 1409.97 23.2811 Q1405.66 23.2811 1403.17 26.03 Q1400.69 28.7788 1400.69 33.5241 L1400.69 51.84 L1395.33 51.84 L1395.33 19.4328 L1400.69 19.4328 L1400.69 24.4675 Q1402.6 21.545 1405.17 20.0983 Q1407.77 18.6515 1411.16 18.6515 Q1416.74 18.6515 1419.61 22.1237 Q1422.47 25.567 1422.47 32.2799 Z\" fill=\"#000000\" fill-rule=\"evenodd\" fill-opacity=\"1\" /><path clip-path=\"url(#clip130)\" d=\"M1456.41 20.677 L1456.41 25.6538 Q1454.16 24.4096 1451.87 23.802 Q1449.61 23.1654 1447.3 23.1654 Q1442.12 23.1654 1439.26 26.464 Q1436.39 29.7336 1436.39 35.6653 Q1436.39 41.597 1439.26 44.8956 Q1442.12 48.1653 1447.3 48.1653 Q1449.61 48.1653 1451.87 47.5576 Q1454.16 46.921 1456.41 45.6768 L1456.41 50.5958 Q1454.19 51.6375 1451.78 52.1583 Q1449.41 52.6791 1446.72 52.6791 Q1439.4 52.6791 1435.09 48.0784 Q1430.78 43.4778 1430.78 35.6653 Q1430.78 27.7371 1435.12 23.1943 Q1439.49 18.6515 1447.07 18.6515 Q1449.53 18.6515 1451.87 19.1724 Q1454.22 19.6642 1456.41 20.677 Z\" fill=\"#000000\" fill-rule=\"evenodd\" fill-opacity=\"1\" /><path clip-path=\"url(#clip130)\" d=\"M1493.39 34.3054 L1493.39 36.9095 L1468.91 36.9095 Q1469.26 42.4072 1472.21 45.3007 Q1475.19 48.1653 1480.49 48.1653 Q1483.56 48.1653 1486.42 47.4129 Q1489.31 46.6606 1492.15 45.156 L1492.15 50.1907 Q1489.28 51.406 1486.28 52.0425 Q1483.27 52.6791 1480.17 52.6791 Q1472.42 52.6791 1467.87 48.1653 Q1463.36 43.6514 1463.36 35.9547 Q1463.36 27.9975 1467.64 23.339 Q1471.95 18.6515 1479.24 18.6515 Q1485.78 18.6515 1489.57 22.876 Q1493.39 27.0716 1493.39 34.3054 M1488.07 32.7429 Q1488.01 28.3737 1485.61 25.7695 Q1483.24 23.1654 1479.3 23.1654 Q1474.85 23.1654 1472.15 25.6827 Q1469.49 28.2001 1469.09 32.7718 L1488.07 32.7429 Z\" fill=\"#000000\" fill-rule=\"evenodd\" fill-opacity=\"1\" /><path clip-path=\"url(#clip130)\" d=\"M1539.75 24.4096 Q1538.85 23.8888 1537.78 23.6573 Q1536.74 23.3969 1535.46 23.3969 Q1530.95 23.3969 1528.52 26.3482 Q1526.12 29.2707 1526.12 34.7683 L1526.12 51.84 L1520.77 51.84 L1520.77 19.4328 L1526.12 19.4328 L1526.12 24.4675 Q1527.8 21.5161 1530.49 20.0983 Q1533.18 18.6515 1537.03 18.6515 Q1537.58 18.6515 1538.24 18.7383 Q1538.91 18.7962 1539.72 18.9409 L1539.75 24.4096 Z\" fill=\"#000000\" fill-rule=\"evenodd\" fill-opacity=\"1\" /><path clip-path=\"url(#clip130)\" d=\"M1571.75 34.3054 L1571.75 36.9095 L1547.27 36.9095 Q1547.62 42.4072 1550.57 45.3007 Q1553.55 48.1653 1558.84 48.1653 Q1561.91 48.1653 1564.78 47.4129 Q1567.67 46.6606 1570.51 45.156 L1570.51 50.1907 Q1567.64 51.406 1564.63 52.0425 Q1561.62 52.6791 1558.53 52.6791 Q1550.77 52.6791 1546.23 48.1653 Q1541.71 43.6514 1541.71 35.9547 Q1541.71 27.9975 1546 23.339 Q1550.31 18.6515 1557.6 18.6515 Q1564.14 18.6515 1567.93 22.876 Q1571.75 27.0716 1571.75 34.3054 M1566.43 32.7429 Q1566.37 28.3737 1563.97 25.7695 Q1561.59 23.1654 1557.66 23.1654 Q1553.2 23.1654 1550.51 25.6827 Q1547.85 28.2001 1547.44 32.7718 L1566.43 32.7429 Z\" fill=\"#000000\" fill-rule=\"evenodd\" fill-opacity=\"1\" /><path clip-path=\"url(#clip130)\" d=\"M1601.15 20.3876 L1601.15 25.4223 Q1598.89 24.2649 1596.46 23.6862 Q1594.03 23.1075 1591.43 23.1075 Q1587.46 23.1075 1585.46 24.3228 Q1583.5 25.5381 1583.5 27.9686 Q1583.5 29.8204 1584.91 30.891 Q1586.33 31.9327 1590.62 32.8876 L1592.44 33.2926 Q1598.11 34.5079 1600.48 36.7359 Q1602.88 38.935 1602.88 42.8991 Q1602.88 47.4129 1599.3 50.046 Q1595.74 52.6791 1589.49 52.6791 Q1586.88 52.6791 1584.05 52.1583 Q1581.24 51.6664 1578.12 50.6537 L1578.12 45.156 Q1581.07 46.6896 1583.93 47.4708 Q1586.8 48.2231 1589.6 48.2231 Q1593.36 48.2231 1595.39 46.95 Q1597.41 45.6479 1597.41 43.3042 Q1597.41 41.134 1595.94 39.9766 Q1594.49 38.8192 1589.54 37.7486 L1587.69 37.3146 Q1582.74 36.273 1580.55 34.1318 Q1578.35 31.9616 1578.35 28.2001 Q1578.35 23.6283 1581.59 21.1399 Q1584.83 18.6515 1590.79 18.6515 Q1593.74 18.6515 1596.34 19.0855 Q1598.95 19.5196 1601.15 20.3876 Z\" fill=\"#000000\" fill-rule=\"evenodd\" fill-opacity=\"1\" /><path clip-path=\"url(#clip130)\" d=\"M1610.81 39.0507 L1610.81 19.4328 L1616.14 19.4328 L1616.14 38.8482 Q1616.14 43.4488 1617.93 45.7636 Q1619.72 48.0495 1623.31 48.0495 Q1627.62 48.0495 1630.11 45.3007 Q1632.63 42.5519 1632.63 37.8065 L1632.63 19.4328 L1637.95 19.4328 L1637.95 51.84 L1632.63 51.84 L1632.63 46.8632 Q1630.69 49.8145 1628.11 51.2613 Q1625.57 52.6791 1622.18 52.6791 Q1616.6 52.6791 1613.71 49.2069 Q1610.81 45.7347 1610.81 39.0507 M1624.21 18.6515 L1624.21 18.6515 Z\" fill=\"#000000\" fill-rule=\"evenodd\" fill-opacity=\"1\" /><path clip-path=\"url(#clip130)\" d=\"M1648.92 6.81709 L1654.24 6.81709 L1654.24 51.84 L1648.92 51.84 L1648.92 6.81709 Z\" fill=\"#000000\" fill-rule=\"evenodd\" fill-opacity=\"1\" /><path clip-path=\"url(#clip130)\" d=\"M1670.65 10.2314 L1670.65 19.4328 L1681.62 19.4328 L1681.62 23.5705 L1670.65 23.5705 L1670.65 41.163 Q1670.65 45.1271 1671.72 46.2555 Q1672.82 47.384 1676.15 47.384 L1681.62 47.384 L1681.62 51.84 L1676.15 51.84 Q1669.98 51.84 1667.64 49.5541 Q1665.3 47.2393 1665.3 41.163 L1665.3 23.5705 L1661.39 23.5705 L1661.39 19.4328 L1665.3 19.4328 L1665.3 10.2314 L1670.65 10.2314 Z\" fill=\"#000000\" fill-rule=\"evenodd\" fill-opacity=\"1\" /><path clip-path=\"url(#clip130)\" d=\"M1709.28 20.3876 L1709.28 25.4223 Q1707.02 24.2649 1704.59 23.6862 Q1702.16 23.1075 1699.56 23.1075 Q1695.59 23.1075 1693.59 24.3228 Q1691.63 25.5381 1691.63 27.9686 Q1691.63 29.8204 1693.05 30.891 Q1694.46 31.9327 1698.75 32.8876 L1700.57 33.2926 Q1706.24 34.5079 1708.61 36.7359 Q1711.01 38.935 1711.01 42.8991 Q1711.01 47.4129 1707.43 50.046 Q1703.87 52.6791 1697.62 52.6791 Q1695.01 52.6791 1692.18 52.1583 Q1689.37 51.6664 1686.25 50.6537 L1686.25 45.156 Q1689.2 46.6896 1692.06 47.4708 Q1694.93 48.2231 1697.73 48.2231 Q1701.49 48.2231 1703.52 46.95 Q1705.54 45.6479 1705.54 43.3042 Q1705.54 41.134 1704.07 39.9766 Q1702.62 38.8192 1697.67 37.7486 L1695.82 37.3146 Q1690.87 36.273 1688.68 34.1318 Q1686.48 31.9616 1686.48 28.2001 Q1686.48 23.6283 1689.72 21.1399 Q1692.96 18.6515 1698.92 18.6515 Q1701.87 18.6515 1704.47 19.0855 Q1707.08 19.5196 1709.28 20.3876 Z\" fill=\"#000000\" fill-rule=\"evenodd\" fill-opacity=\"1\" /><polyline clip-path=\"url(#clip132)\" style=\"stroke:#009af9; stroke-linecap:butt; stroke-linejoin:round; stroke-width:4; stroke-opacity:1; fill:none\" points=\"\n",
       "  301.869,789.653 321.982,728.003 342.095,807.687 362.207,787.701 382.32,769.319 402.432,800.135 422.545,942.551 442.658,929.001 462.77,904.71 482.883,865.481 \n",
       "  502.996,800.564 523.108,821.06 543.221,824.7 563.334,827.793 583.446,804.574 603.559,842.26 623.672,819.47 643.784,812.647 663.897,737.514 684.01,734.862 \n",
       "  704.122,706.28 724.235,649.625 744.347,638.747 764.46,614.206 784.573,567.691 804.685,499.212 824.798,462.67 844.911,447.216 865.023,388.419 885.136,342.323 \n",
       "  905.249,332.406 925.361,354.194 945.474,328.601 965.587,331.649 985.699,331.541 1005.81,340.4 1025.92,359.425 1046.04,419.441 1066.15,432.853 1086.26,491.206 \n",
       "  1106.38,634.952 1126.49,663.4 1146.6,672.781 1166.71,761.433 1186.83,882.018 1206.94,975.477 1227.05,998.442 1247.16,1103.24 1267.28,1167.21 1287.39,1143.83 \n",
       "  1307.5,1151.76 1327.61,1130.28 1347.73,1139.02 1367.84,1134.5 1387.95,1084.97 1408.06,1016.75 1428.18,1007.34 1448.29,969.966 1468.4,885.865 1488.52,866.219 \n",
       "  1508.63,806.875 1528.74,719.23 1548.85,756.204 1568.97,730.641 1589.08,696.212 1609.19,682.613 1629.3,656.04 1649.42,569.565 1669.53,481.439 1689.64,480.028 \n",
       "  1709.75,500.346 1729.87,530.169 1749.98,508.402 1770.09,531.38 1790.21,575.805 1810.32,546.54 1830.43,600.855 1850.54,620.254 1870.66,702.246 1890.77,724.358 \n",
       "  1910.88,709.369 1930.99,776.407 1951.11,786.718 1971.22,754.27 1991.33,774.003 2011.44,827.946 2031.56,816.998 2051.67,770.012 2071.78,709.044 2091.89,733.987 \n",
       "  2112.01,766.183 2132.12,797.549 2152.23,837.251 2172.35,863.693 2192.46,894.032 2212.57,849.106 2232.68,837.001 2252.8,794.648 2272.91,774.587 2293.02,765.348 \n",
       "  \n",
       "  \"/>\n",
       "<polyline clip-path=\"url(#clip132)\" style=\"stroke:#e26f46; stroke-linecap:butt; stroke-linejoin:round; stroke-width:4; stroke-opacity:1; fill:none\" points=\"\n",
       "  301.869,785.941 321.982,826.718 342.095,785.923 362.207,741.868 382.32,797.7 402.432,780.391 422.545,765.863 442.658,792.992 462.77,794.769 482.883,792.036 \n",
       "  502.996,818.744 523.108,792.028 543.221,844.516 563.334,864.248 583.446,878.448 603.559,896.085 623.672,935.41 643.784,991.13 663.897,1001.69 684.01,1031.78 \n",
       "  704.122,1071.06 724.235,1048.03 744.347,1091.79 764.46,1086.32 784.573,1078.9 804.685,1046.43 824.798,974.928 844.911,948.189 865.023,969.737 885.136,885.44 \n",
       "  905.249,814.302 925.361,759.427 945.474,699.892 965.587,644.254 985.699,633.844 1005.81,557.775 1025.92,512.339 1046.04,448.314 1066.15,360.011 1086.26,372.031 \n",
       "  1106.38,338.46 1126.49,286.218 1146.6,273.477 1166.71,332.488 1186.83,381.33 1206.94,358.432 1227.05,346.613 1247.16,371.559 1267.28,489.609 1287.39,583.525 \n",
       "  1307.5,691.575 1327.61,764.471 1347.73,816.47 1367.84,853.275 1387.95,893.655 1408.06,910.652 1428.18,950.555 1448.29,942.988 1468.4,1017.23 1488.52,1048.54 \n",
       "  1508.63,1100.3 1528.74,1066.35 1548.85,1069.86 1568.97,1012.64 1589.08,1068.77 1609.19,1013.87 1629.3,998.428 1649.42,1005.77 1669.53,879.902 1689.64,827.78 \n",
       "  1709.75,794.036 1729.87,746.527 1749.98,682.216 1770.09,689.821 1790.21,632.451 1810.32,617.48 1830.43,644.399 1850.54,619.337 1870.66,676.695 1890.77,685.356 \n",
       "  1910.88,679.329 1930.99,714.025 1951.11,716.873 1971.22,727.692 1991.33,791.047 2011.44,872.581 2031.56,826.857 2051.67,905.742 2071.78,860.115 2091.89,840.717 \n",
       "  2112.01,740.898 2132.12,704.737 2152.23,733.133 2172.35,757.329 2192.46,792.509 2212.57,810.671 2232.68,763.28 2252.8,759.08 2272.91,780.51 2293.02,693.572 \n",
       "  \n",
       "  \"/>\n",
       "<path clip-path=\"url(#clip132)\" d=\"\n",
       "M301.869 793.526 L321.982 770.35 L342.095 784.291 L362.207 789.102 L382.32 793.614 L402.432 840.427 L422.545 931.689 L442.658 926.261 L462.77 922.672 L482.883 874.474 \n",
       "  L502.996 818.18 L523.108 807.937 L543.221 827.548 L563.334 841.748 L583.446 826.385 L603.559 849.649 L623.672 859.442 L643.784 820.255 L663.897 761.44 L684.01 718.277 \n",
       "  L704.122 681.38 L724.235 682.649 L744.347 650.045 L764.46 619.109 L784.573 586.945 L804.685 520.047 L824.798 459.939 L844.911 440.609 L865.023 397.396 L885.136 327.902 \n",
       "  L905.249 346.039 L925.361 361.058 L945.474 351.129 L965.587 350.624 L985.699 352.407 L1005.81 345.974 L1025.92 384.84 L1046.04 409.997 L1066.15 453.638 L1086.26 516.379 \n",
       "  L1106.38 601.69 L1126.49 644.037 L1146.6 719.358 L1166.71 819.904 L1186.83 898.118 L1206.94 972.376 L1227.05 996.087 L1247.16 1091.11 L1267.28 1160.88 L1287.39 1157.37 \n",
       "  L1307.5 1165.78 L1327.61 1173.86 L1347.73 1166 L1367.84 1141.22 L1387.95 1097.96 L1408.06 1050.42 L1428.18 1036.27 L1448.29 983.322 L1468.4 896.167 L1488.52 871.217 \n",
       "  L1508.63 834.986 L1528.74 769.886 L1548.85 771.815 L1568.97 737.911 L1589.08 699.371 L1609.19 690.743 L1629.3 670.135 L1649.42 570.275 L1669.53 490.541 L1689.64 496.819 \n",
       "  L1709.75 512.316 L1729.87 521.063 L1749.98 511.383 L1770.09 531.128 L1790.21 562.722 L1810.32 589.739 L1830.43 618.161 L1850.54 658.116 L1870.66 702.149 L1890.77 718.9 \n",
       "  L1910.88 747.621 L1930.99 794.89 L1951.11 807.134 L1971.22 809.231 L1991.33 824.195 L2011.44 828.137 L2031.56 796.62 L2051.67 780.828 L2071.78 744.427 L2091.89 776.411 \n",
       "  L2112.01 774.075 L2132.12 807.355 L2152.23 821.481 L2172.35 856.357 L2192.46 871.212 L2212.57 866.01 L2232.68 832.729 L2252.8 809.059 L2272.91 774.726 L2293.02 774.566 \n",
       "  L2293.02 746.704 L2272.91 752.626 L2252.8 787.452 L2232.68 811.171 L2212.57 844.46 L2192.46 849.664 L2172.35 834.809 L2152.23 799.934 L2132.12 785.808 L2112.01 752.528 \n",
       "  L2091.89 754.864 L2071.78 722.88 L2051.67 759.281 L2031.56 775.072 L2011.44 806.589 L1991.33 802.648 L1971.22 787.683 L1951.11 785.586 L1930.99 773.343 L1910.88 726.073 \n",
       "  L1890.77 697.353 L1870.66 680.602 L1850.54 636.569 L1830.43 596.614 L1810.32 568.192 L1790.21 541.174 L1770.09 509.581 L1749.98 489.835 L1729.87 499.516 L1709.75 490.768 \n",
       "  L1689.64 475.272 L1669.53 468.993 L1649.42 548.728 L1629.3 648.588 L1609.19 669.196 L1589.08 677.824 L1568.97 716.364 L1548.85 750.267 L1528.74 748.338 L1508.63 813.438 \n",
       "  L1488.52 849.67 L1468.4 874.62 L1448.29 961.774 L1428.18 1014.72 L1408.06 1028.88 L1387.95 1076.42 L1367.84 1119.67 L1347.73 1144.45 L1327.61 1152.31 L1307.5 1144.23 \n",
       "  L1287.39 1135.82 L1267.28 1139.33 L1247.16 1069.56 L1227.05 974.539 L1206.94 950.829 L1186.83 876.571 L1166.71 798.356 L1146.6 697.811 L1126.49 622.49 L1106.38 580.143 \n",
       "  L1086.26 494.831 L1066.15 432.091 L1046.04 388.449 L1025.92 363.293 L1005.81 324.427 L985.699 330.86 L965.587 329.077 L945.474 329.582 L925.361 339.51 L905.249 324.492 \n",
       "  L885.136 306.355 L865.023 375.849 L844.911 419.061 L824.798 438.391 L804.685 498.5 L784.573 565.398 L764.46 597.561 L744.347 628.498 L724.235 661.102 L704.122 659.832 \n",
       "  L684.01 696.73 L663.897 739.892 L643.784 798.707 L623.672 837.895 L603.559 828.102 L583.446 804.837 L563.334 820.201 L543.221 806 L523.108 786.39 L502.996 796.632 \n",
       "  L482.883 852.926 L462.77 901.125 L442.658 904.713 L422.545 910.142 L402.432 818.879 L382.32 772.064 L362.207 767.545 L342.095 762.684 L321.982 748.26 L301.869 765.779 \n",
       "   Z\n",
       "  \" fill=\"#3da44d\" fill-rule=\"evenodd\" fill-opacity=\"0.5\"/>\n",
       "<polyline clip-path=\"url(#clip132)\" style=\"stroke:#3da44d; stroke-linecap:butt; stroke-linejoin:round; stroke-width:4; stroke-opacity:1; fill:none\" points=\"\n",
       "  301.869,779.653 321.982,759.305 342.095,773.488 362.207,778.324 382.32,782.839 402.432,829.653 422.545,920.916 442.658,915.487 462.77,911.898 482.883,863.7 \n",
       "  502.996,807.406 523.108,797.164 543.221,816.774 563.334,830.974 583.446,815.611 603.559,838.875 623.672,848.669 643.784,809.481 663.897,750.666 684.01,707.504 \n",
       "  704.122,670.606 724.235,671.875 744.347,639.271 764.46,608.335 784.573,576.172 804.685,509.273 824.798,449.165 844.911,429.835 865.023,386.623 885.136,317.128 \n",
       "  905.249,335.265 925.361,350.284 945.474,340.356 965.587,339.851 985.699,341.634 1005.81,335.201 1025.92,374.066 1046.04,399.223 1066.15,442.864 1086.26,505.605 \n",
       "  1106.38,590.917 1126.49,633.264 1146.6,708.585 1166.71,809.13 1186.83,887.344 1206.94,961.602 1227.05,985.313 1247.16,1080.34 1267.28,1150.11 1287.39,1146.6 \n",
       "  1307.5,1155 1327.61,1163.08 1347.73,1155.23 1367.84,1130.44 1387.95,1087.19 1408.06,1039.65 1428.18,1025.49 1448.29,972.548 1468.4,885.393 1488.52,860.444 \n",
       "  1508.63,824.212 1528.74,759.112 1548.85,761.041 1568.97,727.137 1589.08,688.598 1609.19,679.969 1629.3,659.362 1649.42,559.501 1669.53,479.767 1689.64,486.046 \n",
       "  1709.75,501.542 1729.87,510.29 1749.98,500.609 1770.09,520.354 1790.21,551.948 1810.32,578.965 1830.43,607.387 1850.54,647.343 1870.66,691.376 1890.77,708.127 \n",
       "  1910.88,736.847 1930.99,784.117 1951.11,796.36 1971.22,798.457 1991.33,813.422 2011.44,817.363 2031.56,785.846 2051.67,770.054 2071.78,733.654 2091.89,765.637 \n",
       "  2112.01,763.302 2132.12,796.581 2152.23,810.707 2172.35,845.583 2192.46,860.438 2212.57,855.235 2232.68,821.95 2252.8,798.255 2272.91,763.676 2293.02,760.635 \n",
       "  \n",
       "  \"/>\n",
       "<path clip-path=\"url(#clip132)\" d=\"\n",
       "M301.869 834.155 L321.982 825.194 L342.095 812.69 L362.207 811.598 L382.32 815.468 L402.432 805.74 L422.545 803.149 L442.658 813.136 L462.77 823.712 L482.883 824.599 \n",
       "  L502.996 830.03 L523.108 822.498 L543.221 832.899 L563.334 861.761 L583.446 900.898 L603.559 924.84 L623.672 967.587 L643.784 1010.58 L663.897 1033.38 L684.01 1054.05 \n",
       "  L704.122 1067.22 L724.235 1071.64 L744.347 1056.67 L764.46 1084.01 L784.573 1102.29 L804.685 1082.3 L824.798 1048.22 L844.911 1026.8 L865.023 996.101 L885.136 922.127 \n",
       "  L905.249 861.46 L925.361 803.93 L945.474 740.001 L965.587 681.749 L985.699 627.284 L1005.81 591.285 L1025.92 538.041 L1046.04 485.799 L1066.15 432.785 L1086.26 387.615 \n",
       "  L1106.38 367.375 L1126.49 342.54 L1146.6 335.745 L1166.71 361.462 L1186.83 380.93 L1206.94 364.127 L1227.05 378.367 L1247.16 401.172 L1267.28 495.637 L1287.39 574.698 \n",
       "  L1307.5 656.043 L1327.61 747.625 L1347.73 803.116 L1367.84 853.654 L1387.95 890.873 L1408.06 926.676 L1428.18 968.666 L1448.29 1003.2 L1468.4 1056.44 L1488.52 1076.46 \n",
       "  L1508.63 1100.48 L1528.74 1080.88 L1548.85 1059.23 L1568.97 1029.03 L1589.08 1015.12 L1609.19 997.39 L1629.3 983.47 L1649.42 965.362 L1669.53 916.665 L1689.64 837.674 \n",
       "  L1709.75 799.941 L1729.87 763.622 L1749.98 722.155 L1770.09 666.049 L1790.21 626.41 L1810.32 602.059 L1830.43 609.427 L1850.54 634.664 L1870.66 682.756 L1890.77 721.534 \n",
       "  L1910.88 720.547 L1930.99 725.571 L1951.11 749.085 L1971.22 776.598 L1991.33 814.088 L2011.44 842.206 L2031.56 857.089 L2051.67 891.68 L2071.78 896.194 L2091.89 886.325 \n",
       "  L2112.01 823.256 L2132.12 784.923 L2152.23 783.848 L2172.35 759.397 L2192.46 784.802 L2212.57 800.057 L2232.68 817.008 L2252.8 818.407 L2272.91 791.903 L2293.02 761.031 \n",
       "  L2293.02 694.195 L2272.91 741.967 L2252.8 772.738 L2232.68 772.382 L2212.57 755.68 L2192.46 740.483 L2172.35 715.091 L2152.23 739.545 L2132.12 740.621 L2112.01 778.955 \n",
       "  L2091.89 842.023 L2071.78 851.893 L2051.67 847.379 L2031.56 812.788 L2011.44 797.904 L1991.33 769.786 L1971.22 732.297 L1951.11 704.784 L1930.99 681.269 L1910.88 676.246 \n",
       "  L1890.77 677.232 L1870.66 638.454 L1850.54 590.363 L1830.43 565.125 L1810.32 557.758 L1790.21 582.108 L1770.09 621.747 L1749.98 677.853 L1729.87 719.32 L1709.75 755.64 \n",
       "  L1689.64 793.372 L1669.53 872.364 L1649.42 921.06 L1629.3 939.169 L1609.19 953.089 L1589.08 970.815 L1568.97 984.731 L1548.85 1014.93 L1528.74 1036.58 L1508.63 1056.17 \n",
       "  L1488.52 1032.16 L1468.4 1012.14 L1448.29 958.898 L1428.18 924.364 L1408.06 882.374 L1387.95 846.571 L1367.84 809.353 L1347.73 758.814 L1327.61 703.323 L1307.5 611.741 \n",
       "  L1287.39 530.396 L1267.28 451.335 L1247.16 356.87 L1227.05 334.066 L1206.94 319.826 L1186.83 336.629 L1166.71 317.16 L1146.6 291.444 L1126.49 298.239 L1106.38 323.073 \n",
       "  L1086.26 343.313 L1066.15 388.483 L1046.04 441.498 L1025.92 493.739 L1005.81 546.983 L985.699 582.983 L965.587 637.448 L945.474 695.7 L925.361 759.628 L905.249 817.158 \n",
       "  L885.136 877.825 L865.023 951.8 L844.911 982.5 L824.798 1003.92 L804.685 1038 L784.573 1057.99 L764.46 1039.71 L744.347 1012.37 L724.235 1027.34 L704.122 1022.92 \n",
       "  L684.01 1009.75 L663.897 989.079 L643.784 966.281 L623.672 923.285 L603.559 880.539 L583.446 856.597 L563.334 817.46 L543.221 788.598 L523.108 778.197 L502.996 785.728 \n",
       "  L482.883 780.297 L462.77 779.41 L442.658 768.834 L422.545 758.844 L402.432 761.422 L382.32 771.093 L362.207 766.981 L342.095 767.06 L321.982 775.421 L301.869 767.978 \n",
       "   Z\n",
       "  \" fill=\"#c271d2\" fill-rule=\"evenodd\" fill-opacity=\"0.5\"/>\n",
       "<polyline clip-path=\"url(#clip132)\" style=\"stroke:#c271d2; stroke-linecap:butt; stroke-linejoin:round; stroke-width:4; stroke-opacity:1; fill:none\" points=\"\n",
       "  301.869,801.067 321.982,800.307 342.095,789.875 362.207,789.29 382.32,793.281 402.432,783.581 422.545,780.997 442.658,790.985 462.77,801.561 482.883,802.448 \n",
       "  502.996,807.879 523.108,800.348 543.221,810.748 563.334,839.611 583.446,878.748 603.559,902.69 623.672,945.436 643.784,988.432 663.897,1011.23 684.01,1031.9 \n",
       "  704.122,1045.07 724.235,1049.49 744.347,1034.52 764.46,1061.86 784.573,1080.14 804.685,1060.15 824.798,1026.07 844.911,1004.65 865.023,973.951 885.136,899.976 \n",
       "  905.249,839.309 925.361,781.779 945.474,717.85 965.587,659.599 985.699,605.133 1005.81,569.134 1025.92,515.89 1046.04,463.648 1066.15,410.634 1086.26,365.464 \n",
       "  1106.38,345.224 1126.49,320.39 1146.6,313.595 1166.71,339.311 1186.83,358.78 1206.94,341.977 1227.05,356.217 1247.16,379.021 1267.28,473.486 1287.39,552.547 \n",
       "  1307.5,633.892 1327.61,725.474 1347.73,780.965 1367.84,831.504 1387.95,868.722 1408.06,904.525 1428.18,946.515 1448.29,981.048 1468.4,1034.29 1488.52,1054.31 \n",
       "  1508.63,1078.33 1528.74,1058.73 1548.85,1037.08 1568.97,1006.88 1589.08,992.966 1609.19,975.239 1629.3,961.32 1649.42,943.211 1669.53,894.514 1689.64,815.523 \n",
       "  1709.75,777.791 1729.87,741.471 1749.98,700.004 1770.09,643.898 1790.21,604.259 1810.32,579.909 1830.43,587.276 1850.54,612.513 1870.66,660.605 1890.77,699.383 \n",
       "  1910.88,698.397 1930.99,703.42 1951.11,726.934 1971.22,754.447 1991.33,791.937 2011.44,820.055 2031.56,834.939 2051.67,869.529 2071.78,874.043 2091.89,864.174 \n",
       "  2112.01,801.105 2132.12,762.772 2152.23,761.696 2172.35,737.244 2192.46,762.643 2212.57,777.869 2232.68,794.695 2252.8,795.573 2272.91,766.935 2293.02,727.613 \n",
       "  \n",
       "  \"/>\n",
       "<circle clip-path=\"url(#clip132)\" cx=\"301.869\" cy=\"794.296\" r=\"10\" fill=\"#ac8d18\" fill-rule=\"evenodd\" fill-opacity=\"0.5\" stroke=\"#000000\" stroke-opacity=\"0.5\" stroke-width=\"3.2\"/>\n",
       "<circle clip-path=\"url(#clip132)\" cx=\"321.982\" cy=\"730.634\" r=\"10\" fill=\"#ac8d18\" fill-rule=\"evenodd\" fill-opacity=\"0.5\" stroke=\"#000000\" stroke-opacity=\"0.5\" stroke-width=\"3.2\"/>\n",
       "<circle clip-path=\"url(#clip132)\" cx=\"342.095\" cy=\"782.655\" r=\"10\" fill=\"#ac8d18\" fill-rule=\"evenodd\" fill-opacity=\"0.5\" stroke=\"#000000\" stroke-opacity=\"0.5\" stroke-width=\"3.2\"/>\n",
       "<circle clip-path=\"url(#clip132)\" cx=\"362.207\" cy=\"780.44\" r=\"10\" fill=\"#ac8d18\" fill-rule=\"evenodd\" fill-opacity=\"0.5\" stroke=\"#000000\" stroke-opacity=\"0.5\" stroke-width=\"3.2\"/>\n",
       "<circle clip-path=\"url(#clip132)\" cx=\"382.32\" cy=\"755.112\" r=\"10\" fill=\"#ac8d18\" fill-rule=\"evenodd\" fill-opacity=\"0.5\" stroke=\"#000000\" stroke-opacity=\"0.5\" stroke-width=\"3.2\"/>\n",
       "<circle clip-path=\"url(#clip132)\" cx=\"402.432\" cy=\"816.016\" r=\"10\" fill=\"#ac8d18\" fill-rule=\"evenodd\" fill-opacity=\"0.5\" stroke=\"#000000\" stroke-opacity=\"0.5\" stroke-width=\"3.2\"/>\n",
       "<circle clip-path=\"url(#clip132)\" cx=\"422.545\" cy=\"1041.25\" r=\"10\" fill=\"#ac8d18\" fill-rule=\"evenodd\" fill-opacity=\"0.5\" stroke=\"#000000\" stroke-opacity=\"0.5\" stroke-width=\"3.2\"/>\n",
       "<circle clip-path=\"url(#clip132)\" cx=\"442.658\" cy=\"957.644\" r=\"10\" fill=\"#ac8d18\" fill-rule=\"evenodd\" fill-opacity=\"0.5\" stroke=\"#000000\" stroke-opacity=\"0.5\" stroke-width=\"3.2\"/>\n",
       "<circle clip-path=\"url(#clip132)\" cx=\"462.77\" cy=\"989.297\" r=\"10\" fill=\"#ac8d18\" fill-rule=\"evenodd\" fill-opacity=\"0.5\" stroke=\"#000000\" stroke-opacity=\"0.5\" stroke-width=\"3.2\"/>\n",
       "<circle clip-path=\"url(#clip132)\" cx=\"482.883\" cy=\"898.604\" r=\"10\" fill=\"#ac8d18\" fill-rule=\"evenodd\" fill-opacity=\"0.5\" stroke=\"#000000\" stroke-opacity=\"0.5\" stroke-width=\"3.2\"/>\n",
       "<circle clip-path=\"url(#clip132)\" cx=\"502.996\" cy=\"784.229\" r=\"10\" fill=\"#ac8d18\" fill-rule=\"evenodd\" fill-opacity=\"0.5\" stroke=\"#000000\" stroke-opacity=\"0.5\" stroke-width=\"3.2\"/>\n",
       "<circle clip-path=\"url(#clip132)\" cx=\"523.108\" cy=\"782.429\" r=\"10\" fill=\"#ac8d18\" fill-rule=\"evenodd\" fill-opacity=\"0.5\" stroke=\"#000000\" stroke-opacity=\"0.5\" stroke-width=\"3.2\"/>\n",
       "<circle clip-path=\"url(#clip132)\" cx=\"543.221\" cy=\"830.706\" r=\"10\" fill=\"#ac8d18\" fill-rule=\"evenodd\" fill-opacity=\"0.5\" stroke=\"#000000\" stroke-opacity=\"0.5\" stroke-width=\"3.2\"/>\n",
       "<circle clip-path=\"url(#clip132)\" cx=\"563.334\" cy=\"864.328\" r=\"10\" fill=\"#ac8d18\" fill-rule=\"evenodd\" fill-opacity=\"0.5\" stroke=\"#000000\" stroke-opacity=\"0.5\" stroke-width=\"3.2\"/>\n",
       "<circle clip-path=\"url(#clip132)\" cx=\"583.446\" cy=\"792.848\" r=\"10\" fill=\"#ac8d18\" fill-rule=\"evenodd\" fill-opacity=\"0.5\" stroke=\"#000000\" stroke-opacity=\"0.5\" stroke-width=\"3.2\"/>\n",
       "<circle clip-path=\"url(#clip132)\" cx=\"603.559\" cy=\"862.68\" r=\"10\" fill=\"#ac8d18\" fill-rule=\"evenodd\" fill-opacity=\"0.5\" stroke=\"#000000\" stroke-opacity=\"0.5\" stroke-width=\"3.2\"/>\n",
       "<circle clip-path=\"url(#clip132)\" cx=\"623.672\" cy=\"900.284\" r=\"10\" fill=\"#ac8d18\" fill-rule=\"evenodd\" fill-opacity=\"0.5\" stroke=\"#000000\" stroke-opacity=\"0.5\" stroke-width=\"3.2\"/>\n",
       "<circle clip-path=\"url(#clip132)\" cx=\"643.784\" cy=\"828.696\" r=\"10\" fill=\"#ac8d18\" fill-rule=\"evenodd\" fill-opacity=\"0.5\" stroke=\"#000000\" stroke-opacity=\"0.5\" stroke-width=\"3.2\"/>\n",
       "<circle clip-path=\"url(#clip132)\" cx=\"663.897\" cy=\"727.004\" r=\"10\" fill=\"#ac8d18\" fill-rule=\"evenodd\" fill-opacity=\"0.5\" stroke=\"#000000\" stroke-opacity=\"0.5\" stroke-width=\"3.2\"/>\n",
       "<circle clip-path=\"url(#clip132)\" cx=\"684.01\" cy=\"678.368\" r=\"10\" fill=\"#ac8d18\" fill-rule=\"evenodd\" fill-opacity=\"0.5\" stroke=\"#000000\" stroke-opacity=\"0.5\" stroke-width=\"3.2\"/>\n",
       "<circle clip-path=\"url(#clip132)\" cx=\"704.122\" cy=\"607.419\" r=\"10\" fill=\"#ac8d18\" fill-rule=\"evenodd\" fill-opacity=\"0.5\" stroke=\"#000000\" stroke-opacity=\"0.5\" stroke-width=\"3.2\"/>\n",
       "<circle clip-path=\"url(#clip132)\" cx=\"724.235\" cy=\"667.212\" r=\"10\" fill=\"#ac8d18\" fill-rule=\"evenodd\" fill-opacity=\"0.5\" stroke=\"#000000\" stroke-opacity=\"0.5\" stroke-width=\"3.2\"/>\n",
       "<circle clip-path=\"url(#clip132)\" cx=\"744.347\" cy=\"594.449\" r=\"10\" fill=\"#ac8d18\" fill-rule=\"evenodd\" fill-opacity=\"0.5\" stroke=\"#000000\" stroke-opacity=\"0.5\" stroke-width=\"3.2\"/>\n",
       "<circle clip-path=\"url(#clip132)\" cx=\"764.46\" cy=\"551.845\" r=\"10\" fill=\"#ac8d18\" fill-rule=\"evenodd\" fill-opacity=\"0.5\" stroke=\"#000000\" stroke-opacity=\"0.5\" stroke-width=\"3.2\"/>\n",
       "<circle clip-path=\"url(#clip132)\" cx=\"784.573\" cy=\"540.576\" r=\"10\" fill=\"#ac8d18\" fill-rule=\"evenodd\" fill-opacity=\"0.5\" stroke=\"#000000\" stroke-opacity=\"0.5\" stroke-width=\"3.2\"/>\n",
       "<circle clip-path=\"url(#clip132)\" cx=\"804.685\" cy=\"427.093\" r=\"10\" fill=\"#ac8d18\" fill-rule=\"evenodd\" fill-opacity=\"0.5\" stroke=\"#000000\" stroke-opacity=\"0.5\" stroke-width=\"3.2\"/>\n",
       "<circle clip-path=\"url(#clip132)\" cx=\"824.798\" cy=\"322.162\" r=\"10\" fill=\"#ac8d18\" fill-rule=\"evenodd\" fill-opacity=\"0.5\" stroke=\"#000000\" stroke-opacity=\"0.5\" stroke-width=\"3.2\"/>\n",
       "<circle clip-path=\"url(#clip132)\" cx=\"844.911\" cy=\"345.387\" r=\"10\" fill=\"#ac8d18\" fill-rule=\"evenodd\" fill-opacity=\"0.5\" stroke=\"#000000\" stroke-opacity=\"0.5\" stroke-width=\"3.2\"/>\n",
       "<circle clip-path=\"url(#clip132)\" cx=\"865.023\" cy=\"296.54\" r=\"10\" fill=\"#ac8d18\" fill-rule=\"evenodd\" fill-opacity=\"0.5\" stroke=\"#000000\" stroke-opacity=\"0.5\" stroke-width=\"3.2\"/>\n",
       "<circle clip-path=\"url(#clip132)\" cx=\"885.136\" cy=\"121.94\" r=\"10\" fill=\"#ac8d18\" fill-rule=\"evenodd\" fill-opacity=\"0.5\" stroke=\"#000000\" stroke-opacity=\"0.5\" stroke-width=\"3.2\"/>\n",
       "<circle clip-path=\"url(#clip132)\" cx=\"905.249\" cy=\"212.832\" r=\"10\" fill=\"#ac8d18\" fill-rule=\"evenodd\" fill-opacity=\"0.5\" stroke=\"#000000\" stroke-opacity=\"0.5\" stroke-width=\"3.2\"/>\n",
       "<circle clip-path=\"url(#clip132)\" cx=\"925.361\" cy=\"249.617\" r=\"10\" fill=\"#ac8d18\" fill-rule=\"evenodd\" fill-opacity=\"0.5\" stroke=\"#000000\" stroke-opacity=\"0.5\" stroke-width=\"3.2\"/>\n",
       "<circle clip-path=\"url(#clip132)\" cx=\"945.474\" cy=\"210.495\" r=\"10\" fill=\"#ac8d18\" fill-rule=\"evenodd\" fill-opacity=\"0.5\" stroke=\"#000000\" stroke-opacity=\"0.5\" stroke-width=\"3.2\"/>\n",
       "<circle clip-path=\"url(#clip132)\" cx=\"965.587\" cy=\"214.112\" r=\"10\" fill=\"#ac8d18\" fill-rule=\"evenodd\" fill-opacity=\"0.5\" stroke=\"#000000\" stroke-opacity=\"0.5\" stroke-width=\"3.2\"/>\n",
       "<circle clip-path=\"url(#clip132)\" cx=\"985.699\" cy=\"221.766\" r=\"10\" fill=\"#ac8d18\" fill-rule=\"evenodd\" fill-opacity=\"0.5\" stroke=\"#000000\" stroke-opacity=\"0.5\" stroke-width=\"3.2\"/>\n",
       "<circle clip-path=\"url(#clip132)\" cx=\"1005.81\" cy=\"172.477\" r=\"10\" fill=\"#ac8d18\" fill-rule=\"evenodd\" fill-opacity=\"0.5\" stroke=\"#000000\" stroke-opacity=\"0.5\" stroke-width=\"3.2\"/>\n",
       "<circle clip-path=\"url(#clip132)\" cx=\"1025.92\" cy=\"270.524\" r=\"10\" fill=\"#ac8d18\" fill-rule=\"evenodd\" fill-opacity=\"0.5\" stroke=\"#000000\" stroke-opacity=\"0.5\" stroke-width=\"3.2\"/>\n",
       "<circle clip-path=\"url(#clip132)\" cx=\"1046.04\" cy=\"279.218\" r=\"10\" fill=\"#ac8d18\" fill-rule=\"evenodd\" fill-opacity=\"0.5\" stroke=\"#000000\" stroke-opacity=\"0.5\" stroke-width=\"3.2\"/>\n",
       "<circle clip-path=\"url(#clip132)\" cx=\"1066.15\" cy=\"335.459\" r=\"10\" fill=\"#ac8d18\" fill-rule=\"evenodd\" fill-opacity=\"0.5\" stroke=\"#000000\" stroke-opacity=\"0.5\" stroke-width=\"3.2\"/>\n",
       "<circle clip-path=\"url(#clip132)\" cx=\"1086.26\" cy=\"411.63\" r=\"10\" fill=\"#ac8d18\" fill-rule=\"evenodd\" fill-opacity=\"0.5\" stroke=\"#000000\" stroke-opacity=\"0.5\" stroke-width=\"3.2\"/>\n",
       "<circle clip-path=\"url(#clip132)\" cx=\"1106.38\" cy=\"571.494\" r=\"10\" fill=\"#ac8d18\" fill-rule=\"evenodd\" fill-opacity=\"0.5\" stroke=\"#000000\" stroke-opacity=\"0.5\" stroke-width=\"3.2\"/>\n",
       "<circle clip-path=\"url(#clip132)\" cx=\"1126.49\" cy=\"568.035\" r=\"10\" fill=\"#ac8d18\" fill-rule=\"evenodd\" fill-opacity=\"0.5\" stroke=\"#000000\" stroke-opacity=\"0.5\" stroke-width=\"3.2\"/>\n",
       "<circle clip-path=\"url(#clip132)\" cx=\"1146.6\" cy=\"667.183\" r=\"10\" fill=\"#ac8d18\" fill-rule=\"evenodd\" fill-opacity=\"0.5\" stroke=\"#000000\" stroke-opacity=\"0.5\" stroke-width=\"3.2\"/>\n",
       "<circle clip-path=\"url(#clip132)\" cx=\"1166.71\" cy=\"832.768\" r=\"10\" fill=\"#ac8d18\" fill-rule=\"evenodd\" fill-opacity=\"0.5\" stroke=\"#000000\" stroke-opacity=\"0.5\" stroke-width=\"3.2\"/>\n",
       "<circle clip-path=\"url(#clip132)\" cx=\"1186.83\" cy=\"927.083\" r=\"10\" fill=\"#ac8d18\" fill-rule=\"evenodd\" fill-opacity=\"0.5\" stroke=\"#000000\" stroke-opacity=\"0.5\" stroke-width=\"3.2\"/>\n",
       "<circle clip-path=\"url(#clip132)\" cx=\"1206.94\" cy=\"1061.05\" r=\"10\" fill=\"#ac8d18\" fill-rule=\"evenodd\" fill-opacity=\"0.5\" stroke=\"#000000\" stroke-opacity=\"0.5\" stroke-width=\"3.2\"/>\n",
       "<circle clip-path=\"url(#clip132)\" cx=\"1227.05\" cy=\"994.973\" r=\"10\" fill=\"#ac8d18\" fill-rule=\"evenodd\" fill-opacity=\"0.5\" stroke=\"#000000\" stroke-opacity=\"0.5\" stroke-width=\"3.2\"/>\n",
       "<circle clip-path=\"url(#clip132)\" cx=\"1247.16\" cy=\"1184.02\" r=\"10\" fill=\"#ac8d18\" fill-rule=\"evenodd\" fill-opacity=\"0.5\" stroke=\"#000000\" stroke-opacity=\"0.5\" stroke-width=\"3.2\"/>\n",
       "<circle clip-path=\"url(#clip132)\" cx=\"1267.28\" cy=\"1305.76\" r=\"10\" fill=\"#ac8d18\" fill-rule=\"evenodd\" fill-opacity=\"0.5\" stroke=\"#000000\" stroke-opacity=\"0.5\" stroke-width=\"3.2\"/>\n",
       "<circle clip-path=\"url(#clip132)\" cx=\"1287.39\" cy=\"1237.98\" r=\"10\" fill=\"#ac8d18\" fill-rule=\"evenodd\" fill-opacity=\"0.5\" stroke=\"#000000\" stroke-opacity=\"0.5\" stroke-width=\"3.2\"/>\n",
       "<circle clip-path=\"url(#clip132)\" cx=\"1307.5\" cy=\"1256.87\" r=\"10\" fill=\"#ac8d18\" fill-rule=\"evenodd\" fill-opacity=\"0.5\" stroke=\"#000000\" stroke-opacity=\"0.5\" stroke-width=\"3.2\"/>\n",
       "<circle clip-path=\"url(#clip132)\" cx=\"1327.61\" cy=\"1282.49\" r=\"10\" fill=\"#ac8d18\" fill-rule=\"evenodd\" fill-opacity=\"0.5\" stroke=\"#000000\" stroke-opacity=\"0.5\" stroke-width=\"3.2\"/>\n",
       "<circle clip-path=\"url(#clip132)\" cx=\"1347.73\" cy=\"1277.82\" r=\"10\" fill=\"#ac8d18\" fill-rule=\"evenodd\" fill-opacity=\"0.5\" stroke=\"#000000\" stroke-opacity=\"0.5\" stroke-width=\"3.2\"/>\n",
       "<circle clip-path=\"url(#clip132)\" cx=\"1367.84\" cy=\"1248.5\" r=\"10\" fill=\"#ac8d18\" fill-rule=\"evenodd\" fill-opacity=\"0.5\" stroke=\"#000000\" stroke-opacity=\"0.5\" stroke-width=\"3.2\"/>\n",
       "<circle clip-path=\"url(#clip132)\" cx=\"1387.95\" cy=\"1182.46\" r=\"10\" fill=\"#ac8d18\" fill-rule=\"evenodd\" fill-opacity=\"0.5\" stroke=\"#000000\" stroke-opacity=\"0.5\" stroke-width=\"3.2\"/>\n",
       "<circle clip-path=\"url(#clip132)\" cx=\"1408.06\" cy=\"1090.55\" r=\"10\" fill=\"#ac8d18\" fill-rule=\"evenodd\" fill-opacity=\"0.5\" stroke=\"#000000\" stroke-opacity=\"0.5\" stroke-width=\"3.2\"/>\n",
       "<circle clip-path=\"url(#clip132)\" cx=\"1428.18\" cy=\"1126.87\" r=\"10\" fill=\"#ac8d18\" fill-rule=\"evenodd\" fill-opacity=\"0.5\" stroke=\"#000000\" stroke-opacity=\"0.5\" stroke-width=\"3.2\"/>\n",
       "<circle clip-path=\"url(#clip132)\" cx=\"1448.29\" cy=\"1052.21\" r=\"10\" fill=\"#ac8d18\" fill-rule=\"evenodd\" fill-opacity=\"0.5\" stroke=\"#000000\" stroke-opacity=\"0.5\" stroke-width=\"3.2\"/>\n",
       "<circle clip-path=\"url(#clip132)\" cx=\"1468.4\" cy=\"865.748\" r=\"10\" fill=\"#ac8d18\" fill-rule=\"evenodd\" fill-opacity=\"0.5\" stroke=\"#000000\" stroke-opacity=\"0.5\" stroke-width=\"3.2\"/>\n",
       "<circle clip-path=\"url(#clip132)\" cx=\"1488.52\" cy=\"892.19\" r=\"10\" fill=\"#ac8d18\" fill-rule=\"evenodd\" fill-opacity=\"0.5\" stroke=\"#000000\" stroke-opacity=\"0.5\" stroke-width=\"3.2\"/>\n",
       "<circle clip-path=\"url(#clip132)\" cx=\"1508.63\" cy=\"862.532\" r=\"10\" fill=\"#ac8d18\" fill-rule=\"evenodd\" fill-opacity=\"0.5\" stroke=\"#000000\" stroke-opacity=\"0.5\" stroke-width=\"3.2\"/>\n",
       "<circle clip-path=\"url(#clip132)\" cx=\"1528.74\" cy=\"709.304\" r=\"10\" fill=\"#ac8d18\" fill-rule=\"evenodd\" fill-opacity=\"0.5\" stroke=\"#000000\" stroke-opacity=\"0.5\" stroke-width=\"3.2\"/>\n",
       "<circle clip-path=\"url(#clip132)\" cx=\"1548.85\" cy=\"791.275\" r=\"10\" fill=\"#ac8d18\" fill-rule=\"evenodd\" fill-opacity=\"0.5\" stroke=\"#000000\" stroke-opacity=\"0.5\" stroke-width=\"3.2\"/>\n",
       "<circle clip-path=\"url(#clip132)\" cx=\"1568.97\" cy=\"721.926\" r=\"10\" fill=\"#ac8d18\" fill-rule=\"evenodd\" fill-opacity=\"0.5\" stroke=\"#000000\" stroke-opacity=\"0.5\" stroke-width=\"3.2\"/>\n",
       "<circle clip-path=\"url(#clip132)\" cx=\"1589.08\" cy=\"643.345\" r=\"10\" fill=\"#ac8d18\" fill-rule=\"evenodd\" fill-opacity=\"0.5\" stroke=\"#000000\" stroke-opacity=\"0.5\" stroke-width=\"3.2\"/>\n",
       "<circle clip-path=\"url(#clip132)\" cx=\"1609.19\" cy=\"663.792\" r=\"10\" fill=\"#ac8d18\" fill-rule=\"evenodd\" fill-opacity=\"0.5\" stroke=\"#000000\" stroke-opacity=\"0.5\" stroke-width=\"3.2\"/>\n",
       "<circle clip-path=\"url(#clip132)\" cx=\"1629.3\" cy=\"687.77\" r=\"10\" fill=\"#ac8d18\" fill-rule=\"evenodd\" fill-opacity=\"0.5\" stroke=\"#000000\" stroke-opacity=\"0.5\" stroke-width=\"3.2\"/>\n",
       "<circle clip-path=\"url(#clip132)\" cx=\"1649.42\" cy=\"484.741\" r=\"10\" fill=\"#ac8d18\" fill-rule=\"evenodd\" fill-opacity=\"0.5\" stroke=\"#000000\" stroke-opacity=\"0.5\" stroke-width=\"3.2\"/>\n",
       "<circle clip-path=\"url(#clip132)\" cx=\"1669.53\" cy=\"336.843\" r=\"10\" fill=\"#ac8d18\" fill-rule=\"evenodd\" fill-opacity=\"0.5\" stroke=\"#000000\" stroke-opacity=\"0.5\" stroke-width=\"3.2\"/>\n",
       "<circle clip-path=\"url(#clip132)\" cx=\"1689.64\" cy=\"402.152\" r=\"10\" fill=\"#ac8d18\" fill-rule=\"evenodd\" fill-opacity=\"0.5\" stroke=\"#000000\" stroke-opacity=\"0.5\" stroke-width=\"3.2\"/>\n",
       "<circle clip-path=\"url(#clip132)\" cx=\"1709.75\" cy=\"429.586\" r=\"10\" fill=\"#ac8d18\" fill-rule=\"evenodd\" fill-opacity=\"0.5\" stroke=\"#000000\" stroke-opacity=\"0.5\" stroke-width=\"3.2\"/>\n",
       "<circle clip-path=\"url(#clip132)\" cx=\"1729.87\" cy=\"450.447\" r=\"10\" fill=\"#ac8d18\" fill-rule=\"evenodd\" fill-opacity=\"0.5\" stroke=\"#000000\" stroke-opacity=\"0.5\" stroke-width=\"3.2\"/>\n",
       "<circle clip-path=\"url(#clip132)\" cx=\"1749.98\" cy=\"403.702\" r=\"10\" fill=\"#ac8d18\" fill-rule=\"evenodd\" fill-opacity=\"0.5\" stroke=\"#000000\" stroke-opacity=\"0.5\" stroke-width=\"3.2\"/>\n",
       "<circle clip-path=\"url(#clip132)\" cx=\"1770.09\" cy=\"442.879\" r=\"10\" fill=\"#ac8d18\" fill-rule=\"evenodd\" fill-opacity=\"0.5\" stroke=\"#000000\" stroke-opacity=\"0.5\" stroke-width=\"3.2\"/>\n",
       "<circle clip-path=\"url(#clip132)\" cx=\"1790.21\" cy=\"493.207\" r=\"10\" fill=\"#ac8d18\" fill-rule=\"evenodd\" fill-opacity=\"0.5\" stroke=\"#000000\" stroke-opacity=\"0.5\" stroke-width=\"3.2\"/>\n",
       "<circle clip-path=\"url(#clip132)\" cx=\"1810.32\" cy=\"518.642\" r=\"10\" fill=\"#ac8d18\" fill-rule=\"evenodd\" fill-opacity=\"0.5\" stroke=\"#000000\" stroke-opacity=\"0.5\" stroke-width=\"3.2\"/>\n",
       "<circle clip-path=\"url(#clip132)\" cx=\"1830.43\" cy=\"542.465\" r=\"10\" fill=\"#ac8d18\" fill-rule=\"evenodd\" fill-opacity=\"0.5\" stroke=\"#000000\" stroke-opacity=\"0.5\" stroke-width=\"3.2\"/>\n",
       "<circle clip-path=\"url(#clip132)\" cx=\"1850.54\" cy=\"595.929\" r=\"10\" fill=\"#ac8d18\" fill-rule=\"evenodd\" fill-opacity=\"0.5\" stroke=\"#000000\" stroke-opacity=\"0.5\" stroke-width=\"3.2\"/>\n",
       "<circle clip-path=\"url(#clip132)\" cx=\"1870.66\" cy=\"676.201\" r=\"10\" fill=\"#ac8d18\" fill-rule=\"evenodd\" fill-opacity=\"0.5\" stroke=\"#000000\" stroke-opacity=\"0.5\" stroke-width=\"3.2\"/>\n",
       "<circle clip-path=\"url(#clip132)\" cx=\"1890.77\" cy=\"674.38\" r=\"10\" fill=\"#ac8d18\" fill-rule=\"evenodd\" fill-opacity=\"0.5\" stroke=\"#000000\" stroke-opacity=\"0.5\" stroke-width=\"3.2\"/>\n",
       "<circle clip-path=\"url(#clip132)\" cx=\"1910.88\" cy=\"711.323\" r=\"10\" fill=\"#ac8d18\" fill-rule=\"evenodd\" fill-opacity=\"0.5\" stroke=\"#000000\" stroke-opacity=\"0.5\" stroke-width=\"3.2\"/>\n",
       "<circle clip-path=\"url(#clip132)\" cx=\"1930.99\" cy=\"811.424\" r=\"10\" fill=\"#ac8d18\" fill-rule=\"evenodd\" fill-opacity=\"0.5\" stroke=\"#000000\" stroke-opacity=\"0.5\" stroke-width=\"3.2\"/>\n",
       "<circle clip-path=\"url(#clip132)\" cx=\"1951.11\" cy=\"805.964\" r=\"10\" fill=\"#ac8d18\" fill-rule=\"evenodd\" fill-opacity=\"0.5\" stroke=\"#000000\" stroke-opacity=\"0.5\" stroke-width=\"3.2\"/>\n",
       "<circle clip-path=\"url(#clip132)\" cx=\"1971.22\" cy=\"789.563\" r=\"10\" fill=\"#ac8d18\" fill-rule=\"evenodd\" fill-opacity=\"0.5\" stroke=\"#000000\" stroke-opacity=\"0.5\" stroke-width=\"3.2\"/>\n",
       "<circle clip-path=\"url(#clip132)\" cx=\"1991.33\" cy=\"827.379\" r=\"10\" fill=\"#ac8d18\" fill-rule=\"evenodd\" fill-opacity=\"0.5\" stroke=\"#000000\" stroke-opacity=\"0.5\" stroke-width=\"3.2\"/>\n",
       "<circle clip-path=\"url(#clip132)\" cx=\"2011.44\" cy=\"853.863\" r=\"10\" fill=\"#ac8d18\" fill-rule=\"evenodd\" fill-opacity=\"0.5\" stroke=\"#000000\" stroke-opacity=\"0.5\" stroke-width=\"3.2\"/>\n",
       "<circle clip-path=\"url(#clip132)\" cx=\"2031.56\" cy=\"772.627\" r=\"10\" fill=\"#ac8d18\" fill-rule=\"evenodd\" fill-opacity=\"0.5\" stroke=\"#000000\" stroke-opacity=\"0.5\" stroke-width=\"3.2\"/>\n",
       "<circle clip-path=\"url(#clip132)\" cx=\"2051.67\" cy=\"780.652\" r=\"10\" fill=\"#ac8d18\" fill-rule=\"evenodd\" fill-opacity=\"0.5\" stroke=\"#000000\" stroke-opacity=\"0.5\" stroke-width=\"3.2\"/>\n",
       "<circle clip-path=\"url(#clip132)\" cx=\"2071.78\" cy=\"670.378\" r=\"10\" fill=\"#ac8d18\" fill-rule=\"evenodd\" fill-opacity=\"0.5\" stroke=\"#000000\" stroke-opacity=\"0.5\" stroke-width=\"3.2\"/>\n",
       "<circle clip-path=\"url(#clip132)\" cx=\"2091.89\" cy=\"798.725\" r=\"10\" fill=\"#ac8d18\" fill-rule=\"evenodd\" fill-opacity=\"0.5\" stroke=\"#000000\" stroke-opacity=\"0.5\" stroke-width=\"3.2\"/>\n",
       "<circle clip-path=\"url(#clip132)\" cx=\"2112.01\" cy=\"745.937\" r=\"10\" fill=\"#ac8d18\" fill-rule=\"evenodd\" fill-opacity=\"0.5\" stroke=\"#000000\" stroke-opacity=\"0.5\" stroke-width=\"3.2\"/>\n",
       "<circle clip-path=\"url(#clip132)\" cx=\"2132.12\" cy=\"823.982\" r=\"10\" fill=\"#ac8d18\" fill-rule=\"evenodd\" fill-opacity=\"0.5\" stroke=\"#000000\" stroke-opacity=\"0.5\" stroke-width=\"3.2\"/>\n",
       "<circle clip-path=\"url(#clip132)\" cx=\"2152.23\" cy=\"810.626\" r=\"10\" fill=\"#ac8d18\" fill-rule=\"evenodd\" fill-opacity=\"0.5\" stroke=\"#000000\" stroke-opacity=\"0.5\" stroke-width=\"3.2\"/>\n",
       "<circle clip-path=\"url(#clip132)\" cx=\"2172.35\" cy=\"884.414\" r=\"10\" fill=\"#ac8d18\" fill-rule=\"evenodd\" fill-opacity=\"0.5\" stroke=\"#000000\" stroke-opacity=\"0.5\" stroke-width=\"3.2\"/>\n",
       "<circle clip-path=\"url(#clip132)\" cx=\"2192.46\" cy=\"899.26\" r=\"10\" fill=\"#ac8d18\" fill-rule=\"evenodd\" fill-opacity=\"0.5\" stroke=\"#000000\" stroke-opacity=\"0.5\" stroke-width=\"3.2\"/>\n",
       "<circle clip-path=\"url(#clip132)\" cx=\"2212.57\" cy=\"899.527\" r=\"10\" fill=\"#ac8d18\" fill-rule=\"evenodd\" fill-opacity=\"0.5\" stroke=\"#000000\" stroke-opacity=\"0.5\" stroke-width=\"3.2\"/>\n",
       "<circle clip-path=\"url(#clip132)\" cx=\"2232.68\" cy=\"828.73\" r=\"10\" fill=\"#ac8d18\" fill-rule=\"evenodd\" fill-opacity=\"0.5\" stroke=\"#000000\" stroke-opacity=\"0.5\" stroke-width=\"3.2\"/>\n",
       "<circle clip-path=\"url(#clip132)\" cx=\"2252.8\" cy=\"818.506\" r=\"10\" fill=\"#ac8d18\" fill-rule=\"evenodd\" fill-opacity=\"0.5\" stroke=\"#000000\" stroke-opacity=\"0.5\" stroke-width=\"3.2\"/>\n",
       "<circle clip-path=\"url(#clip132)\" cx=\"2272.91\" cy=\"745.502\" r=\"10\" fill=\"#ac8d18\" fill-rule=\"evenodd\" fill-opacity=\"0.5\" stroke=\"#000000\" stroke-opacity=\"0.5\" stroke-width=\"3.2\"/>\n",
       "<circle clip-path=\"url(#clip132)\" cx=\"2293.02\" cy=\"754.557\" r=\"10\" fill=\"#ac8d18\" fill-rule=\"evenodd\" fill-opacity=\"0.5\" stroke=\"#000000\" stroke-opacity=\"0.5\" stroke-width=\"3.2\"/>\n",
       "<circle clip-path=\"url(#clip132)\" cx=\"301.869\" cy=\"791.466\" r=\"10\" fill=\"#00a9ad\" fill-rule=\"evenodd\" fill-opacity=\"0.5\" stroke=\"#000000\" stroke-opacity=\"0.5\" stroke-width=\"3.2\"/>\n",
       "<circle clip-path=\"url(#clip132)\" cx=\"321.982\" cy=\"804.861\" r=\"10\" fill=\"#00a9ad\" fill-rule=\"evenodd\" fill-opacity=\"0.5\" stroke=\"#000000\" stroke-opacity=\"0.5\" stroke-width=\"3.2\"/>\n",
       "<circle clip-path=\"url(#clip132)\" cx=\"342.095\" cy=\"775.277\" r=\"10\" fill=\"#00a9ad\" fill-rule=\"evenodd\" fill-opacity=\"0.5\" stroke=\"#000000\" stroke-opacity=\"0.5\" stroke-width=\"3.2\"/>\n",
       "<circle clip-path=\"url(#clip132)\" cx=\"362.207\" cy=\"780.122\" r=\"10\" fill=\"#00a9ad\" fill-rule=\"evenodd\" fill-opacity=\"0.5\" stroke=\"#000000\" stroke-opacity=\"0.5\" stroke-width=\"3.2\"/>\n",
       "<circle clip-path=\"url(#clip132)\" cx=\"382.32\" cy=\"818.212\" r=\"10\" fill=\"#00a9ad\" fill-rule=\"evenodd\" fill-opacity=\"0.5\" stroke=\"#000000\" stroke-opacity=\"0.5\" stroke-width=\"3.2\"/>\n",
       "<circle clip-path=\"url(#clip132)\" cx=\"402.432\" cy=\"801.111\" r=\"10\" fill=\"#00a9ad\" fill-rule=\"evenodd\" fill-opacity=\"0.5\" stroke=\"#000000\" stroke-opacity=\"0.5\" stroke-width=\"3.2\"/>\n",
       "<circle clip-path=\"url(#clip132)\" cx=\"422.545\" cy=\"779.836\" r=\"10\" fill=\"#00a9ad\" fill-rule=\"evenodd\" fill-opacity=\"0.5\" stroke=\"#000000\" stroke-opacity=\"0.5\" stroke-width=\"3.2\"/>\n",
       "<circle clip-path=\"url(#clip132)\" cx=\"442.658\" cy=\"782.891\" r=\"10\" fill=\"#00a9ad\" fill-rule=\"evenodd\" fill-opacity=\"0.5\" stroke=\"#000000\" stroke-opacity=\"0.5\" stroke-width=\"3.2\"/>\n",
       "<circle clip-path=\"url(#clip132)\" cx=\"462.77\" cy=\"795.611\" r=\"10\" fill=\"#00a9ad\" fill-rule=\"evenodd\" fill-opacity=\"0.5\" stroke=\"#000000\" stroke-opacity=\"0.5\" stroke-width=\"3.2\"/>\n",
       "<circle clip-path=\"url(#clip132)\" cx=\"482.883\" cy=\"764.4\" r=\"10\" fill=\"#00a9ad\" fill-rule=\"evenodd\" fill-opacity=\"0.5\" stroke=\"#000000\" stroke-opacity=\"0.5\" stroke-width=\"3.2\"/>\n",
       "<circle clip-path=\"url(#clip132)\" cx=\"502.996\" cy=\"801.578\" r=\"10\" fill=\"#00a9ad\" fill-rule=\"evenodd\" fill-opacity=\"0.5\" stroke=\"#000000\" stroke-opacity=\"0.5\" stroke-width=\"3.2\"/>\n",
       "<circle clip-path=\"url(#clip132)\" cx=\"523.108\" cy=\"769.411\" r=\"10\" fill=\"#00a9ad\" fill-rule=\"evenodd\" fill-opacity=\"0.5\" stroke=\"#000000\" stroke-opacity=\"0.5\" stroke-width=\"3.2\"/>\n",
       "<circle clip-path=\"url(#clip132)\" cx=\"543.221\" cy=\"781.773\" r=\"10\" fill=\"#00a9ad\" fill-rule=\"evenodd\" fill-opacity=\"0.5\" stroke=\"#000000\" stroke-opacity=\"0.5\" stroke-width=\"3.2\"/>\n",
       "<circle clip-path=\"url(#clip132)\" cx=\"563.334\" cy=\"806.728\" r=\"10\" fill=\"#00a9ad\" fill-rule=\"evenodd\" fill-opacity=\"0.5\" stroke=\"#000000\" stroke-opacity=\"0.5\" stroke-width=\"3.2\"/>\n",
       "<circle clip-path=\"url(#clip132)\" cx=\"583.446\" cy=\"873.463\" r=\"10\" fill=\"#00a9ad\" fill-rule=\"evenodd\" fill-opacity=\"0.5\" stroke=\"#000000\" stroke-opacity=\"0.5\" stroke-width=\"3.2\"/>\n",
       "<circle clip-path=\"url(#clip132)\" cx=\"603.559\" cy=\"848.714\" r=\"10\" fill=\"#00a9ad\" fill-rule=\"evenodd\" fill-opacity=\"0.5\" stroke=\"#000000\" stroke-opacity=\"0.5\" stroke-width=\"3.2\"/>\n",
       "<circle clip-path=\"url(#clip132)\" cx=\"623.672\" cy=\"892.364\" r=\"10\" fill=\"#00a9ad\" fill-rule=\"evenodd\" fill-opacity=\"0.5\" stroke=\"#000000\" stroke-opacity=\"0.5\" stroke-width=\"3.2\"/>\n",
       "<circle clip-path=\"url(#clip132)\" cx=\"643.784\" cy=\"937.492\" r=\"10\" fill=\"#00a9ad\" fill-rule=\"evenodd\" fill-opacity=\"0.5\" stroke=\"#000000\" stroke-opacity=\"0.5\" stroke-width=\"3.2\"/>\n",
       "<circle clip-path=\"url(#clip132)\" cx=\"663.897\" cy=\"927.861\" r=\"10\" fill=\"#00a9ad\" fill-rule=\"evenodd\" fill-opacity=\"0.5\" stroke=\"#000000\" stroke-opacity=\"0.5\" stroke-width=\"3.2\"/>\n",
       "<circle clip-path=\"url(#clip132)\" cx=\"684.01\" cy=\"955.557\" r=\"10\" fill=\"#00a9ad\" fill-rule=\"evenodd\" fill-opacity=\"0.5\" stroke=\"#000000\" stroke-opacity=\"0.5\" stroke-width=\"3.2\"/>\n",
       "<circle clip-path=\"url(#clip132)\" cx=\"704.122\" cy=\"976.91\" r=\"10\" fill=\"#00a9ad\" fill-rule=\"evenodd\" fill-opacity=\"0.5\" stroke=\"#000000\" stroke-opacity=\"0.5\" stroke-width=\"3.2\"/>\n",
       "<circle clip-path=\"url(#clip132)\" cx=\"724.235\" cy=\"996.137\" r=\"10\" fill=\"#00a9ad\" fill-rule=\"evenodd\" fill-opacity=\"0.5\" stroke=\"#000000\" stroke-opacity=\"0.5\" stroke-width=\"3.2\"/>\n",
       "<circle clip-path=\"url(#clip132)\" cx=\"744.347\" cy=\"890.886\" r=\"10\" fill=\"#00a9ad\" fill-rule=\"evenodd\" fill-opacity=\"0.5\" stroke=\"#000000\" stroke-opacity=\"0.5\" stroke-width=\"3.2\"/>\n",
       "<circle clip-path=\"url(#clip132)\" cx=\"764.46\" cy=\"983.554\" r=\"10\" fill=\"#00a9ad\" fill-rule=\"evenodd\" fill-opacity=\"0.5\" stroke=\"#000000\" stroke-opacity=\"0.5\" stroke-width=\"3.2\"/>\n",
       "<circle clip-path=\"url(#clip132)\" cx=\"784.573\" cy=\"1030.19\" r=\"10\" fill=\"#00a9ad\" fill-rule=\"evenodd\" fill-opacity=\"0.5\" stroke=\"#000000\" stroke-opacity=\"0.5\" stroke-width=\"3.2\"/>\n",
       "<circle clip-path=\"url(#clip132)\" cx=\"804.685\" cy=\"975.112\" r=\"10\" fill=\"#00a9ad\" fill-rule=\"evenodd\" fill-opacity=\"0.5\" stroke=\"#000000\" stroke-opacity=\"0.5\" stroke-width=\"3.2\"/>\n",
       "<circle clip-path=\"url(#clip132)\" cx=\"824.798\" cy=\"922.944\" r=\"10\" fill=\"#00a9ad\" fill-rule=\"evenodd\" fill-opacity=\"0.5\" stroke=\"#000000\" stroke-opacity=\"0.5\" stroke-width=\"3.2\"/>\n",
       "<circle clip-path=\"url(#clip132)\" cx=\"844.911\" cy=\"941.941\" r=\"10\" fill=\"#00a9ad\" fill-rule=\"evenodd\" fill-opacity=\"0.5\" stroke=\"#000000\" stroke-opacity=\"0.5\" stroke-width=\"3.2\"/>\n",
       "<circle clip-path=\"url(#clip132)\" cx=\"865.023\" cy=\"956.12\" r=\"10\" fill=\"#00a9ad\" fill-rule=\"evenodd\" fill-opacity=\"0.5\" stroke=\"#000000\" stroke-opacity=\"0.5\" stroke-width=\"3.2\"/>\n",
       "<circle clip-path=\"url(#clip132)\" cx=\"885.136\" cy=\"835.61\" r=\"10\" fill=\"#00a9ad\" fill-rule=\"evenodd\" fill-opacity=\"0.5\" stroke=\"#000000\" stroke-opacity=\"0.5\" stroke-width=\"3.2\"/>\n",
       "<circle clip-path=\"url(#clip132)\" cx=\"905.249\" cy=\"824.247\" r=\"10\" fill=\"#00a9ad\" fill-rule=\"evenodd\" fill-opacity=\"0.5\" stroke=\"#000000\" stroke-opacity=\"0.5\" stroke-width=\"3.2\"/>\n",
       "<circle clip-path=\"url(#clip132)\" cx=\"925.361\" cy=\"789.133\" r=\"10\" fill=\"#00a9ad\" fill-rule=\"evenodd\" fill-opacity=\"0.5\" stroke=\"#000000\" stroke-opacity=\"0.5\" stroke-width=\"3.2\"/>\n",
       "<circle clip-path=\"url(#clip132)\" cx=\"945.474\" cy=\"721.628\" r=\"10\" fill=\"#00a9ad\" fill-rule=\"evenodd\" fill-opacity=\"0.5\" stroke=\"#000000\" stroke-opacity=\"0.5\" stroke-width=\"3.2\"/>\n",
       "<circle clip-path=\"url(#clip132)\" cx=\"965.587\" cy=\"684.087\" r=\"10\" fill=\"#00a9ad\" fill-rule=\"evenodd\" fill-opacity=\"0.5\" stroke=\"#000000\" stroke-opacity=\"0.5\" stroke-width=\"3.2\"/>\n",
       "<circle clip-path=\"url(#clip132)\" cx=\"985.699\" cy=\"622.008\" r=\"10\" fill=\"#00a9ad\" fill-rule=\"evenodd\" fill-opacity=\"0.5\" stroke=\"#000000\" stroke-opacity=\"0.5\" stroke-width=\"3.2\"/>\n",
       "<circle clip-path=\"url(#clip132)\" cx=\"1005.81\" cy=\"654.218\" r=\"10\" fill=\"#00a9ad\" fill-rule=\"evenodd\" fill-opacity=\"0.5\" stroke=\"#000000\" stroke-opacity=\"0.5\" stroke-width=\"3.2\"/>\n",
       "<circle clip-path=\"url(#clip132)\" cx=\"1025.92\" cy=\"596.386\" r=\"10\" fill=\"#00a9ad\" fill-rule=\"evenodd\" fill-opacity=\"0.5\" stroke=\"#000000\" stroke-opacity=\"0.5\" stroke-width=\"3.2\"/>\n",
       "<circle clip-path=\"url(#clip132)\" cx=\"1046.04\" cy=\"561.552\" r=\"10\" fill=\"#00a9ad\" fill-rule=\"evenodd\" fill-opacity=\"0.5\" stroke=\"#000000\" stroke-opacity=\"0.5\" stroke-width=\"3.2\"/>\n",
       "<circle clip-path=\"url(#clip132)\" cx=\"1066.15\" cy=\"518.816\" r=\"10\" fill=\"#00a9ad\" fill-rule=\"evenodd\" fill-opacity=\"0.5\" stroke=\"#000000\" stroke-opacity=\"0.5\" stroke-width=\"3.2\"/>\n",
       "<circle clip-path=\"url(#clip132)\" cx=\"1086.26\" cy=\"470.815\" r=\"10\" fill=\"#00a9ad\" fill-rule=\"evenodd\" fill-opacity=\"0.5\" stroke=\"#000000\" stroke-opacity=\"0.5\" stroke-width=\"3.2\"/>\n",
       "<circle clip-path=\"url(#clip132)\" cx=\"1106.38\" cy=\"493.035\" r=\"10\" fill=\"#00a9ad\" fill-rule=\"evenodd\" fill-opacity=\"0.5\" stroke=\"#000000\" stroke-opacity=\"0.5\" stroke-width=\"3.2\"/>\n",
       "<circle clip-path=\"url(#clip132)\" cx=\"1126.49\" cy=\"440.609\" r=\"10\" fill=\"#00a9ad\" fill-rule=\"evenodd\" fill-opacity=\"0.5\" stroke=\"#000000\" stroke-opacity=\"0.5\" stroke-width=\"3.2\"/>\n",
       "<circle clip-path=\"url(#clip132)\" cx=\"1146.6\" cy=\"428.2\" r=\"10\" fill=\"#00a9ad\" fill-rule=\"evenodd\" fill-opacity=\"0.5\" stroke=\"#000000\" stroke-opacity=\"0.5\" stroke-width=\"3.2\"/>\n",
       "<circle clip-path=\"url(#clip132)\" cx=\"1166.71\" cy=\"502.441\" r=\"10\" fill=\"#00a9ad\" fill-rule=\"evenodd\" fill-opacity=\"0.5\" stroke=\"#000000\" stroke-opacity=\"0.5\" stroke-width=\"3.2\"/>\n",
       "<circle clip-path=\"url(#clip132)\" cx=\"1186.83\" cy=\"553.242\" r=\"10\" fill=\"#00a9ad\" fill-rule=\"evenodd\" fill-opacity=\"0.5\" stroke=\"#000000\" stroke-opacity=\"0.5\" stroke-width=\"3.2\"/>\n",
       "<circle clip-path=\"url(#clip132)\" cx=\"1206.94\" cy=\"433.729\" r=\"10\" fill=\"#00a9ad\" fill-rule=\"evenodd\" fill-opacity=\"0.5\" stroke=\"#000000\" stroke-opacity=\"0.5\" stroke-width=\"3.2\"/>\n",
       "<circle clip-path=\"url(#clip132)\" cx=\"1227.05\" cy=\"480.556\" r=\"10\" fill=\"#00a9ad\" fill-rule=\"evenodd\" fill-opacity=\"0.5\" stroke=\"#000000\" stroke-opacity=\"0.5\" stroke-width=\"3.2\"/>\n",
       "<circle clip-path=\"url(#clip132)\" cx=\"1247.16\" cy=\"418.586\" r=\"10\" fill=\"#00a9ad\" fill-rule=\"evenodd\" fill-opacity=\"0.5\" stroke=\"#000000\" stroke-opacity=\"0.5\" stroke-width=\"3.2\"/>\n",
       "<circle clip-path=\"url(#clip132)\" cx=\"1267.28\" cy=\"588.863\" r=\"10\" fill=\"#00a9ad\" fill-rule=\"evenodd\" fill-opacity=\"0.5\" stroke=\"#000000\" stroke-opacity=\"0.5\" stroke-width=\"3.2\"/>\n",
       "<circle clip-path=\"url(#clip132)\" cx=\"1287.39\" cy=\"608.313\" r=\"10\" fill=\"#00a9ad\" fill-rule=\"evenodd\" fill-opacity=\"0.5\" stroke=\"#000000\" stroke-opacity=\"0.5\" stroke-width=\"3.2\"/>\n",
       "<circle clip-path=\"url(#clip132)\" cx=\"1307.5\" cy=\"659.485\" r=\"10\" fill=\"#00a9ad\" fill-rule=\"evenodd\" fill-opacity=\"0.5\" stroke=\"#000000\" stroke-opacity=\"0.5\" stroke-width=\"3.2\"/>\n",
       "<circle clip-path=\"url(#clip132)\" cx=\"1327.61\" cy=\"788.547\" r=\"10\" fill=\"#00a9ad\" fill-rule=\"evenodd\" fill-opacity=\"0.5\" stroke=\"#000000\" stroke-opacity=\"0.5\" stroke-width=\"3.2\"/>\n",
       "<circle clip-path=\"url(#clip132)\" cx=\"1347.73\" cy=\"778.063\" r=\"10\" fill=\"#00a9ad\" fill-rule=\"evenodd\" fill-opacity=\"0.5\" stroke=\"#000000\" stroke-opacity=\"0.5\" stroke-width=\"3.2\"/>\n",
       "<circle clip-path=\"url(#clip132)\" cx=\"1367.84\" cy=\"819.115\" r=\"10\" fill=\"#00a9ad\" fill-rule=\"evenodd\" fill-opacity=\"0.5\" stroke=\"#000000\" stroke-opacity=\"0.5\" stroke-width=\"3.2\"/>\n",
       "<circle clip-path=\"url(#clip132)\" cx=\"1387.95\" cy=\"824.593\" r=\"10\" fill=\"#00a9ad\" fill-rule=\"evenodd\" fill-opacity=\"0.5\" stroke=\"#000000\" stroke-opacity=\"0.5\" stroke-width=\"3.2\"/>\n",
       "<circle clip-path=\"url(#clip132)\" cx=\"1408.06\" cy=\"846.691\" r=\"10\" fill=\"#00a9ad\" fill-rule=\"evenodd\" fill-opacity=\"0.5\" stroke=\"#000000\" stroke-opacity=\"0.5\" stroke-width=\"3.2\"/>\n",
       "<circle clip-path=\"url(#clip132)\" cx=\"1428.18\" cy=\"895.604\" r=\"10\" fill=\"#00a9ad\" fill-rule=\"evenodd\" fill-opacity=\"0.5\" stroke=\"#000000\" stroke-opacity=\"0.5\" stroke-width=\"3.2\"/>\n",
       "<circle clip-path=\"url(#clip132)\" cx=\"1448.29\" cy=\"867.764\" r=\"10\" fill=\"#00a9ad\" fill-rule=\"evenodd\" fill-opacity=\"0.5\" stroke=\"#000000\" stroke-opacity=\"0.5\" stroke-width=\"3.2\"/>\n",
       "<circle clip-path=\"url(#clip132)\" cx=\"1468.4\" cy=\"986.418\" r=\"10\" fill=\"#00a9ad\" fill-rule=\"evenodd\" fill-opacity=\"0.5\" stroke=\"#000000\" stroke-opacity=\"0.5\" stroke-width=\"3.2\"/>\n",
       "<circle clip-path=\"url(#clip132)\" cx=\"1488.52\" cy=\"960.03\" r=\"10\" fill=\"#00a9ad\" fill-rule=\"evenodd\" fill-opacity=\"0.5\" stroke=\"#000000\" stroke-opacity=\"0.5\" stroke-width=\"3.2\"/>\n",
       "<circle clip-path=\"url(#clip132)\" cx=\"1508.63\" cy=\"1035.87\" r=\"10\" fill=\"#00a9ad\" fill-rule=\"evenodd\" fill-opacity=\"0.5\" stroke=\"#000000\" stroke-opacity=\"0.5\" stroke-width=\"3.2\"/>\n",
       "<circle clip-path=\"url(#clip132)\" cx=\"1528.74\" cy=\"971.35\" r=\"10\" fill=\"#00a9ad\" fill-rule=\"evenodd\" fill-opacity=\"0.5\" stroke=\"#000000\" stroke-opacity=\"0.5\" stroke-width=\"3.2\"/>\n",
       "<circle clip-path=\"url(#clip132)\" cx=\"1548.85\" cy=\"971.587\" r=\"10\" fill=\"#00a9ad\" fill-rule=\"evenodd\" fill-opacity=\"0.5\" stroke=\"#000000\" stroke-opacity=\"0.5\" stroke-width=\"3.2\"/>\n",
       "<circle clip-path=\"url(#clip132)\" cx=\"1568.97\" cy=\"905.291\" r=\"10\" fill=\"#00a9ad\" fill-rule=\"evenodd\" fill-opacity=\"0.5\" stroke=\"#000000\" stroke-opacity=\"0.5\" stroke-width=\"3.2\"/>\n",
       "<circle clip-path=\"url(#clip132)\" cx=\"1589.08\" cy=\"929.063\" r=\"10\" fill=\"#00a9ad\" fill-rule=\"evenodd\" fill-opacity=\"0.5\" stroke=\"#000000\" stroke-opacity=\"0.5\" stroke-width=\"3.2\"/>\n",
       "<circle clip-path=\"url(#clip132)\" cx=\"1609.19\" cy=\"909.291\" r=\"10\" fill=\"#00a9ad\" fill-rule=\"evenodd\" fill-opacity=\"0.5\" stroke=\"#000000\" stroke-opacity=\"0.5\" stroke-width=\"3.2\"/>\n",
       "<circle clip-path=\"url(#clip132)\" cx=\"1629.3\" cy=\"889.951\" r=\"10\" fill=\"#00a9ad\" fill-rule=\"evenodd\" fill-opacity=\"0.5\" stroke=\"#000000\" stroke-opacity=\"0.5\" stroke-width=\"3.2\"/>\n",
       "<circle clip-path=\"url(#clip132)\" cx=\"1649.42\" cy=\"900.672\" r=\"10\" fill=\"#00a9ad\" fill-rule=\"evenodd\" fill-opacity=\"0.5\" stroke=\"#000000\" stroke-opacity=\"0.5\" stroke-width=\"3.2\"/>\n",
       "<circle clip-path=\"url(#clip132)\" cx=\"1669.53\" cy=\"888.179\" r=\"10\" fill=\"#00a9ad\" fill-rule=\"evenodd\" fill-opacity=\"0.5\" stroke=\"#000000\" stroke-opacity=\"0.5\" stroke-width=\"3.2\"/>\n",
       "<circle clip-path=\"url(#clip132)\" cx=\"1689.64\" cy=\"750.428\" r=\"10\" fill=\"#00a9ad\" fill-rule=\"evenodd\" fill-opacity=\"0.5\" stroke=\"#000000\" stroke-opacity=\"0.5\" stroke-width=\"3.2\"/>\n",
       "<circle clip-path=\"url(#clip132)\" cx=\"1709.75\" cy=\"779.46\" r=\"10\" fill=\"#00a9ad\" fill-rule=\"evenodd\" fill-opacity=\"0.5\" stroke=\"#000000\" stroke-opacity=\"0.5\" stroke-width=\"3.2\"/>\n",
       "<circle clip-path=\"url(#clip132)\" cx=\"1729.87\" cy=\"756.389\" r=\"10\" fill=\"#00a9ad\" fill-rule=\"evenodd\" fill-opacity=\"0.5\" stroke=\"#000000\" stroke-opacity=\"0.5\" stroke-width=\"3.2\"/>\n",
       "<circle clip-path=\"url(#clip132)\" cx=\"1749.98\" cy=\"741.754\" r=\"10\" fill=\"#00a9ad\" fill-rule=\"evenodd\" fill-opacity=\"0.5\" stroke=\"#000000\" stroke-opacity=\"0.5\" stroke-width=\"3.2\"/>\n",
       "<circle clip-path=\"url(#clip132)\" cx=\"1770.09\" cy=\"665.839\" r=\"10\" fill=\"#00a9ad\" fill-rule=\"evenodd\" fill-opacity=\"0.5\" stroke=\"#000000\" stroke-opacity=\"0.5\" stroke-width=\"3.2\"/>\n",
       "<circle clip-path=\"url(#clip132)\" cx=\"1790.21\" cy=\"639.988\" r=\"10\" fill=\"#00a9ad\" fill-rule=\"evenodd\" fill-opacity=\"0.5\" stroke=\"#000000\" stroke-opacity=\"0.5\" stroke-width=\"3.2\"/>\n",
       "<circle clip-path=\"url(#clip132)\" cx=\"1810.32\" cy=\"598.194\" r=\"10\" fill=\"#00a9ad\" fill-rule=\"evenodd\" fill-opacity=\"0.5\" stroke=\"#000000\" stroke-opacity=\"0.5\" stroke-width=\"3.2\"/>\n",
       "<circle clip-path=\"url(#clip132)\" cx=\"1830.43\" cy=\"626.042\" r=\"10\" fill=\"#00a9ad\" fill-rule=\"evenodd\" fill-opacity=\"0.5\" stroke=\"#000000\" stroke-opacity=\"0.5\" stroke-width=\"3.2\"/>\n",
       "<circle clip-path=\"url(#clip132)\" cx=\"1850.54\" cy=\"641.051\" r=\"10\" fill=\"#00a9ad\" fill-rule=\"evenodd\" fill-opacity=\"0.5\" stroke=\"#000000\" stroke-opacity=\"0.5\" stroke-width=\"3.2\"/>\n",
       "<circle clip-path=\"url(#clip132)\" cx=\"1870.66\" cy=\"716.61\" r=\"10\" fill=\"#00a9ad\" fill-rule=\"evenodd\" fill-opacity=\"0.5\" stroke=\"#000000\" stroke-opacity=\"0.5\" stroke-width=\"3.2\"/>\n",
       "<circle clip-path=\"url(#clip132)\" cx=\"1890.77\" cy=\"784.662\" r=\"10\" fill=\"#00a9ad\" fill-rule=\"evenodd\" fill-opacity=\"0.5\" stroke=\"#000000\" stroke-opacity=\"0.5\" stroke-width=\"3.2\"/>\n",
       "<circle clip-path=\"url(#clip132)\" cx=\"1910.88\" cy=\"726.17\" r=\"10\" fill=\"#00a9ad\" fill-rule=\"evenodd\" fill-opacity=\"0.5\" stroke=\"#000000\" stroke-opacity=\"0.5\" stroke-width=\"3.2\"/>\n",
       "<circle clip-path=\"url(#clip132)\" cx=\"1930.99\" cy=\"708.57\" r=\"10\" fill=\"#00a9ad\" fill-rule=\"evenodd\" fill-opacity=\"0.5\" stroke=\"#000000\" stroke-opacity=\"0.5\" stroke-width=\"3.2\"/>\n",
       "<circle clip-path=\"url(#clip132)\" cx=\"1951.11\" cy=\"736.211\" r=\"10\" fill=\"#00a9ad\" fill-rule=\"evenodd\" fill-opacity=\"0.5\" stroke=\"#000000\" stroke-opacity=\"0.5\" stroke-width=\"3.2\"/>\n",
       "<circle clip-path=\"url(#clip132)\" cx=\"1971.22\" cy=\"748.611\" r=\"10\" fill=\"#00a9ad\" fill-rule=\"evenodd\" fill-opacity=\"0.5\" stroke=\"#000000\" stroke-opacity=\"0.5\" stroke-width=\"3.2\"/>\n",
       "<circle clip-path=\"url(#clip132)\" cx=\"1991.33\" cy=\"803.885\" r=\"10\" fill=\"#00a9ad\" fill-rule=\"evenodd\" fill-opacity=\"0.5\" stroke=\"#000000\" stroke-opacity=\"0.5\" stroke-width=\"3.2\"/>\n",
       "<circle clip-path=\"url(#clip132)\" cx=\"2011.44\" cy=\"819.619\" r=\"10\" fill=\"#00a9ad\" fill-rule=\"evenodd\" fill-opacity=\"0.5\" stroke=\"#000000\" stroke-opacity=\"0.5\" stroke-width=\"3.2\"/>\n",
       "<circle clip-path=\"url(#clip132)\" cx=\"2031.56\" cy=\"779.671\" r=\"10\" fill=\"#00a9ad\" fill-rule=\"evenodd\" fill-opacity=\"0.5\" stroke=\"#000000\" stroke-opacity=\"0.5\" stroke-width=\"3.2\"/>\n",
       "<circle clip-path=\"url(#clip132)\" cx=\"2051.67\" cy=\"874.255\" r=\"10\" fill=\"#00a9ad\" fill-rule=\"evenodd\" fill-opacity=\"0.5\" stroke=\"#000000\" stroke-opacity=\"0.5\" stroke-width=\"3.2\"/>\n",
       "<circle clip-path=\"url(#clip132)\" cx=\"2071.78\" cy=\"866.106\" r=\"10\" fill=\"#00a9ad\" fill-rule=\"evenodd\" fill-opacity=\"0.5\" stroke=\"#000000\" stroke-opacity=\"0.5\" stroke-width=\"3.2\"/>\n",
       "<circle clip-path=\"url(#clip132)\" cx=\"2091.89\" cy=\"921.233\" r=\"10\" fill=\"#00a9ad\" fill-rule=\"evenodd\" fill-opacity=\"0.5\" stroke=\"#000000\" stroke-opacity=\"0.5\" stroke-width=\"3.2\"/>\n",
       "<circle clip-path=\"url(#clip132)\" cx=\"2112.01\" cy=\"765.191\" r=\"10\" fill=\"#00a9ad\" fill-rule=\"evenodd\" fill-opacity=\"0.5\" stroke=\"#000000\" stroke-opacity=\"0.5\" stroke-width=\"3.2\"/>\n",
       "<circle clip-path=\"url(#clip132)\" cx=\"2132.12\" cy=\"723.018\" r=\"10\" fill=\"#00a9ad\" fill-rule=\"evenodd\" fill-opacity=\"0.5\" stroke=\"#000000\" stroke-opacity=\"0.5\" stroke-width=\"3.2\"/>\n",
       "<circle clip-path=\"url(#clip132)\" cx=\"2152.23\" cy=\"808.14\" r=\"10\" fill=\"#00a9ad\" fill-rule=\"evenodd\" fill-opacity=\"0.5\" stroke=\"#000000\" stroke-opacity=\"0.5\" stroke-width=\"3.2\"/>\n",
       "<circle clip-path=\"url(#clip132)\" cx=\"2172.35\" cy=\"687.001\" r=\"10\" fill=\"#00a9ad\" fill-rule=\"evenodd\" fill-opacity=\"0.5\" stroke=\"#000000\" stroke-opacity=\"0.5\" stroke-width=\"3.2\"/>\n",
       "<circle clip-path=\"url(#clip132)\" cx=\"2192.46\" cy=\"781.411\" r=\"10\" fill=\"#00a9ad\" fill-rule=\"evenodd\" fill-opacity=\"0.5\" stroke=\"#000000\" stroke-opacity=\"0.5\" stroke-width=\"3.2\"/>\n",
       "<circle clip-path=\"url(#clip132)\" cx=\"2212.57\" cy=\"765.235\" r=\"10\" fill=\"#00a9ad\" fill-rule=\"evenodd\" fill-opacity=\"0.5\" stroke=\"#000000\" stroke-opacity=\"0.5\" stroke-width=\"3.2\"/>\n",
       "<circle clip-path=\"url(#clip132)\" cx=\"2232.68\" cy=\"798.233\" r=\"10\" fill=\"#00a9ad\" fill-rule=\"evenodd\" fill-opacity=\"0.5\" stroke=\"#000000\" stroke-opacity=\"0.5\" stroke-width=\"3.2\"/>\n",
       "<circle clip-path=\"url(#clip132)\" cx=\"2252.8\" cy=\"817.732\" r=\"10\" fill=\"#00a9ad\" fill-rule=\"evenodd\" fill-opacity=\"0.5\" stroke=\"#000000\" stroke-opacity=\"0.5\" stroke-width=\"3.2\"/>\n",
       "<circle clip-path=\"url(#clip132)\" cx=\"2272.91\" cy=\"774.724\" r=\"10\" fill=\"#00a9ad\" fill-rule=\"evenodd\" fill-opacity=\"0.5\" stroke=\"#000000\" stroke-opacity=\"0.5\" stroke-width=\"3.2\"/>\n",
       "<circle clip-path=\"url(#clip132)\" cx=\"2293.02\" cy=\"686.104\" r=\"10\" fill=\"#00a9ad\" fill-rule=\"evenodd\" fill-opacity=\"0.5\" stroke=\"#000000\" stroke-opacity=\"0.5\" stroke-width=\"3.2\"/>\n",
       "<path clip-path=\"url(#clip130)\" d=\"\n",
       "M312.489 1391.81 L958.643 1391.81 L958.643 968.448 L312.489 968.448  Z\n",
       "  \" fill=\"#ffffff\" fill-rule=\"evenodd\" fill-opacity=\"1\"/>\n",
       "<polyline clip-path=\"url(#clip130)\" style=\"stroke:#000000; stroke-linecap:butt; stroke-linejoin:round; stroke-width:4; stroke-opacity:1; fill:none\" points=\"\n",
       "  312.489,1391.81 958.643,1391.81 958.643,968.448 312.489,968.448 312.489,1391.81 \n",
       "  \"/>\n",
       "<polyline clip-path=\"url(#clip130)\" style=\"stroke:#009af9; stroke-linecap:butt; stroke-linejoin:round; stroke-width:4; stroke-opacity:1; fill:none\" points=\"\n",
       "  335.94,1028.93 476.648,1028.93 \n",
       "  \"/>\n",
       "<path clip-path=\"url(#clip130)\" d=\"M524.752 1020.28 L515.377 1032.9 L525.238 1046.21 L520.215 1046.21 L512.669 1036.02 L505.123 1046.21 L500.099 1046.21 L510.169 1032.64 L500.956 1020.28 L505.979 1020.28 L512.854 1029.52 L519.729 1020.28 L524.752 1020.28 Z\" fill=\"#000000\" fill-rule=\"evenodd\" fill-opacity=\"1\" /><path clip-path=\"url(#clip130)\" d=\"M530.863 1010.19 L540.678 1010.19 L540.678 1013.5 L535.122 1013.5 L535.122 1049.15 L540.678 1049.15 L540.678 1052.46 L530.863 1052.46 L530.863 1010.19 Z\" fill=\"#000000\" fill-rule=\"evenodd\" fill-opacity=\"1\" /><path clip-path=\"url(#clip130)\" d=\"M550.84 1040.33 L555.724 1040.33 L555.724 1046.21 L550.84 1046.21 L550.84 1040.33 M550.84 1021.69 L555.724 1021.69 L555.724 1027.57 L550.84 1027.57 L550.84 1021.69 Z\" fill=\"#000000\" fill-rule=\"evenodd\" fill-opacity=\"1\" /><path clip-path=\"url(#clip130)\" d=\"M566.812 1040.33 L571.696 1040.33 L571.696 1044.31 L567.9 1051.72 L564.914 1051.72 L566.812 1044.31 L566.812 1040.33 Z\" fill=\"#000000\" fill-rule=\"evenodd\" fill-opacity=\"1\" /><path clip-path=\"url(#clip130)\" d=\"M597.275 1042.27 L604.914 1042.27 L604.914 1015.91 L596.604 1017.57 L596.604 1013.31 L604.867 1011.65 L609.543 1011.65 L609.543 1042.27 L617.182 1042.27 L617.182 1046.21 L597.275 1046.21 L597.275 1042.27 Z\" fill=\"#000000\" fill-rule=\"evenodd\" fill-opacity=\"1\" /><path clip-path=\"url(#clip130)\" d=\"M635.978 1010.19 L635.978 1052.46 L626.164 1052.46 L626.164 1049.15 L631.696 1049.15 L631.696 1013.5 L626.164 1013.5 L626.164 1010.19 L635.978 1010.19 Z\" fill=\"#000000\" fill-rule=\"evenodd\" fill-opacity=\"1\" /><polyline clip-path=\"url(#clip130)\" style=\"stroke:#e26f46; stroke-linecap:butt; stroke-linejoin:round; stroke-width:4; stroke-opacity:1; fill:none\" points=\"\n",
       "  335.94,1089.41 476.648,1089.41 \n",
       "  \"/>\n",
       "<path clip-path=\"url(#clip130)\" d=\"M524.752 1080.76 L515.377 1093.38 L525.238 1106.69 L520.215 1106.69 L512.669 1096.5 L505.123 1106.69 L500.099 1106.69 L510.169 1093.12 L500.956 1080.76 L505.979 1080.76 L512.854 1090 L519.729 1080.76 L524.752 1080.76 Z\" fill=\"#000000\" fill-rule=\"evenodd\" fill-opacity=\"1\" /><path clip-path=\"url(#clip130)\" d=\"M530.863 1070.67 L540.678 1070.67 L540.678 1073.98 L535.122 1073.98 L535.122 1109.63 L540.678 1109.63 L540.678 1112.94 L530.863 1112.94 L530.863 1070.67 Z\" fill=\"#000000\" fill-rule=\"evenodd\" fill-opacity=\"1\" /><path clip-path=\"url(#clip130)\" d=\"M550.84 1100.81 L555.724 1100.81 L555.724 1106.69 L550.84 1106.69 L550.84 1100.81 M550.84 1082.17 L555.724 1082.17 L555.724 1088.05 L550.84 1088.05 L550.84 1082.17 Z\" fill=\"#000000\" fill-rule=\"evenodd\" fill-opacity=\"1\" /><path clip-path=\"url(#clip130)\" d=\"M566.812 1100.81 L571.696 1100.81 L571.696 1104.79 L567.9 1112.2 L564.914 1112.2 L566.812 1104.79 L566.812 1100.81 Z\" fill=\"#000000\" fill-rule=\"evenodd\" fill-opacity=\"1\" /><path clip-path=\"url(#clip130)\" d=\"M600.492 1102.75 L616.812 1102.75 L616.812 1106.69 L594.867 1106.69 L594.867 1102.75 Q597.53 1100 602.113 1095.37 Q606.719 1090.72 607.9 1089.37 Q610.145 1086.85 611.025 1085.11 Q611.928 1083.36 611.928 1081.67 Q611.928 1078.91 609.983 1077.17 Q608.062 1075.44 604.96 1075.44 Q602.761 1075.44 600.307 1076.2 Q597.877 1076.97 595.099 1078.52 L595.099 1073.79 Q597.923 1072.66 600.377 1072.08 Q602.83 1071.5 604.867 1071.5 Q610.238 1071.5 613.432 1074.19 Q616.627 1076.87 616.627 1081.36 Q616.627 1083.49 615.816 1085.42 Q615.029 1087.31 612.923 1089.91 Q612.344 1090.58 609.242 1093.79 Q606.141 1096.99 600.492 1102.75 Z\" fill=\"#000000\" fill-rule=\"evenodd\" fill-opacity=\"1\" /><path clip-path=\"url(#clip130)\" d=\"M635.978 1070.67 L635.978 1112.94 L626.164 1112.94 L626.164 1109.63 L631.696 1109.63 L631.696 1073.98 L626.164 1073.98 L626.164 1070.67 L635.978 1070.67 Z\" fill=\"#000000\" fill-rule=\"evenodd\" fill-opacity=\"1\" /><polyline clip-path=\"url(#clip130)\" style=\"stroke:#3da44d; stroke-linecap:butt; stroke-linejoin:round; stroke-width:4; stroke-opacity:1; fill:none\" points=\"\n",
       "  335.94,1149.89 476.648,1149.89 \n",
       "  \"/>\n",
       "<path clip-path=\"url(#clip130)\" d=\"M500.099 1141.24 L504.359 1141.24 L504.359 1167.17 L500.099 1167.17 L500.099 1141.24 M500.099 1131.15 L504.359 1131.15 L504.359 1136.54 L500.099 1136.54 L500.099 1131.15 Z\" fill=\"#000000\" fill-rule=\"evenodd\" fill-opacity=\"1\" /><path clip-path=\"url(#clip130)\" d=\"M534.822 1151.52 L534.822 1167.17 L530.562 1167.17 L530.562 1151.66 Q530.562 1147.98 529.127 1146.15 Q527.692 1144.32 524.822 1144.32 Q521.373 1144.32 519.382 1146.52 Q517.391 1148.72 517.391 1152.52 L517.391 1167.17 L513.109 1167.17 L513.109 1141.24 L517.391 1141.24 L517.391 1145.27 Q518.919 1142.93 520.979 1141.77 Q523.062 1140.62 525.771 1140.62 Q530.238 1140.62 532.53 1143.4 Q534.822 1146.15 534.822 1151.52 Z\" fill=\"#000000\" fill-rule=\"evenodd\" fill-opacity=\"1\" /><path clip-path=\"url(#clip130)\" d=\"M556.442 1131.15 L556.442 1134.69 L552.368 1134.69 Q550.076 1134.69 549.173 1135.62 Q548.294 1136.54 548.294 1138.95 L548.294 1141.24 L555.308 1141.24 L555.308 1144.55 L548.294 1144.55 L548.294 1167.17 L544.011 1167.17 L544.011 1144.55 L539.937 1144.55 L539.937 1141.24 L544.011 1141.24 L544.011 1139.44 Q544.011 1135.11 546.025 1133.14 Q548.039 1131.15 552.414 1131.15 L556.442 1131.15 Z\" fill=\"#000000\" fill-rule=\"evenodd\" fill-opacity=\"1\" /><path clip-path=\"url(#clip130)\" d=\"M582.182 1153.14 L582.182 1155.22 L562.599 1155.22 Q562.877 1159.62 565.238 1161.94 Q567.622 1164.23 571.858 1164.23 Q574.312 1164.23 576.604 1163.63 Q578.919 1163.02 581.187 1161.82 L581.187 1165.85 Q578.895 1166.82 576.488 1167.33 Q574.081 1167.84 571.604 1167.84 Q565.4 1167.84 561.766 1164.23 Q558.155 1160.62 558.155 1154.46 Q558.155 1148.09 561.581 1144.37 Q565.03 1140.62 570.863 1140.62 Q576.094 1140.62 579.127 1144 Q582.182 1147.35 582.182 1153.14 M577.923 1151.89 Q577.877 1148.4 575.956 1146.31 Q574.057 1144.23 570.909 1144.23 Q567.344 1144.23 565.192 1146.24 Q563.062 1148.26 562.738 1151.91 L577.923 1151.89 Z\" fill=\"#000000\" fill-rule=\"evenodd\" fill-opacity=\"1\" /><path clip-path=\"url(#clip130)\" d=\"M604.196 1145.22 Q603.479 1144.81 602.622 1144.62 Q601.789 1144.41 600.77 1144.41 Q597.159 1144.41 595.215 1146.77 Q593.293 1149.11 593.293 1153.51 L593.293 1167.17 L589.011 1167.17 L589.011 1141.24 L593.293 1141.24 L593.293 1145.27 Q594.636 1142.91 596.789 1141.77 Q598.942 1140.62 602.02 1140.62 Q602.46 1140.62 602.992 1140.69 Q603.525 1140.73 604.173 1140.85 L604.196 1145.22 Z\" fill=\"#000000\" fill-rule=\"evenodd\" fill-opacity=\"1\" /><path clip-path=\"url(#clip130)\" d=\"M622.853 1145.22 Q622.136 1144.81 621.279 1144.62 Q620.446 1144.41 619.428 1144.41 Q615.816 1144.41 613.872 1146.77 Q611.951 1149.11 611.951 1153.51 L611.951 1167.17 L607.668 1167.17 L607.668 1141.24 L611.951 1141.24 L611.951 1145.27 Q613.293 1142.91 615.446 1141.77 Q617.599 1140.62 620.678 1140.62 Q621.117 1140.62 621.65 1140.69 Q622.182 1140.73 622.83 1140.85 L622.853 1145.22 Z\" fill=\"#000000\" fill-rule=\"evenodd\" fill-opacity=\"1\" /><path clip-path=\"url(#clip130)\" d=\"M648.455 1153.14 L648.455 1155.22 L628.872 1155.22 Q629.15 1159.62 631.511 1161.94 Q633.895 1164.23 638.131 1164.23 Q640.585 1164.23 642.876 1163.63 Q645.191 1163.02 647.46 1161.82 L647.46 1165.85 Q645.168 1166.82 642.761 1167.33 Q640.353 1167.84 637.877 1167.84 Q631.673 1167.84 628.039 1164.23 Q624.428 1160.62 624.428 1154.46 Q624.428 1148.09 627.853 1144.37 Q631.302 1140.62 637.136 1140.62 Q642.367 1140.62 645.4 1144 Q648.455 1147.35 648.455 1153.14 M644.196 1151.89 Q644.15 1148.4 642.228 1146.31 Q640.33 1144.23 637.182 1144.23 Q633.617 1144.23 631.465 1146.24 Q629.335 1148.26 629.011 1151.91 L644.196 1151.89 Z\" fill=\"#000000\" fill-rule=\"evenodd\" fill-opacity=\"1\" /><path clip-path=\"url(#clip130)\" d=\"M672.506 1145.18 L672.506 1131.15 L676.765 1131.15 L676.765 1167.17 L672.506 1167.17 L672.506 1163.28 Q671.163 1165.59 669.103 1166.73 Q667.066 1167.84 664.196 1167.84 Q659.497 1167.84 656.534 1164.09 Q653.594 1160.34 653.594 1154.23 Q653.594 1148.12 656.534 1144.37 Q659.497 1140.62 664.196 1140.62 Q667.066 1140.62 669.103 1141.75 Q671.163 1142.86 672.506 1145.18 M657.992 1154.23 Q657.992 1158.93 659.913 1161.61 Q661.858 1164.27 665.237 1164.27 Q668.617 1164.27 670.562 1161.61 Q672.506 1158.93 672.506 1154.23 Q672.506 1149.53 670.562 1146.87 Q668.617 1144.18 665.237 1144.18 Q661.858 1144.18 659.913 1146.87 Q657.992 1149.53 657.992 1154.23 Z\" fill=\"#000000\" fill-rule=\"evenodd\" fill-opacity=\"1\" /><path clip-path=\"url(#clip130)\" d=\"M685.145 1131.15 L694.96 1131.15 L694.96 1134.46 L689.404 1134.46 L689.404 1170.11 L694.96 1170.11 L694.96 1173.42 L685.145 1173.42 L685.145 1131.15 Z\" fill=\"#000000\" fill-rule=\"evenodd\" fill-opacity=\"1\" /><path clip-path=\"url(#clip130)\" d=\"M705.122 1161.29 L710.006 1161.29 L710.006 1167.17 L705.122 1167.17 L705.122 1161.29 M705.122 1142.65 L710.006 1142.65 L710.006 1148.53 L705.122 1148.53 L705.122 1142.65 Z\" fill=\"#000000\" fill-rule=\"evenodd\" fill-opacity=\"1\" /><path clip-path=\"url(#clip130)\" d=\"M721.094 1161.29 L725.978 1161.29 L725.978 1165.27 L722.182 1172.68 L719.196 1172.68 L721.094 1165.27 L721.094 1161.29 Z\" fill=\"#000000\" fill-rule=\"evenodd\" fill-opacity=\"1\" /><path clip-path=\"url(#clip130)\" d=\"M751.556 1163.23 L759.195 1163.23 L759.195 1136.87 L750.885 1138.53 L750.885 1134.27 L759.149 1132.61 L763.825 1132.61 L763.825 1163.23 L771.464 1163.23 L771.464 1167.17 L751.556 1167.17 L751.556 1163.23 Z\" fill=\"#000000\" fill-rule=\"evenodd\" fill-opacity=\"1\" /><path clip-path=\"url(#clip130)\" d=\"M790.26 1131.15 L790.26 1173.42 L780.445 1173.42 L780.445 1170.11 L785.978 1170.11 L785.978 1134.46 L780.445 1134.46 L780.445 1131.15 L790.26 1131.15 Z\" fill=\"#000000\" fill-rule=\"evenodd\" fill-opacity=\"1\" /><polyline clip-path=\"url(#clip130)\" style=\"stroke:#c271d2; stroke-linecap:butt; stroke-linejoin:round; stroke-width:4; stroke-opacity:1; fill:none\" points=\"\n",
       "  335.94,1210.37 476.648,1210.37 \n",
       "  \"/>\n",
       "<path clip-path=\"url(#clip130)\" d=\"M500.099 1201.72 L504.359 1201.72 L504.359 1227.65 L500.099 1227.65 L500.099 1201.72 M500.099 1191.63 L504.359 1191.63 L504.359 1197.02 L500.099 1197.02 L500.099 1191.63 Z\" fill=\"#000000\" fill-rule=\"evenodd\" fill-opacity=\"1\" /><path clip-path=\"url(#clip130)\" d=\"M534.822 1212 L534.822 1227.65 L530.562 1227.65 L530.562 1212.14 Q530.562 1208.46 529.127 1206.63 Q527.692 1204.8 524.822 1204.8 Q521.373 1204.8 519.382 1207 Q517.391 1209.2 517.391 1213 L517.391 1227.65 L513.109 1227.65 L513.109 1201.72 L517.391 1201.72 L517.391 1205.75 Q518.919 1203.41 520.979 1202.25 Q523.062 1201.1 525.771 1201.1 Q530.238 1201.1 532.53 1203.88 Q534.822 1206.63 534.822 1212 Z\" fill=\"#000000\" fill-rule=\"evenodd\" fill-opacity=\"1\" /><path clip-path=\"url(#clip130)\" d=\"M556.442 1191.63 L556.442 1195.17 L552.368 1195.17 Q550.076 1195.17 549.173 1196.1 Q548.294 1197.02 548.294 1199.43 L548.294 1201.72 L555.308 1201.72 L555.308 1205.03 L548.294 1205.03 L548.294 1227.65 L544.011 1227.65 L544.011 1205.03 L539.937 1205.03 L539.937 1201.72 L544.011 1201.72 L544.011 1199.92 Q544.011 1195.59 546.025 1193.62 Q548.039 1191.63 552.414 1191.63 L556.442 1191.63 Z\" fill=\"#000000\" fill-rule=\"evenodd\" fill-opacity=\"1\" /><path clip-path=\"url(#clip130)\" d=\"M582.182 1213.62 L582.182 1215.7 L562.599 1215.7 Q562.877 1220.1 565.238 1222.42 Q567.622 1224.71 571.858 1224.71 Q574.312 1224.71 576.604 1224.11 Q578.919 1223.5 581.187 1222.3 L581.187 1226.33 Q578.895 1227.3 576.488 1227.81 Q574.081 1228.32 571.604 1228.32 Q565.4 1228.32 561.766 1224.71 Q558.155 1221.1 558.155 1214.94 Q558.155 1208.57 561.581 1204.85 Q565.03 1201.1 570.863 1201.1 Q576.094 1201.1 579.127 1204.48 Q582.182 1207.83 582.182 1213.62 M577.923 1212.37 Q577.877 1208.88 575.956 1206.79 Q574.057 1204.71 570.909 1204.71 Q567.344 1204.71 565.192 1206.72 Q563.062 1208.74 562.738 1212.39 L577.923 1212.37 Z\" fill=\"#000000\" fill-rule=\"evenodd\" fill-opacity=\"1\" /><path clip-path=\"url(#clip130)\" d=\"M604.196 1205.7 Q603.479 1205.29 602.622 1205.1 Q601.789 1204.89 600.77 1204.89 Q597.159 1204.89 595.215 1207.25 Q593.293 1209.59 593.293 1213.99 L593.293 1227.65 L589.011 1227.65 L589.011 1201.72 L593.293 1201.72 L593.293 1205.75 Q594.636 1203.39 596.789 1202.25 Q598.942 1201.1 602.02 1201.1 Q602.46 1201.1 602.992 1201.17 Q603.525 1201.21 604.173 1201.33 L604.196 1205.7 Z\" fill=\"#000000\" fill-rule=\"evenodd\" fill-opacity=\"1\" /><path clip-path=\"url(#clip130)\" d=\"M622.853 1205.7 Q622.136 1205.29 621.279 1205.1 Q620.446 1204.89 619.428 1204.89 Q615.816 1204.89 613.872 1207.25 Q611.951 1209.59 611.951 1213.99 L611.951 1227.65 L607.668 1227.65 L607.668 1201.72 L611.951 1201.72 L611.951 1205.75 Q613.293 1203.39 615.446 1202.25 Q617.599 1201.1 620.678 1201.1 Q621.117 1201.1 621.65 1201.17 Q622.182 1201.21 622.83 1201.33 L622.853 1205.7 Z\" fill=\"#000000\" fill-rule=\"evenodd\" fill-opacity=\"1\" /><path clip-path=\"url(#clip130)\" d=\"M648.455 1213.62 L648.455 1215.7 L628.872 1215.7 Q629.15 1220.1 631.511 1222.42 Q633.895 1224.71 638.131 1224.71 Q640.585 1224.71 642.876 1224.11 Q645.191 1223.5 647.46 1222.3 L647.46 1226.33 Q645.168 1227.3 642.761 1227.81 Q640.353 1228.32 637.877 1228.32 Q631.673 1228.32 628.039 1224.71 Q624.428 1221.1 624.428 1214.94 Q624.428 1208.57 627.853 1204.85 Q631.302 1201.1 637.136 1201.1 Q642.367 1201.1 645.4 1204.48 Q648.455 1207.83 648.455 1213.62 M644.196 1212.37 Q644.15 1208.88 642.228 1206.79 Q640.33 1204.71 637.182 1204.71 Q633.617 1204.71 631.465 1206.72 Q629.335 1208.74 629.011 1212.39 L644.196 1212.37 Z\" fill=\"#000000\" fill-rule=\"evenodd\" fill-opacity=\"1\" /><path clip-path=\"url(#clip130)\" d=\"M672.506 1205.66 L672.506 1191.63 L676.765 1191.63 L676.765 1227.65 L672.506 1227.65 L672.506 1223.76 Q671.163 1226.07 669.103 1227.21 Q667.066 1228.32 664.196 1228.32 Q659.497 1228.32 656.534 1224.57 Q653.594 1220.82 653.594 1214.71 Q653.594 1208.6 656.534 1204.85 Q659.497 1201.1 664.196 1201.1 Q667.066 1201.1 669.103 1202.23 Q671.163 1203.34 672.506 1205.66 M657.992 1214.71 Q657.992 1219.41 659.913 1222.09 Q661.858 1224.75 665.237 1224.75 Q668.617 1224.75 670.562 1222.09 Q672.506 1219.41 672.506 1214.71 Q672.506 1210.01 670.562 1207.35 Q668.617 1204.66 665.237 1204.66 Q661.858 1204.66 659.913 1207.35 Q657.992 1210.01 657.992 1214.71 Z\" fill=\"#000000\" fill-rule=\"evenodd\" fill-opacity=\"1\" /><path clip-path=\"url(#clip130)\" d=\"M685.145 1191.63 L694.96 1191.63 L694.96 1194.94 L689.404 1194.94 L689.404 1230.59 L694.96 1230.59 L694.96 1233.9 L685.145 1233.9 L685.145 1191.63 Z\" fill=\"#000000\" fill-rule=\"evenodd\" fill-opacity=\"1\" /><path clip-path=\"url(#clip130)\" d=\"M705.122 1221.77 L710.006 1221.77 L710.006 1227.65 L705.122 1227.65 L705.122 1221.77 M705.122 1203.13 L710.006 1203.13 L710.006 1209.01 L705.122 1209.01 L705.122 1203.13 Z\" fill=\"#000000\" fill-rule=\"evenodd\" fill-opacity=\"1\" /><path clip-path=\"url(#clip130)\" d=\"M721.094 1221.77 L725.978 1221.77 L725.978 1225.75 L722.182 1233.16 L719.196 1233.16 L721.094 1225.75 L721.094 1221.77 Z\" fill=\"#000000\" fill-rule=\"evenodd\" fill-opacity=\"1\" /><path clip-path=\"url(#clip130)\" d=\"M754.774 1223.71 L771.093 1223.71 L771.093 1227.65 L749.149 1227.65 L749.149 1223.71 Q751.811 1220.96 756.394 1216.33 Q761.001 1211.68 762.181 1210.33 Q764.427 1207.81 765.306 1206.07 Q766.209 1204.32 766.209 1202.63 Q766.209 1199.87 764.265 1198.13 Q762.343 1196.4 759.242 1196.4 Q757.043 1196.4 754.589 1197.16 Q752.158 1197.93 749.381 1199.48 L749.381 1194.75 Q752.205 1193.62 754.658 1193.04 Q757.112 1192.46 759.149 1192.46 Q764.519 1192.46 767.714 1195.15 Q770.908 1197.83 770.908 1202.32 Q770.908 1204.45 770.098 1206.38 Q769.311 1208.27 767.205 1210.87 Q766.626 1211.54 763.524 1214.75 Q760.422 1217.95 754.774 1223.71 Z\" fill=\"#000000\" fill-rule=\"evenodd\" fill-opacity=\"1\" /><path clip-path=\"url(#clip130)\" d=\"M790.26 1191.63 L790.26 1233.9 L780.445 1233.9 L780.445 1230.59 L785.978 1230.59 L785.978 1194.94 L780.445 1194.94 L780.445 1191.63 L790.26 1191.63 Z\" fill=\"#000000\" fill-rule=\"evenodd\" fill-opacity=\"1\" /><circle clip-path=\"url(#clip130)\" cx=\"406.294\" cy=\"1270.85\" r=\"23\" fill=\"#ac8d18\" fill-rule=\"evenodd\" fill-opacity=\"0.5\" stroke=\"#000000\" stroke-opacity=\"0.5\" stroke-width=\"6.82667\"/>\n",
       "<path clip-path=\"url(#clip130)\" d=\"M511.998 1265.19 Q508.572 1265.19 506.581 1267.87 Q504.59 1270.54 504.59 1275.19 Q504.59 1279.84 506.558 1282.53 Q508.549 1285.19 511.998 1285.19 Q515.4 1285.19 517.391 1282.5 Q519.382 1279.82 519.382 1275.19 Q519.382 1270.58 517.391 1267.9 Q515.4 1265.19 511.998 1265.19 M511.998 1261.58 Q517.553 1261.58 520.724 1265.19 Q523.896 1268.8 523.896 1275.19 Q523.896 1281.55 520.724 1285.19 Q517.553 1288.8 511.998 1288.8 Q506.419 1288.8 503.248 1285.19 Q500.099 1281.55 500.099 1275.19 Q500.099 1268.8 503.248 1265.19 Q506.419 1261.58 511.998 1261.58 Z\" fill=\"#000000\" fill-rule=\"evenodd\" fill-opacity=\"1\" /><path clip-path=\"url(#clip130)\" d=\"M549.567 1275.19 Q549.567 1270.49 547.622 1267.83 Q545.701 1265.14 542.321 1265.14 Q538.942 1265.14 536.997 1267.83 Q535.076 1270.49 535.076 1275.19 Q535.076 1279.89 536.997 1282.57 Q538.942 1285.23 542.321 1285.23 Q545.701 1285.23 547.622 1282.57 Q549.567 1279.89 549.567 1275.19 M535.076 1266.14 Q536.419 1263.82 538.456 1262.71 Q540.516 1261.58 543.363 1261.58 Q548.085 1261.58 551.025 1265.33 Q553.988 1269.08 553.988 1275.19 Q553.988 1281.3 551.025 1285.05 Q548.085 1288.8 543.363 1288.8 Q540.516 1288.8 538.456 1287.69 Q536.419 1286.55 535.076 1284.24 L535.076 1288.13 L530.794 1288.13 L530.794 1252.11 L535.076 1252.11 L535.076 1266.14 Z\" fill=\"#000000\" fill-rule=\"evenodd\" fill-opacity=\"1\" /><path clip-path=\"url(#clip130)\" d=\"M577.576 1262.97 L577.576 1266.99 Q575.77 1266.07 573.826 1265.61 Q571.882 1265.14 569.798 1265.14 Q566.627 1265.14 565.03 1266.11 Q563.456 1267.09 563.456 1269.03 Q563.456 1270.51 564.59 1271.37 Q565.724 1272.2 569.15 1272.97 L570.608 1273.29 Q575.145 1274.26 577.044 1276.04 Q578.965 1277.8 578.965 1280.98 Q578.965 1284.59 576.094 1286.69 Q573.247 1288.8 568.247 1288.8 Q566.164 1288.8 563.895 1288.38 Q561.65 1287.99 559.15 1287.18 L559.15 1282.78 Q561.511 1284.01 563.803 1284.63 Q566.095 1285.23 568.34 1285.23 Q571.349 1285.23 572.969 1284.22 Q574.59 1283.17 574.59 1281.3 Q574.59 1279.56 573.409 1278.64 Q572.252 1277.71 568.294 1276.86 L566.812 1276.51 Q562.854 1275.67 561.095 1273.96 Q559.335 1272.23 559.335 1269.22 Q559.335 1265.56 561.928 1263.57 Q564.52 1261.58 569.289 1261.58 Q571.65 1261.58 573.733 1261.92 Q575.817 1262.27 577.576 1262.97 Z\" fill=\"#000000\" fill-rule=\"evenodd\" fill-opacity=\"1\" /><path clip-path=\"url(#clip130)\" d=\"M607.923 1274.1 L607.923 1276.18 L588.34 1276.18 Q588.618 1280.58 590.979 1282.9 Q593.363 1285.19 597.599 1285.19 Q600.053 1285.19 602.344 1284.59 Q604.659 1283.98 606.928 1282.78 L606.928 1286.81 Q604.636 1287.78 602.229 1288.29 Q599.821 1288.8 597.344 1288.8 Q591.141 1288.8 587.506 1285.19 Q583.895 1281.58 583.895 1275.42 Q583.895 1269.05 587.321 1265.33 Q590.77 1261.58 596.604 1261.58 Q601.835 1261.58 604.867 1264.96 Q607.923 1268.31 607.923 1274.1 M603.664 1272.85 Q603.617 1269.36 601.696 1267.27 Q599.798 1265.19 596.65 1265.19 Q593.085 1265.19 590.932 1267.2 Q588.803 1269.22 588.479 1272.87 L603.664 1272.85 Z\" fill=\"#000000\" fill-rule=\"evenodd\" fill-opacity=\"1\" /><path clip-path=\"url(#clip130)\" d=\"M629.937 1266.18 Q629.219 1265.77 628.363 1265.58 Q627.529 1265.37 626.511 1265.37 Q622.9 1265.37 620.955 1267.73 Q619.034 1270.07 619.034 1274.47 L619.034 1288.13 L614.752 1288.13 L614.752 1262.2 L619.034 1262.2 L619.034 1266.23 Q620.377 1263.87 622.529 1262.73 Q624.682 1261.58 627.761 1261.58 Q628.201 1261.58 628.733 1261.65 Q629.265 1261.69 629.914 1261.81 L629.937 1266.18 Z\" fill=\"#000000\" fill-rule=\"evenodd\" fill-opacity=\"1\" /><path clip-path=\"url(#clip130)\" d=\"M631.349 1262.2 L635.863 1262.2 L643.964 1283.96 L652.066 1262.2 L656.58 1262.2 L646.858 1288.13 L641.071 1288.13 L631.349 1262.2 Z\" fill=\"#000000\" fill-rule=\"evenodd\" fill-opacity=\"1\" /><path clip-path=\"url(#clip130)\" d=\"M674.242 1275.1 Q669.08 1275.1 667.089 1276.28 Q665.099 1277.46 665.099 1280.3 Q665.099 1282.57 666.58 1283.92 Q668.085 1285.23 670.654 1285.23 Q674.196 1285.23 676.325 1282.73 Q678.478 1280.21 678.478 1276.04 L678.478 1275.1 L674.242 1275.1 M682.737 1273.34 L682.737 1288.13 L678.478 1288.13 L678.478 1284.19 Q677.02 1286.55 674.844 1287.69 Q672.668 1288.8 669.52 1288.8 Q665.538 1288.8 663.177 1286.58 Q660.839 1284.33 660.839 1280.58 Q660.839 1276.21 663.756 1273.98 Q666.696 1271.76 672.506 1271.76 L678.478 1271.76 L678.478 1271.35 Q678.478 1268.41 676.534 1266.81 Q674.612 1265.19 671.117 1265.19 Q668.895 1265.19 666.788 1265.72 Q664.682 1266.25 662.738 1267.32 L662.738 1263.38 Q665.075 1262.48 667.275 1262.04 Q669.474 1261.58 671.557 1261.58 Q677.182 1261.58 679.96 1264.49 Q682.737 1267.41 682.737 1273.34 Z\" fill=\"#000000\" fill-rule=\"evenodd\" fill-opacity=\"1\" /><path clip-path=\"url(#clip130)\" d=\"M695.723 1254.84 L695.723 1262.2 L704.497 1262.2 L704.497 1265.51 L695.723 1265.51 L695.723 1279.59 Q695.723 1282.76 696.58 1283.66 Q697.46 1284.56 700.122 1284.56 L704.497 1284.56 L704.497 1288.13 L700.122 1288.13 Q695.191 1288.13 693.316 1286.3 Q691.441 1284.45 691.441 1279.59 L691.441 1265.51 L688.316 1265.51 L688.316 1262.2 L691.441 1262.2 L691.441 1254.84 L695.723 1254.84 Z\" fill=\"#000000\" fill-rule=\"evenodd\" fill-opacity=\"1\" /><path clip-path=\"url(#clip130)\" d=\"M710.098 1262.2 L714.358 1262.2 L714.358 1288.13 L710.098 1288.13 L710.098 1262.2 M710.098 1252.11 L714.358 1252.11 L714.358 1257.5 L710.098 1257.5 L710.098 1252.11 Z\" fill=\"#000000\" fill-rule=\"evenodd\" fill-opacity=\"1\" /><path clip-path=\"url(#clip130)\" d=\"M733.316 1265.19 Q729.89 1265.19 727.899 1267.87 Q725.908 1270.54 725.908 1275.19 Q725.908 1279.84 727.876 1282.53 Q729.867 1285.19 733.316 1285.19 Q736.719 1285.19 738.709 1282.5 Q740.7 1279.82 740.7 1275.19 Q740.7 1270.58 738.709 1267.9 Q736.719 1265.19 733.316 1265.19 M733.316 1261.58 Q738.871 1261.58 742.043 1265.19 Q745.214 1268.8 745.214 1275.19 Q745.214 1281.55 742.043 1285.19 Q738.871 1288.8 733.316 1288.8 Q727.737 1288.8 724.566 1285.19 Q721.418 1281.55 721.418 1275.19 Q721.418 1268.8 724.566 1265.19 Q727.737 1261.58 733.316 1261.58 Z\" fill=\"#000000\" fill-rule=\"evenodd\" fill-opacity=\"1\" /><path clip-path=\"url(#clip130)\" d=\"M773.825 1272.48 L773.825 1288.13 L769.566 1288.13 L769.566 1272.62 Q769.566 1268.94 768.13 1267.11 Q766.695 1265.28 763.825 1265.28 Q760.376 1265.28 758.385 1267.48 Q756.394 1269.68 756.394 1273.48 L756.394 1288.13 L752.112 1288.13 L752.112 1262.2 L756.394 1262.2 L756.394 1266.23 Q757.922 1263.89 759.982 1262.73 Q762.066 1261.58 764.774 1261.58 Q769.242 1261.58 771.533 1264.36 Q773.825 1267.11 773.825 1272.48 Z\" fill=\"#000000\" fill-rule=\"evenodd\" fill-opacity=\"1\" /><path clip-path=\"url(#clip130)\" d=\"M798.848 1262.97 L798.848 1266.99 Q797.042 1266.07 795.098 1265.61 Q793.153 1265.14 791.07 1265.14 Q787.899 1265.14 786.302 1266.11 Q784.728 1267.09 784.728 1269.03 Q784.728 1270.51 785.862 1271.37 Q786.996 1272.2 790.422 1272.97 L791.88 1273.29 Q796.417 1274.26 798.315 1276.04 Q800.237 1277.8 800.237 1280.98 Q800.237 1284.59 797.366 1286.69 Q794.519 1288.8 789.519 1288.8 Q787.436 1288.8 785.167 1288.38 Q782.922 1287.99 780.422 1287.18 L780.422 1282.78 Q782.783 1284.01 785.075 1284.63 Q787.366 1285.23 789.612 1285.23 Q792.621 1285.23 794.241 1284.22 Q795.862 1283.17 795.862 1281.3 Q795.862 1279.56 794.681 1278.64 Q793.524 1277.71 789.566 1276.86 L788.084 1276.51 Q784.126 1275.67 782.366 1273.96 Q780.607 1272.23 780.607 1269.22 Q780.607 1265.56 783.2 1263.57 Q785.792 1261.58 790.561 1261.58 Q792.922 1261.58 795.005 1261.92 Q797.089 1262.27 798.848 1262.97 Z\" fill=\"#000000\" fill-rule=\"evenodd\" fill-opacity=\"1\" /><path clip-path=\"url(#clip130)\" d=\"M806.626 1252.11 L816.44 1252.11 L816.44 1255.42 L810.885 1255.42 L810.885 1291.07 L816.44 1291.07 L816.44 1294.38 L806.626 1294.38 L806.626 1252.11 Z\" fill=\"#000000\" fill-rule=\"evenodd\" fill-opacity=\"1\" /><path clip-path=\"url(#clip130)\" d=\"M826.602 1282.25 L831.487 1282.25 L831.487 1288.13 L826.602 1288.13 L826.602 1282.25 M826.602 1263.61 L831.487 1263.61 L831.487 1269.49 L826.602 1269.49 L826.602 1263.61 Z\" fill=\"#000000\" fill-rule=\"evenodd\" fill-opacity=\"1\" /><path clip-path=\"url(#clip130)\" d=\"M842.575 1282.25 L847.459 1282.25 L847.459 1286.23 L843.662 1293.64 L840.676 1293.64 L842.575 1286.23 L842.575 1282.25 Z\" fill=\"#000000\" fill-rule=\"evenodd\" fill-opacity=\"1\" /><path clip-path=\"url(#clip130)\" d=\"M873.037 1284.19 L880.676 1284.19 L880.676 1257.83 L872.366 1259.49 L872.366 1255.23 L880.63 1253.57 L885.306 1253.57 L885.306 1284.19 L892.945 1284.19 L892.945 1288.13 L873.037 1288.13 L873.037 1284.19 Z\" fill=\"#000000\" fill-rule=\"evenodd\" fill-opacity=\"1\" /><path clip-path=\"url(#clip130)\" d=\"M911.741 1252.11 L911.741 1294.38 L901.926 1294.38 L901.926 1291.07 L907.458 1291.07 L907.458 1255.42 L901.926 1255.42 L901.926 1252.11 L911.741 1252.11 Z\" fill=\"#000000\" fill-rule=\"evenodd\" fill-opacity=\"1\" /><circle clip-path=\"url(#clip130)\" cx=\"406.294\" cy=\"1331.33\" r=\"23\" fill=\"#00a9ad\" fill-rule=\"evenodd\" fill-opacity=\"0.5\" stroke=\"#000000\" stroke-opacity=\"0.5\" stroke-width=\"6.82667\"/>\n",
       "<path clip-path=\"url(#clip130)\" d=\"M511.998 1325.67 Q508.572 1325.67 506.581 1328.35 Q504.59 1331.02 504.59 1335.67 Q504.59 1340.32 506.558 1343.01 Q508.549 1345.67 511.998 1345.67 Q515.4 1345.67 517.391 1342.98 Q519.382 1340.3 519.382 1335.67 Q519.382 1331.06 517.391 1328.38 Q515.4 1325.67 511.998 1325.67 M511.998 1322.06 Q517.553 1322.06 520.724 1325.67 Q523.896 1329.28 523.896 1335.67 Q523.896 1342.03 520.724 1345.67 Q517.553 1349.28 511.998 1349.28 Q506.419 1349.28 503.248 1345.67 Q500.099 1342.03 500.099 1335.67 Q500.099 1329.28 503.248 1325.67 Q506.419 1322.06 511.998 1322.06 Z\" fill=\"#000000\" fill-rule=\"evenodd\" fill-opacity=\"1\" /><path clip-path=\"url(#clip130)\" d=\"M549.567 1335.67 Q549.567 1330.97 547.622 1328.31 Q545.701 1325.62 542.321 1325.62 Q538.942 1325.62 536.997 1328.31 Q535.076 1330.97 535.076 1335.67 Q535.076 1340.37 536.997 1343.05 Q538.942 1345.71 542.321 1345.71 Q545.701 1345.71 547.622 1343.05 Q549.567 1340.37 549.567 1335.67 M535.076 1326.62 Q536.419 1324.3 538.456 1323.19 Q540.516 1322.06 543.363 1322.06 Q548.085 1322.06 551.025 1325.81 Q553.988 1329.56 553.988 1335.67 Q553.988 1341.78 551.025 1345.53 Q548.085 1349.28 543.363 1349.28 Q540.516 1349.28 538.456 1348.17 Q536.419 1347.03 535.076 1344.72 L535.076 1348.61 L530.794 1348.61 L530.794 1312.59 L535.076 1312.59 L535.076 1326.62 Z\" fill=\"#000000\" fill-rule=\"evenodd\" fill-opacity=\"1\" /><path clip-path=\"url(#clip130)\" d=\"M577.576 1323.45 L577.576 1327.47 Q575.77 1326.55 573.826 1326.09 Q571.882 1325.62 569.798 1325.62 Q566.627 1325.62 565.03 1326.59 Q563.456 1327.57 563.456 1329.51 Q563.456 1330.99 564.59 1331.85 Q565.724 1332.68 569.15 1333.45 L570.608 1333.77 Q575.145 1334.74 577.044 1336.52 Q578.965 1338.28 578.965 1341.46 Q578.965 1345.07 576.094 1347.17 Q573.247 1349.28 568.247 1349.28 Q566.164 1349.28 563.895 1348.86 Q561.65 1348.47 559.15 1347.66 L559.15 1343.26 Q561.511 1344.49 563.803 1345.11 Q566.095 1345.71 568.34 1345.71 Q571.349 1345.71 572.969 1344.7 Q574.59 1343.65 574.59 1341.78 Q574.59 1340.04 573.409 1339.12 Q572.252 1338.19 568.294 1337.34 L566.812 1336.99 Q562.854 1336.15 561.095 1334.44 Q559.335 1332.71 559.335 1329.7 Q559.335 1326.04 561.928 1324.05 Q564.52 1322.06 569.289 1322.06 Q571.65 1322.06 573.733 1322.4 Q575.817 1322.75 577.576 1323.45 Z\" fill=\"#000000\" fill-rule=\"evenodd\" fill-opacity=\"1\" /><path clip-path=\"url(#clip130)\" d=\"M607.923 1334.58 L607.923 1336.66 L588.34 1336.66 Q588.618 1341.06 590.979 1343.38 Q593.363 1345.67 597.599 1345.67 Q600.053 1345.67 602.344 1345.07 Q604.659 1344.46 606.928 1343.26 L606.928 1347.29 Q604.636 1348.26 602.229 1348.77 Q599.821 1349.28 597.344 1349.28 Q591.141 1349.28 587.506 1345.67 Q583.895 1342.06 583.895 1335.9 Q583.895 1329.53 587.321 1325.81 Q590.77 1322.06 596.604 1322.06 Q601.835 1322.06 604.867 1325.44 Q607.923 1328.79 607.923 1334.58 M603.664 1333.33 Q603.617 1329.84 601.696 1327.75 Q599.798 1325.67 596.65 1325.67 Q593.085 1325.67 590.932 1327.68 Q588.803 1329.7 588.479 1333.35 L603.664 1333.33 Z\" fill=\"#000000\" fill-rule=\"evenodd\" fill-opacity=\"1\" /><path clip-path=\"url(#clip130)\" d=\"M629.937 1326.66 Q629.219 1326.25 628.363 1326.06 Q627.529 1325.85 626.511 1325.85 Q622.9 1325.85 620.955 1328.21 Q619.034 1330.55 619.034 1334.95 L619.034 1348.61 L614.752 1348.61 L614.752 1322.68 L619.034 1322.68 L619.034 1326.71 Q620.377 1324.35 622.529 1323.21 Q624.682 1322.06 627.761 1322.06 Q628.201 1322.06 628.733 1322.13 Q629.265 1322.17 629.914 1322.29 L629.937 1326.66 Z\" fill=\"#000000\" fill-rule=\"evenodd\" fill-opacity=\"1\" /><path clip-path=\"url(#clip130)\" d=\"M631.349 1322.68 L635.863 1322.68 L643.964 1344.44 L652.066 1322.68 L656.58 1322.68 L646.858 1348.61 L641.071 1348.61 L631.349 1322.68 Z\" fill=\"#000000\" fill-rule=\"evenodd\" fill-opacity=\"1\" /><path clip-path=\"url(#clip130)\" d=\"M674.242 1335.58 Q669.08 1335.58 667.089 1336.76 Q665.099 1337.94 665.099 1340.78 Q665.099 1343.05 666.58 1344.4 Q668.085 1345.71 670.654 1345.71 Q674.196 1345.71 676.325 1343.21 Q678.478 1340.69 678.478 1336.52 L678.478 1335.58 L674.242 1335.58 M682.737 1333.82 L682.737 1348.61 L678.478 1348.61 L678.478 1344.67 Q677.02 1347.03 674.844 1348.17 Q672.668 1349.28 669.52 1349.28 Q665.538 1349.28 663.177 1347.06 Q660.839 1344.81 660.839 1341.06 Q660.839 1336.69 663.756 1334.46 Q666.696 1332.24 672.506 1332.24 L678.478 1332.24 L678.478 1331.83 Q678.478 1328.89 676.534 1327.29 Q674.612 1325.67 671.117 1325.67 Q668.895 1325.67 666.788 1326.2 Q664.682 1326.73 662.738 1327.8 L662.738 1323.86 Q665.075 1322.96 667.275 1322.52 Q669.474 1322.06 671.557 1322.06 Q677.182 1322.06 679.96 1324.97 Q682.737 1327.89 682.737 1333.82 Z\" fill=\"#000000\" fill-rule=\"evenodd\" fill-opacity=\"1\" /><path clip-path=\"url(#clip130)\" d=\"M695.723 1315.32 L695.723 1322.68 L704.497 1322.68 L704.497 1325.99 L695.723 1325.99 L695.723 1340.07 Q695.723 1343.24 696.58 1344.14 Q697.46 1345.04 700.122 1345.04 L704.497 1345.04 L704.497 1348.61 L700.122 1348.61 Q695.191 1348.61 693.316 1346.78 Q691.441 1344.93 691.441 1340.07 L691.441 1325.99 L688.316 1325.99 L688.316 1322.68 L691.441 1322.68 L691.441 1315.32 L695.723 1315.32 Z\" fill=\"#000000\" fill-rule=\"evenodd\" fill-opacity=\"1\" /><path clip-path=\"url(#clip130)\" d=\"M710.098 1322.68 L714.358 1322.68 L714.358 1348.61 L710.098 1348.61 L710.098 1322.68 M710.098 1312.59 L714.358 1312.59 L714.358 1317.98 L710.098 1317.98 L710.098 1312.59 Z\" fill=\"#000000\" fill-rule=\"evenodd\" fill-opacity=\"1\" /><path clip-path=\"url(#clip130)\" d=\"M733.316 1325.67 Q729.89 1325.67 727.899 1328.35 Q725.908 1331.02 725.908 1335.67 Q725.908 1340.32 727.876 1343.01 Q729.867 1345.67 733.316 1345.67 Q736.719 1345.67 738.709 1342.98 Q740.7 1340.3 740.7 1335.67 Q740.7 1331.06 738.709 1328.38 Q736.719 1325.67 733.316 1325.67 M733.316 1322.06 Q738.871 1322.06 742.043 1325.67 Q745.214 1329.28 745.214 1335.67 Q745.214 1342.03 742.043 1345.67 Q738.871 1349.28 733.316 1349.28 Q727.737 1349.28 724.566 1345.67 Q721.418 1342.03 721.418 1335.67 Q721.418 1329.28 724.566 1325.67 Q727.737 1322.06 733.316 1322.06 Z\" fill=\"#000000\" fill-rule=\"evenodd\" fill-opacity=\"1\" /><path clip-path=\"url(#clip130)\" d=\"M773.825 1332.96 L773.825 1348.61 L769.566 1348.61 L769.566 1333.1 Q769.566 1329.42 768.13 1327.59 Q766.695 1325.76 763.825 1325.76 Q760.376 1325.76 758.385 1327.96 Q756.394 1330.16 756.394 1333.96 L756.394 1348.61 L752.112 1348.61 L752.112 1322.68 L756.394 1322.68 L756.394 1326.71 Q757.922 1324.37 759.982 1323.21 Q762.066 1322.06 764.774 1322.06 Q769.242 1322.06 771.533 1324.84 Q773.825 1327.59 773.825 1332.96 Z\" fill=\"#000000\" fill-rule=\"evenodd\" fill-opacity=\"1\" /><path clip-path=\"url(#clip130)\" d=\"M798.848 1323.45 L798.848 1327.47 Q797.042 1326.55 795.098 1326.09 Q793.153 1325.62 791.07 1325.62 Q787.899 1325.62 786.302 1326.59 Q784.728 1327.57 784.728 1329.51 Q784.728 1330.99 785.862 1331.85 Q786.996 1332.68 790.422 1333.45 L791.88 1333.77 Q796.417 1334.74 798.315 1336.52 Q800.237 1338.28 800.237 1341.46 Q800.237 1345.07 797.366 1347.17 Q794.519 1349.28 789.519 1349.28 Q787.436 1349.28 785.167 1348.86 Q782.922 1348.47 780.422 1347.66 L780.422 1343.26 Q782.783 1344.49 785.075 1345.11 Q787.366 1345.71 789.612 1345.71 Q792.621 1345.71 794.241 1344.7 Q795.862 1343.65 795.862 1341.78 Q795.862 1340.04 794.681 1339.12 Q793.524 1338.19 789.566 1337.34 L788.084 1336.99 Q784.126 1336.15 782.366 1334.44 Q780.607 1332.71 780.607 1329.7 Q780.607 1326.04 783.2 1324.05 Q785.792 1322.06 790.561 1322.06 Q792.922 1322.06 795.005 1322.4 Q797.089 1322.75 798.848 1323.45 Z\" fill=\"#000000\" fill-rule=\"evenodd\" fill-opacity=\"1\" /><path clip-path=\"url(#clip130)\" d=\"M806.626 1312.59 L816.44 1312.59 L816.44 1315.9 L810.885 1315.9 L810.885 1351.55 L816.44 1351.55 L816.44 1354.86 L806.626 1354.86 L806.626 1312.59 Z\" fill=\"#000000\" fill-rule=\"evenodd\" fill-opacity=\"1\" /><path clip-path=\"url(#clip130)\" d=\"M826.602 1342.73 L831.487 1342.73 L831.487 1348.61 L826.602 1348.61 L826.602 1342.73 M826.602 1324.09 L831.487 1324.09 L831.487 1329.97 L826.602 1329.97 L826.602 1324.09 Z\" fill=\"#000000\" fill-rule=\"evenodd\" fill-opacity=\"1\" /><path clip-path=\"url(#clip130)\" d=\"M842.575 1342.73 L847.459 1342.73 L847.459 1346.71 L843.662 1354.12 L840.676 1354.12 L842.575 1346.71 L842.575 1342.73 Z\" fill=\"#000000\" fill-rule=\"evenodd\" fill-opacity=\"1\" /><path clip-path=\"url(#clip130)\" d=\"M876.255 1344.67 L892.574 1344.67 L892.574 1348.61 L870.63 1348.61 L870.63 1344.67 Q873.292 1341.92 877.875 1337.29 Q882.482 1332.64 883.662 1331.29 Q885.908 1328.77 886.787 1327.03 Q887.69 1325.28 887.69 1323.59 Q887.69 1320.83 885.746 1319.09 Q883.824 1317.36 880.722 1317.36 Q878.523 1317.36 876.07 1318.12 Q873.639 1318.89 870.861 1320.44 L870.861 1315.71 Q873.685 1314.58 876.139 1314 Q878.593 1313.42 880.63 1313.42 Q886 1313.42 889.195 1316.11 Q892.389 1318.79 892.389 1323.28 Q892.389 1325.41 891.579 1327.34 Q890.792 1329.23 888.685 1331.83 Q888.107 1332.5 885.005 1335.71 Q881.903 1338.91 876.255 1344.67 Z\" fill=\"#000000\" fill-rule=\"evenodd\" fill-opacity=\"1\" /><path clip-path=\"url(#clip130)\" d=\"M911.741 1312.59 L911.741 1354.86 L901.926 1354.86 L901.926 1351.55 L907.458 1351.55 L907.458 1315.9 L901.926 1315.9 L901.926 1312.59 L911.741 1312.59 Z\" fill=\"#000000\" fill-rule=\"evenodd\" fill-opacity=\"1\" /></svg>\n"
      ]
     },
     "execution_count": 59,
     "metadata": {},
     "output_type": "execute_result"
    }
   ],
   "source": [
    "begin\n",
    "    local reshape_data = (data) -> transpose(reduce(hcat, data))\n",
    "    \n",
    "    local ylimit = (-20, 20)\n",
    "\n",
    "    local x_label = [ \"x[:, 1]\" \"x[:, 2]\" ]\n",
    "    local y_label = [ \"observations[:, 1]\" \"observations[:, 2]\" ]\n",
    "    local i_label = [ \"inferred[:, 1]\" \"inferred[:, 2]\" ]\n",
    "\n",
    "    local x_reshaped = x_data |> reshape_data\n",
    "    local y_reshaped = y_data |> reshape_data\n",
    "\n",
    "    local x_inferred_means = mean.(marginals) |> reshape_data\n",
    "    local x_inferred_stds  = var.(marginals) |> reshape_data\n",
    "\n",
    "    local p = plot(\n",
    "        title = \"Smoothing inference results\", titlefontsize = 10,\n",
    "        xlabel = \"Time step k\", xguidefontsize = 8,\n",
    "        ylabel = \"Latent states values\", yguidefonrsize = 8\n",
    "    )\n",
    "    local range = 1:n_smoothing\n",
    "\n",
    "    p = plot!(p, range, x_reshaped, label = x_label)\n",
    "    p = plot!(p, range, x_inferred_means, ribbon = x_inferred_stds, label = i_label)\n",
    "    p = scatter!(p, range, y_reshaped, ms = 3, alpha = 0.5, label = y_label)\n",
    "    p = plot!(p, legend = :bottomleft, ylimit = ylimit) \n",
    "    \n",
    "    plot(p)\n",
    "end"
   ]
  },
  {
   "cell_type": "code",
   "execution_count": null,
   "metadata": {},
   "outputs": [],
   "source": []
  }
 ],
 "metadata": {
  "kernelspec": {
   "display_name": "Julia Precompiled 1.6.2",
   "language": "julia",
   "name": "julia-precompiled-1.6"
  },
  "language_info": {
   "file_extension": ".jl",
   "mimetype": "application/julia",
   "name": "julia",
   "version": "1.6.2"
  }
 },
 "nbformat": 4,
 "nbformat_minor": 4
}
