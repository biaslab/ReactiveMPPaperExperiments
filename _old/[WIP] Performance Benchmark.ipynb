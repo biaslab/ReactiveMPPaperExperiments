{
 "cells": [
  {
   "cell_type": "code",
   "execution_count": 1,
   "metadata": {},
   "outputs": [
    {
     "name": "stderr",
     "output_type": "stream",
     "text": [
      "┌ Info: Precompiling ReactiveMP [a194aa59-28ba-4574-a09c-4a745416d6e3]\n",
      "└ @ Base loading.jl:1278\n",
      "┌ Warning: Package ReactiveMP does not have Rocket in its dependencies:\n",
      "│ - If you have ReactiveMP checked out for development and have\n",
      "│   added Rocket as a dependency but haven't updated your primary\n",
      "│   environment's manifest file, try `Pkg.resolve()`.\n",
      "│ - Otherwise you may need to report an issue with ReactiveMP\n",
      "└ Loading Rocket into ReactiveMP from project dependency, future warnings for ReactiveMP are suppressed.\n",
      "┌ Info: Precompiling GraphPPL [b3f8163a-e979-4e85-b43e-1f63d8c8b42c]\n",
      "└ @ Base loading.jl:1278\n",
      "┌ Warning: Package GraphPPL does not have ReactiveMP in its dependencies:\n",
      "│ - If you have GraphPPL checked out for development and have\n",
      "│   added ReactiveMP as a dependency but haven't updated your primary\n",
      "│   environment's manifest file, try `Pkg.resolve()`.\n",
      "│ - Otherwise you may need to report an issue with GraphPPL\n",
      "└ Loading ReactiveMP into GraphPPL from project dependency, future warnings for GraphPPL are suppressed.\n"
     ]
    }
   ],
   "source": [
    "using Rocket\n",
    "using ReactiveMP\n",
    "using GraphPPL\n",
    "using Distributions\n",
    "using BenchmarkTools\n",
    "using Random\n",
    "using Plots"
   ]
  },
  {
   "cell_type": "code",
   "execution_count": 2,
   "metadata": {},
   "outputs": [
    {
     "data": {
      "text/plain": [
       "linear_gaussian_ssm (generic function with 1 method)"
      ]
     },
     "execution_count": 2,
     "metadata": {},
     "output_type": "execute_result"
    }
   ],
   "source": [
    "@model function linear_gaussian_ssm(n, x1_prior, A, B, P, Q)\n",
    "     \n",
    "    x = randomvar(n) # Create a sequence of random variables\n",
    "    y = datavar(Vector{Float64}, n) # Create a sequence of observed data points\n",
    "    \n",
    "    x[1] ~ MvGaussianMeanCovariance(mean(x1_prior), cov(x1_prior)) # Set a prior distribution for x_1\n",
    "    y[1] ~ MvGaussianMeanCovariance(B * x[1], Q)\n",
    "    \n",
    "    for t in 2:n\n",
    "        x[t] ~ MvGaussianMeanCovariance(A * x[t - 1], P)\n",
    "        y[t] ~ MvGaussianMeanCovariance(B * x[t], Q)    \n",
    "    end\n",
    "    \n",
    "    return x, y\n",
    "end"
   ]
  },
  {
   "cell_type": "code",
   "execution_count": 3,
   "metadata": {},
   "outputs": [
    {
     "data": {
      "text/plain": [
       "generate_data (generic function with 1 method)"
      ]
     },
     "execution_count": 3,
     "metadata": {},
     "output_type": "execute_result"
    }
   ],
   "source": [
    "function generate_data(; seed, n, A, B, P, Q)\n",
    "    Random.seed!(seed)\n",
    "\n",
    "    x_prev = zeros(2)\n",
    "\n",
    "    x = Vector{Vector{Float64}}(undef, n)\n",
    "    y = Vector{Vector{Float64}}(undef, n)\n",
    "\n",
    "    for i in 1:n\n",
    "        x[i] = rand(MvNormal(A * x_prev, P))\n",
    "        y[i] = rand(MvNormal(B * x[i], Q))\n",
    "\n",
    "        x_prev = x[i]\n",
    "    end\n",
    "   \n",
    "    return y\n",
    "end\n",
    "\n"
   ]
  },
  {
   "cell_type": "code",
   "execution_count": 4,
   "metadata": {},
   "outputs": [],
   "source": [
    "seed = 1234\n",
    "n = 10_000\n",
    "θ = π / 100\n",
    "A = [ cos(θ) -sin(θ); sin(θ) cos(θ) ]\n",
    "B = [ 1.3 0.0; 0.0 0.7 ]\n",
    "P = [ 0.1 0.0; 0.0 0.1 ]\n",
    "Q = [ 1.0 0.0; 0.0 1.0 ]\n",
    "\n",
    "fake_data = generate_data(\n",
    "    seed = seed,\n",
    "    n    = n,\n",
    "    A    = A,\n",
    "    B    = B,\n",
    "    P    = P,\n",
    "    Q    = Q,\n",
    ");"
   ]
  },
  {
   "cell_type": "code",
   "execution_count": 5,
   "metadata": {},
   "outputs": [
    {
     "data": {
      "text/plain": [
       "inference (generic function with 1 method)"
      ]
     },
     "execution_count": 5,
     "metadata": {},
     "output_type": "execute_result"
    }
   ],
   "source": [
    "function inference(observations; A, B, P, Q)\n",
    "    n = length(observations) \n",
    "    \n",
    "    x1_prior = MvGaussianMeanCovariance([ 0.0, 0.0 ], [ 100.0 0.0; 0.0 100.0 ])\n",
    "    \n",
    "    break_stackoverflow = PostponeScheduler()\n",
    "    \n",
    "    model, (x, y) = linear_gaussian_ssm(n, x1_prior, A, B, P, Q, options = (outbound_message_portal = ScheduleOnPortal(break_stackoverflow), ))\n",
    "    \n",
    "    xbuffer = Vector{Marginal}(undef, n)\n",
    "    \n",
    "    xsub = subscribe!(collectLatest(getmarginals(x)), (ms) -> copyto!(xbuffer, ms))\n",
    "    \n",
    "    wait(break_stackoverflow)\n",
    "    \n",
    "    update!(y, observations)\n",
    "    \n",
    "    wait(break_stackoverflow)\n",
    "    \n",
    "    unsubscribe!(xsub)\n",
    "    \n",
    "    wait(break_stackoverflow)\n",
    "    \n",
    "    return xbuffer\n",
    "end"
   ]
  },
  {
   "cell_type": "code",
   "execution_count": 6,
   "metadata": {},
   "outputs": [
    {
     "name": "stdout",
     "output_type": "stream",
     "text": [
      "  9.459 ms (131884 allocations: 8.47 MiB)\n",
      "  21.023 ms (264192 allocations: 16.99 MiB)\n",
      "  59.845 ms (661101 allocations: 42.48 MiB)\n",
      "  97.034 ms (925720 allocations: 59.55 MiB)\n",
      "  140.228 ms (1322626 allocations: 85.01 MiB)\n",
      "  230.512 ms (2645664 allocations: 170.07 MiB)\n",
      "  894.201 ms (6614780 allocations: 425.60 MiB)\n",
      "  1.343 s (9260852 allocations: 595.46 MiB)\n",
      "  1.926 s (13229956 allocations: 851.23 MiB)\n",
      "  3.837 s (26460313 allocations: 1.66 GiB)\n",
      "  14.370 s (66151365 allocations: 4.15 GiB)\n",
      "  49.559 s (132303125 allocations: 8.30 GiB)\n"
     ]
    }
   ],
   "source": [
    "@btime inference(data, A = $A, B = $B, P = $P, Q = $Q) setup=(data=generate_data(seed = seed, n =     100, A = A, B = B, P = P, Q = Q))\n",
    "@btime inference(data, A = $A, B = $B, P = $P, Q = $Q) setup=(data=generate_data(seed = seed, n =     200, A = A, B = B, P = P, Q = Q))\n",
    "@btime inference(data, A = $A, B = $B, P = $P, Q = $Q) setup=(data=generate_data(seed = seed, n =     500, A = A, B = B, P = P, Q = Q))\n",
    "@btime inference(data, A = $A, B = $B, P = $P, Q = $Q) setup=(data=generate_data(seed = seed, n =     700, A = A, B = B, P = P, Q = Q))\n",
    "@btime inference(data, A = $A, B = $B, P = $P, Q = $Q) setup=(data=generate_data(seed = seed, n =   1_000, A = A, B = B, P = P, Q = Q))\n",
    "@btime inference(data, A = $A, B = $B, P = $P, Q = $Q) setup=(data=generate_data(seed = seed, n =   2_000, A = A, B = B, P = P, Q = Q))\n",
    "@btime inference(data, A = $A, B = $B, P = $P, Q = $Q) setup=(data=generate_data(seed = seed, n =   5_000, A = A, B = B, P = P, Q = Q))\n",
    "@btime inference(data, A = $A, B = $B, P = $P, Q = $Q) setup=(data=generate_data(seed = seed, n =   7_000, A = A, B = B, P = P, Q = Q))\n",
    "@btime inference(data, A = $A, B = $B, P = $P, Q = $Q) setup=(data=generate_data(seed = seed, n =  10_000, A = A, B = B, P = P, Q = Q))\n",
    "@btime inference(data, A = $A, B = $B, P = $P, Q = $Q) setup=(data=generate_data(seed = seed, n =  20_000, A = A, B = B, P = P, Q = Q))\n",
    "@btime inference(data, A = $A, B = $B, P = $P, Q = $Q) setup=(data=generate_data(seed = seed, n =  50_000, A = A, B = B, P = P, Q = Q))\n",
    "@btime inference(data, A = $A, B = $B, P = $P, Q = $Q) setup=(data=generate_data(seed = seed, n = 100_000, A = A, B = B, P = P, Q = Q))\n",
    "\n",
    ";"
   ]
  },
  {
   "cell_type": "code",
   "execution_count": 7,
   "metadata": {},
   "outputs": [
    {
     "name": "stdout",
     "output_type": "stream",
     "text": [
      "\u001b[32m\u001b[1mStatus\u001b[22m\u001b[39m `~/Projects/LaTeX/RMP_Experiments/Project.toml`\n",
      " \u001b[90m [6e4b80f9] \u001b[39m\u001b[37mBenchmarkTools v0.5.0\u001b[39m\n",
      " \u001b[90m [31c24e10] \u001b[39m\u001b[37mDistributions v0.24.12\u001b[39m\n",
      " \u001b[90m [b3f8163a] \u001b[39m\u001b[37mGraphPPL v0.1.0 `~/.julia/dev/GraphPPL.jl`\u001b[39m\n",
      " \u001b[90m [91a5bcdd] \u001b[39m\u001b[37mPlots v1.10.1\u001b[39m\n",
      " \u001b[90m [a194aa59] \u001b[39m\u001b[37mReactiveMP v0.5.0 `~/.julia/dev/ReactiveMP`\u001b[39m\n",
      " \u001b[90m [df971d30] \u001b[39m\u001b[37mRocket v1.3.3 `~/.julia/dev/Rocket`\u001b[39m\n",
      "Julia Version 1.5.3\n",
      "Commit 788b2c77c1 (2020-11-09 13:37 UTC)\n",
      "Platform Info:\n",
      "  OS: macOS (x86_64-apple-darwin18.7.0)\n",
      "  CPU: Intel(R) Core(TM) i7-8850H CPU @ 2.60GHz\n",
      "  WORD_SIZE: 64\n",
      "  LIBM: libopenlibm\n",
      "  LLVM: libLLVM-9.0.1 (ORCJIT, skylake)\n"
     ]
    }
   ],
   "source": [
    "import Pkg; Pkg.status(); versioninfo()"
   ]
  },
  {
   "cell_type": "code",
   "execution_count": null,
   "metadata": {},
   "outputs": [],
   "source": []
  }
 ],
 "metadata": {
  "kernelspec": {
   "display_name": "Julia 1.5.3",
   "language": "julia",
   "name": "julia-1.5"
  },
  "language_info": {
   "file_extension": ".jl",
   "mimetype": "application/julia",
   "name": "julia",
   "version": "1.5.3"
  }
 },
 "nbformat": 4,
 "nbformat_minor": 4
}
